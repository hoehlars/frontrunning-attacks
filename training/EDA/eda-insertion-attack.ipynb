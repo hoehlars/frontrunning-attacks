{
 "cells": [
  {
   "metadata": {},
   "cell_type": "markdown",
   "source": "### Exploratory Data Analysis of the Inseration Attack DataSet\n",
   "id": "3d89a399fa638ccc"
  },
  {
   "metadata": {
    "ExecuteTime": {
     "end_time": "2024-04-18T12:15:20.653676Z",
     "start_time": "2024-04-18T12:15:20.648251Z"
    }
   },
   "cell_type": "code",
   "source": [
    "import pandas as pd\n",
    "import numpy as np"
   ],
   "id": "7738f5af2894c08f",
   "outputs": [],
   "execution_count": 6
  },
  {
   "metadata": {
    "ExecuteTime": {
     "end_time": "2024-04-18T12:14:11.218096Z",
     "start_time": "2024-04-18T12:14:10.475980Z"
    }
   },
   "cell_type": "code",
   "source": [
    "df_insertion = pd.read_csv ('../../data/insertion_attacks.csv', delimiter=',')\n",
    "print('# of insertion: ', len(df_insertion))"
   ],
   "id": "e7e487d27fd3f9ad",
   "outputs": [
    {
     "name": "stdout",
     "output_type": "stream",
     "text": [
      "# of insertion:  196691\n"
     ]
    }
   ],
   "execution_count": 3
  },
  {
   "metadata": {},
   "cell_type": "markdown",
   "source": "Explore occurrences of same wallet and same block:",
   "id": "1abf44206309a785"
  },
  {
   "metadata": {
    "ExecuteTime": {
     "end_time": "2024-04-18T12:14:49.728162Z",
     "start_time": "2024-04-18T12:14:49.209553Z"
    }
   },
   "cell_type": "code",
   "source": [
    "columns = [\"First Attacker\", \"Whale\", \"Second Attacker\"]\n",
    "\n",
    "for col in columns:\n",
    "    occurrences = df_insertion.groupby(['Block Number', col]).size().reset_index(name='Count')\n",
    "    nr_rows_with_same_address_and_block_nr = occurrences[occurrences['Count'] > 1].shape[0]\n",
    "    print(f\"Number of rows in {col} with same address and block number: {nr_rows_with_same_address_and_block_nr}\")"
   ],
   "id": "e3604d5b0cfb8ea4",
   "outputs": [
    {
     "name": "stdout",
     "output_type": "stream",
     "text": [
      "Number of rows in First Attacker with same address and block number: 17\n",
      "Number of rows in Whale with same address and block number: 5730\n",
      "Number of rows in Second Attacker with same address and block number: 17\n"
     ]
    }
   ],
   "execution_count": 4
  },
  {
   "metadata": {
    "ExecuteTime": {
     "end_time": "2024-04-18T12:15:23.278081Z",
     "start_time": "2024-04-18T12:15:23.183518Z"
    }
   },
   "cell_type": "code",
   "source": [
    "concatenated_values = np.vstack((df_insertion[['Block Number', \"First Attacker\"]].values,\n",
    "                                df_insertion[['Block Number', \"Whale\"]].values,\n",
    "                                df_insertion[['Block Number', \"Second Attacker\"]].values))\n",
    "\n",
    "concatenated_df = pd.DataFrame(concatenated_values, columns=['Block Number', 'Address'])\n",
    "concatenated_df"
   ],
   "id": "48ae5ab5bb302271",
   "outputs": [
    {
     "data": {
      "text/plain": [
       "       Block Number                                     Address\n",
       "0           5599805  0xfF1b9745f68F84F036E5e92c920038d895FB701A\n",
       "1           5574870  0x4fCc2FF6c75923D33B4F5aF4C524461014B2EE1C\n",
       "2           5599933  0xfF1b9745f68F84F036E5e92c920038d895FB701A\n",
       "3           5625057  0xfF1b9745f68F84F036E5e92c920038d895FB701A\n",
       "4           5625138  0xfF1b9745f68F84F036E5e92c920038d895FB701A\n",
       "...             ...                                         ...\n",
       "590068     11022873  0x18a85f755F7508f9CEe4698003a8F5D1e231AB22\n",
       "590069     11022878  0x12b967bba40E3220e9697B5fdBb75BA32626E1FC\n",
       "590070     11022880  0xdB9c8428e68a1E6B2244C92127D2dcD708F893f4\n",
       "590071     11022881  0xe4Ec5Ba53cAEcFE979570d5396d1d2dc5e6c3BD5\n",
       "590072     11022887  0x58275e42f0DDB2Ea342a1C57f4966928A66a4289\n",
       "\n",
       "[590073 rows x 2 columns]"
      ],
      "text/html": [
       "<div>\n",
       "<style scoped>\n",
       "    .dataframe tbody tr th:only-of-type {\n",
       "        vertical-align: middle;\n",
       "    }\n",
       "\n",
       "    .dataframe tbody tr th {\n",
       "        vertical-align: top;\n",
       "    }\n",
       "\n",
       "    .dataframe thead th {\n",
       "        text-align: right;\n",
       "    }\n",
       "</style>\n",
       "<table border=\"1\" class=\"dataframe\">\n",
       "  <thead>\n",
       "    <tr style=\"text-align: right;\">\n",
       "      <th></th>\n",
       "      <th>Block Number</th>\n",
       "      <th>Address</th>\n",
       "    </tr>\n",
       "  </thead>\n",
       "  <tbody>\n",
       "    <tr>\n",
       "      <th>0</th>\n",
       "      <td>5599805</td>\n",
       "      <td>0xfF1b9745f68F84F036E5e92c920038d895FB701A</td>\n",
       "    </tr>\n",
       "    <tr>\n",
       "      <th>1</th>\n",
       "      <td>5574870</td>\n",
       "      <td>0x4fCc2FF6c75923D33B4F5aF4C524461014B2EE1C</td>\n",
       "    </tr>\n",
       "    <tr>\n",
       "      <th>2</th>\n",
       "      <td>5599933</td>\n",
       "      <td>0xfF1b9745f68F84F036E5e92c920038d895FB701A</td>\n",
       "    </tr>\n",
       "    <tr>\n",
       "      <th>3</th>\n",
       "      <td>5625057</td>\n",
       "      <td>0xfF1b9745f68F84F036E5e92c920038d895FB701A</td>\n",
       "    </tr>\n",
       "    <tr>\n",
       "      <th>4</th>\n",
       "      <td>5625138</td>\n",
       "      <td>0xfF1b9745f68F84F036E5e92c920038d895FB701A</td>\n",
       "    </tr>\n",
       "    <tr>\n",
       "      <th>...</th>\n",
       "      <td>...</td>\n",
       "      <td>...</td>\n",
       "    </tr>\n",
       "    <tr>\n",
       "      <th>590068</th>\n",
       "      <td>11022873</td>\n",
       "      <td>0x18a85f755F7508f9CEe4698003a8F5D1e231AB22</td>\n",
       "    </tr>\n",
       "    <tr>\n",
       "      <th>590069</th>\n",
       "      <td>11022878</td>\n",
       "      <td>0x12b967bba40E3220e9697B5fdBb75BA32626E1FC</td>\n",
       "    </tr>\n",
       "    <tr>\n",
       "      <th>590070</th>\n",
       "      <td>11022880</td>\n",
       "      <td>0xdB9c8428e68a1E6B2244C92127D2dcD708F893f4</td>\n",
       "    </tr>\n",
       "    <tr>\n",
       "      <th>590071</th>\n",
       "      <td>11022881</td>\n",
       "      <td>0xe4Ec5Ba53cAEcFE979570d5396d1d2dc5e6c3BD5</td>\n",
       "    </tr>\n",
       "    <tr>\n",
       "      <th>590072</th>\n",
       "      <td>11022887</td>\n",
       "      <td>0x58275e42f0DDB2Ea342a1C57f4966928A66a4289</td>\n",
       "    </tr>\n",
       "  </tbody>\n",
       "</table>\n",
       "<p>590073 rows × 2 columns</p>\n",
       "</div>"
      ]
     },
     "execution_count": 7,
     "metadata": {},
     "output_type": "execute_result"
    }
   ],
   "execution_count": 7
  },
  {
   "metadata": {
    "ExecuteTime": {
     "end_time": "2024-04-18T12:15:38.684056Z",
     "start_time": "2024-04-18T12:15:38.468325Z"
    }
   },
   "cell_type": "code",
   "source": [
    "# Get unique rows\n",
    "unique_df = concatenated_df.drop_duplicates()\n",
    "\n",
    "print(f\"{unique_df.shape[0]} unique blockNr-Address pairs\")"
   ],
   "id": "6820c0ca3abd416e",
   "outputs": [
    {
     "name": "stdout",
     "output_type": "stream",
     "text": [
      "473515 unique blockNr-Address pairs\n"
     ]
    }
   ],
   "execution_count": 8
  },
  {
   "metadata": {
    "ExecuteTime": {
     "end_time": "2024-04-18T12:15:46.775743Z",
     "start_time": "2024-04-18T12:15:46.659231Z"
    }
   },
   "cell_type": "code",
   "source": [
    "unique_addresses = concatenated_df[\"Address\"].unique()\n",
    "print(f\"{unique_addresses.shape[0]} unique addresses\")"
   ],
   "id": "601c3ad0efe19abe",
   "outputs": [
    {
     "name": "stdout",
     "output_type": "stream",
     "text": [
      "41350 unique addresses\n"
     ]
    }
   ],
   "execution_count": 9
  },
  {
   "metadata": {},
   "cell_type": "markdown",
   "source": "Explore of duplicated occurrences of block number\n",
   "id": "22a4e8b8ff13a357"
  },
  {
   "metadata": {
    "ExecuteTime": {
     "end_time": "2024-04-18T12:16:23.429999Z",
     "start_time": "2024-04-18T12:16:23.348275Z"
    }
   },
   "cell_type": "code",
   "source": [
    "occurrences= df_insertion.groupby(['Block Number']).size().reset_index(name='Count')\n",
    "nr_rows_with_same_block_nr = occurrences[occurrences['Count'] > 1].shape[0]\n",
    "print(f\"Number of rows with same block number: {nr_rows_with_same_block_nr}\")"
   ],
   "id": "82fd90e545b2f3d6",
   "outputs": [
    {
     "name": "stdout",
     "output_type": "stream",
     "text": [
      "Number of rows with same block number: 24929\n"
     ]
    }
   ],
   "execution_count": 10
  },
  {
   "metadata": {
    "ExecuteTime": {
     "end_time": "2024-04-18T12:16:35.062910Z",
     "start_time": "2024-04-18T12:16:35.045293Z"
    }
   },
   "cell_type": "code",
   "source": [
    "unique_blocks = df_insertion[\"Block Number\"].unique()\n",
    "print(f\"{unique_blocks.shape[0]} unique block numbers\")"
   ],
   "id": "217a3f2da68c1f",
   "outputs": [
    {
     "name": "stdout",
     "output_type": "stream",
     "text": [
      "167503 unique block numbers\n"
     ]
    }
   ],
   "execution_count": 11
  }
 ],
 "metadata": {
  "kernelspec": {
   "display_name": "frontrunning-attacks",
   "language": "python",
   "name": "frontrunning-attacks"
  },
  "language_info": {
   "codemirror_mode": {
    "name": "ipython",
    "version": 2
   },
   "file_extension": ".py",
   "mimetype": "text/x-python",
   "name": "python",
   "nbconvert_exporter": "python",
   "pygments_lexer": "ipython2",
   "version": "2.7.6"
  }
 },
 "nbformat": 4,
 "nbformat_minor": 5
}
