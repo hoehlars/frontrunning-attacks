{
 "cells": [
  {
   "cell_type": "markdown",
   "source": [
    "## Features needed for training\n",
    "1. Gas Price of the Transaction\n",
    "2. Mean Gas Price of Transactions in the Last 10 Blocks\n",
    "3.  Standard Deviation of Gas Price of Transactions in the\n",
    "Last Ten Blocks\n",
    "4. Mean Gas Price of Transactions by the same EOA\n",
    "5. Standard Deviation of Gas Price in Transactions by the\n",
    "same EOA\n",
    "6. Usage of Gas Tokens\n",
    "7. Predicted Gas Price"
   ],
   "metadata": {
    "collapsed": false
   },
   "id": "a630be665b11f3d3"
  },
  {
   "cell_type": "code",
   "outputs": [
    {
     "name": "stdout",
     "output_type": "stream",
     "text": [
      "               Cost         Profit     Rounds    Blocks  Transactions\n",
      "count     50.000000      50.000000  50.000000   50.0000     50.000000\n",
      "mean    2349.651629   20725.235617   6.620000   29.7000    182.700000\n",
      "std     3331.210711  113598.580242  12.863316   50.7721    456.908567\n",
      "min        4.667298  -10741.119731   1.000000    2.0000      6.000000\n",
      "25%      221.871667   -1893.262302   1.000000    4.0000     12.500000\n",
      "50%      896.681002    -284.811519   2.000000   10.0000     33.500000\n",
      "75%     2719.694211     -14.930519   4.750000   21.5000     88.750000\n",
      "max    10741.119731  791211.860156  66.000000  233.0000   2664.000000\n",
      "# of suppression:  50\n"
     ]
    }
   ],
   "source": [
    "import pandas as pd\n",
    "\n",
    "df_suppression = pd.read_csv('../data/suppression_attacks.csv')\n",
    "print(df_suppression.describe())\n",
    "print('# of suppression: ', len(df_suppression))"
   ],
   "metadata": {
    "collapsed": false,
    "ExecuteTime": {
     "end_time": "2024-03-31T12:41:00.829508Z",
     "start_time": "2024-03-31T12:40:59.775936Z"
    }
   },
   "id": "258a3103d6192eb7",
   "execution_count": 1
  },
  {
   "cell_type": "code",
   "outputs": [],
   "source": [],
   "metadata": {
    "collapsed": false
   },
   "id": "edda2c00789d8d4c"
  }
 ],
 "metadata": {
  "kernelspec": {
   "display_name": "Python 3",
   "language": "python",
   "name": "python3"
  },
  "language_info": {
   "codemirror_mode": {
    "name": "ipython",
    "version": 2
   },
   "file_extension": ".py",
   "mimetype": "text/x-python",
   "name": "python",
   "nbconvert_exporter": "python",
   "pygments_lexer": "ipython2",
   "version": "2.7.6"
  }
 },
 "nbformat": 4,
 "nbformat_minor": 5
}
