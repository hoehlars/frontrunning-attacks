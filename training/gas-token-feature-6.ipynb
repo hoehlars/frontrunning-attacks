{
 "cells": [
  {
   "metadata": {},
   "cell_type": "markdown",
   "source": "### Feature 6 - Usage of Gas Tokens",
   "id": "6d2e758f4af962ca"
  },
  {
   "metadata": {
    "ExecuteTime": {
     "end_time": "2024-04-17T17:39:14.488002Z",
     "start_time": "2024-04-17T17:39:12.445560Z"
    }
   },
   "cell_type": "code",
   "source": [
    "from web3 import Web3\n",
    "from tqdm import tqdm\n",
    "import pandas as pd\n"
   ],
   "id": "cdb772132424ac56",
   "outputs": [],
   "execution_count": 20
  },
  {
   "metadata": {
    "ExecuteTime": {
     "end_time": "2024-04-17T17:39:15.373108Z",
     "start_time": "2024-04-17T17:39:15.116488Z"
    }
   },
   "cell_type": "code",
   "source": [
    "web3 = Web3(Web3.HTTPProvider(\"https://intensive-sly-mountain.quiknode.pro/a3f5256d7f2af6541d483cce3f1d49c94c01879e/\"))\n",
    "print(web3.is_connected())"
   ],
   "id": "7ec78317bdbd13a8",
   "outputs": [
    {
     "name": "stdout",
     "output_type": "stream",
     "text": [
      "True\n"
     ]
    }
   ],
   "execution_count": 21
  },
  {
   "metadata": {
    "ExecuteTime": {
     "end_time": "2024-04-17T08:11:42.865383Z",
     "start_time": "2024-04-17T08:11:42.630434Z"
    }
   },
   "cell_type": "code",
   "source": "web3.eth.get_transaction('0x10504c0666a22466911d038d2b1c895b7ea5ec05cef107e46d3cae0121cfcda7')\n",
   "id": "34a6629bf60bff69",
   "outputs": [
    {
     "data": {
      "text/plain": [
       "AttributeDict({'blockHash': HexBytes('0x58a502dd0f64ab442535f89d9118e743e2fec44b435bf41a9e0fda92ec92b0f2'),\n",
       " 'blockNumber': 10912913,\n",
       " 'from': '0x30b8235f492265A734347C0bF36E2FFcAD887be2',\n",
       " 'gas': 450000,\n",
       " 'gasPrice': 1494720129875,\n",
       " 'hash': HexBytes('0x10504c0666a22466911d038d2b1c895b7ea5ec05cef107e46d3cae0121cfcda7'),\n",
       " 'input': HexBytes('0x94264cbc0000000000000000000000000000000000000000000000015af1d78b58c40000000000000000000000000000000000000000000000000008c95411b03241f9e9000000000000000000000000000000000000000000000000000000005f6a1906000000000000000000000000000000000000000000000000000000005f6a135e'),\n",
       " 'nonce': 6182,\n",
       " 'to': '0x3F499Fe484a61Af03b01ea5C81Eab14F67C11A5A',\n",
       " 'transactionIndex': 0,\n",
       " 'value': 0,\n",
       " 'type': 0,\n",
       " 'chainId': 1,\n",
       " 'v': 38,\n",
       " 'r': HexBytes('0xb706c2b6b16f61f9c720e7a88ebbd2ab21136bde7adf4fa5443664435b5afae4'),\n",
       " 's': HexBytes('0x0e930ba73fefae8b7d9df560de61e3e16cd644a25286fdbfb5410b8d1c900996')})"
      ]
     },
     "execution_count": 33,
     "metadata": {},
     "output_type": "execute_result"
    }
   ],
   "execution_count": 33
  },
  {
   "metadata": {
    "ExecuteTime": {
     "end_time": "2024-04-17T09:32:44.328273Z",
     "start_time": "2024-04-17T09:32:44.205201Z"
    }
   },
   "cell_type": "code",
   "source": "web3.eth.get_transaction('0x8abbef4de9993df03fcba73f80d0d245939836fbf75265d80df84b852ce39453')",
   "id": "fc5c22d2fe670df",
   "outputs": [
    {
     "data": {
      "text/plain": [
       "AttributeDict({'blockHash': HexBytes('0xd75c6d969fc00d9d23ce400f5d0dd1933062e346af3649bb2c92dc10d55660cc'),\n",
       " 'blockNumber': 9675068,\n",
       " 'from': '0x99746fbd4E138D909Ba07b4232173a677D11a5bc',\n",
       " 'gas': 400000,\n",
       " 'gasPrice': 49280111111,\n",
       " 'hash': HexBytes('0x8abbef4de9993df03fcba73f80d0d245939836fbf75265d80df84b852ce39453'),\n",
       " 'input': HexBytes('0x7019ef400000000000000000000000000000000000000000000002574959d59edb89b0f10000000000000000000000000000000000000000000002b5e3af16b1e66def590000000000000000000000000000000000000000000000056bc75e2d63100000000000000000000000000000000000000000000000000000000000005e6def590000000000000000000000000000000000000000000000008f362847a5c613c8000000000000000000000000000000000000000000000000000000000001b207'),\n",
       " 'nonce': 73,\n",
       " 'to': '0x570cf89349c712744c13b5b1749F00F2782AD88a',\n",
       " 'transactionIndex': 14,\n",
       " 'value': 0,\n",
       " 'type': 0,\n",
       " 'chainId': 1,\n",
       " 'v': 38,\n",
       " 'r': HexBytes('0x44f6a284873ba519a948adc4b2b94dae426a0472b930ab559fdd7a91901cd2ba'),\n",
       " 's': HexBytes('0x16e220492cce24b98148a79d4fd8ae0f39eabd37be179d3b44deb1bd919ae6c7')})"
      ]
     },
     "execution_count": 78,
     "metadata": {},
     "output_type": "execute_result"
    }
   ],
   "execution_count": 78
  },
  {
   "metadata": {},
   "cell_type": "markdown",
   "source": "#### Naive approach with web3 - Loop through AccessList",
   "id": "686f1b7f2130aed5"
  },
  {
   "metadata": {
    "ExecuteTime": {
     "end_time": "2024-04-17T09:10:51.034170Z",
     "start_time": "2024-04-17T09:10:51.026936Z"
    }
   },
   "cell_type": "code",
   "source": [
    "gas_token_addresses = {\"0x0000000000b3F879cb30FE243b4Dfee438691c04\": \"GST2\",\n",
    "                       \"0x88d60255F917e3eb94eaE199d827DAd837fac4cB\": \"GST1\",\n",
    "                       \"0x0000000000004946c0e9F43F4Dee607b0eF1fA1c\": \"CHI\"}"
   ],
   "id": "72b569753a07a843",
   "outputs": [],
   "execution_count": 53
  },
  {
   "metadata": {
    "ExecuteTime": {
     "end_time": "2024-04-17T07:18:42.897987Z",
     "start_time": "2024-04-17T07:18:42.014349Z"
    }
   },
   "cell_type": "code",
   "source": [
    "block_number = 19587005\n",
    "block = web3.eth.get_block(block_number, full_transactions=True)\n",
    "\n",
    "for transaction in block.transactions:  \n",
    "    \n",
    "    if (transaction[\"from\"] == \"0x678111a6cA5749f1744b5E080A855CEC8d631E20\"):\n",
    "        \n",
    "        if \"accessList\" not in transaction:\n",
    "            print(\"AccessList not in Transaction\")\n",
    "        \n",
    "        for element in transaction[\"accessList\"]:\n",
    "            if element[\"address\"] in gas_token_addresses.values():\n",
    "                print(element[\"address\"])\n"
   ],
   "id": "6f3179804bee7821",
   "outputs": [
    {
     "name": "stdout",
     "output_type": "stream",
     "text": [
      "0x0000000000b3F879cb30FE243b4Dfee438691c04\n"
     ]
    }
   ],
   "execution_count": 6
  },
  {
   "metadata": {
    "ExecuteTime": {
     "end_time": "2024-04-17T07:18:44.711200Z",
     "start_time": "2024-04-17T07:18:44.703887Z"
    }
   },
   "cell_type": "code",
   "source": [
    "def is_transaction_using_gas_token(block_number, address, web3):\n",
    "    block = web3.eth.get_block(block_number, full_transactions=True)\n",
    "    \n",
    "    for transaction in block.transactions:   \n",
    "        \n",
    "        if not transaction[\"from\"] == address:\n",
    "            continue\n",
    "    \n",
    "        if \"accessList\" not in transaction:\n",
    "            #print(transaction)\n",
    "            continue\n",
    "            \n",
    "        for element in transaction[\"accessList\"]:\n",
    "            if element[\"address\"] in gas_token_addresses.values():\n",
    "                print(element[\"address\"])\n",
    "                return True\n",
    "    return False"
   ],
   "id": "c526554e012ce997",
   "outputs": [],
   "execution_count": 7
  },
  {
   "metadata": {
    "ExecuteTime": {
     "end_time": "2024-04-17T17:39:27.435200Z",
     "start_time": "2024-04-17T17:39:26.436965Z"
    }
   },
   "cell_type": "code",
   "source": "df_insertion = pd.read_csv ('../data/insertion_attacks.csv', delimiter=',')\n",
   "id": "6b4e3595c5f6a693",
   "outputs": [],
   "execution_count": 22
  },
  {
   "metadata": {
    "ExecuteTime": {
     "end_time": "2024-04-17T07:18:57.877078Z",
     "start_time": "2024-04-17T07:18:50.094714Z"
    }
   },
   "cell_type": "code",
   "source": [
    "for index, entry in tqdm(df_insertion.sample(1000).iterrows()):\n",
    "        block_nr = entry[\"Block Number\"]\n",
    "        address = entry[\"First Attacker\"]\n",
    "        \n",
    "        is_transaction_using_gas_token(block_nr, address, web3)"
   ],
   "id": "c767c09096de44dd",
   "outputs": [
    {
     "name": "stderr",
     "output_type": "stream",
     "text": [
      "17it [00:06,  2.61it/s]\n"
     ]
    },
    {
     "ename": "KeyboardInterrupt",
     "evalue": "",
     "output_type": "error",
     "traceback": [
      "\u001B[0;31m---------------------------------------------------------------------------\u001B[0m",
      "\u001B[0;31mKeyboardInterrupt\u001B[0m                         Traceback (most recent call last)",
      "Cell \u001B[0;32mIn[9], line 5\u001B[0m\n\u001B[1;32m      2\u001B[0m block_nr \u001B[38;5;241m=\u001B[39m entry[\u001B[38;5;124m\"\u001B[39m\u001B[38;5;124mBlock Number\u001B[39m\u001B[38;5;124m\"\u001B[39m]\n\u001B[1;32m      3\u001B[0m address \u001B[38;5;241m=\u001B[39m entry[\u001B[38;5;124m\"\u001B[39m\u001B[38;5;124mFirst Attacker\u001B[39m\u001B[38;5;124m\"\u001B[39m]\n\u001B[0;32m----> 5\u001B[0m \u001B[43mis_transaction_using_gas_token\u001B[49m\u001B[43m(\u001B[49m\u001B[43mblock_nr\u001B[49m\u001B[43m,\u001B[49m\u001B[43m \u001B[49m\u001B[43maddress\u001B[49m\u001B[43m,\u001B[49m\u001B[43m \u001B[49m\u001B[43mweb3\u001B[49m\u001B[43m)\u001B[49m\n",
      "Cell \u001B[0;32mIn[7], line 2\u001B[0m, in \u001B[0;36mis_transaction_using_gas_token\u001B[0;34m(block_number, address, web3)\u001B[0m\n\u001B[1;32m      1\u001B[0m \u001B[38;5;28;01mdef\u001B[39;00m \u001B[38;5;21mis_transaction_using_gas_token\u001B[39m(block_number, address, web3):\n\u001B[0;32m----> 2\u001B[0m     block \u001B[38;5;241m=\u001B[39m \u001B[43mweb3\u001B[49m\u001B[38;5;241;43m.\u001B[39;49m\u001B[43meth\u001B[49m\u001B[38;5;241;43m.\u001B[39;49m\u001B[43mget_block\u001B[49m\u001B[43m(\u001B[49m\u001B[43mblock_number\u001B[49m\u001B[43m,\u001B[49m\u001B[43m \u001B[49m\u001B[43mfull_transactions\u001B[49m\u001B[38;5;241;43m=\u001B[39;49m\u001B[38;5;28;43;01mTrue\u001B[39;49;00m\u001B[43m)\u001B[49m\n\u001B[1;32m      4\u001B[0m     \u001B[38;5;28;01mfor\u001B[39;00m transaction \u001B[38;5;129;01min\u001B[39;00m block\u001B[38;5;241m.\u001B[39mtransactions:   \n\u001B[1;32m      6\u001B[0m         \u001B[38;5;28;01mif\u001B[39;00m \u001B[38;5;129;01mnot\u001B[39;00m transaction[\u001B[38;5;124m\"\u001B[39m\u001B[38;5;124mfrom\u001B[39m\u001B[38;5;124m\"\u001B[39m] \u001B[38;5;241m==\u001B[39m address:\n",
      "File \u001B[0;32m~/miniconda3/envs/frontrunning-attacks/lib/python3.10/site-packages/web3/eth/eth.py:413\u001B[0m, in \u001B[0;36mEth.get_block\u001B[0;34m(self, block_identifier, full_transactions)\u001B[0m\n\u001B[1;32m    410\u001B[0m \u001B[38;5;28;01mdef\u001B[39;00m \u001B[38;5;21mget_block\u001B[39m(\n\u001B[1;32m    411\u001B[0m     \u001B[38;5;28mself\u001B[39m, block_identifier: BlockIdentifier, full_transactions: \u001B[38;5;28mbool\u001B[39m \u001B[38;5;241m=\u001B[39m \u001B[38;5;28;01mFalse\u001B[39;00m\n\u001B[1;32m    412\u001B[0m ) \u001B[38;5;241m-\u001B[39m\u001B[38;5;241m>\u001B[39m BlockData:\n\u001B[0;32m--> 413\u001B[0m     \u001B[38;5;28;01mreturn\u001B[39;00m \u001B[38;5;28;43mself\u001B[39;49m\u001B[38;5;241;43m.\u001B[39;49m\u001B[43m_get_block\u001B[49m\u001B[43m(\u001B[49m\u001B[43mblock_identifier\u001B[49m\u001B[43m,\u001B[49m\u001B[43m \u001B[49m\u001B[43mfull_transactions\u001B[49m\u001B[43m)\u001B[49m\n",
      "File \u001B[0;32m~/miniconda3/envs/frontrunning-attacks/lib/python3.10/site-packages/web3/module.py:75\u001B[0m, in \u001B[0;36mretrieve_blocking_method_call_fn.<locals>.caller\u001B[0;34m(*args, **kwargs)\u001B[0m\n\u001B[1;32m     68\u001B[0m     \u001B[38;5;28;01mreturn\u001B[39;00m LogFilter(eth_module\u001B[38;5;241m=\u001B[39mmodule, filter_id\u001B[38;5;241m=\u001B[39merr\u001B[38;5;241m.\u001B[39mfilter_id)\n\u001B[1;32m     70\u001B[0m (\n\u001B[1;32m     71\u001B[0m     result_formatters,\n\u001B[1;32m     72\u001B[0m     error_formatters,\n\u001B[1;32m     73\u001B[0m     null_result_formatters,\n\u001B[1;32m     74\u001B[0m ) \u001B[38;5;241m=\u001B[39m response_formatters\n\u001B[0;32m---> 75\u001B[0m result \u001B[38;5;241m=\u001B[39m \u001B[43mw3\u001B[49m\u001B[38;5;241;43m.\u001B[39;49m\u001B[43mmanager\u001B[49m\u001B[38;5;241;43m.\u001B[39;49m\u001B[43mrequest_blocking\u001B[49m\u001B[43m(\u001B[49m\n\u001B[1;32m     76\u001B[0m \u001B[43m    \u001B[49m\u001B[43mmethod_str\u001B[49m\u001B[43m,\u001B[49m\u001B[43m \u001B[49m\u001B[43mparams\u001B[49m\u001B[43m,\u001B[49m\u001B[43m \u001B[49m\u001B[43merror_formatters\u001B[49m\u001B[43m,\u001B[49m\u001B[43m \u001B[49m\u001B[43mnull_result_formatters\u001B[49m\n\u001B[1;32m     77\u001B[0m \u001B[43m\u001B[49m\u001B[43m)\u001B[49m\n\u001B[1;32m     78\u001B[0m \u001B[38;5;28;01mreturn\u001B[39;00m apply_result_formatters(result_formatters, result)\n",
      "File \u001B[0;32m~/miniconda3/envs/frontrunning-attacks/lib/python3.10/site-packages/web3/manager.py:328\u001B[0m, in \u001B[0;36mRequestManager.request_blocking\u001B[0;34m(self, method, params, error_formatters, null_result_formatters)\u001B[0m\n\u001B[1;32m    318\u001B[0m \u001B[38;5;28;01mdef\u001B[39;00m \u001B[38;5;21mrequest_blocking\u001B[39m(\n\u001B[1;32m    319\u001B[0m     \u001B[38;5;28mself\u001B[39m,\n\u001B[1;32m    320\u001B[0m     method: Union[RPCEndpoint, Callable[\u001B[38;5;241m.\u001B[39m\u001B[38;5;241m.\u001B[39m\u001B[38;5;241m.\u001B[39m, RPCEndpoint]],\n\u001B[0;32m   (...)\u001B[0m\n\u001B[1;32m    323\u001B[0m     null_result_formatters: Optional[Callable[\u001B[38;5;241m.\u001B[39m\u001B[38;5;241m.\u001B[39m\u001B[38;5;241m.\u001B[39m, Any]] \u001B[38;5;241m=\u001B[39m \u001B[38;5;28;01mNone\u001B[39;00m,\n\u001B[1;32m    324\u001B[0m ) \u001B[38;5;241m-\u001B[39m\u001B[38;5;241m>\u001B[39m Any:\n\u001B[1;32m    325\u001B[0m \u001B[38;5;250m    \u001B[39m\u001B[38;5;124;03m\"\"\"\u001B[39;00m\n\u001B[1;32m    326\u001B[0m \u001B[38;5;124;03m    Make a synchronous request using the provider\u001B[39;00m\n\u001B[1;32m    327\u001B[0m \u001B[38;5;124;03m    \"\"\"\u001B[39;00m\n\u001B[0;32m--> 328\u001B[0m     response \u001B[38;5;241m=\u001B[39m \u001B[38;5;28;43mself\u001B[39;49m\u001B[38;5;241;43m.\u001B[39;49m\u001B[43m_make_request\u001B[49m\u001B[43m(\u001B[49m\u001B[43mmethod\u001B[49m\u001B[43m,\u001B[49m\u001B[43m \u001B[49m\u001B[43mparams\u001B[49m\u001B[43m)\u001B[49m\n\u001B[1;32m    329\u001B[0m     \u001B[38;5;28;01mreturn\u001B[39;00m \u001B[38;5;28mself\u001B[39m\u001B[38;5;241m.\u001B[39mformatted_response(\n\u001B[1;32m    330\u001B[0m         response, params, error_formatters, null_result_formatters\n\u001B[1;32m    331\u001B[0m     )\n",
      "File \u001B[0;32m~/miniconda3/envs/frontrunning-attacks/lib/python3.10/site-packages/web3/manager.py:212\u001B[0m, in \u001B[0;36mRequestManager._make_request\u001B[0;34m(self, method, params)\u001B[0m\n\u001B[1;32m    208\u001B[0m request_func \u001B[38;5;241m=\u001B[39m provider\u001B[38;5;241m.\u001B[39mrequest_func(\n\u001B[1;32m    209\u001B[0m     cast(\u001B[38;5;124m\"\u001B[39m\u001B[38;5;124mWeb3\u001B[39m\u001B[38;5;124m\"\u001B[39m, \u001B[38;5;28mself\u001B[39m\u001B[38;5;241m.\u001B[39mw3), cast(MiddlewareOnion, \u001B[38;5;28mself\u001B[39m\u001B[38;5;241m.\u001B[39mmiddleware_onion)\n\u001B[1;32m    210\u001B[0m )\n\u001B[1;32m    211\u001B[0m \u001B[38;5;28mself\u001B[39m\u001B[38;5;241m.\u001B[39mlogger\u001B[38;5;241m.\u001B[39mdebug(\u001B[38;5;124mf\u001B[39m\u001B[38;5;124m\"\u001B[39m\u001B[38;5;124mMaking request. Method: \u001B[39m\u001B[38;5;132;01m{\u001B[39;00mmethod\u001B[38;5;132;01m}\u001B[39;00m\u001B[38;5;124m\"\u001B[39m)\n\u001B[0;32m--> 212\u001B[0m \u001B[38;5;28;01mreturn\u001B[39;00m \u001B[43mrequest_func\u001B[49m\u001B[43m(\u001B[49m\u001B[43mmethod\u001B[49m\u001B[43m,\u001B[49m\u001B[43m \u001B[49m\u001B[43mparams\u001B[49m\u001B[43m)\u001B[49m\n",
      "File \u001B[0;32m~/miniconda3/envs/frontrunning-attacks/lib/python3.10/site-packages/web3/middleware/gas_price_strategy.py:101\u001B[0m, in \u001B[0;36mgas_price_strategy_middleware.<locals>.middleware\u001B[0;34m(method, params)\u001B[0m\n\u001B[1;32m     97\u001B[0m     transaction \u001B[38;5;241m=\u001B[39m validate_transaction_params(\n\u001B[1;32m     98\u001B[0m         transaction, latest_block, generated_gas_price\n\u001B[1;32m     99\u001B[0m     )\n\u001B[1;32m    100\u001B[0m     \u001B[38;5;28;01mreturn\u001B[39;00m make_request(method, (transaction,))\n\u001B[0;32m--> 101\u001B[0m \u001B[38;5;28;01mreturn\u001B[39;00m \u001B[43mmake_request\u001B[49m\u001B[43m(\u001B[49m\u001B[43mmethod\u001B[49m\u001B[43m,\u001B[49m\u001B[43m \u001B[49m\u001B[43mparams\u001B[49m\u001B[43m)\u001B[49m\n",
      "File \u001B[0;32m~/miniconda3/envs/frontrunning-attacks/lib/python3.10/site-packages/web3/middleware/formatting.py:126\u001B[0m, in \u001B[0;36mconstruct_web3_formatting_middleware.<locals>.formatter_middleware.<locals>.middleware\u001B[0;34m(method, params)\u001B[0m\n\u001B[1;32m    124\u001B[0m     formatter \u001B[38;5;241m=\u001B[39m request_formatters[method]\n\u001B[1;32m    125\u001B[0m     params \u001B[38;5;241m=\u001B[39m formatter(params)\n\u001B[0;32m--> 126\u001B[0m response \u001B[38;5;241m=\u001B[39m \u001B[43mmake_request\u001B[49m\u001B[43m(\u001B[49m\u001B[43mmethod\u001B[49m\u001B[43m,\u001B[49m\u001B[43m \u001B[49m\u001B[43mparams\u001B[49m\u001B[43m)\u001B[49m\n\u001B[1;32m    128\u001B[0m \u001B[38;5;28;01mreturn\u001B[39;00m _apply_response_formatters(\n\u001B[1;32m    129\u001B[0m     method,\n\u001B[1;32m    130\u001B[0m     formatters[\u001B[38;5;124m\"\u001B[39m\u001B[38;5;124mresult_formatters\u001B[39m\u001B[38;5;124m\"\u001B[39m],\n\u001B[1;32m    131\u001B[0m     formatters[\u001B[38;5;124m\"\u001B[39m\u001B[38;5;124merror_formatters\u001B[39m\u001B[38;5;124m\"\u001B[39m],\n\u001B[1;32m    132\u001B[0m     response,\n\u001B[1;32m    133\u001B[0m )\n",
      "File \u001B[0;32m~/miniconda3/envs/frontrunning-attacks/lib/python3.10/site-packages/web3/middleware/attrdict.py:43\u001B[0m, in \u001B[0;36mattrdict_middleware.<locals>.middleware\u001B[0;34m(method, params)\u001B[0m\n\u001B[1;32m     42\u001B[0m \u001B[38;5;28;01mdef\u001B[39;00m \u001B[38;5;21mmiddleware\u001B[39m(method: RPCEndpoint, params: Any) \u001B[38;5;241m-\u001B[39m\u001B[38;5;241m>\u001B[39m RPCResponse:\n\u001B[0;32m---> 43\u001B[0m     response \u001B[38;5;241m=\u001B[39m \u001B[43mmake_request\u001B[49m\u001B[43m(\u001B[49m\u001B[43mmethod\u001B[49m\u001B[43m,\u001B[49m\u001B[43m \u001B[49m\u001B[43mparams\u001B[49m\u001B[43m)\u001B[49m\n\u001B[1;32m     45\u001B[0m     \u001B[38;5;28;01mif\u001B[39;00m \u001B[38;5;124m\"\u001B[39m\u001B[38;5;124mresult\u001B[39m\u001B[38;5;124m\"\u001B[39m \u001B[38;5;129;01min\u001B[39;00m response:\n\u001B[1;32m     46\u001B[0m         \u001B[38;5;28;01mreturn\u001B[39;00m assoc(\n\u001B[1;32m     47\u001B[0m             response, \u001B[38;5;124m\"\u001B[39m\u001B[38;5;124mresult\u001B[39m\u001B[38;5;124m\"\u001B[39m, AttributeDict\u001B[38;5;241m.\u001B[39mrecursive(response[\u001B[38;5;124m\"\u001B[39m\u001B[38;5;124mresult\u001B[39m\u001B[38;5;124m\"\u001B[39m])\n\u001B[1;32m     48\u001B[0m         )\n",
      "File \u001B[0;32m~/miniconda3/envs/frontrunning-attacks/lib/python3.10/site-packages/web3/middleware/formatting.py:126\u001B[0m, in \u001B[0;36mconstruct_web3_formatting_middleware.<locals>.formatter_middleware.<locals>.middleware\u001B[0;34m(method, params)\u001B[0m\n\u001B[1;32m    124\u001B[0m     formatter \u001B[38;5;241m=\u001B[39m request_formatters[method]\n\u001B[1;32m    125\u001B[0m     params \u001B[38;5;241m=\u001B[39m formatter(params)\n\u001B[0;32m--> 126\u001B[0m response \u001B[38;5;241m=\u001B[39m \u001B[43mmake_request\u001B[49m\u001B[43m(\u001B[49m\u001B[43mmethod\u001B[49m\u001B[43m,\u001B[49m\u001B[43m \u001B[49m\u001B[43mparams\u001B[49m\u001B[43m)\u001B[49m\n\u001B[1;32m    128\u001B[0m \u001B[38;5;28;01mreturn\u001B[39;00m _apply_response_formatters(\n\u001B[1;32m    129\u001B[0m     method,\n\u001B[1;32m    130\u001B[0m     formatters[\u001B[38;5;124m\"\u001B[39m\u001B[38;5;124mresult_formatters\u001B[39m\u001B[38;5;124m\"\u001B[39m],\n\u001B[1;32m    131\u001B[0m     formatters[\u001B[38;5;124m\"\u001B[39m\u001B[38;5;124merror_formatters\u001B[39m\u001B[38;5;124m\"\u001B[39m],\n\u001B[1;32m    132\u001B[0m     response,\n\u001B[1;32m    133\u001B[0m )\n",
      "File \u001B[0;32m~/miniconda3/envs/frontrunning-attacks/lib/python3.10/site-packages/web3/middleware/formatting.py:126\u001B[0m, in \u001B[0;36mconstruct_web3_formatting_middleware.<locals>.formatter_middleware.<locals>.middleware\u001B[0;34m(method, params)\u001B[0m\n\u001B[1;32m    124\u001B[0m     formatter \u001B[38;5;241m=\u001B[39m request_formatters[method]\n\u001B[1;32m    125\u001B[0m     params \u001B[38;5;241m=\u001B[39m formatter(params)\n\u001B[0;32m--> 126\u001B[0m response \u001B[38;5;241m=\u001B[39m \u001B[43mmake_request\u001B[49m\u001B[43m(\u001B[49m\u001B[43mmethod\u001B[49m\u001B[43m,\u001B[49m\u001B[43m \u001B[49m\u001B[43mparams\u001B[49m\u001B[43m)\u001B[49m\n\u001B[1;32m    128\u001B[0m \u001B[38;5;28;01mreturn\u001B[39;00m _apply_response_formatters(\n\u001B[1;32m    129\u001B[0m     method,\n\u001B[1;32m    130\u001B[0m     formatters[\u001B[38;5;124m\"\u001B[39m\u001B[38;5;124mresult_formatters\u001B[39m\u001B[38;5;124m\"\u001B[39m],\n\u001B[1;32m    131\u001B[0m     formatters[\u001B[38;5;124m\"\u001B[39m\u001B[38;5;124merror_formatters\u001B[39m\u001B[38;5;124m\"\u001B[39m],\n\u001B[1;32m    132\u001B[0m     response,\n\u001B[1;32m    133\u001B[0m )\n",
      "File \u001B[0;32m~/miniconda3/envs/frontrunning-attacks/lib/python3.10/site-packages/web3/middleware/buffered_gas_estimate.py:43\u001B[0m, in \u001B[0;36mbuffered_gas_estimate_middleware.<locals>.middleware\u001B[0;34m(method, params)\u001B[0m\n\u001B[1;32m     37\u001B[0m         transaction \u001B[38;5;241m=\u001B[39m assoc(\n\u001B[1;32m     38\u001B[0m             transaction,\n\u001B[1;32m     39\u001B[0m             \u001B[38;5;124m\"\u001B[39m\u001B[38;5;124mgas\u001B[39m\u001B[38;5;124m\"\u001B[39m,\n\u001B[1;32m     40\u001B[0m             \u001B[38;5;28mhex\u001B[39m(get_buffered_gas_estimate(w3, transaction)),\n\u001B[1;32m     41\u001B[0m         )\n\u001B[1;32m     42\u001B[0m         \u001B[38;5;28;01mreturn\u001B[39;00m make_request(method, [transaction])\n\u001B[0;32m---> 43\u001B[0m \u001B[38;5;28;01mreturn\u001B[39;00m \u001B[43mmake_request\u001B[49m\u001B[43m(\u001B[49m\u001B[43mmethod\u001B[49m\u001B[43m,\u001B[49m\u001B[43m \u001B[49m\u001B[43mparams\u001B[49m\u001B[43m)\u001B[49m\n",
      "File \u001B[0;32m~/miniconda3/envs/frontrunning-attacks/lib/python3.10/site-packages/web3/middleware/exception_retry_request.py:125\u001B[0m, in \u001B[0;36mexception_retry_middleware.<locals>.middleware\u001B[0;34m(method, params)\u001B[0m\n\u001B[1;32m    123\u001B[0m \u001B[38;5;28;01mfor\u001B[39;00m i \u001B[38;5;129;01min\u001B[39;00m \u001B[38;5;28mrange\u001B[39m(retries):\n\u001B[1;32m    124\u001B[0m     \u001B[38;5;28;01mtry\u001B[39;00m:\n\u001B[0;32m--> 125\u001B[0m         \u001B[38;5;28;01mreturn\u001B[39;00m \u001B[43mmake_request\u001B[49m\u001B[43m(\u001B[49m\u001B[43mmethod\u001B[49m\u001B[43m,\u001B[49m\u001B[43m \u001B[49m\u001B[43mparams\u001B[49m\u001B[43m)\u001B[49m\n\u001B[1;32m    126\u001B[0m     \u001B[38;5;28;01mexcept\u001B[39;00m \u001B[38;5;28mtuple\u001B[39m(errors):\n\u001B[1;32m    127\u001B[0m         \u001B[38;5;28;01mif\u001B[39;00m i \u001B[38;5;241m<\u001B[39m retries \u001B[38;5;241m-\u001B[39m \u001B[38;5;241m1\u001B[39m:\n",
      "File \u001B[0;32m~/miniconda3/envs/frontrunning-attacks/lib/python3.10/site-packages/web3/providers/rpc.py:90\u001B[0m, in \u001B[0;36mHTTPProvider.make_request\u001B[0;34m(self, method, params)\u001B[0m\n\u001B[1;32m     86\u001B[0m \u001B[38;5;28mself\u001B[39m\u001B[38;5;241m.\u001B[39mlogger\u001B[38;5;241m.\u001B[39mdebug(\n\u001B[1;32m     87\u001B[0m     \u001B[38;5;124mf\u001B[39m\u001B[38;5;124m\"\u001B[39m\u001B[38;5;124mMaking request HTTP. URI: \u001B[39m\u001B[38;5;132;01m{\u001B[39;00m\u001B[38;5;28mself\u001B[39m\u001B[38;5;241m.\u001B[39mendpoint_uri\u001B[38;5;132;01m}\u001B[39;00m\u001B[38;5;124m, Method: \u001B[39m\u001B[38;5;132;01m{\u001B[39;00mmethod\u001B[38;5;132;01m}\u001B[39;00m\u001B[38;5;124m\"\u001B[39m\n\u001B[1;32m     88\u001B[0m )\n\u001B[1;32m     89\u001B[0m request_data \u001B[38;5;241m=\u001B[39m \u001B[38;5;28mself\u001B[39m\u001B[38;5;241m.\u001B[39mencode_rpc_request(method, params)\n\u001B[0;32m---> 90\u001B[0m raw_response \u001B[38;5;241m=\u001B[39m \u001B[43mmake_post_request\u001B[49m\u001B[43m(\u001B[49m\n\u001B[1;32m     91\u001B[0m \u001B[43m    \u001B[49m\u001B[38;5;28;43mself\u001B[39;49m\u001B[38;5;241;43m.\u001B[39;49m\u001B[43mendpoint_uri\u001B[49m\u001B[43m,\u001B[49m\u001B[43m \u001B[49m\u001B[43mrequest_data\u001B[49m\u001B[43m,\u001B[49m\u001B[43m \u001B[49m\u001B[38;5;241;43m*\u001B[39;49m\u001B[38;5;241;43m*\u001B[39;49m\u001B[38;5;28;43mself\u001B[39;49m\u001B[38;5;241;43m.\u001B[39;49m\u001B[43mget_request_kwargs\u001B[49m\u001B[43m(\u001B[49m\u001B[43m)\u001B[49m\n\u001B[1;32m     92\u001B[0m \u001B[43m\u001B[49m\u001B[43m)\u001B[49m\n\u001B[1;32m     93\u001B[0m response \u001B[38;5;241m=\u001B[39m \u001B[38;5;28mself\u001B[39m\u001B[38;5;241m.\u001B[39mdecode_rpc_response(raw_response)\n\u001B[1;32m     94\u001B[0m \u001B[38;5;28mself\u001B[39m\u001B[38;5;241m.\u001B[39mlogger\u001B[38;5;241m.\u001B[39mdebug(\n\u001B[1;32m     95\u001B[0m     \u001B[38;5;124mf\u001B[39m\u001B[38;5;124m\"\u001B[39m\u001B[38;5;124mGetting response HTTP. URI: \u001B[39m\u001B[38;5;132;01m{\u001B[39;00m\u001B[38;5;28mself\u001B[39m\u001B[38;5;241m.\u001B[39mendpoint_uri\u001B[38;5;132;01m}\u001B[39;00m\u001B[38;5;124m, \u001B[39m\u001B[38;5;124m\"\u001B[39m\n\u001B[1;32m     96\u001B[0m     \u001B[38;5;124mf\u001B[39m\u001B[38;5;124m\"\u001B[39m\u001B[38;5;124mMethod: \u001B[39m\u001B[38;5;132;01m{\u001B[39;00mmethod\u001B[38;5;132;01m}\u001B[39;00m\u001B[38;5;124m, Response: \u001B[39m\u001B[38;5;132;01m{\u001B[39;00mresponse\u001B[38;5;132;01m}\u001B[39;00m\u001B[38;5;124m\"\u001B[39m\n\u001B[1;32m     97\u001B[0m )\n",
      "File \u001B[0;32m~/miniconda3/envs/frontrunning-attacks/lib/python3.10/site-packages/web3/_utils/request.py:114\u001B[0m, in \u001B[0;36mmake_post_request\u001B[0;34m(endpoint_uri, data, *args, **kwargs)\u001B[0m\n\u001B[1;32m    111\u001B[0m \u001B[38;5;28;01mdef\u001B[39;00m \u001B[38;5;21mmake_post_request\u001B[39m(\n\u001B[1;32m    112\u001B[0m     endpoint_uri: URI, data: Union[\u001B[38;5;28mbytes\u001B[39m, Dict[\u001B[38;5;28mstr\u001B[39m, Any]], \u001B[38;5;241m*\u001B[39margs: Any, \u001B[38;5;241m*\u001B[39m\u001B[38;5;241m*\u001B[39mkwargs: Any\n\u001B[1;32m    113\u001B[0m ) \u001B[38;5;241m-\u001B[39m\u001B[38;5;241m>\u001B[39m \u001B[38;5;28mbytes\u001B[39m:\n\u001B[0;32m--> 114\u001B[0m     response \u001B[38;5;241m=\u001B[39m \u001B[43mget_response_from_post_request\u001B[49m\u001B[43m(\u001B[49m\u001B[43mendpoint_uri\u001B[49m\u001B[43m,\u001B[49m\u001B[43m \u001B[49m\u001B[43mdata\u001B[49m\u001B[38;5;241;43m=\u001B[39;49m\u001B[43mdata\u001B[49m\u001B[43m,\u001B[49m\u001B[43m \u001B[49m\u001B[38;5;241;43m*\u001B[39;49m\u001B[43margs\u001B[49m\u001B[43m,\u001B[49m\u001B[43m \u001B[49m\u001B[38;5;241;43m*\u001B[39;49m\u001B[38;5;241;43m*\u001B[39;49m\u001B[43mkwargs\u001B[49m\u001B[43m)\u001B[49m\n\u001B[1;32m    115\u001B[0m     response\u001B[38;5;241m.\u001B[39mraise_for_status()\n\u001B[1;32m    116\u001B[0m     \u001B[38;5;28;01mreturn\u001B[39;00m response\u001B[38;5;241m.\u001B[39mcontent\n",
      "File \u001B[0;32m~/miniconda3/envs/frontrunning-attacks/lib/python3.10/site-packages/web3/_utils/request.py:107\u001B[0m, in \u001B[0;36mget_response_from_post_request\u001B[0;34m(endpoint_uri, *args, **kwargs)\u001B[0m\n\u001B[1;32m    105\u001B[0m kwargs\u001B[38;5;241m.\u001B[39msetdefault(\u001B[38;5;124m\"\u001B[39m\u001B[38;5;124mtimeout\u001B[39m\u001B[38;5;124m\"\u001B[39m, DEFAULT_TIMEOUT)\n\u001B[1;32m    106\u001B[0m session \u001B[38;5;241m=\u001B[39m cache_and_return_session(endpoint_uri)\n\u001B[0;32m--> 107\u001B[0m response \u001B[38;5;241m=\u001B[39m \u001B[43msession\u001B[49m\u001B[38;5;241;43m.\u001B[39;49m\u001B[43mpost\u001B[49m\u001B[43m(\u001B[49m\u001B[43mendpoint_uri\u001B[49m\u001B[43m,\u001B[49m\u001B[43m \u001B[49m\u001B[38;5;241;43m*\u001B[39;49m\u001B[43margs\u001B[49m\u001B[43m,\u001B[49m\u001B[43m \u001B[49m\u001B[38;5;241;43m*\u001B[39;49m\u001B[38;5;241;43m*\u001B[39;49m\u001B[43mkwargs\u001B[49m\u001B[43m)\u001B[49m\n\u001B[1;32m    108\u001B[0m \u001B[38;5;28;01mreturn\u001B[39;00m response\n",
      "File \u001B[0;32m~/.local/lib/python3.10/site-packages/requests/sessions.py:637\u001B[0m, in \u001B[0;36mSession.post\u001B[0;34m(self, url, data, json, **kwargs)\u001B[0m\n\u001B[1;32m    626\u001B[0m \u001B[38;5;28;01mdef\u001B[39;00m \u001B[38;5;21mpost\u001B[39m(\u001B[38;5;28mself\u001B[39m, url, data\u001B[38;5;241m=\u001B[39m\u001B[38;5;28;01mNone\u001B[39;00m, json\u001B[38;5;241m=\u001B[39m\u001B[38;5;28;01mNone\u001B[39;00m, \u001B[38;5;241m*\u001B[39m\u001B[38;5;241m*\u001B[39mkwargs):\n\u001B[1;32m    627\u001B[0m \u001B[38;5;250m    \u001B[39m\u001B[38;5;124mr\u001B[39m\u001B[38;5;124;03m\"\"\"Sends a POST request. Returns :class:`Response` object.\u001B[39;00m\n\u001B[1;32m    628\u001B[0m \n\u001B[1;32m    629\u001B[0m \u001B[38;5;124;03m    :param url: URL for the new :class:`Request` object.\u001B[39;00m\n\u001B[0;32m   (...)\u001B[0m\n\u001B[1;32m    634\u001B[0m \u001B[38;5;124;03m    :rtype: requests.Response\u001B[39;00m\n\u001B[1;32m    635\u001B[0m \u001B[38;5;124;03m    \"\"\"\u001B[39;00m\n\u001B[0;32m--> 637\u001B[0m     \u001B[38;5;28;01mreturn\u001B[39;00m \u001B[38;5;28;43mself\u001B[39;49m\u001B[38;5;241;43m.\u001B[39;49m\u001B[43mrequest\u001B[49m\u001B[43m(\u001B[49m\u001B[38;5;124;43m\"\u001B[39;49m\u001B[38;5;124;43mPOST\u001B[39;49m\u001B[38;5;124;43m\"\u001B[39;49m\u001B[43m,\u001B[49m\u001B[43m \u001B[49m\u001B[43murl\u001B[49m\u001B[43m,\u001B[49m\u001B[43m \u001B[49m\u001B[43mdata\u001B[49m\u001B[38;5;241;43m=\u001B[39;49m\u001B[43mdata\u001B[49m\u001B[43m,\u001B[49m\u001B[43m \u001B[49m\u001B[43mjson\u001B[49m\u001B[38;5;241;43m=\u001B[39;49m\u001B[43mjson\u001B[49m\u001B[43m,\u001B[49m\u001B[43m \u001B[49m\u001B[38;5;241;43m*\u001B[39;49m\u001B[38;5;241;43m*\u001B[39;49m\u001B[43mkwargs\u001B[49m\u001B[43m)\u001B[49m\n",
      "File \u001B[0;32m~/.local/lib/python3.10/site-packages/requests/sessions.py:589\u001B[0m, in \u001B[0;36mSession.request\u001B[0;34m(self, method, url, params, data, headers, cookies, files, auth, timeout, allow_redirects, proxies, hooks, stream, verify, cert, json)\u001B[0m\n\u001B[1;32m    584\u001B[0m send_kwargs \u001B[38;5;241m=\u001B[39m {\n\u001B[1;32m    585\u001B[0m     \u001B[38;5;124m\"\u001B[39m\u001B[38;5;124mtimeout\u001B[39m\u001B[38;5;124m\"\u001B[39m: timeout,\n\u001B[1;32m    586\u001B[0m     \u001B[38;5;124m\"\u001B[39m\u001B[38;5;124mallow_redirects\u001B[39m\u001B[38;5;124m\"\u001B[39m: allow_redirects,\n\u001B[1;32m    587\u001B[0m }\n\u001B[1;32m    588\u001B[0m send_kwargs\u001B[38;5;241m.\u001B[39mupdate(settings)\n\u001B[0;32m--> 589\u001B[0m resp \u001B[38;5;241m=\u001B[39m \u001B[38;5;28;43mself\u001B[39;49m\u001B[38;5;241;43m.\u001B[39;49m\u001B[43msend\u001B[49m\u001B[43m(\u001B[49m\u001B[43mprep\u001B[49m\u001B[43m,\u001B[49m\u001B[43m \u001B[49m\u001B[38;5;241;43m*\u001B[39;49m\u001B[38;5;241;43m*\u001B[39;49m\u001B[43msend_kwargs\u001B[49m\u001B[43m)\u001B[49m\n\u001B[1;32m    591\u001B[0m \u001B[38;5;28;01mreturn\u001B[39;00m resp\n",
      "File \u001B[0;32m~/.local/lib/python3.10/site-packages/requests/sessions.py:703\u001B[0m, in \u001B[0;36mSession.send\u001B[0;34m(self, request, **kwargs)\u001B[0m\n\u001B[1;32m    700\u001B[0m start \u001B[38;5;241m=\u001B[39m preferred_clock()\n\u001B[1;32m    702\u001B[0m \u001B[38;5;66;03m# Send the request\u001B[39;00m\n\u001B[0;32m--> 703\u001B[0m r \u001B[38;5;241m=\u001B[39m \u001B[43madapter\u001B[49m\u001B[38;5;241;43m.\u001B[39;49m\u001B[43msend\u001B[49m\u001B[43m(\u001B[49m\u001B[43mrequest\u001B[49m\u001B[43m,\u001B[49m\u001B[43m \u001B[49m\u001B[38;5;241;43m*\u001B[39;49m\u001B[38;5;241;43m*\u001B[39;49m\u001B[43mkwargs\u001B[49m\u001B[43m)\u001B[49m\n\u001B[1;32m    705\u001B[0m \u001B[38;5;66;03m# Total elapsed time of the request (approximately)\u001B[39;00m\n\u001B[1;32m    706\u001B[0m elapsed \u001B[38;5;241m=\u001B[39m preferred_clock() \u001B[38;5;241m-\u001B[39m start\n",
      "File \u001B[0;32m~/.local/lib/python3.10/site-packages/requests/adapters.py:486\u001B[0m, in \u001B[0;36mHTTPAdapter.send\u001B[0;34m(self, request, stream, timeout, verify, cert, proxies)\u001B[0m\n\u001B[1;32m    483\u001B[0m     timeout \u001B[38;5;241m=\u001B[39m TimeoutSauce(connect\u001B[38;5;241m=\u001B[39mtimeout, read\u001B[38;5;241m=\u001B[39mtimeout)\n\u001B[1;32m    485\u001B[0m \u001B[38;5;28;01mtry\u001B[39;00m:\n\u001B[0;32m--> 486\u001B[0m     resp \u001B[38;5;241m=\u001B[39m \u001B[43mconn\u001B[49m\u001B[38;5;241;43m.\u001B[39;49m\u001B[43murlopen\u001B[49m\u001B[43m(\u001B[49m\n\u001B[1;32m    487\u001B[0m \u001B[43m        \u001B[49m\u001B[43mmethod\u001B[49m\u001B[38;5;241;43m=\u001B[39;49m\u001B[43mrequest\u001B[49m\u001B[38;5;241;43m.\u001B[39;49m\u001B[43mmethod\u001B[49m\u001B[43m,\u001B[49m\n\u001B[1;32m    488\u001B[0m \u001B[43m        \u001B[49m\u001B[43murl\u001B[49m\u001B[38;5;241;43m=\u001B[39;49m\u001B[43murl\u001B[49m\u001B[43m,\u001B[49m\n\u001B[1;32m    489\u001B[0m \u001B[43m        \u001B[49m\u001B[43mbody\u001B[49m\u001B[38;5;241;43m=\u001B[39;49m\u001B[43mrequest\u001B[49m\u001B[38;5;241;43m.\u001B[39;49m\u001B[43mbody\u001B[49m\u001B[43m,\u001B[49m\n\u001B[1;32m    490\u001B[0m \u001B[43m        \u001B[49m\u001B[43mheaders\u001B[49m\u001B[38;5;241;43m=\u001B[39;49m\u001B[43mrequest\u001B[49m\u001B[38;5;241;43m.\u001B[39;49m\u001B[43mheaders\u001B[49m\u001B[43m,\u001B[49m\n\u001B[1;32m    491\u001B[0m \u001B[43m        \u001B[49m\u001B[43mredirect\u001B[49m\u001B[38;5;241;43m=\u001B[39;49m\u001B[38;5;28;43;01mFalse\u001B[39;49;00m\u001B[43m,\u001B[49m\n\u001B[1;32m    492\u001B[0m \u001B[43m        \u001B[49m\u001B[43massert_same_host\u001B[49m\u001B[38;5;241;43m=\u001B[39;49m\u001B[38;5;28;43;01mFalse\u001B[39;49;00m\u001B[43m,\u001B[49m\n\u001B[1;32m    493\u001B[0m \u001B[43m        \u001B[49m\u001B[43mpreload_content\u001B[49m\u001B[38;5;241;43m=\u001B[39;49m\u001B[38;5;28;43;01mFalse\u001B[39;49;00m\u001B[43m,\u001B[49m\n\u001B[1;32m    494\u001B[0m \u001B[43m        \u001B[49m\u001B[43mdecode_content\u001B[49m\u001B[38;5;241;43m=\u001B[39;49m\u001B[38;5;28;43;01mFalse\u001B[39;49;00m\u001B[43m,\u001B[49m\n\u001B[1;32m    495\u001B[0m \u001B[43m        \u001B[49m\u001B[43mretries\u001B[49m\u001B[38;5;241;43m=\u001B[39;49m\u001B[38;5;28;43mself\u001B[39;49m\u001B[38;5;241;43m.\u001B[39;49m\u001B[43mmax_retries\u001B[49m\u001B[43m,\u001B[49m\n\u001B[1;32m    496\u001B[0m \u001B[43m        \u001B[49m\u001B[43mtimeout\u001B[49m\u001B[38;5;241;43m=\u001B[39;49m\u001B[43mtimeout\u001B[49m\u001B[43m,\u001B[49m\n\u001B[1;32m    497\u001B[0m \u001B[43m        \u001B[49m\u001B[43mchunked\u001B[49m\u001B[38;5;241;43m=\u001B[39;49m\u001B[43mchunked\u001B[49m\u001B[43m,\u001B[49m\n\u001B[1;32m    498\u001B[0m \u001B[43m    \u001B[49m\u001B[43m)\u001B[49m\n\u001B[1;32m    500\u001B[0m \u001B[38;5;28;01mexcept\u001B[39;00m (ProtocolError, \u001B[38;5;167;01mOSError\u001B[39;00m) \u001B[38;5;28;01mas\u001B[39;00m err:\n\u001B[1;32m    501\u001B[0m     \u001B[38;5;28;01mraise\u001B[39;00m \u001B[38;5;167;01mConnectionError\u001B[39;00m(err, request\u001B[38;5;241m=\u001B[39mrequest)\n",
      "File \u001B[0;32m~/miniconda3/envs/frontrunning-attacks/lib/python3.10/site-packages/urllib3/connectionpool.py:790\u001B[0m, in \u001B[0;36mHTTPConnectionPool.urlopen\u001B[0;34m(self, method, url, body, headers, retries, redirect, assert_same_host, timeout, pool_timeout, release_conn, chunked, body_pos, preload_content, decode_content, **response_kw)\u001B[0m\n\u001B[1;32m    787\u001B[0m response_conn \u001B[38;5;241m=\u001B[39m conn \u001B[38;5;28;01mif\u001B[39;00m \u001B[38;5;129;01mnot\u001B[39;00m release_conn \u001B[38;5;28;01melse\u001B[39;00m \u001B[38;5;28;01mNone\u001B[39;00m\n\u001B[1;32m    789\u001B[0m \u001B[38;5;66;03m# Make the request on the HTTPConnection object\u001B[39;00m\n\u001B[0;32m--> 790\u001B[0m response \u001B[38;5;241m=\u001B[39m \u001B[38;5;28;43mself\u001B[39;49m\u001B[38;5;241;43m.\u001B[39;49m\u001B[43m_make_request\u001B[49m\u001B[43m(\u001B[49m\n\u001B[1;32m    791\u001B[0m \u001B[43m    \u001B[49m\u001B[43mconn\u001B[49m\u001B[43m,\u001B[49m\n\u001B[1;32m    792\u001B[0m \u001B[43m    \u001B[49m\u001B[43mmethod\u001B[49m\u001B[43m,\u001B[49m\n\u001B[1;32m    793\u001B[0m \u001B[43m    \u001B[49m\u001B[43murl\u001B[49m\u001B[43m,\u001B[49m\n\u001B[1;32m    794\u001B[0m \u001B[43m    \u001B[49m\u001B[43mtimeout\u001B[49m\u001B[38;5;241;43m=\u001B[39;49m\u001B[43mtimeout_obj\u001B[49m\u001B[43m,\u001B[49m\n\u001B[1;32m    795\u001B[0m \u001B[43m    \u001B[49m\u001B[43mbody\u001B[49m\u001B[38;5;241;43m=\u001B[39;49m\u001B[43mbody\u001B[49m\u001B[43m,\u001B[49m\n\u001B[1;32m    796\u001B[0m \u001B[43m    \u001B[49m\u001B[43mheaders\u001B[49m\u001B[38;5;241;43m=\u001B[39;49m\u001B[43mheaders\u001B[49m\u001B[43m,\u001B[49m\n\u001B[1;32m    797\u001B[0m \u001B[43m    \u001B[49m\u001B[43mchunked\u001B[49m\u001B[38;5;241;43m=\u001B[39;49m\u001B[43mchunked\u001B[49m\u001B[43m,\u001B[49m\n\u001B[1;32m    798\u001B[0m \u001B[43m    \u001B[49m\u001B[43mretries\u001B[49m\u001B[38;5;241;43m=\u001B[39;49m\u001B[43mretries\u001B[49m\u001B[43m,\u001B[49m\n\u001B[1;32m    799\u001B[0m \u001B[43m    \u001B[49m\u001B[43mresponse_conn\u001B[49m\u001B[38;5;241;43m=\u001B[39;49m\u001B[43mresponse_conn\u001B[49m\u001B[43m,\u001B[49m\n\u001B[1;32m    800\u001B[0m \u001B[43m    \u001B[49m\u001B[43mpreload_content\u001B[49m\u001B[38;5;241;43m=\u001B[39;49m\u001B[43mpreload_content\u001B[49m\u001B[43m,\u001B[49m\n\u001B[1;32m    801\u001B[0m \u001B[43m    \u001B[49m\u001B[43mdecode_content\u001B[49m\u001B[38;5;241;43m=\u001B[39;49m\u001B[43mdecode_content\u001B[49m\u001B[43m,\u001B[49m\n\u001B[1;32m    802\u001B[0m \u001B[43m    \u001B[49m\u001B[38;5;241;43m*\u001B[39;49m\u001B[38;5;241;43m*\u001B[39;49m\u001B[43mresponse_kw\u001B[49m\u001B[43m,\u001B[49m\n\u001B[1;32m    803\u001B[0m \u001B[43m\u001B[49m\u001B[43m)\u001B[49m\n\u001B[1;32m    805\u001B[0m \u001B[38;5;66;03m# Everything went great!\u001B[39;00m\n\u001B[1;32m    806\u001B[0m clean_exit \u001B[38;5;241m=\u001B[39m \u001B[38;5;28;01mTrue\u001B[39;00m\n",
      "File \u001B[0;32m~/miniconda3/envs/frontrunning-attacks/lib/python3.10/site-packages/urllib3/connectionpool.py:536\u001B[0m, in \u001B[0;36mHTTPConnectionPool._make_request\u001B[0;34m(self, conn, method, url, body, headers, retries, timeout, chunked, response_conn, preload_content, decode_content, enforce_content_length)\u001B[0m\n\u001B[1;32m    534\u001B[0m \u001B[38;5;66;03m# Receive the response from the server\u001B[39;00m\n\u001B[1;32m    535\u001B[0m \u001B[38;5;28;01mtry\u001B[39;00m:\n\u001B[0;32m--> 536\u001B[0m     response \u001B[38;5;241m=\u001B[39m \u001B[43mconn\u001B[49m\u001B[38;5;241;43m.\u001B[39;49m\u001B[43mgetresponse\u001B[49m\u001B[43m(\u001B[49m\u001B[43m)\u001B[49m\n\u001B[1;32m    537\u001B[0m \u001B[38;5;28;01mexcept\u001B[39;00m (BaseSSLError, \u001B[38;5;167;01mOSError\u001B[39;00m) \u001B[38;5;28;01mas\u001B[39;00m e:\n\u001B[1;32m    538\u001B[0m     \u001B[38;5;28mself\u001B[39m\u001B[38;5;241m.\u001B[39m_raise_timeout(err\u001B[38;5;241m=\u001B[39me, url\u001B[38;5;241m=\u001B[39murl, timeout_value\u001B[38;5;241m=\u001B[39mread_timeout)\n",
      "File \u001B[0;32m~/miniconda3/envs/frontrunning-attacks/lib/python3.10/site-packages/urllib3/connection.py:461\u001B[0m, in \u001B[0;36mHTTPConnection.getresponse\u001B[0;34m(self)\u001B[0m\n\u001B[1;32m    458\u001B[0m \u001B[38;5;28;01mfrom\u001B[39;00m \u001B[38;5;21;01m.\u001B[39;00m\u001B[38;5;21;01mresponse\u001B[39;00m \u001B[38;5;28;01mimport\u001B[39;00m HTTPResponse\n\u001B[1;32m    460\u001B[0m \u001B[38;5;66;03m# Get the response from http.client.HTTPConnection\u001B[39;00m\n\u001B[0;32m--> 461\u001B[0m httplib_response \u001B[38;5;241m=\u001B[39m \u001B[38;5;28;43msuper\u001B[39;49m\u001B[43m(\u001B[49m\u001B[43m)\u001B[49m\u001B[38;5;241;43m.\u001B[39;49m\u001B[43mgetresponse\u001B[49m\u001B[43m(\u001B[49m\u001B[43m)\u001B[49m\n\u001B[1;32m    463\u001B[0m \u001B[38;5;28;01mtry\u001B[39;00m:\n\u001B[1;32m    464\u001B[0m     assert_header_parsing(httplib_response\u001B[38;5;241m.\u001B[39mmsg)\n",
      "File \u001B[0;32m~/miniconda3/envs/frontrunning-attacks/lib/python3.10/http/client.py:1375\u001B[0m, in \u001B[0;36mHTTPConnection.getresponse\u001B[0;34m(self)\u001B[0m\n\u001B[1;32m   1373\u001B[0m \u001B[38;5;28;01mtry\u001B[39;00m:\n\u001B[1;32m   1374\u001B[0m     \u001B[38;5;28;01mtry\u001B[39;00m:\n\u001B[0;32m-> 1375\u001B[0m         \u001B[43mresponse\u001B[49m\u001B[38;5;241;43m.\u001B[39;49m\u001B[43mbegin\u001B[49m\u001B[43m(\u001B[49m\u001B[43m)\u001B[49m\n\u001B[1;32m   1376\u001B[0m     \u001B[38;5;28;01mexcept\u001B[39;00m \u001B[38;5;167;01mConnectionError\u001B[39;00m:\n\u001B[1;32m   1377\u001B[0m         \u001B[38;5;28mself\u001B[39m\u001B[38;5;241m.\u001B[39mclose()\n",
      "File \u001B[0;32m~/miniconda3/envs/frontrunning-attacks/lib/python3.10/http/client.py:318\u001B[0m, in \u001B[0;36mHTTPResponse.begin\u001B[0;34m(self)\u001B[0m\n\u001B[1;32m    316\u001B[0m \u001B[38;5;66;03m# read until we get a non-100 response\u001B[39;00m\n\u001B[1;32m    317\u001B[0m \u001B[38;5;28;01mwhile\u001B[39;00m \u001B[38;5;28;01mTrue\u001B[39;00m:\n\u001B[0;32m--> 318\u001B[0m     version, status, reason \u001B[38;5;241m=\u001B[39m \u001B[38;5;28;43mself\u001B[39;49m\u001B[38;5;241;43m.\u001B[39;49m\u001B[43m_read_status\u001B[49m\u001B[43m(\u001B[49m\u001B[43m)\u001B[49m\n\u001B[1;32m    319\u001B[0m     \u001B[38;5;28;01mif\u001B[39;00m status \u001B[38;5;241m!=\u001B[39m CONTINUE:\n\u001B[1;32m    320\u001B[0m         \u001B[38;5;28;01mbreak\u001B[39;00m\n",
      "File \u001B[0;32m~/miniconda3/envs/frontrunning-attacks/lib/python3.10/http/client.py:279\u001B[0m, in \u001B[0;36mHTTPResponse._read_status\u001B[0;34m(self)\u001B[0m\n\u001B[1;32m    278\u001B[0m \u001B[38;5;28;01mdef\u001B[39;00m \u001B[38;5;21m_read_status\u001B[39m(\u001B[38;5;28mself\u001B[39m):\n\u001B[0;32m--> 279\u001B[0m     line \u001B[38;5;241m=\u001B[39m \u001B[38;5;28mstr\u001B[39m(\u001B[38;5;28;43mself\u001B[39;49m\u001B[38;5;241;43m.\u001B[39;49m\u001B[43mfp\u001B[49m\u001B[38;5;241;43m.\u001B[39;49m\u001B[43mreadline\u001B[49m\u001B[43m(\u001B[49m\u001B[43m_MAXLINE\u001B[49m\u001B[43m \u001B[49m\u001B[38;5;241;43m+\u001B[39;49m\u001B[43m \u001B[49m\u001B[38;5;241;43m1\u001B[39;49m\u001B[43m)\u001B[49m, \u001B[38;5;124m\"\u001B[39m\u001B[38;5;124miso-8859-1\u001B[39m\u001B[38;5;124m\"\u001B[39m)\n\u001B[1;32m    280\u001B[0m     \u001B[38;5;28;01mif\u001B[39;00m \u001B[38;5;28mlen\u001B[39m(line) \u001B[38;5;241m>\u001B[39m _MAXLINE:\n\u001B[1;32m    281\u001B[0m         \u001B[38;5;28;01mraise\u001B[39;00m LineTooLong(\u001B[38;5;124m\"\u001B[39m\u001B[38;5;124mstatus line\u001B[39m\u001B[38;5;124m\"\u001B[39m)\n",
      "File \u001B[0;32m~/miniconda3/envs/frontrunning-attacks/lib/python3.10/socket.py:705\u001B[0m, in \u001B[0;36mSocketIO.readinto\u001B[0;34m(self, b)\u001B[0m\n\u001B[1;32m    703\u001B[0m \u001B[38;5;28;01mwhile\u001B[39;00m \u001B[38;5;28;01mTrue\u001B[39;00m:\n\u001B[1;32m    704\u001B[0m     \u001B[38;5;28;01mtry\u001B[39;00m:\n\u001B[0;32m--> 705\u001B[0m         \u001B[38;5;28;01mreturn\u001B[39;00m \u001B[38;5;28;43mself\u001B[39;49m\u001B[38;5;241;43m.\u001B[39;49m\u001B[43m_sock\u001B[49m\u001B[38;5;241;43m.\u001B[39;49m\u001B[43mrecv_into\u001B[49m\u001B[43m(\u001B[49m\u001B[43mb\u001B[49m\u001B[43m)\u001B[49m\n\u001B[1;32m    706\u001B[0m     \u001B[38;5;28;01mexcept\u001B[39;00m timeout:\n\u001B[1;32m    707\u001B[0m         \u001B[38;5;28mself\u001B[39m\u001B[38;5;241m.\u001B[39m_timeout_occurred \u001B[38;5;241m=\u001B[39m \u001B[38;5;28;01mTrue\u001B[39;00m\n",
      "File \u001B[0;32m~/miniconda3/envs/frontrunning-attacks/lib/python3.10/ssl.py:1307\u001B[0m, in \u001B[0;36mSSLSocket.recv_into\u001B[0;34m(self, buffer, nbytes, flags)\u001B[0m\n\u001B[1;32m   1303\u001B[0m     \u001B[38;5;28;01mif\u001B[39;00m flags \u001B[38;5;241m!=\u001B[39m \u001B[38;5;241m0\u001B[39m:\n\u001B[1;32m   1304\u001B[0m         \u001B[38;5;28;01mraise\u001B[39;00m \u001B[38;5;167;01mValueError\u001B[39;00m(\n\u001B[1;32m   1305\u001B[0m           \u001B[38;5;124m\"\u001B[39m\u001B[38;5;124mnon-zero flags not allowed in calls to recv_into() on \u001B[39m\u001B[38;5;132;01m%s\u001B[39;00m\u001B[38;5;124m\"\u001B[39m \u001B[38;5;241m%\u001B[39m\n\u001B[1;32m   1306\u001B[0m           \u001B[38;5;28mself\u001B[39m\u001B[38;5;241m.\u001B[39m\u001B[38;5;18m__class__\u001B[39m)\n\u001B[0;32m-> 1307\u001B[0m     \u001B[38;5;28;01mreturn\u001B[39;00m \u001B[38;5;28;43mself\u001B[39;49m\u001B[38;5;241;43m.\u001B[39;49m\u001B[43mread\u001B[49m\u001B[43m(\u001B[49m\u001B[43mnbytes\u001B[49m\u001B[43m,\u001B[49m\u001B[43m \u001B[49m\u001B[43mbuffer\u001B[49m\u001B[43m)\u001B[49m\n\u001B[1;32m   1308\u001B[0m \u001B[38;5;28;01melse\u001B[39;00m:\n\u001B[1;32m   1309\u001B[0m     \u001B[38;5;28;01mreturn\u001B[39;00m \u001B[38;5;28msuper\u001B[39m()\u001B[38;5;241m.\u001B[39mrecv_into(buffer, nbytes, flags)\n",
      "File \u001B[0;32m~/miniconda3/envs/frontrunning-attacks/lib/python3.10/ssl.py:1163\u001B[0m, in \u001B[0;36mSSLSocket.read\u001B[0;34m(self, len, buffer)\u001B[0m\n\u001B[1;32m   1161\u001B[0m \u001B[38;5;28;01mtry\u001B[39;00m:\n\u001B[1;32m   1162\u001B[0m     \u001B[38;5;28;01mif\u001B[39;00m buffer \u001B[38;5;129;01mis\u001B[39;00m \u001B[38;5;129;01mnot\u001B[39;00m \u001B[38;5;28;01mNone\u001B[39;00m:\n\u001B[0;32m-> 1163\u001B[0m         \u001B[38;5;28;01mreturn\u001B[39;00m \u001B[38;5;28;43mself\u001B[39;49m\u001B[38;5;241;43m.\u001B[39;49m\u001B[43m_sslobj\u001B[49m\u001B[38;5;241;43m.\u001B[39;49m\u001B[43mread\u001B[49m\u001B[43m(\u001B[49m\u001B[38;5;28;43mlen\u001B[39;49m\u001B[43m,\u001B[49m\u001B[43m \u001B[49m\u001B[43mbuffer\u001B[49m\u001B[43m)\u001B[49m\n\u001B[1;32m   1164\u001B[0m     \u001B[38;5;28;01melse\u001B[39;00m:\n\u001B[1;32m   1165\u001B[0m         \u001B[38;5;28;01mreturn\u001B[39;00m \u001B[38;5;28mself\u001B[39m\u001B[38;5;241m.\u001B[39m_sslobj\u001B[38;5;241m.\u001B[39mread(\u001B[38;5;28mlen\u001B[39m)\n",
      "\u001B[0;31mKeyboardInterrupt\u001B[0m: "
     ]
    }
   ],
   "execution_count": 9
  },
  {
   "metadata": {},
   "cell_type": "markdown",
   "source": "#### Approach using web3 API - Recursive scanning of AttributeDict",
   "id": "89819769cf009bb5"
  },
  {
   "metadata": {
    "ExecuteTime": {
     "end_time": "2024-04-17T07:19:00.400844Z",
     "start_time": "2024-04-17T07:19:00.164745Z"
    }
   },
   "cell_type": "code",
   "source": [
    "import web3.datastructures as wd\n",
    "\n",
    "def check_value_of_interest(data, transactions_with_value_of_interest, hash):\n",
    "    \n",
    "    if isinstance(data, wd.AttributeDict):\n",
    "        for key, value in data.items():\n",
    "            if value in gas_token_addresses.values():\n",
    "                gas_token = list(filter(lambda x: gas_token_addresses[x] == value, gas_token_addresses))[0]\n",
    "                transactions_with_value_of_interest.append((data, gas_token))\n",
    "                print(f\"Gas Token used in {data}: {gas_token} -> {value}\")\n",
    "                break  \n",
    "            check_value_of_interest(value, transactions_with_value_of_interest, hash)\n",
    "    \n",
    "    elif isinstance(data, list):\n",
    "        for item in data:\n",
    "            check_value_of_interest(item, transactions_with_value_of_interest, hash)\n",
    "\n",
    "# List to store transactions with the value of interest\n",
    "transactions_with_value_of_interest = []\n",
    "\n",
    "transactions = web3.eth.get_transaction('0xdcdc49f7bf2d1c97134df53de8090aef064b4611c17490020ace706cffecd35e')\n",
    "\n",
    "# Call the recursive function for each AttributeDict object\n",
    "for transaction_data in [transactions]:  # assuming you have two AttributeDict objects\n",
    "    check_value_of_interest(transaction_data, transactions_with_value_of_interest, '0xdcdc49f7bf2d1c97134df53de8090aef064b4611c17490020ace706cffecd35e')\n",
    "\n",
    "# Print the transactions with the value of interest\n",
    "for transaction in transactions_with_value_of_interest:\n",
    "    print(transaction)\n"
   ],
   "id": "f8c59e6f58aec295",
   "outputs": [
    {
     "name": "stdout",
     "output_type": "stream",
     "text": [
      "Gas Token used in AttributeDict({'address': '0x0000000000b3F879cb30FE243b4Dfee438691c04', 'storageKeys': [HexBytes('0x5f7ca87abce7a5bad34de37cf054bbbda2853a1b5cddd3c3375ac67b5f088ee2'), HexBytes('0xf99c4b6cf8f9d6ad9f5a20955aa154326a813912ac137323e5300fa95c1fc5e5')]}): GST2 -> 0x0000000000b3F879cb30FE243b4Dfee438691c04\n",
      "(AttributeDict({'address': '0x0000000000b3F879cb30FE243b4Dfee438691c04', 'storageKeys': [HexBytes('0x5f7ca87abce7a5bad34de37cf054bbbda2853a1b5cddd3c3375ac67b5f088ee2'), HexBytes('0xf99c4b6cf8f9d6ad9f5a20955aa154326a813912ac137323e5300fa95c1fc5e5')]}), 'GST2')\n"
     ]
    }
   ],
   "execution_count": 10
  },
  {
   "metadata": {
    "ExecuteTime": {
     "end_time": "2024-04-17T07:51:16.709245Z",
     "start_time": "2024-04-17T07:51:16.699778Z"
    }
   },
   "cell_type": "code",
   "source": [
    "\n",
    "def is_transaction_using_gas_token(block_number, address, web3):\n",
    "    block = web3.eth.get_block(block_number, full_transactions=True)\n",
    "    \n",
    "    transactions_with_value_of_interest = []\n",
    "    \n",
    "    for transaction in block.transactions:  \n",
    "        \n",
    "        if not (transaction[\"from\"] == address or transaction[\"to\"] == address):\n",
    "            continue\n",
    "        else:\n",
    "            hash = transaction[\"hash\"].hex()\n",
    "            print(f\"Transaction: {hash}\\n\")\n",
    "            print(transaction)\n",
    "            print(\"\\n\")\n",
    "\n",
    "        \n",
    "        check_value_of_interest(transaction, transactions_with_value_of_interest, transaction[\"hash\"])\n",
    "        "
   ],
   "id": "850c7e075720657e",
   "outputs": [],
   "execution_count": 23
  },
  {
   "metadata": {
    "ExecuteTime": {
     "end_time": "2024-04-17T07:51:21.271947Z",
     "start_time": "2024-04-17T07:51:18.317881Z"
    }
   },
   "cell_type": "code",
   "source": [
    "for index, entry in tqdm(df_insertion.sample(10).iterrows()):\n",
    "        block_nr = entry[\"Block Number\"]\n",
    "        address = entry[\"First Attacker\"]\n",
    "        \n",
    "        is_transaction_using_gas_token(block_nr, address, web3)"
   ],
   "id": "20cec611b6ec0936",
   "outputs": [
    {
     "name": "stderr",
     "output_type": "stream",
     "text": [
      "2it [00:00,  4.60it/s]"
     ]
    },
    {
     "name": "stdout",
     "output_type": "stream",
     "text": [
      "Transaction: 0x3e02aefb1e45b3c3dfc5f03a26680ac755fc7f656396b09a9a088e67cbafde5b\n",
      "\n",
      "AttributeDict({'blockHash': HexBytes('0x84a1a6b43d98b3f96af07c557bc83d190fdeb1c501db5ee27c3384477a7a26ff'), 'blockNumber': 11166327, 'from': '0x4F69c5B694D5A14a0a595703175c478Ec6B2a2Fe', 'gas': 250000, 'gasPrice': 76483903996, 'hash': HexBytes('0x3e02aefb1e45b3c3dfc5f03a26680ac755fc7f656396b09a9a088e67cbafde5b'), 'input': HexBytes('0x000000010000000000000381846044db37951b520000000000000382b2c5e6686f581b5200000000000000000000000087febfb3ac5791034fd5ef1a615e9d9627c2665d'), 'nonce': 15140, 'to': '0x00bF034ceC51975FaeCe51b285724301436B21C4', 'transactionIndex': 21, 'value': 0, 'type': 0, 'chainId': 1, 'v': 38, 'r': HexBytes('0xaaf074ce20c4e315d67bd79c853bbd0e089d5a2843eb558bc9daf9051ee9ab7a'), 's': HexBytes('0x2dd6eb453128239b7dc6d12f2801035cebcfd6bf9354cbe463fdea5a864ccc29')})\n",
      "\n",
      "\n",
      "Transaction: 0x63f9ebdff92e48af0df513363d3d142b8ed1b8ccc4ba24a0bfe38689a6cb2946\n",
      "\n",
      "AttributeDict({'blockHash': HexBytes('0xe913efbc00922440cf0381fcca2d234c5e6ed773c41a2d40ef52b8f4d966c018'), 'blockNumber': 10985605, 'from': '0x86254Cb5A96C161E503d3255d67Fdddec056FEfe', 'gas': 250000, 'gasPrice': 45000000088, 'hash': HexBytes('0x63f9ebdff92e48af0df513363d3d142b8ed1b8ccc4ba24a0bfe38689a6cb2946'), 'input': HexBytes('0xc21e369a000000000000000026dd04f67d0100000000000000000068e5ce588efa3715e7000000000000000000000000ed66641b26b0d64ed0759b2e6682275f84e4fb73'), 'nonce': 14179, 'to': '0x8Be4DB5926232BC5B02b841dbeDe8161924495C4', 'transactionIndex': 25, 'value': 0, 'type': 0, 'chainId': 1, 'v': 37, 'r': HexBytes('0x9fa09fc28a7aeaa055946329e37ce5e460114168a73d49ff49a16a8f355f131e'), 's': HexBytes('0x0c2e79fadfd8c56779875c4d80c2d8b46efc7b430f92bf21bf9d1d8133fb2291')})\n",
      "\n",
      "\n"
     ]
    },
    {
     "name": "stderr",
     "output_type": "stream",
     "text": [
      "3it [00:00,  4.37it/s]"
     ]
    },
    {
     "name": "stdout",
     "output_type": "stream",
     "text": [
      "Transaction: 0xf8928fb2dafd5a484134ca6e9e23f2a39e7f5add92785e27cd76c5f2a36a9045\n",
      "\n",
      "AttributeDict({'blockHash': HexBytes('0x384648d1e625e751358626962d617f2e2d588f65497af8e5cfba6458b9f2b578'), 'blockNumber': 11246677, 'from': '0x0Dd2811fF0F7C58c505957B5CaE0833ba6826DB3', 'gas': 400000, 'gasPrice': 112500000000, 'hash': HexBytes('0xf8928fb2dafd5a484134ca6e9e23f2a39e7f5add92785e27cd76c5f2a36a9045'), 'input': HexBytes('0x7a4e5cd200000000000000000000000095a4492f028aa1fd432ea71146b433e7b4446611000000000000000000000000000000000000000000000000908119109ef110000000000000000000000000000000000000000000000001a50e0e2bbfb53000000000000000000000000000000000000000000000000000000000000000000001000000000000000000000000000000000000000000000000000000005fadf3d4'), 'nonce': 2085, 'to': '0xfE201551e800871f6ce0FaF141107F298440F570', 'transactionIndex': 4, 'value': 0, 'type': 0, 'v': 27, 'r': HexBytes('0xbc03b0cc7ab229927f4024c42883610237171801ab76f204d3454b0d2fea3848'), 's': HexBytes('0x4f39bd0f154a5c70aba2df3a9027d0bf1c9577c32891e6c8dd9e932bc09f5d8c')})\n",
      "\n",
      "\n"
     ]
    },
    {
     "name": "stderr",
     "output_type": "stream",
     "text": [
      "4it [00:00,  4.30it/s]"
     ]
    },
    {
     "name": "stdout",
     "output_type": "stream",
     "text": [
      "Transaction: 0x5517dc21e7da8765ff3a0409a14e3a8cd066a898c9ed80d3ffc7a416ad536f26\n",
      "\n",
      "AttributeDict({'blockHash': HexBytes('0x2559bd4e71cca0b92403b120fe2dac9fd0dbd444a13acec06873ffee5e0c9c11'), 'blockNumber': 11112209, 'from': '0x18a85f755F7508f9CEe4698003a8F5D1e231AB22', 'gas': 300000, 'gasPrice': 55000000001, 'hash': HexBytes('0x5517dc21e7da8765ff3a0409a14e3a8cd066a898c9ed80d3ffc7a416ad536f26'), 'input': HexBytes('0x7b0b426690465c7d25b2a93a164eb0df967975f7638a4b51ab2f0e1f8b2598a30c769c481cc8eb048840c3fb3e57a7ba3959b2ff4ca130ef2b51881848daec78f503874c8ecf6764eb5431a8f121c58f6a9455046f3c0fd35302a1b347c5b2a3575d1504'), 'nonce': 2568, 'to': '0x000000a61AA8c4e48a832cc39655EF8156097aa2', 'transactionIndex': 35, 'value': 0, 'type': 0, 'v': 27, 'r': HexBytes('0x3ef2ffdadc4388bed7b6e51861c04e503238c7327f0ef1e8d31fe2bc7805ca9d'), 's': HexBytes('0x73b1794dddf1812679b7fd88b0fcb5d63a4c09b237234f6d8415417c2fbdc1cd')})\n",
      "\n",
      "\n",
      "Transaction: 0xde5058c3bee266936451f5c8fa3e4b867a0cd3f274eb4f151b9dd29b902f0980\n",
      "\n",
      "AttributeDict({'blockHash': HexBytes('0x2559bd4e71cca0b92403b120fe2dac9fd0dbd444a13acec06873ffee5e0c9c11'), 'blockNumber': 11112209, 'from': '0x18a85f755F7508f9CEe4698003a8F5D1e231AB22', 'gas': 300000, 'gasPrice': 54999999999, 'hash': HexBytes('0xde5058c3bee266936451f5c8fa3e4b867a0cd3f274eb4f151b9dd29b902f0980'), 'input': HexBytes('0xda15c3b66bb0c1cdda337272bdc4bd3b2097340763730b6264b3b90c9d6053b7c20ba6cb'), 'nonce': 2569, 'to': '0x000000a61AA8c4e48a832cc39655EF8156097aa2', 'transactionIndex': 47, 'value': 0, 'type': 0, 'v': 28, 'r': HexBytes('0xb58e32afc40f33b633c0e00f954c565e57e06a7d4c6ef38375d95d2211f0a2fa'), 's': HexBytes('0x5c62b8f3d436ad82aa2c59f4dd0fd4641aaa0125a1c562f01c094e7f66f2f0e8')})\n",
      "\n",
      "\n"
     ]
    },
    {
     "name": "stderr",
     "output_type": "stream",
     "text": [
      "5it [00:01,  3.42it/s]"
     ]
    },
    {
     "name": "stdout",
     "output_type": "stream",
     "text": [
      "Transaction: 0x10504c0666a22466911d038d2b1c895b7ea5ec05cef107e46d3cae0121cfcda7\n",
      "\n",
      "AttributeDict({'blockHash': HexBytes('0x58a502dd0f64ab442535f89d9118e743e2fec44b435bf41a9e0fda92ec92b0f2'), 'blockNumber': 10912913, 'from': '0x30b8235f492265A734347C0bF36E2FFcAD887be2', 'gas': 450000, 'gasPrice': 1494720129875, 'hash': HexBytes('0x10504c0666a22466911d038d2b1c895b7ea5ec05cef107e46d3cae0121cfcda7'), 'input': HexBytes('0x94264cbc0000000000000000000000000000000000000000000000015af1d78b58c40000000000000000000000000000000000000000000000000008c95411b03241f9e9000000000000000000000000000000000000000000000000000000005f6a1906000000000000000000000000000000000000000000000000000000005f6a135e'), 'nonce': 6182, 'to': '0x3F499Fe484a61Af03b01ea5C81Eab14F67C11A5A', 'transactionIndex': 0, 'value': 0, 'type': 0, 'chainId': 1, 'v': 38, 'r': HexBytes('0xb706c2b6b16f61f9c720e7a88ebbd2ab21136bde7adf4fa5443664435b5afae4'), 's': HexBytes('0x0e930ba73fefae8b7d9df560de61e3e16cd644a25286fdbfb5410b8d1c900996')})\n",
      "\n",
      "\n"
     ]
    },
    {
     "name": "stderr",
     "output_type": "stream",
     "text": [
      "6it [00:01,  3.26it/s]"
     ]
    },
    {
     "name": "stdout",
     "output_type": "stream",
     "text": [
      "Transaction: 0x17c1943c4cd26648e4f8946da5dae6b8429ad12d4a59537fd8ba1754a6dd18a5\n",
      "\n",
      "AttributeDict({'blockHash': HexBytes('0x605ef13cf07cd3e219733fe9a7b711f394f7c5b6d3a36e7b4ee8cae641242a84'), 'blockNumber': 11122233, 'from': '0x6284cD4b3bfBC2cc2461E19aa698F9b7fA45160A', 'gas': 300000, 'gasPrice': 22000000001, 'hash': HexBytes('0x17c1943c4cd26648e4f8946da5dae6b8429ad12d4a59537fd8ba1754a6dd18a5'), 'input': HexBytes('0x7b0b42666cd446d8dd872f5acfc435183e0c1d00d702cc23b59028d9ae93555a12385526cde336c156daa5683854ca4ac101722e57d71c9cad3e4170a09cffbe8f993942d7fcd2f0dbde89c532be26a5a83fcb9a86b2eb9f76869c2256e405611a420666'), 'nonce': 2837, 'to': '0x000000a61AA8c4e48a832cc39655EF8156097aa2', 'transactionIndex': 13, 'value': 0, 'type': 0, 'v': 28, 'r': HexBytes('0x2dbe374bddd408bf2ba2364085a9e4578f3a35fd1a4d0da51e6d2472b6bba94b'), 's': HexBytes('0x5fa8f2c92fcffc20e7dd5b0529e51ed195093efa5e187a76660b7ffff62a5014')})\n",
      "\n",
      "\n",
      "Transaction: 0x529d14aa7f75ec76ce9951b183201b34a8eeca3f6751a596ec3efa5182f0f45f\n",
      "\n",
      "AttributeDict({'blockHash': HexBytes('0x605ef13cf07cd3e219733fe9a7b711f394f7c5b6d3a36e7b4ee8cae641242a84'), 'blockNumber': 11122233, 'from': '0x6284cD4b3bfBC2cc2461E19aa698F9b7fA45160A', 'gas': 300000, 'gasPrice': 21999999999, 'hash': HexBytes('0x529d14aa7f75ec76ce9951b183201b34a8eeca3f6751a596ec3efa5182f0f45f'), 'input': HexBytes('0xda15c3b60c532292824dedb347d363cdbc0cb9233b345b7842ecae0fb749d3e25970e8e0'), 'nonce': 2838, 'to': '0x000000a61AA8c4e48a832cc39655EF8156097aa2', 'transactionIndex': 18, 'value': 0, 'type': 0, 'v': 28, 'r': HexBytes('0x92ff76ad985c4632fe78a5e37d53de6536542c0957d0cb31a6c67b459b8b9db1'), 's': HexBytes('0x6810d9e96122615b28aa0ee15a34e32e80e707f9cb0e52dec2f98636b4588651')})\n",
      "\n",
      "\n"
     ]
    },
    {
     "name": "stderr",
     "output_type": "stream",
     "text": [
      "7it [00:01,  3.27it/s]"
     ]
    },
    {
     "name": "stdout",
     "output_type": "stream",
     "text": [
      "Transaction: 0x2794be57e5a8716c9752f6bce35ce76ccc5c7efaa8b723f6c2a0486472fdfd13\n",
      "\n",
      "AttributeDict({'blockHash': HexBytes('0x7c708f75e43dfc8fbc0c7278f63f1ec5aa3c52cd5e6f2a0dbd5d8bb8e91c07cc'), 'blockNumber': 10931995, 'from': '0x470F932c3DD58b1a22197428838687e5809B5e41', 'gas': 313654, 'gasPrice': 104467250397, 'hash': HexBytes('0x2794be57e5a8716c9752f6bce35ce76ccc5c7efaa8b723f6c2a0486472fdfd13'), 'input': HexBytes('0x7ce29142000000000000000000000000000000000000000000000000278d3be669dd000000000000000000000000000022dd2b8985a9288341af1265b7a95d00e6d2126e00000000000000000000000000000000000000000000000000000000000000000000000000000000000000000000000000000000000000066ce17b1154981a68'), 'nonce': 8918, 'to': '0x42D0ba0223700DEa8BCA7983cc4bf0e000DEE772', 'transactionIndex': 44, 'value': 0, 'type': 0, 'v': 28, 'r': HexBytes('0x101d7fb359018482722d95ad988894628246a0af8fadbb64135b4ce3dc8ef222'), 's': HexBytes('0x467dfad3f4f86048a7eedf07ec9e1e9b2b65eed2b37c54ef26a5c8c401fca344')})\n",
      "\n",
      "\n",
      "Transaction: 0x0908995c094af757087cbb1db4ad4219689d063b99da3e005df5fc3e0202cbe3\n",
      "\n",
      "AttributeDict({'blockHash': HexBytes('0x7c708f75e43dfc8fbc0c7278f63f1ec5aa3c52cd5e6f2a0dbd5d8bb8e91c07cc'), 'blockNumber': 10931995, 'from': '0x470F932c3DD58b1a22197428838687e5809B5e41', 'gas': 224764, 'gasPrice': 102999999999, 'hash': HexBytes('0x0908995c094af757087cbb1db4ad4219689d063b99da3e005df5fc3e0202cbe3'), 'input': HexBytes('0x489c6d7f000000000000000000000000f5d0fefaab749d8b14c27f0de60cc6e9e7f848d100000000000000000000000022dd2b8985a9288341af1265b7a95d00e6d2126e'), 'nonce': 8919, 'to': '0x42D0ba0223700DEa8BCA7983cc4bf0e000DEE772', 'transactionIndex': 66, 'value': 0, 'type': 0, 'v': 28, 'r': HexBytes('0xea92a299fbec4a68936df16bc63b33811db98f36e56a6beb5e3eeee308732317'), 's': HexBytes('0x20faf4d4c9a0334b25113c8b44d2ccd4af83eb1b42adc1d23f2da62b1f55d17f')})\n",
      "\n",
      "\n"
     ]
    },
    {
     "name": "stderr",
     "output_type": "stream",
     "text": [
      "8it [00:02,  3.52it/s]"
     ]
    },
    {
     "name": "stdout",
     "output_type": "stream",
     "text": [
      "Transaction: 0x4d62d87ab044304588a6104fe6723b8b0ac0bb952aa4e0da4bd85167e3649b5a\n",
      "\n",
      "AttributeDict({'blockHash': HexBytes('0xae7e280f5549e2724d04db50e9aa598d87cdeebc10a6ad1f48abba7b6b1a3362'), 'blockNumber': 11105864, 'from': '0x94D0060BE48a80b6f66F9069B8D82537708Fce4B', 'gas': 400000, 'gasPrice': 143000000000, 'hash': HexBytes('0x4d62d87ab044304588a6104fe6723b8b0ac0bb952aa4e0da4bd85167e3649b5a'), 'input': HexBytes('0x1d8704fa00000000000000000000000000000000000000000000000010a741a462780000000000000000000000000000000000000000000000000000000000000000000200000000000000000000000000000000000000000000000000000000000000a0000000000000000000000000000000000000000000000000000000006b7b02af0000000000000000000000007a250d5630b4cf539739df2c5dacb4c659f2488d0000000000000000000000000000000000000000000000000000000000000002000000000000000000000000c02aaa39b223fe8d0a0e5c4f27ead9083c756cc2000000000000000000000000aaaebe6fe48e54f431b0c390cfaf0b017d09d42d'), 'nonce': 154, 'to': '0x24A5EC7650761642b128A8883a30f419e1B7cd59', 'transactionIndex': 6, 'value': 0, 'type': 0, 'v': 27, 'r': HexBytes('0xaf9ef8c45bd9fafa3f45b1d9bce3e483c2cb72b8203b934e03f23deef5648c37'), 's': HexBytes('0x6f8eb588a3ea3e2b51064b390b34e4b4d92c4097a3c62ba0e4f342f30853d3e8')})\n",
      "\n",
      "\n"
     ]
    },
    {
     "name": "stderr",
     "output_type": "stream",
     "text": [
      "9it [00:02,  2.82it/s]"
     ]
    },
    {
     "name": "stdout",
     "output_type": "stream",
     "text": [
      "Transaction: 0xace4bdd3b60a132178a85c5d9b565c655dd077e143c32161c524d7701eb4a615\n",
      "\n",
      "AttributeDict({'blockHash': HexBytes('0xe97f0b40d1412ca3127fce15cbdabd0fa02c8dec95e07ff555d7d645827f0d9f'), 'blockNumber': 11061737, 'from': '0x3C28AFa9c4de3f245C550340B2205286723193ce', 'gas': 300000, 'gasPrice': 120000000001, 'hash': HexBytes('0xace4bdd3b60a132178a85c5d9b565c655dd077e143c32161c524d7701eb4a615'), 'input': HexBytes('0x7b0b42669d0cf148df35ee2f4b9b3c1ab349d1067eb643e97301f1625d849daf2991260012fea1389946e42071ae135100fe5fdb60463ea208b03c7f4efdc1cb6b95feab952c2dbeda348fe489e0206668ecf92dc2d59b224bb1b0888fa9319fc4e73ce1'), 'nonce': 1839, 'to': '0xAfE0e7De1FF45Bc31618B39dfE42dd9439eEBB32', 'transactionIndex': 2, 'value': 0, 'type': 0, 'v': 27, 'r': HexBytes('0xaf3393f3909e7f4386e23382f40e231e3133fc3f06783631f83ecd8a4de22f13'), 's': HexBytes('0x4ab2a5685ab5da4c598161b83e01e28ebb327ee1305d70f0ba8524dbb7181ea9')})\n",
      "\n",
      "\n",
      "Transaction: 0x4682cb606eb07e74bf660bdabbeffa5e8abd38f960893ae245f9c635a8eca35d\n",
      "\n",
      "AttributeDict({'blockHash': HexBytes('0xe97f0b40d1412ca3127fce15cbdabd0fa02c8dec95e07ff555d7d645827f0d9f'), 'blockNumber': 11061737, 'from': '0x3C28AFa9c4de3f245C550340B2205286723193ce', 'gas': 300000, 'gasPrice': 119999999999, 'hash': HexBytes('0x4682cb606eb07e74bf660bdabbeffa5e8abd38f960893ae245f9c635a8eca35d'), 'input': HexBytes('0xda15c3b61eb74f6b8286789e8ae56f87899f5ae2c41b124db2e975cf0e438ef5e4944446'), 'nonce': 1840, 'to': '0xAfE0e7De1FF45Bc31618B39dfE42dd9439eEBB32', 'transactionIndex': 4, 'value': 0, 'type': 0, 'v': 28, 'r': HexBytes('0x5ad4f4feb7f849aa7ec692cfa020421287bd57168124427110f3d27d935acaab'), 's': HexBytes('0x3b5f9fbee3148d5a8fd8b9c936c94044cef7eafe7d97787304b7ba651c5ba4a9')})\n",
      "\n",
      "\n"
     ]
    },
    {
     "name": "stderr",
     "output_type": "stream",
     "text": [
      "10it [00:02,  3.41it/s]"
     ]
    },
    {
     "name": "stdout",
     "output_type": "stream",
     "text": [
      "Transaction: 0x75e5877932d355d056a8d2a3f25dc041953edc9b4e638661a407a72884d96ad0\n",
      "\n",
      "AttributeDict({'blockHash': HexBytes('0x2929e7a029fe3dfe6f67e2d9dceeb740265ba6298a625f723403aea373ee5e66'), 'blockNumber': 11265042, 'from': '0x7d3B97857B3200694dc161729605af6880Db9cD5', 'gas': 300000, 'gasPrice': 437424900000, 'hash': HexBytes('0x75e5877932d355d056a8d2a3f25dc041953edc9b4e638661a407a72884d96ad0'), 'input': HexBytes('0x79c7ee2f0000000000000000000000003f406840056b5afafdd9a3a865c48f792f7e99b400000000000000000000000066f0cbe6b95c024af85181ad2e87ae478e97fe830000000000000000000000000000000000000000000000003c0a89f277460000000000000000000000000000000000000000000000000002b9e6dbf9a2726000'), 'nonce': 11694, 'to': '0xFd52a4bD2289AEcCF8521F535Ec194B7e21cdC96', 'transactionIndex': 0, 'value': 0, 'type': 0, 'chainId': 1, 'v': 38, 'r': HexBytes('0x494dff2b84ef8d8c4ad0fba9d9e129431670cc7469d38072aa226a4bfa2909cd'), 's': HexBytes('0x0988b1e79cf125da14e5445f7d6331d397f003ad086d79656de5277640815930')})\n",
      "\n",
      "\n",
      "Transaction: 0x93efd1d48f3239f81099a6176ce6527eef674ecb1a2de78fee3afbee13be19db\n",
      "\n",
      "AttributeDict({'blockHash': HexBytes('0x2929e7a029fe3dfe6f67e2d9dceeb740265ba6298a625f723403aea373ee5e66'), 'blockNumber': 11265042, 'from': '0x7d3B97857B3200694dc161729605af6880Db9cD5', 'gas': 300000, 'gasPrice': 219999999999, 'hash': HexBytes('0x93efd1d48f3239f81099a6176ce6527eef674ecb1a2de78fee3afbee13be19db'), 'input': HexBytes('0x98fc12e60000000000000000000000003f406840056b5afafdd9a3a865c48f792f7e99b400000000000000000000000066f0cbe6b95c024af85181ad2e87ae478e97fe83'), 'nonce': 11695, 'to': '0xFd52a4bD2289AEcCF8521F535Ec194B7e21cdC96', 'transactionIndex': 4, 'value': 0, 'type': 0, 'chainId': 1, 'v': 37, 'r': HexBytes('0x1859568540cfe930627ccb3ea0abbc1365d8ba6d87c0e895814e5709265ee843'), 's': HexBytes('0x3ad1dbf38ca84d1efdb06d46e072c75fb1ba6aed45514019cfb375a29e6d9e0c')})\n",
      "\n",
      "\n"
     ]
    },
    {
     "name": "stderr",
     "output_type": "stream",
     "text": [
      "\n"
     ]
    }
   ],
   "execution_count": 24
  },
  {
   "metadata": {},
   "cell_type": "markdown",
   "source": "#### Approach Etherscan Parsing",
   "id": "2756a3db29e140df"
  },
  {
   "metadata": {
    "ExecuteTime": {
     "end_time": "2024-04-17T09:17:37.646417Z",
     "start_time": "2024-04-17T09:17:37.640839Z"
    }
   },
   "cell_type": "code",
   "source": [
    "from bs4 import BeautifulSoup\n",
    "import re"
   ],
   "id": "58e49d8702c2fb6b",
   "outputs": [],
   "execution_count": 61
  },
  {
   "metadata": {
    "ExecuteTime": {
     "end_time": "2024-04-17T09:17:07.559529Z",
     "start_time": "2024-04-17T09:17:07.550227Z"
    }
   },
   "cell_type": "code",
   "source": [
    "def parse_etherscan_for_transaction(transaction_hash):\n",
    "    \n",
    "    base_url = 'https://etherscan.io/tx/'\n",
    "    url = base_url + transaction_hash\n",
    "    \n",
    "    # To Beat 403-Error\n",
    "    headers = {'User-Agent': 'Mozilla/5.0'}\n",
    "    \n",
    "    # Fetch \n",
    "    response = requests.get(url, headers=headers)    \n",
    "    \n",
    "    has_gas_token_flag = False\n",
    "\n",
    "    # Check if the request was successful\n",
    "    if response.status_code == 200:\n",
    "        # Parse the HTML content using BeautifulSoup\n",
    "        html_text = BeautifulSoup(response.content, 'html.parser')\n",
    "        \n",
    "        # Convert the soup object to string\n",
    "        html_string = str(html_text)\n",
    "        \n",
    "        # Perform regex search on the HTML string for each word\n",
    "        for word in gas_token_addresses.keys():\n",
    "            matches = re.findall(r'\\b' + re.escape(word) + r'\\b', html_string, flags=re.IGNORECASE)\n",
    "            \n",
    "            # Print the matches\n",
    "            if matches:\n",
    "                print(f\"'{gas_token_addresses[word]}' : {word} found!\")\n",
    "                has_gas_token_flag = True\n",
    "    \n",
    "    else:\n",
    "        print(\"Could not Parse Etherscan\")\n",
    "        \n",
    "    return has_gas_token_flag"
   ],
   "id": "4e73792110aefb70",
   "outputs": [],
   "execution_count": 59
  },
  {
   "metadata": {
    "ExecuteTime": {
     "end_time": "2024-04-17T09:18:02.006884Z",
     "start_time": "2024-04-17T09:18:00.842020Z"
    }
   },
   "cell_type": "code",
   "source": [
    "transaction_with_chi_gastoken = \"0x10504c0666a22466911d038d2b1c895b7ea5ec05cef107e46d3cae0121cfcda7\"\n",
    "parse_etherscan_for_transaction(transaction_with_chi_gastoken)"
   ],
   "id": "e55cbc080acdee5e",
   "outputs": [
    {
     "name": "stdout",
     "output_type": "stream",
     "text": [
      "'CHI' : 0x0000000000004946c0e9F43F4Dee607b0eF1fA1c found!\n"
     ]
    },
    {
     "data": {
      "text/plain": [
       "True"
      ]
     },
     "execution_count": 62,
     "metadata": {},
     "output_type": "execute_result"
    }
   ],
   "execution_count": 62
  },
  {
   "metadata": {
    "ExecuteTime": {
     "end_time": "2024-04-17T09:23:03.221788Z",
     "start_time": "2024-04-17T09:23:03.213674Z"
    }
   },
   "cell_type": "code",
   "source": [
    "def is_transaction_using_gas_token(block_number, address, web3):\n",
    "    \n",
    "    block = web3.eth.get_block(block_number, full_transactions=True)\n",
    "    \n",
    "    for transaction in block.transactions:  \n",
    "        \n",
    "        if not (transaction[\"from\"] == address or transaction[\"to\"] == address):\n",
    "            continue\n",
    "        else:\n",
    "            hash = transaction[\"hash\"].hex()\n",
    "            print(f\"Transaction: {hash}\\n\")\n",
    "            parse_etherscan_for_transaction(hash)\n",
    "            print(\"\\n\")\n",
    "            break"
   ],
   "id": "ef63050739df73bb",
   "outputs": [],
   "execution_count": 67
  },
  {
   "metadata": {
    "ExecuteTime": {
     "end_time": "2024-04-17T11:11:33.455754Z",
     "start_time": "2024-04-17T11:11:24.545834Z"
    }
   },
   "cell_type": "code",
   "source": [
    "counter = 1\n",
    "for index, entry in df_insertion.sample(10).iterrows():\n",
    "    block_nr = entry[\"Block Number\"]\n",
    "    address = entry[\"First Attacker\"]\n",
    "    print(address, counter)\n",
    "    counter += 1\n",
    "    is_transaction_using_gas_token(block_nr, address, web3)"
   ],
   "id": "912ae619f73f2d15",
   "outputs": [
    {
     "name": "stdout",
     "output_type": "stream",
     "text": [
      "0xdD07249e403979Bd79848c27aa5454C7E66BdEe7 1\n",
      "Transaction: 0xb5ca994368371b87f3ea28c5a5e835d529ad03801a41c2caf1e9401af5be1aea\n",
      "\n",
      "\n",
      "\n",
      "0x0242333254a79D0f0c8dfc1Cb06d9EBAD2746e83 2\n",
      "Transaction: 0x807593b76750f967e25d42f9a4527c11cc581433202f65399a358cde848474b6\n",
      "\n",
      "\n",
      "\n",
      "0x17ab75b3BD6B9872Fe8d021d6d72bab32f91aAEf 3\n",
      "Transaction: 0x3f399733b6e72d3568a38152133e5764f257cc4d53a4774be28625edef707eae\n",
      "\n",
      "\n",
      "\n",
      "0x86254Cb5A96C161E503d3255d67Fdddec056FEfe 4\n",
      "Transaction: 0xcd527d23830e933ffcbf64b06c7c88eeb8f2b256454c33352df8ff535bbb3fcc\n",
      "\n",
      "\n",
      "\n",
      "0xa21caEbD27a296678176aC886735bfd18F875B8f 5\n",
      "Transaction: 0xc1ce101fd0d5a620462c35ceb29ee42ca1e47b1d74995c21db31f40662908788\n",
      "\n",
      "\n",
      "\n",
      "0xB287Cb907fE97fB4116877a924B3dfd981b5ad7D 6\n",
      "Transaction: 0x1a0e15d87d74528a03ea4df8ab76bcd45f5ce0cd06292d5ab9c4fec61444063b\n",
      "\n",
      "\n",
      "\n",
      "0xfAE8A422969C6873363dae801B4EE1cAc2f2a687 7\n",
      "Transaction: 0x1c7614af5a1c055e098fbfe54011d97c38abd091cc567ff271a60dd03040cf72\n",
      "\n",
      "'GST2' : 0x0000000000b3F879cb30FE243b4Dfee438691c04 found!\n",
      "\n",
      "\n",
      "0x401bF19cd1BA05650F0440c3d0c24FA3583854DD 8\n",
      "Transaction: 0x4a58d1b5e61ea151e1fcd8a942f6517d68a0b7bde62f83299ebacd3172acf379\n",
      "\n",
      "'GST2' : 0x0000000000b3F879cb30FE243b4Dfee438691c04 found!\n",
      "\n",
      "\n",
      "0x258726BDA77a0e0239b8E13B92f1d543659AD013 9\n",
      "Transaction: 0xa657561f79d7a2316f8227b1f2e8b33821feaa96e3003934adb4880b1a7619a3\n",
      "\n",
      "'CHI' : 0x0000000000004946c0e9F43F4Dee607b0eF1fA1c found!\n",
      "\n",
      "\n",
      "0xdD07249e403979Bd79848c27aa5454C7E66BdEe7 10\n",
      "Transaction: 0xf733b80b043be8bbee43b9b431f27c2150c4915fa8bd02a79edff9dc1ac5c65b\n",
      "\n",
      "\n",
      "\n"
     ]
    }
   ],
   "execution_count": 79
  },
  {
   "metadata": {},
   "cell_type": "markdown",
   "source": "#### Approach Etherscan API - Loop through internal transactions",
   "id": "7614ba0d2e369428"
  },
  {
   "metadata": {
    "ExecuteTime": {
     "end_time": "2024-04-17T22:48:42.430029Z",
     "start_time": "2024-04-17T22:48:42.422192Z"
    }
   },
   "cell_type": "code",
   "source": [
    "import requests\n",
    "\n",
    "def get_internal_transactions(tx_hash):\n",
    "    # API endpoint\n",
    "    url = 'https://api.etherscan.io/api'\n",
    "\n",
    "    # Parameters\n",
    "    params = {\n",
    "        'module': 'account',\n",
    "        'action': 'txlistinternal',\n",
    "        'txhash': tx_hash,\n",
    "        'apikey': '1PN1111XBM2W5HIQCSMQH6RA65JVYPQM1R'\n",
    "    }\n",
    "\n",
    "    try:\n",
    "        # Sending GET request\n",
    "        response = requests.get(url, params=params, timeout=3)\n",
    "    \n",
    "        # Checking if request was successful\n",
    "        if response.status_code == 200:\n",
    "            data = response.json()\n",
    "            return data[\"result\"]\n",
    "        else:\n",
    "            #print('Error occurred:', response.status_code)\n",
    "            return None\n",
    "        \n",
    "    except requests.exceptions.Timeout:\n",
    "        #print('Request did not go through: timeout occurred')\n",
    "        return None"
   ],
   "id": "61ce98485556c655",
   "outputs": [],
   "execution_count": 82
  },
  {
   "metadata": {
    "ExecuteTime": {
     "end_time": "2024-04-17T22:48:43.774687Z",
     "start_time": "2024-04-17T22:48:43.767579Z"
    }
   },
   "cell_type": "code",
   "source": [
    "def is_gas_token_contract_in_internal_transaction(transaction_hash):\n",
    "    \n",
    "    gas_token_addresses = {\"0x0000000000b3f879cb30fe243b4dfee438691c04\": \"GST2\",\n",
    "                           \"0x88d60255f917e3eb94eae199d827dad837fac4cb\": \"GST1\",\n",
    "                           \"0x0000000000004946c0e9f43f4dee607b0ef1fa1c\": \"CHI\"}\n",
    "    \n",
    "    internal_transactions = get_internal_transactions(transaction_hash)\n",
    "    \n",
    "    if not internal_transactions:\n",
    "        return False\n",
    "    \n",
    "    for transaction in internal_transactions:\n",
    "        if transaction[\"from\"] in gas_token_addresses.keys():\n",
    "            #print(f\"'{gas_token_addresses[transaction['from']]}' is used in {transaction['type']}\")\n",
    "            return True\n",
    "        if transaction[\"to\"] in gas_token_addresses.keys():\n",
    "            #print(f\"'{gas_token_addresses[transaction['to']]}' is used in {transaction['type']}\")\n",
    "            return True\n",
    "    \n",
    "    return False\n",
    "    "
   ],
   "id": "7109b98cea5df0e5",
   "outputs": [],
   "execution_count": 83
  },
  {
   "metadata": {
    "ExecuteTime": {
     "end_time": "2024-04-17T22:48:46.352597Z",
     "start_time": "2024-04-17T22:48:46.346268Z"
    }
   },
   "cell_type": "code",
   "source": [
    "def is_transaction_using_gas_token(block_number, address, web3):\n",
    "    \n",
    "    block = web3.eth.get_block(block_number, full_transactions=True)\n",
    "    \n",
    "    for transaction in block.transactions:  \n",
    "        \n",
    "        if not (transaction[\"from\"] == address or transaction[\"to\"] == address):\n",
    "            continue\n",
    "            \n",
    "        else:\n",
    "            transaction_hash = transaction[\"hash\"].hex()\n",
    "            #print(f\"Transaction: {transaction_hash}\\n\")\n",
    "            return is_gas_token_contract_in_internal_transaction(transaction_hash)"
   ],
   "id": "141a46e866d1aa0b",
   "outputs": [],
   "execution_count": 84
  },
  {
   "metadata": {},
   "cell_type": "markdown",
   "source": "##### Override usedGasToken in already sampled data",
   "id": "d9dac23674e561a4"
  },
  {
   "metadata": {
    "ExecuteTime": {
     "end_time": "2024-04-17T22:58:35.424637Z",
     "start_time": "2024-04-17T22:58:35.418129Z"
    }
   },
   "cell_type": "code",
   "source": [
    "def get_gas_token(file_name):\n",
    "    \n",
    "    df = pd.read_csv(f'../data/{file_name}', delimiter=',')\n",
    "\n",
    "    entries = []\n",
    "    \n",
    "    for index, entry in tqdm(df.iterrows()):\n",
    "        block_nr = entry[\"blockNumber\"]\n",
    "        address = entry[\"address\"]\n",
    "        entry[\"usedGasToken\"] = is_transaction_using_gas_token(block_nr, address, web3)\n",
    "        #print(address, counter)\n",
    "        #counter += 1\n",
    "        entries.append(entry)\n",
    "    \n",
    "    return pd.DataFrame(entries)"
   ],
   "id": "f7ddb72de653f24a",
   "outputs": [],
   "execution_count": 92
  },
  {
   "metadata": {
    "ExecuteTime": {
     "end_time": "2024-04-17T23:46:19.835854Z",
     "start_time": "2024-04-17T22:58:37.413363Z"
    }
   },
   "cell_type": "code",
   "source": [
    "insertion_first_atk__with_gas_token_df = get_gas_token(\"insertion_atks_first_atk_2500.csv\")\n",
    "insertion_first_atk__with_gas_token_df.to_csv('../data/insertion_atks_first_atk_with_gas_token.csv')"
   ],
   "id": "c2cb79771bd80f33",
   "outputs": [
    {
     "name": "stderr",
     "output_type": "stream",
     "text": [
      "2500it [47:42,  1.14s/it]\n"
     ]
    }
   ],
   "execution_count": 93
  },
  {
   "metadata": {
    "ExecuteTime": {
     "end_time": "2024-04-18T00:31:55.792173Z",
     "start_time": "2024-04-17T23:46:19.838384Z"
    }
   },
   "cell_type": "code",
   "source": [
    "insertion_second_atk__with_gas_token_df = get_gas_token(\"insertion_atks_second_atk_2500.csv\")\n",
    "insertion_second_atk__with_gas_token_df.to_csv('../data/insertion_atks_second_atk_with_gas_token.csv')"
   ],
   "id": "fb00b32c769b18b1",
   "outputs": [
    {
     "name": "stderr",
     "output_type": "stream",
     "text": [
      "2500it [45:35,  1.09s/it]\n"
     ]
    }
   ],
   "execution_count": 94
  },
  {
   "metadata": {
    "ExecuteTime": {
     "end_time": "2024-04-18T02:00:36.224004Z",
     "start_time": "2024-04-18T00:31:55.793644Z"
    }
   },
   "cell_type": "code",
   "source": [
    "random_sampled_transactions_with_gas_token_df = get_gas_token(\"random_sampled_transactions.csv\")\n",
    "random_sampled_transactions_with_gas_token_df.to_csv('../data/random_sampled_transactions_with_gas_token.csv')"
   ],
   "id": "37fab1474d594bf",
   "outputs": [
    {
     "name": "stderr",
     "output_type": "stream",
     "text": [
      "4821it [1:28:40,  1.10s/it]\n"
     ]
    }
   ],
   "execution_count": 95
  },
  {
   "metadata": {},
   "cell_type": "markdown",
   "source": "Distribution of usedGasToken in attack data vs. randomly sampled data",
   "id": "52591d1a73d1295d"
  },
  {
   "metadata": {
    "ExecuteTime": {
     "end_time": "2024-04-18T06:30:57.709029Z",
     "start_time": "2024-04-18T06:30:57.677995Z"
    }
   },
   "cell_type": "code",
   "source": [
    "df_first_atks = pd.read_csv(f'../data/insertion_atks_first_atk_with_gas_token.csv', delimiter=',')\n",
    "df_second_atks = pd.read_csv(f'../data/insertion_atks_second_atk_with_gas_token.csv', delimiter=',')\n",
    "df_first_atks.usedGasToken.value_counts() + df_second_atks.usedGasToken.value_counts()\n"
   ],
   "id": "27be1818cda34b0a",
   "outputs": [
    {
     "data": {
      "text/plain": [
       "usedGasToken\n",
       "False    4112\n",
       "True      888\n",
       "Name: count, dtype: int64"
      ]
     },
     "execution_count": 103,
     "metadata": {},
     "output_type": "execute_result"
    }
   ],
   "execution_count": 103
  },
  {
   "metadata": {
    "ExecuteTime": {
     "end_time": "2024-04-18T06:30:59.623719Z",
     "start_time": "2024-04-18T06:30:59.599659Z"
    }
   },
   "cell_type": "code",
   "source": [
    "df_random = pd.read_csv(f'../data/random_sampled_transactions_with_gas_token.csv', delimiter=',')\n",
    "df_random.usedGasToken.value_counts()"
   ],
   "id": "b8acc694dd128ffc",
   "outputs": [
    {
     "data": {
      "text/plain": [
       "usedGasToken\n",
       "False    4809\n",
       "True       12\n",
       "Name: count, dtype: int64"
      ]
     },
     "execution_count": 104,
     "metadata": {},
     "output_type": "execute_result"
    }
   ],
   "execution_count": 104
  }
 ],
 "metadata": {
  "kernelspec": {
   "display_name": "frontrunning-attacks",
   "language": "python",
   "name": "frontrunning-attacks"
  },
  "language_info": {
   "codemirror_mode": {
    "name": "ipython",
    "version": 2
   },
   "file_extension": ".py",
   "mimetype": "text/x-python",
   "name": "python",
   "nbconvert_exporter": "python",
   "pygments_lexer": "ipython2",
   "version": "2.7.6"
  }
 },
 "nbformat": 4,
 "nbformat_minor": 5
}
