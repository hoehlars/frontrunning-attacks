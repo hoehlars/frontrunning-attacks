{
 "cells": [
  {
   "metadata": {},
   "cell_type": "markdown",
   "source": "### Feature 6 - Usage of Gas Tokens",
   "id": "6d2e758f4af962ca"
  },
  {
   "metadata": {
    "ExecuteTime": {
     "end_time": "2024-05-31T12:13:29.962494Z",
     "start_time": "2024-05-31T12:13:29.950634Z"
    }
   },
   "cell_type": "code",
   "source": [
    "from web3 import Web3\n",
    "from tqdm import tqdm\n",
    "import pandas as pd\n",
    "import dotenv\n",
    "import os"
   ],
   "id": "cdb772132424ac56",
   "outputs": [],
   "execution_count": 2
  },
  {
   "metadata": {
    "ExecuteTime": {
     "end_time": "2024-05-31T12:13:30.635123Z",
     "start_time": "2024-05-31T12:13:30.609575Z"
    }
   },
   "cell_type": "code",
   "source": [
    "%load_ext dotenv\n",
    "%dotenv"
   ],
   "id": "e512949775995bcb",
   "outputs": [],
   "execution_count": 3
  },
  {
   "metadata": {
    "ExecuteTime": {
     "end_time": "2024-05-31T12:13:31.447020Z",
     "start_time": "2024-05-31T12:13:31.345669Z"
    }
   },
   "cell_type": "code",
   "source": [
    "node_url=os.getenv(\"NODE_URL\")\n",
    "web3 = Web3(Web3.HTTPProvider(node_url))\n",
    "print(web3.is_connected())"
   ],
   "id": "7ec78317bdbd13a8",
   "outputs": [
    {
     "name": "stdout",
     "output_type": "stream",
     "text": [
      "True\n"
     ]
    }
   ],
   "execution_count": 4
  },
  {
   "metadata": {
    "ExecuteTime": {
     "end_time": "2024-04-17T08:11:42.865383Z",
     "start_time": "2024-04-17T08:11:42.630434Z"
    }
   },
   "cell_type": "code",
   "source": "web3.eth.get_transaction('0x10504c0666a22466911d038d2b1c895b7ea5ec05cef107e46d3cae0121cfcda7')\n",
   "id": "34a6629bf60bff69",
   "execution_count": 33,
   "outputs": []
  },
  {
   "metadata": {
    "ExecuteTime": {
     "end_time": "2024-04-17T09:32:44.328273Z",
     "start_time": "2024-04-17T09:32:44.205201Z"
    }
   },
   "cell_type": "code",
   "source": "web3.eth.get_transaction('0x8abbef4de9993df03fcba73f80d0d245939836fbf75265d80df84b852ce39453')",
   "id": "fc5c22d2fe670df",
   "execution_count": 78,
   "outputs": []
  },
  {
   "metadata": {},
   "cell_type": "markdown",
   "source": "#### Naive approach with web3 - Loop through AccessList",
   "id": "686f1b7f2130aed5"
  },
  {
   "metadata": {
    "ExecuteTime": {
     "end_time": "2024-04-17T09:10:51.034170Z",
     "start_time": "2024-04-17T09:10:51.026936Z"
    }
   },
   "cell_type": "code",
   "source": [
    "gas_token_addresses = {\"0x0000000000b3F879cb30FE243b4Dfee438691c04\": \"GST2\",\n",
    "                       \"0x88d60255F917e3eb94eaE199d827DAd837fac4cB\": \"GST1\",\n",
    "                       \"0x0000000000004946c0e9F43F4Dee607b0eF1fA1c\": \"CHI\"}"
   ],
   "id": "72b569753a07a843",
   "execution_count": 53,
   "outputs": []
  },
  {
   "metadata": {
    "ExecuteTime": {
     "end_time": "2024-04-17T07:18:42.897987Z",
     "start_time": "2024-04-17T07:18:42.014349Z"
    }
   },
   "cell_type": "code",
   "source": [
    "block_number = 19587005\n",
    "block = web3.eth.get_block(block_number, full_transactions=True)\n",
    "\n",
    "for transaction in block.transactions:  \n",
    "    \n",
    "    if (transaction[\"from\"] == \"0x678111a6cA5749f1744b5E080A855CEC8d631E20\"):\n",
    "        \n",
    "        if \"accessList\" not in transaction:\n",
    "            print(\"AccessList not in Transaction\")\n",
    "        \n",
    "        for element in transaction[\"accessList\"]:\n",
    "            if element[\"address\"] in gas_token_addresses.values():\n",
    "                print(element[\"address\"])\n"
   ],
   "id": "6f3179804bee7821",
   "execution_count": 6,
   "outputs": []
  },
  {
   "metadata": {
    "ExecuteTime": {
     "end_time": "2024-04-17T07:18:44.711200Z",
     "start_time": "2024-04-17T07:18:44.703887Z"
    }
   },
   "cell_type": "code",
   "source": [
    "def is_transaction_using_gas_token(block_number, address, web3):\n",
    "    block = web3.eth.get_block(block_number, full_transactions=True)\n",
    "    \n",
    "    for transaction in block.transactions:   \n",
    "        \n",
    "        if not transaction[\"from\"] == address:\n",
    "            continue\n",
    "    \n",
    "        if \"accessList\" not in transaction:\n",
    "            #print(transaction)\n",
    "            continue\n",
    "            \n",
    "        for element in transaction[\"accessList\"]:\n",
    "            if element[\"address\"] in gas_token_addresses.values():\n",
    "                print(element[\"address\"])\n",
    "                return True\n",
    "    return False"
   ],
   "id": "c526554e012ce997",
   "execution_count": 7,
   "outputs": []
  },
  {
   "metadata": {
    "ExecuteTime": {
     "end_time": "2024-04-17T17:39:27.435200Z",
     "start_time": "2024-04-17T17:39:26.436965Z"
    }
   },
   "cell_type": "code",
   "source": "df_insertion = pd.read_csv ('../data/insertion_attacks.csv', delimiter=',')\n",
   "id": "6b4e3595c5f6a693",
   "execution_count": 22,
   "outputs": []
  },
  {
   "metadata": {
    "ExecuteTime": {
     "end_time": "2024-04-17T07:18:57.877078Z",
     "start_time": "2024-04-17T07:18:50.094714Z"
    }
   },
   "cell_type": "code",
   "source": [
    "for index, entry in tqdm(df_insertion.sample(1000).iterrows()):\n",
    "        block_nr = entry[\"Block Number\"]\n",
    "        address = entry[\"First Attacker\"]\n",
    "        \n",
    "        is_transaction_using_gas_token(block_nr, address, web3)"
   ],
   "id": "c767c09096de44dd",
   "execution_count": 9,
   "outputs": []
  },
  {
   "metadata": {},
   "cell_type": "markdown",
   "source": "#### Approach using web3 API - Recursive scanning of AttributeDict",
   "id": "89819769cf009bb5"
  },
  {
   "metadata": {
    "ExecuteTime": {
     "end_time": "2024-04-17T07:19:00.400844Z",
     "start_time": "2024-04-17T07:19:00.164745Z"
    }
   },
   "cell_type": "code",
   "source": [
    "import web3.datastructures as wd\n",
    "\n",
    "def check_value_of_interest(data, transactions_with_value_of_interest, hash):\n",
    "    \n",
    "    if isinstance(data, wd.AttributeDict):\n",
    "        for key, value in data.items():\n",
    "            if value in gas_token_addresses.values():\n",
    "                gas_token = list(filter(lambda x: gas_token_addresses[x] == value, gas_token_addresses))[0]\n",
    "                transactions_with_value_of_interest.append((data, gas_token))\n",
    "                print(f\"Gas Token used in {data}: {gas_token} -> {value}\")\n",
    "                break  \n",
    "            check_value_of_interest(value, transactions_with_value_of_interest, hash)\n",
    "    \n",
    "    elif isinstance(data, list):\n",
    "        for item in data:\n",
    "            check_value_of_interest(item, transactions_with_value_of_interest, hash)\n",
    "\n",
    "# List to store transactions with the value of interest\n",
    "transactions_with_value_of_interest = []\n",
    "\n",
    "transactions = web3.eth.get_transaction('0xdcdc49f7bf2d1c97134df53de8090aef064b4611c17490020ace706cffecd35e')\n",
    "\n",
    "# Call the recursive function for each AttributeDict object\n",
    "for transaction_data in [transactions]:  # assuming you have two AttributeDict objects\n",
    "    check_value_of_interest(transaction_data, transactions_with_value_of_interest, '0xdcdc49f7bf2d1c97134df53de8090aef064b4611c17490020ace706cffecd35e')\n",
    "\n",
    "# Print the transactions with the value of interest\n",
    "for transaction in transactions_with_value_of_interest:\n",
    "    print(transaction)\n"
   ],
   "id": "f8c59e6f58aec295",
   "execution_count": 10,
   "outputs": []
  },
  {
   "metadata": {
    "ExecuteTime": {
     "end_time": "2024-04-17T07:51:16.709245Z",
     "start_time": "2024-04-17T07:51:16.699778Z"
    }
   },
   "cell_type": "code",
   "source": [
    "\n",
    "def is_transaction_using_gas_token(block_number, address, web3):\n",
    "    block = web3.eth.get_block(block_number, full_transactions=True)\n",
    "    \n",
    "    transactions_with_value_of_interest = []\n",
    "    \n",
    "    for transaction in block.transactions:  \n",
    "        \n",
    "        if not (transaction[\"from\"] == address or transaction[\"to\"] == address):\n",
    "            continue\n",
    "        else:\n",
    "            hash = transaction[\"hash\"].hex()\n",
    "            print(f\"Transaction: {hash}\\n\")\n",
    "            print(transaction)\n",
    "            print(\"\\n\")\n",
    "\n",
    "        \n",
    "        check_value_of_interest(transaction, transactions_with_value_of_interest, transaction[\"hash\"])\n",
    "        "
   ],
   "id": "850c7e075720657e",
   "execution_count": 23,
   "outputs": []
  },
  {
   "metadata": {
    "ExecuteTime": {
     "end_time": "2024-04-17T07:51:21.271947Z",
     "start_time": "2024-04-17T07:51:18.317881Z"
    }
   },
   "cell_type": "code",
   "source": [
    "for index, entry in tqdm(df_insertion.sample(10).iterrows()):\n",
    "        block_nr = entry[\"Block Number\"]\n",
    "        address = entry[\"First Attacker\"]\n",
    "        \n",
    "        is_transaction_using_gas_token(block_nr, address, web3)"
   ],
   "id": "20cec611b6ec0936",
   "execution_count": 24,
   "outputs": []
  },
  {
   "metadata": {},
   "cell_type": "markdown",
   "source": "#### Approach Etherscan Parsing",
   "id": "2756a3db29e140df"
  },
  {
   "metadata": {
    "ExecuteTime": {
     "end_time": "2024-04-17T09:17:37.646417Z",
     "start_time": "2024-04-17T09:17:37.640839Z"
    }
   },
   "cell_type": "code",
   "source": [
    "from bs4 import BeautifulSoup\n",
    "import re"
   ],
   "id": "58e49d8702c2fb6b",
   "execution_count": 61,
   "outputs": []
  },
  {
   "metadata": {
    "ExecuteTime": {
     "end_time": "2024-04-17T09:17:07.559529Z",
     "start_time": "2024-04-17T09:17:07.550227Z"
    }
   },
   "cell_type": "code",
   "source": [
    "def parse_etherscan_for_transaction(transaction_hash):\n",
    "    \n",
    "    base_url = 'https://etherscan.io/tx/'\n",
    "    url = base_url + transaction_hash\n",
    "    \n",
    "    # To Beat 403-Error\n",
    "    headers = {'User-Agent': 'Mozilla/5.0'}\n",
    "    \n",
    "    # Fetch \n",
    "    response = requests.get(url, headers=headers)    \n",
    "    \n",
    "    has_gas_token_flag = False\n",
    "\n",
    "    # Check if the request was successful\n",
    "    if response.status_code == 200:\n",
    "        # Parse the HTML content using BeautifulSoup\n",
    "        html_text = BeautifulSoup(response.content, 'html.parser')\n",
    "        \n",
    "        # Convert the soup object to string\n",
    "        html_string = str(html_text)\n",
    "        \n",
    "        # Perform regex search on the HTML string for each word\n",
    "        for word in gas_token_addresses.keys():\n",
    "            matches = re.findall(r'\\b' + re.escape(word) + r'\\b', html_string, flags=re.IGNORECASE)\n",
    "            \n",
    "            # Print the matches\n",
    "            if matches:\n",
    "                print(f\"'{gas_token_addresses[word]}' : {word} found!\")\n",
    "                has_gas_token_flag = True\n",
    "    \n",
    "    else:\n",
    "        print(\"Could not Parse Etherscan\")\n",
    "        \n",
    "    return has_gas_token_flag"
   ],
   "id": "4e73792110aefb70",
   "execution_count": 59,
   "outputs": []
  },
  {
   "metadata": {
    "ExecuteTime": {
     "end_time": "2024-04-17T09:18:02.006884Z",
     "start_time": "2024-04-17T09:18:00.842020Z"
    }
   },
   "cell_type": "code",
   "source": [
    "transaction_with_chi_gastoken = \"0x10504c0666a22466911d038d2b1c895b7ea5ec05cef107e46d3cae0121cfcda7\"\n",
    "parse_etherscan_for_transaction(transaction_with_chi_gastoken)"
   ],
   "id": "e55cbc080acdee5e",
   "execution_count": 62,
   "outputs": []
  },
  {
   "metadata": {
    "ExecuteTime": {
     "end_time": "2024-04-17T09:23:03.221788Z",
     "start_time": "2024-04-17T09:23:03.213674Z"
    }
   },
   "cell_type": "code",
   "source": [
    "def is_transaction_using_gas_token(block_number, address, web3):\n",
    "    \n",
    "    block = web3.eth.get_block(block_number, full_transactions=True)\n",
    "    \n",
    "    for transaction in block.transactions:  \n",
    "        \n",
    "        if not (transaction[\"from\"] == address or transaction[\"to\"] == address):\n",
    "            continue\n",
    "        else:\n",
    "            hash = transaction[\"hash\"].hex()\n",
    "            print(f\"Transaction: {hash}\\n\")\n",
    "            parse_etherscan_for_transaction(hash)\n",
    "            print(\"\\n\")\n",
    "            break"
   ],
   "id": "ef63050739df73bb",
   "execution_count": 67,
   "outputs": []
  },
  {
   "metadata": {
    "ExecuteTime": {
     "end_time": "2024-04-17T11:11:33.455754Z",
     "start_time": "2024-04-17T11:11:24.545834Z"
    }
   },
   "cell_type": "code",
   "source": [
    "counter = 1\n",
    "for index, entry in df_insertion.sample(10).iterrows():\n",
    "    block_nr = entry[\"Block Number\"]\n",
    "    address = entry[\"First Attacker\"]\n",
    "    print(address, counter)\n",
    "    counter += 1\n",
    "    is_transaction_using_gas_token(block_nr, address, web3)"
   ],
   "id": "912ae619f73f2d15",
   "execution_count": 79,
   "outputs": []
  },
  {
   "metadata": {},
   "cell_type": "markdown",
   "source": "#### Approach Etherscan API - Loop through internal transactions",
   "id": "7614ba0d2e369428"
  },
  {
   "metadata": {
    "ExecuteTime": {
     "end_time": "2024-04-17T22:48:42.430029Z",
     "start_time": "2024-04-17T22:48:42.422192Z"
    }
   },
   "cell_type": "code",
   "source": [
    "import requests\n",
    "\n",
    "def get_internal_transactions(tx_hash):\n",
    "    # API endpoint\n",
    "    url = 'https://api.etherscan.io/api'\n",
    "\n",
    "    # Parameters\n",
    "    params = {\n",
    "        'module': 'account',\n",
    "        'action': 'txlistinternal',\n",
    "        'txhash': tx_hash,\n",
    "        'apikey': '1PN1111XBM2W5HIQCSMQH6RA65JVYPQM1R'\n",
    "    }\n",
    "\n",
    "    try:\n",
    "        # Sending GET request\n",
    "        response = requests.get(url, params=params, timeout=3)\n",
    "    \n",
    "        # Checking if request was successful\n",
    "        if response.status_code == 200:\n",
    "            data = response.json()\n",
    "            return data[\"result\"]\n",
    "        else:\n",
    "            #print('Error occurred:', response.status_code)\n",
    "            return None\n",
    "        \n",
    "    except requests.exceptions.Timeout:\n",
    "        #print('Request did not go through: timeout occurred')\n",
    "        return None"
   ],
   "id": "61ce98485556c655",
   "execution_count": 82,
   "outputs": []
  },
  {
   "metadata": {
    "ExecuteTime": {
     "end_time": "2024-04-17T22:48:43.774687Z",
     "start_time": "2024-04-17T22:48:43.767579Z"
    }
   },
   "cell_type": "code",
   "source": [
    "def is_gas_token_contract_in_internal_transaction(transaction_hash):\n",
    "    \n",
    "    gas_token_addresses = {\"0x0000000000b3f879cb30fe243b4dfee438691c04\": \"GST2\",\n",
    "                           \"0x88d60255f917e3eb94eae199d827dad837fac4cb\": \"GST1\",\n",
    "                           \"0x0000000000004946c0e9f43f4dee607b0ef1fa1c\": \"CHI\"}\n",
    "    \n",
    "    internal_transactions = get_internal_transactions(transaction_hash)\n",
    "    \n",
    "    if not internal_transactions:\n",
    "        return False\n",
    "    \n",
    "    for transaction in internal_transactions:\n",
    "        if transaction[\"from\"] in gas_token_addresses.keys():\n",
    "            #print(f\"'{gas_token_addresses[transaction['from']]}' is used in {transaction['type']}\")\n",
    "            return True\n",
    "        if transaction[\"to\"] in gas_token_addresses.keys():\n",
    "            #print(f\"'{gas_token_addresses[transaction['to']]}' is used in {transaction['type']}\")\n",
    "            return True\n",
    "    \n",
    "    return False\n",
    "    "
   ],
   "id": "7109b98cea5df0e5",
   "execution_count": 83,
   "outputs": []
  },
  {
   "metadata": {
    "ExecuteTime": {
     "end_time": "2024-04-17T22:48:46.352597Z",
     "start_time": "2024-04-17T22:48:46.346268Z"
    }
   },
   "cell_type": "code",
   "source": [
    "def is_transaction_using_gas_token(block_number, address, web3):\n",
    "    \n",
    "    block = web3.eth.get_block(block_number, full_transactions=True)\n",
    "    \n",
    "    for transaction in block.transactions:  \n",
    "        \n",
    "        if not (transaction[\"from\"] == address or transaction[\"to\"] == address):\n",
    "            continue\n",
    "            \n",
    "        else:\n",
    "            transaction_hash = transaction[\"hash\"].hex()\n",
    "            #print(f\"Transaction: {transaction_hash}\\n\")\n",
    "            return is_gas_token_contract_in_internal_transaction(transaction_hash)"
   ],
   "id": "141a46e866d1aa0b",
   "execution_count": 84,
   "outputs": []
  },
  {
   "metadata": {},
   "cell_type": "markdown",
   "source": "##### Override usedGasToken in already sampled data",
   "id": "d9dac23674e561a4"
  },
  {
   "metadata": {
    "ExecuteTime": {
     "end_time": "2024-04-17T22:58:35.424637Z",
     "start_time": "2024-04-17T22:58:35.418129Z"
    }
   },
   "cell_type": "code",
   "source": [
    "def get_gas_token(file_name):\n",
    "    \n",
    "    df = pd.read_csv(f'../data/{file_name}', delimiter=',')\n",
    "\n",
    "    entries = []\n",
    "    \n",
    "    for index, entry in tqdm(df.iterrows()):\n",
    "        block_nr = entry[\"blockNumber\"]\n",
    "        address = entry[\"address\"]\n",
    "        entry[\"usedGasToken\"] = is_transaction_using_gas_token(block_nr, address, web3)\n",
    "        #print(address, counter)\n",
    "        #counter += 1\n",
    "        entries.append(entry)\n",
    "    \n",
    "    return pd.DataFrame(entries)"
   ],
   "id": "f7ddb72de653f24a",
   "execution_count": 92,
   "outputs": []
  },
  {
   "metadata": {
    "ExecuteTime": {
     "end_time": "2024-04-17T23:46:19.835854Z",
     "start_time": "2024-04-17T22:58:37.413363Z"
    }
   },
   "cell_type": "code",
   "source": [
    "insertion_first_atk__with_gas_token_df = get_gas_token(\"insertion_atks_first_atk_2500.csv\")\n",
    "insertion_first_atk__with_gas_token_df.to_csv('../data/insertion_atks_first_atk_with_gas_token.csv')"
   ],
   "id": "c2cb79771bd80f33",
   "execution_count": 93,
   "outputs": []
  },
  {
   "metadata": {
    "ExecuteTime": {
     "end_time": "2024-04-18T00:31:55.792173Z",
     "start_time": "2024-04-17T23:46:19.838384Z"
    }
   },
   "cell_type": "code",
   "source": [
    "insertion_second_atk__with_gas_token_df = get_gas_token(\"insertion_atks_second_atk_2500.csv\")\n",
    "insertion_second_atk__with_gas_token_df.to_csv('../data/insertion_atks_second_atk_with_gas_token.csv')"
   ],
   "id": "fb00b32c769b18b1",
   "execution_count": 94,
   "outputs": []
  },
  {
   "metadata": {
    "ExecuteTime": {
     "end_time": "2024-04-18T02:00:36.224004Z",
     "start_time": "2024-04-18T00:31:55.793644Z"
    }
   },
   "cell_type": "code",
   "source": [
    "random_sampled_transactions_with_gas_token_df = get_gas_token(\"random_sampled_transactions.csv\")\n",
    "random_sampled_transactions_with_gas_token_df.to_csv('../data/random_sampled_transactions_with_gas_token.csv')"
   ],
   "id": "37fab1474d594bf",
   "execution_count": 95,
   "outputs": []
  },
  {
   "metadata": {},
   "cell_type": "markdown",
   "source": "Distribution of usedGasToken in attack data vs. randomly sampled data",
   "id": "52591d1a73d1295d"
  },
  {
   "metadata": {
    "ExecuteTime": {
     "end_time": "2024-04-18T06:30:57.709029Z",
     "start_time": "2024-04-18T06:30:57.677995Z"
    }
   },
   "cell_type": "code",
   "source": [
    "df_first_atks = pd.read_csv(f'../data/insertion_atks_first_atk_with_gas_token.csv', delimiter=',')\n",
    "df_second_atks = pd.read_csv(f'../data/insertion_atks_second_atk_with_gas_token.csv', delimiter=',')\n",
    "df_first_atks.usedGasToken.value_counts() + df_second_atks.usedGasToken.value_counts()\n"
   ],
   "id": "27be1818cda34b0a",
   "execution_count": 103,
   "outputs": []
  },
  {
   "metadata": {
    "ExecuteTime": {
     "end_time": "2024-04-18T06:30:59.623719Z",
     "start_time": "2024-04-18T06:30:59.599659Z"
    }
   },
   "cell_type": "code",
   "source": [
    "df_random = pd.read_csv(f'../data/random_sampled_transactions_with_gas_token.csv', delimiter=',')\n",
    "df_random.usedGasToken.value_counts()"
   ],
   "id": "b8acc694dd128ffc",
   "execution_count": 104,
   "outputs": []
  }
 ],
 "metadata": {
  "kernelspec": {
   "display_name": "Python 3 (ipykernel)",
   "language": "python",
   "name": "python3"
  },
  "language_info": {
   "codemirror_mode": {
    "name": "ipython",
    "version": 2
   },
   "file_extension": ".py",
   "mimetype": "text/x-python",
   "name": "python",
   "nbconvert_exporter": "python",
   "pygments_lexer": "ipython2",
   "version": "2.7.6"
  }
 },
 "nbformat": 4,
 "nbformat_minor": 5
}
