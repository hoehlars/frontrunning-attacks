{
 "cells": [
  {
   "cell_type": "markdown",
   "source": [
    "## Features needed for training\n",
    "1. Gas Price of the Transaction\n",
    "2. Mean Gas Price of Transactions in the Last 10 Blocks\n",
    "3.  Standard Deviation of Gas Price of Transactions in the\n",
    "Last Ten Blocks\n",
    "4. Mean Gas Price of Transactions by the same EOA (externally owned account)\n",
    "5. Standard Deviation of Gas Price in Transactions by the\n",
    "same EOA\n",
    "6. Usage of Gas Tokens\n",
    "7. Predicted Gas Price"
   ],
   "metadata": {
    "collapsed": false
   },
   "id": "a630be665b11f3d3"
  },
  {
   "cell_type": "code",
   "source": [
    "from web3 import Web3\n",
    "from tqdm import tqdm\n",
    "import pandas as pd\n",
    "import numpy as np\n",
    "import random\n",
    "import torch\n",
    "import requests"
   ],
   "metadata": {
    "collapsed": false,
    "ExecuteTime": {
     "end_time": "2024-04-18T13:09:15.496264Z",
     "start_time": "2024-04-18T13:09:15.491528Z"
    }
   },
   "id": "5f8c59138bb46f0a",
   "execution_count": 62,
   "outputs": []
  },
  {
   "cell_type": "code",
   "source": [
    "web3 = Web3(Web3.HTTPProvider(\"https://intensive-sly-mountain.quiknode.pro/a3f5256d7f2af6541d483cce3f1d49c94c01879e/\"))\n",
    "print(web3.is_connected())"
   ],
   "metadata": {
    "collapsed": false,
    "ExecuteTime": {
     "end_time": "2024-04-18T13:09:17.302232Z",
     "start_time": "2024-04-18T13:09:16.911083Z"
    }
   },
   "id": "2a5ebe396cf3628d",
   "execution_count": 63,
   "outputs": []
  },
  {
   "cell_type": "code",
   "id": "initial_id",
   "metadata": {
    "collapsed": true,
    "ExecuteTime": {
     "end_time": "2024-04-18T13:09:19.742603Z",
     "start_time": "2024-04-18T13:09:18.650286Z"
    }
   },
   "source": [
    "df_insertion = pd.read_csv ('../data/insertion_attacks.csv', delimiter=',')\n",
    "print('# of insertion: ', len(df_insertion))"
   ],
   "execution_count": 64,
   "outputs": []
  },
  {
   "metadata": {},
   "cell_type": "markdown",
   "source": "#### Helper functions used in preparation of multiple features",
   "id": "25ccd51b889c6ea2"
  },
  {
   "metadata": {
    "ExecuteTime": {
     "end_time": "2024-04-18T13:19:56.712869Z",
     "start_time": "2024-04-18T13:19:56.707641Z"
    }
   },
   "cell_type": "code",
   "source": [
    "def convert_from_wei_to_gwei(gas_price_in_wei):\n",
    "    gas_price_in_gwei = float(web3.from_wei(gas_price_in_wei, \"gwei\"))\n",
    "    return gas_price_in_gwei"
   ],
   "id": "a91e82de2e8b2ebb",
   "execution_count": 77,
   "outputs": []
  },
  {
   "metadata": {
    "ExecuteTime": {
     "end_time": "2024-04-18T13:45:36.912755Z",
     "start_time": "2024-04-18T13:45:36.906696Z"
    }
   },
   "cell_type": "code",
   "source": [
    "def get_transaction_by_sender_and_block_nr(block_number, sender, web3):\n",
    "    \n",
    "    block = web3.eth.get_block(block_number, full_transactions=True)\n",
    "    \n",
    "    for transaction in block.transactions:        \n",
    "        if transaction[\"from\"] == sender:\n",
    "            return transaction\n",
    "    "
   ],
   "id": "ae59c3c4c1099a54",
   "execution_count": 90,
   "outputs": []
  },
  {
   "cell_type": "markdown",
   "source": [
    "### Feature 1\n",
    "Gas price of transaction"
   ],
   "metadata": {
    "collapsed": false
   },
   "id": "83df9230650ad3b8"
  },
  {
   "cell_type": "code",
   "source": [
    "def get_transaction_gas_price_in_eth_by_sender_and_block_nr(block_number, sender, web3):\n",
    "    block = web3.eth.get_block(block_number, full_transactions=True)\n",
    "    \n",
    "    for transaction in block.transactions:        \n",
    "        if transaction[\"from\"] == sender:\n",
    "            return convert_from_wei_to_gwei(transaction[\"gasPrice\"])\n",
    "\n",
    "\n",
    "get_transaction_gas_price_in_eth_by_sender_and_block_nr(5599805, '0xFF28319a7cD2136ea7283E7cDb0675B50AC29Dd2', web3)"
   ],
   "metadata": {
    "collapsed": false,
    "ExecuteTime": {
     "end_time": "2024-04-18T13:09:23.179689Z",
     "start_time": "2024-04-18T13:09:22.758014Z"
    }
   },
   "id": "fd716710c6e39e03",
   "execution_count": 66,
   "outputs": []
  },
  {
   "metadata": {
    "ExecuteTime": {
     "end_time": "2024-04-18T13:44:55.783085Z",
     "start_time": "2024-04-18T13:44:55.777486Z"
    }
   },
   "cell_type": "code",
   "source": [
    "def get_transaction_gas_price_in_gwei(transaction, web3):\n",
    "    return convert_from_wei_to_gwei(transaction[\"gasPrice\"])"
   ],
   "id": "d8014d0e36871e14",
   "execution_count": 87,
   "outputs": []
  },
  {
   "cell_type": "markdown",
   "source": [
    "### Feature 2 and 3\n",
    "- Mean Gas Price of Transactions in the Last 10 Blocks\n",
    "- Standard Deviation of Gas Price of Transactions in the Last 10 Blocks"
   ],
   "metadata": {
    "collapsed": false
   },
   "id": "9ab9d2a12daec479"
  },
  {
   "cell_type": "code",
   "source": [
    "def get_mean_and_std_gas_price_of_last_n_blocks(last_n_blocks, curr_block, web3):\n",
    "    web3.eth.get_block(curr_block)\n",
    "    \n",
    "    gas_prices = []\n",
    "    for i in range(last_n_blocks):\n",
    "        block = web3.eth.get_block(curr_block - i, full_transactions=True)\n",
    "        \n",
    "        for transaction in block.transactions:\n",
    "            gas_prices.append(convert_from_wei_to_gwei(transaction[\"gasPrice\"]))\n",
    "    \n",
    "    return np.mean(gas_prices), np.std(gas_prices)"
   ],
   "metadata": {
    "collapsed": false,
    "ExecuteTime": {
     "end_time": "2024-04-18T13:09:25.323918Z",
     "start_time": "2024-04-18T13:09:25.315268Z"
    }
   },
   "id": "92fe819583a45baa",
   "execution_count": 67,
   "outputs": []
  },
  {
   "cell_type": "markdown",
   "source": [
    "### Feature 4\n",
    "- Mean Gas Price of Transactions by the same EOA (externally owned account)\n",
    "- Standard Deviation of Gas Price in Transactions by the\n",
    "same EOA"
   ],
   "metadata": {
    "collapsed": false
   },
   "id": "53d4b34e7a52aa39"
  },
  {
   "cell_type": "code",
   "source": [
    "# prepare data for insertion\n",
    "\n",
    "def get_mean_and_std_gas_price_of_last_n_blocks_of_same_EOA(last_n_blocks, curr_block, eoa_address, web3):\n",
    "    web3.eth.get_block(curr_block)\n",
    "    \n",
    "    gas_prices = []\n",
    "    for i in range(last_n_blocks):\n",
    "        block = web3.eth.get_block(curr_block - i, full_transactions=True)\n",
    "        \n",
    "        for transaction in block.transactions:\n",
    "            if transaction[\"from\"] == eoa_address:\n",
    "                gas_prices.append(convert_from_wei_to_gwei(transaction[\"gasPrice\"]))\n",
    "    return np.mean(gas_prices), np.std(gas_prices)"
   ],
   "metadata": {
    "collapsed": false,
    "ExecuteTime": {
     "end_time": "2024-04-18T13:09:26.919498Z",
     "start_time": "2024-04-18T13:09:26.912598Z"
    }
   },
   "id": "74d179d2db4cbf31",
   "execution_count": 68,
   "outputs": []
  },
  {
   "cell_type": "markdown",
   "source": [
    "### Feature 6\n",
    "Usage of gas tokens -> check if gas-token contract addresses are used in internal transactions via Etherscan API.  \n",
    "Typically internal transaction of type *self-destruct*."
   ],
   "metadata": {
    "collapsed": false
   },
   "id": "5bebdcb7ce8fb352"
  },
  {
   "metadata": {
    "ExecuteTime": {
     "end_time": "2024-04-18T13:09:28.592906Z",
     "start_time": "2024-04-18T13:09:28.586189Z"
    }
   },
   "cell_type": "code",
   "source": [
    "def get_internal_transactions(tx_hash):\n",
    "    # API endpoint\n",
    "    url = 'https://api.etherscan.io/api'\n",
    "\n",
    "    # Parameters\n",
    "    params = {\n",
    "        'module': 'account',\n",
    "        'action': 'txlistinternal',\n",
    "        'txhash': tx_hash,\n",
    "        'apikey': '1PN1111XBM2W5HIQCSMQH6RA65JVYPQM1R'\n",
    "    }\n",
    "\n",
    "    try:\n",
    "        # Sending GET request\n",
    "        response = requests.get(url, params=params, timeout=3)\n",
    "    \n",
    "        # Checking if request was successful\n",
    "        if response.status_code == 200:\n",
    "            data = response.json()\n",
    "            return data[\"result\"]\n",
    "        else:\n",
    "            #print('Error occurred:', response.status_code)\n",
    "            return None\n",
    "        \n",
    "    except requests.exceptions.Timeout:\n",
    "        #print('Request did not go through: timeout occurred')\n",
    "        return None\n",
    "    except requests.exceptions.ConnectionError:\n",
    "        print('Connection error')\n",
    "        return None"
   ],
   "id": "f667093d341084fb",
   "execution_count": 69,
   "outputs": []
  },
  {
   "metadata": {
    "ExecuteTime": {
     "end_time": "2024-04-18T13:09:30.286744Z",
     "start_time": "2024-04-18T13:09:30.279695Z"
    }
   },
   "cell_type": "code",
   "source": [
    "def is_gas_token_contract_in_internal_transaction(transaction_hash):\n",
    "    \n",
    "    gas_token_addresses = {\"0x0000000000b3f879cb30fe243b4dfee438691c04\": \"GST2\",\n",
    "                           \"0x88d60255f917e3eb94eae199d827dad837fac4cb\": \"GST1\",\n",
    "                           \"0x0000000000004946c0e9f43f4dee607b0ef1fa1c\": \"CHI\"}\n",
    "        \n",
    "    internal_transactions = get_internal_transactions(transaction_hash)\n",
    "    \n",
    "    if not internal_transactions:\n",
    "        return False\n",
    "    \n",
    "    for transaction in internal_transactions:\n",
    "        if transaction[\"from\"] in gas_token_addresses.keys() or transaction[\"to\"] in gas_token_addresses.keys():\n",
    "            return True\n",
    "    \n",
    "    return False"
   ],
   "id": "f252f00411b1eefc",
   "execution_count": 70,
   "outputs": []
  },
  {
   "metadata": {
    "ExecuteTime": {
     "end_time": "2024-04-18T13:09:31.947215Z",
     "start_time": "2024-04-18T13:09:31.939479Z"
    }
   },
   "cell_type": "code",
   "source": [
    "def is_transaction_using_gas_token(block_number, address, web3):\n",
    "    \n",
    "    block = web3.eth.get_block(block_number, full_transactions=True)\n",
    "    \n",
    "    for transaction in block.transactions:  \n",
    "        if not (transaction[\"from\"] == address or transaction[\"to\"] == address):\n",
    "            continue\n",
    "        else:\n",
    "            transaction_hash = transaction[\"hash\"].hex()\n",
    "            return is_gas_token_contract_in_internal_transaction(transaction_hash)"
   ],
   "id": "dbf0b09b51a1cb5b",
   "execution_count": 71,
   "outputs": []
  },
  {
   "metadata": {
    "ExecuteTime": {
     "end_time": "2024-04-18T13:26:42.002544Z",
     "start_time": "2024-04-18T13:26:41.997278Z"
    }
   },
   "cell_type": "code",
   "source": [
    "def is_transaction_using_gas_token(transaction_hash):\n",
    "    return is_gas_token_contract_in_internal_transaction(transaction_hash)"
   ],
   "id": "e8e9625d27d1404e",
   "execution_count": 81,
   "outputs": []
  },
  {
   "cell_type": "markdown",
   "source": [
    "### Feature 7\n",
    "Predicted gas price --> train modell for this"
   ],
   "metadata": {
    "collapsed": false
   },
   "id": "b7ba2b0e91f569e9"
  },
  {
   "cell_type": "markdown",
   "source": [
    "Since the data was collected 3 years ago, we don't predict the gas-price trained on the gas-prices of the last 100 block from now, but from the highest block in the dataset."
   ],
   "metadata": {
    "collapsed": false
   },
   "id": "b27070964deae4f4"
  },
  {
   "cell_type": "code",
   "source": [
    "model = torch.jit.load('./lstm-feature-7.pt')\n",
    "mean_train = torch.load('./mean_train.pt')\n",
    "std_train = torch.load('./std_train.pt')"
   ],
   "metadata": {
    "collapsed": false,
    "ExecuteTime": {
     "end_time": "2024-04-18T13:09:33.752965Z",
     "start_time": "2024-04-18T13:09:33.718374Z"
    }
   },
   "id": "c117ded0195cdeb2",
   "execution_count": 72,
   "outputs": []
  },
  {
   "cell_type": "code",
   "source": [
    "def get_predicted_gas_price(block_nr, address):\n",
    "    gas_prices_last_15_transactions = get_gas_price_of_last_n_transactions(15, block_nr, address)\n",
    "    \n",
    "    model.eval()\n",
    "    with torch.no_grad():\n",
    "        tensor = torch.tensor(gas_prices_last_15_transactions).view(1,1,15)\n",
    "        predicted_curr_gas_price = model(tensor)[:, -1].item()\n",
    "        \n",
    "        # transform back\n",
    "        return predicted_curr_gas_price * std_train.item() + mean_train.item()\n",
    "    \n",
    "    \n",
    "def get_gas_price_of_last_n_transactions(n, block_nr, address):\n",
    "    gas_prices = []\n",
    "    index_curr_transaction = None\n",
    "    block = web3.eth.get_block(block_nr, full_transactions=True)\n",
    "    transactions = block.transactions\n",
    "    for index, transaction in enumerate(transactions):\n",
    "            if transaction[\"from\"] == address:\n",
    "                index_curr_transaction = index\n",
    "    \n",
    "    if index_curr_transaction > n:\n",
    "        for i in range(index_curr_transaction - n, index_curr_transaction):\n",
    "            gas_prices.append(convert_from_wei_to_gwei(transaction[\"gasPrice\"]))\n",
    "    else:\n",
    "        # prepend more transaction from previous blocks\n",
    "        curr_block = block_nr - 1\n",
    "        while len(gas_prices) < n :\n",
    "            block = web3.eth.get_block(block_nr, full_transactions=True)\n",
    "            \n",
    "            for transaction in reversed(block.transactions):\n",
    "                gas_prices.insert(0, convert_from_wei_to_gwei(transaction[\"gasPrice\"]))\n",
    "                if len(gas_prices) == n:\n",
    "                    break\n",
    "            curr_block -= 1\n",
    "    return gas_prices"
   ],
   "metadata": {
    "collapsed": false,
    "ExecuteTime": {
     "end_time": "2024-04-18T13:09:35.559946Z",
     "start_time": "2024-04-18T13:09:35.549375Z"
    }
   },
   "id": "f5e5a5d684d06862",
   "execution_count": 73,
   "outputs": []
  },
  {
   "cell_type": "markdown",
   "source": [
    "### Putting all together"
   ],
   "metadata": {
    "collapsed": false
   },
   "id": "8a52cd551354d2e6"
  },
  {
   "cell_type": "code",
   "source": [
    "def extract_n_entries_insertion_attack(csv_column: str, nr_of_entries) -> pd.DataFrame:\n",
    "    \n",
    "    entries = []\n",
    "    \n",
    "    for index, entry in tqdm(df_insertion.sample(nr_of_entries).iterrows()):\n",
    "        \n",
    "        block_nr = entry[\"Block Number\"]\n",
    "        address = entry[csv_column]\n",
    "        \n",
    "        transaction = get_transaction_by_sender_and_block_nr(block_nr, address, web3)\n",
    "        transaction_hash = transaction[\"hash\"].hex()\n",
    "        \n",
    "        mean_gas_price_last_10_blocks, std_gas_price_last_10_blocks = get_mean_and_std_gas_price_of_last_n_blocks(10, block_nr, web3)\n",
    "        \n",
    "        mean_gas_price_last_n_blocks_same_EOA, std_gas_price_last_n_blocks_same_EOA = get_mean_and_std_gas_price_of_last_n_blocks_of_same_EOA(20, block_nr, address, web3)\n",
    "        \n",
    "        new_entry = {\n",
    "            \"blockNumber\": block_nr,\n",
    "            \"address\": address,\n",
    "            \"transactionHash\": transaction_hash,\n",
    "            \"gasPrice\": get_transaction_gas_price_in_gwei(transaction, web3),\n",
    "            \"meanGasPriceLastTenBlocks\": mean_gas_price_last_10_blocks,\n",
    "            \"stdGasPriceLastTenBlocks\": std_gas_price_last_10_blocks,\n",
    "            \"meanGasPriceLastTenBlocksSameEOA\": mean_gas_price_last_n_blocks_same_EOA,\n",
    "            \"stdGasPriceLastTenBlocksSameEOA\": std_gas_price_last_n_blocks_same_EOA,\n",
    "            \"usedGasToken\": is_transaction_using_gas_token(transaction_hash),\n",
    "            \"predictedGasPrice\": get_predicted_gas_price(block_nr, address)\n",
    "        }\n",
    "        entries.append(new_entry)\n",
    "    \n",
    "    return pd.DataFrame(entries) "
   ],
   "metadata": {
    "collapsed": false,
    "ExecuteTime": {
     "end_time": "2024-04-18T13:45:52.536067Z",
     "start_time": "2024-04-18T13:45:52.527946Z"
    }
   },
   "id": "d002ea1493baec66",
   "execution_count": 92,
   "outputs": []
  },
  {
   "cell_type": "markdown",
   "source": [
    "**Feature Extraction First Attacker**"
   ],
   "metadata": {
    "collapsed": false
   },
   "id": "6382d2047991e65f"
  },
  {
   "cell_type": "code",
   "source": [
    "#feature_insertion_first_atk_df = extract_n_entries_insertion_attack(csv_column=\"First Attacker\", nr_of_entries=10)\n",
    "#feature_insertion_first_atk_df.to_csv('../data/insertion_atks_first_atk.csv')\n",
    "#feature_insertion_first_atk_df"
   ],
   "metadata": {
    "collapsed": false,
    "is_executing": true,
    "ExecuteTime": {
     "end_time": "2024-04-18T13:48:02.054376Z",
     "start_time": "2024-04-18T13:45:55.176651Z"
    }
   },
   "id": "a8d3af34a4d7e83",
   "execution_count": 93,
   "outputs": []
  },
  {
   "cell_type": "markdown",
   "source": [
    "**Feature Extraction Second Attacker**\n"
   ],
   "metadata": {
    "collapsed": false
   },
   "id": "ac9aadfd7070f78b"
  },
  {
   "metadata": {},
   "cell_type": "code",
   "execution_count": null,
   "source": [
    "#feature_insertion_second_atk_df = extract_n_entries_insertion_attack(csv_column=\"Second Attacker\", nr_of_entries=30)\n",
    "#feature_insertion_second_atk_df.to_csv('../data/insertion_atks_second_atk.csv')"
   ],
   "id": "672029d0463fd6c9",
   "outputs": []
  },
  {
   "cell_type": "markdown",
   "source": [
    "**Feature Extraction Whale/Victim**"
   ],
   "metadata": {
    "collapsed": false
   },
   "id": "654149907cb12dcc"
  },
  {
   "cell_type": "code",
   "source": "#feature_insertion_whale_txs_df = extract_n_entries_insertion_attack(csv_column=\"Whale\", nr_of_entries=100)\n",
   "metadata": {
    "collapsed": false,
    "ExecuteTime": {
     "end_time": "2024-04-10T07:04:18.830403Z",
     "start_time": "2024-04-10T07:04:05.580035Z"
    }
   },
   "id": "d2d781afc44774e0",
   "execution_count": 15,
   "outputs": []
  },
  {
   "cell_type": "markdown",
   "source": [
    "### Feature extraction - random transactions "
   ],
   "metadata": {
    "collapsed": false
   },
   "id": "c7fa97761012cfe8"
  },
  {
   "cell_type": "markdown",
   "source": [
    "Function to get n random block numbers out of the blocks in which the attacks where collected."
   ],
   "metadata": {
    "collapsed": false
   },
   "id": "d2af5a5158e33711"
  },
  {
   "cell_type": "code",
   "source": [
    "def get_n_random_block_numbers_from_insertion_data(n: int):\n",
    "    \n",
    "    unique_block_numbers = df_insertion[\"Block Number\"].unique()\n",
    "    random_block_numbers = pd.Series(unique_block_numbers).sample(n=n).tolist()\n",
    "    return random_block_numbers"
   ],
   "metadata": {
    "collapsed": false,
    "ExecuteTime": {
     "end_time": "2024-04-18T13:49:35.376431Z",
     "start_time": "2024-04-18T13:49:35.370919Z"
    }
   },
   "id": "2591978c30bdd253",
   "execution_count": 94,
   "outputs": []
  },
  {
   "cell_type": "markdown",
   "source": [
    "Function to get n random blocks in the block-range of the sampled attacks."
   ],
   "metadata": {
    "collapsed": false
   },
   "id": "dafe8e0727605d76"
  },
  {
   "cell_type": "code",
   "source": [
    "def get_n_random_block_numbers_from_insertion_data_range(n: int):\n",
    "        \n",
    "    min_block_number = df_insertion[\"Block Number\"].min()\n",
    "    max_block_number = df_insertion[\"Block Number\"].max()\n",
    "    \n",
    "    block_number_range = range(min_block_number, max_block_number + 1)\n",
    "    \n",
    "    random_block_numbers = random.choices(block_number_range, k=n)\n",
    "    return random_block_numbers"
   ],
   "metadata": {
    "collapsed": false,
    "ExecuteTime": {
     "end_time": "2024-04-18T13:49:37.244722Z",
     "start_time": "2024-04-18T13:49:37.238670Z"
    }
   },
   "id": "d872a9a9287dc408",
   "execution_count": 95,
   "outputs": []
  },
  {
   "cell_type": "markdown",
   "source": [
    "Function to get n random blocks over all blocks on ethereum main net."
   ],
   "metadata": {
    "collapsed": false
   },
   "id": "44f4fdb53c685faf"
  },
  {
   "cell_type": "code",
   "source": [
    "def get_n_random_block_numbers_from_total_block_range(n: int):\n",
    "        \n",
    "    current_block_number = web3.eth.block_number\n",
    "    \n",
    "    block_number_range = range(1, current_block_number + 1)\n",
    "    \n",
    "    random_block_numbers = random.choices(block_number_range, k=n)\n",
    "    return random_block_numbers"
   ],
   "metadata": {
    "collapsed": false,
    "ExecuteTime": {
     "end_time": "2024-04-18T13:49:39.359261Z",
     "start_time": "2024-04-18T13:49:39.353173Z"
    }
   },
   "id": "5c4d986cf9d8aff3",
   "execution_count": 96,
   "outputs": []
  },
  {
   "cell_type": "markdown",
   "source": [
    "Function to get random transaction out of a block."
   ],
   "metadata": {
    "collapsed": false
   },
   "id": "a6b51b6a3d637873"
  },
  {
   "cell_type": "code",
   "source": [
    "def address_in_insertion_data(block_number: int, address: str):\n",
    "    \n",
    "    if block_number not in df_insertion[\"Block Number\"].values:\n",
    "        return False\n",
    "    \n",
    "    df_subset_with_block_number = df_insertion[df_insertion[\"Block Number\"] == block_number]\n",
    "    \n",
    "    if any(address in df_subset_with_block_number[col].values for col in [\"First Attacker\", \"Second Attacker\", \"Whale\"]):\n",
    "        return True\n",
    "    \n",
    "    return False    "
   ],
   "metadata": {
    "collapsed": false,
    "ExecuteTime": {
     "end_time": "2024-04-18T13:49:40.902521Z",
     "start_time": "2024-04-18T13:49:40.896013Z"
    }
   },
   "id": "a1d4d0cc69d5f812",
   "execution_count": 97,
   "outputs": []
  },
  {
   "cell_type": "code",
   "source": [
    "def get_random_transaction_from_block(block_number: int):\n",
    "    \n",
    "    # Retrieve txs from block\n",
    "    block = web3.eth.get_block(block_number)\n",
    "    transactions = block['transactions']\n",
    "    \n",
    "    if len(transactions) == 0:\n",
    "        print(f\"Block {block_number} has no transactions!\")\n",
    "        return None\n",
    "    \n",
    "    # Choose a random transaction from block\n",
    "    random_transaction_hash = random.choice(transactions)    \n",
    "    random_transaction = web3.eth.get_transaction(random_transaction_hash)\n",
    "    \n",
    "    if address_in_insertion_data(block_number, random_transaction[\"from\"]):\n",
    "        print(\"Randomly sampled transaction already in data set!\")\n",
    "        get_random_transaction_from_block(block_number)\n",
    "    \n",
    "    return random_transaction"
   ],
   "metadata": {
    "collapsed": false,
    "ExecuteTime": {
     "end_time": "2024-04-18T13:49:43.301859Z",
     "start_time": "2024-04-18T13:49:43.294743Z"
    }
   },
   "id": "8ca8cf1de465f61a",
   "execution_count": 98,
   "outputs": []
  },
  {
   "cell_type": "markdown",
   "source": [
    "### Sample random transactions"
   ],
   "metadata": {
    "collapsed": false
   },
   "id": "314bb0c907804a0"
  },
  {
   "metadata": {
    "ExecuteTime": {
     "end_time": "2024-04-18T13:51:56.465669Z",
     "start_time": "2024-04-18T13:51:56.455008Z"
    }
   },
   "cell_type": "code",
   "source": [
    "def sample_random_transaction(nr_of_random_blocks: int) -> pd.DataFrame:\n",
    "    \n",
    "    # Get random block numbers\n",
    "    block_numbers = []\n",
    "    \n",
    "    random_blocks_per_sampling = int(nr_of_random_blocks/2)\n",
    "    \n",
    "    #random_block_numbers_from_insertion_data = get_n_random_block_numbers_from_insertion_data(random_blocks_per_sampling)\n",
    "    random_block_numbers_from_insertion_data_range = get_n_random_block_numbers_from_insertion_data_range(random_blocks_per_sampling)\n",
    "    random_block_numbers_from_total_range = get_n_random_block_numbers_from_total_block_range(random_blocks_per_sampling)\n",
    "\n",
    "    #block_numbers.extend(random_block_numbers_from_insertion_data)\n",
    "    block_numbers.extend(random_block_numbers_from_insertion_data_range)\n",
    "    block_numbers.extend(random_block_numbers_from_total_range)\n",
    "    \n",
    "    # Get random transactions out of blocks\n",
    "    entries = []\n",
    "    \n",
    "    \n",
    "    for block in tqdm(block_numbers):\n",
    "        transaction = get_random_transaction_from_block(block)\n",
    "        if transaction:\n",
    "            mean_gas_price_last_10_blocks, std_gas_price_last_10_blocks = get_mean_and_std_gas_price_of_last_n_blocks(10, block, web3)\n",
    "            mean_gas_price_last_n_blocks_same_EOA, std_gas_price_last_n_blocks_same_EOA = get_mean_and_std_gas_price_of_last_n_blocks_of_same_EOA(20, block, transaction[\"from\"], web3)\n",
    "            \n",
    "            address = transaction[\"from\"]\n",
    "            transaction_hash = transaction[\"hash\"].hex()\n",
    "\n",
    "            \n",
    "            new_entry = {\n",
    "                \"blockNumber\": block,\n",
    "                \"address\": address,\n",
    "                \"transactionHash\": transaction_hash,\n",
    "                \"gasPrice\": get_transaction_gas_price_in_gwei(transaction, web3),\n",
    "                \"meanGasPriceLastTenBlocks\": mean_gas_price_last_10_blocks,\n",
    "                \"stdGasPriceLastTenBlocks\": std_gas_price_last_10_blocks,\n",
    "                \"meanGasPriceLastTenBlocksSameEOA\": mean_gas_price_last_n_blocks_same_EOA,\n",
    "                \"stdGasPriceLastTenBlocksSameEOA\": std_gas_price_last_n_blocks_same_EOA,\n",
    "                \"usedGasToken\": is_transaction_using_gas_token(transaction_hash),\n",
    "                \"predictedGasPrice\": get_predicted_gas_price(block, address)\n",
    "            }\n",
    "            entries.append(new_entry)\n",
    "                \n",
    "    return pd.DataFrame(entries) \n",
    "    "
   ],
   "id": "76718e11611443f1",
   "execution_count": 101,
   "outputs": []
  },
  {
   "cell_type": "code",
   "source": [
    "#feature_random_transactions_df = sample_random_transaction(10)\n",
    "#feature_random_transactions_df.to_csv('../data/random_sampled_transactions.csv')"
   ],
   "metadata": {
    "collapsed": false,
    "ExecuteTime": {
     "end_time": "2024-04-18T13:53:33.627869Z",
     "start_time": "2024-04-18T13:51:59.375789Z"
    }
   },
   "id": "2616473fd8cc92e0",
   "execution_count": 102,
   "outputs": []
  },
  {
   "cell_type": "code",
   "source": "#feature_random_transactions_df",
   "metadata": {
    "collapsed": false,
    "ExecuteTime": {
     "end_time": "2024-04-18T13:53:33.649837Z",
     "start_time": "2024-04-18T13:53:33.630539Z"
    }
   },
   "id": "c764e1ba6d5f16c1",
   "execution_count": 103,
   "outputs": []
  },
  {
   "metadata": {},
   "cell_type": "code",
   "execution_count": null,
   "source": "",
   "id": "6427fd1c4ebd8ef0",
   "outputs": []
  }
 ],
 "metadata": {
  "kernelspec": {
   "name": "frontrunning-attacks",
   "language": "python",
   "display_name": "frontrunning-attacks"
  },
  "language_info": {
   "codemirror_mode": {
    "name": "ipython",
    "version": 2
   },
   "file_extension": ".py",
   "mimetype": "text/x-python",
   "name": "python",
   "nbconvert_exporter": "python",
   "pygments_lexer": "ipython2",
   "version": "2.7.6"
  }
 },
 "nbformat": 4,
 "nbformat_minor": 5
}
