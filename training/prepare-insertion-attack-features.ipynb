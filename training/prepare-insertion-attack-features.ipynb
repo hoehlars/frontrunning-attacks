{
 "cells": [
  {
   "cell_type": "markdown",
   "source": [
    "## Features needed for training\n",
    "1. Gas Price of the Transaction\n",
    "2. Mean Gas Price of Transactions in the Last 10 Blocks\n",
    "3.  Standard Deviation of Gas Price of Transactions in the\n",
    "Last Ten Blocks\n",
    "4. Mean Gas Price of Transactions by the same EOA (externally owned account)\n",
    "5. Standard Deviation of Gas Price in Transactions by the\n",
    "same EOA\n",
    "6. Usage of Gas Tokens\n",
    "7. Predicted Gas Price"
   ],
   "metadata": {
    "collapsed": false
   },
   "id": "a630be665b11f3d3"
  },
  {
   "cell_type": "code",
   "outputs": [],
   "source": [
    "from web3 import Web3\n",
    "from tqdm import tqdm\n",
    "import pandas as pd\n",
    "import numpy as np\n",
    "import random"
   ],
   "metadata": {
    "collapsed": false,
    "ExecuteTime": {
     "end_time": "2024-04-03T16:32:06.579676Z",
     "start_time": "2024-04-03T16:32:06.572920Z"
    }
   },
   "id": "5f8c59138bb46f0a",
   "execution_count": 158
  },
  {
   "cell_type": "code",
   "outputs": [
    {
     "name": "stdout",
     "output_type": "stream",
     "text": [
      "True\n"
     ]
    }
   ],
   "source": [
    "web3 = Web3(Web3.HTTPProvider(\"https://intensive-sly-mountain.quiknode.pro/a3f5256d7f2af6541d483cce3f1d49c94c01879e/\"))\n",
    "print(web3.is_connected())"
   ],
   "metadata": {
    "collapsed": false,
    "ExecuteTime": {
     "end_time": "2024-04-03T16:32:07.083444Z",
     "start_time": "2024-04-03T16:32:06.942906Z"
    }
   },
   "id": "2a5ebe396cf3628d",
   "execution_count": 159
  },
  {
   "cell_type": "code",
   "execution_count": 160,
   "id": "initial_id",
   "metadata": {
    "collapsed": true,
    "ExecuteTime": {
     "end_time": "2024-04-03T16:32:08.440663Z",
     "start_time": "2024-04-03T16:32:07.095585Z"
    }
   },
   "outputs": [
    {
     "name": "stdout",
     "output_type": "stream",
     "text": [
      "# of insertion:  196691\n"
     ]
    }
   ],
   "source": [
    "df_insertion = pd.read_csv ('../data/insertion_attacks.csv', delimiter=',')\n",
    "#print(df_insertion.describe())\n",
    "#print(df_insertion)\n",
    "print('# of insertion: ', len(df_insertion))"
   ]
  },
  {
   "cell_type": "markdown",
   "source": [
    "### Feature 1\n",
    "Gas price of transaction"
   ],
   "metadata": {
    "collapsed": false
   },
   "id": "83df9230650ad3b8"
  },
  {
   "cell_type": "code",
   "outputs": [
    {
     "data": {
      "text/plain": "9.97e-09"
     },
     "execution_count": 161,
     "metadata": {},
     "output_type": "execute_result"
    }
   ],
   "source": [
    "def get_transaction_gas_price_in_eth_by_sender_and_block_nr(block_number, sender, web3):\n",
    "    block = web3.eth.get_block(block_number, full_transactions=True)\n",
    "    \n",
    "    for transaction in block.transactions:        \n",
    "        if transaction[\"from\"] == sender:\n",
    "            return (transaction[\"gasPrice\"]) / 10**18\n",
    "\n",
    "get_transaction_gas_price_in_eth_by_sender_and_block_nr(5599805, '0xFF28319a7cD2136ea7283E7cDb0675B50AC29Dd2', web3)"
   ],
   "metadata": {
    "collapsed": false,
    "ExecuteTime": {
     "end_time": "2024-04-03T16:32:08.729223Z",
     "start_time": "2024-04-03T16:32:08.447162Z"
    }
   },
   "id": "fd716710c6e39e03",
   "execution_count": 161
  },
  {
   "cell_type": "markdown",
   "source": [
    "### Feature 2 and 3\n",
    "- Mean Gas Price of Transactions in the Last 10 Blocks\n",
    "- Standard Deviation of Gas Price of Transactions in the Last 10 Blocks"
   ],
   "metadata": {
    "collapsed": false
   },
   "id": "9ab9d2a12daec479"
  },
  {
   "cell_type": "code",
   "outputs": [],
   "source": [
    "def get_mean_and_std_gas_price_of_last_n_blocks(last_n_blocks, curr_block, web3):\n",
    "    web3.eth.get_block(curr_block)\n",
    "    \n",
    "    gas_prices = []\n",
    "    for i in range(last_n_blocks):\n",
    "        block = web3.eth.get_block(curr_block - i, full_transactions=True)\n",
    "        \n",
    "        for transaction in block.transactions:\n",
    "            gas_prices.append(transaction[\"gasPrice\"] / 10**18)\n",
    "    return np.mean(gas_prices), np.std(gas_prices)"
   ],
   "metadata": {
    "collapsed": false,
    "ExecuteTime": {
     "end_time": "2024-04-03T16:32:08.746409Z",
     "start_time": "2024-04-03T16:32:08.734148Z"
    }
   },
   "id": "92fe819583a45baa",
   "execution_count": 162
  },
  {
   "cell_type": "markdown",
   "source": [
    "### Feature 4\n",
    "- Mean Gas Price of Transactions by the same EOA (externally owned account)\n",
    "- Standard Deviation of Gas Price in Transactions by the\n",
    "same EOA"
   ],
   "metadata": {
    "collapsed": false
   },
   "id": "53d4b34e7a52aa39"
  },
  {
   "cell_type": "code",
   "outputs": [],
   "source": [
    "# prepare data for insertion\n",
    "\n",
    "def get_mean_and_std_gas_price_of_last_n_blocks_of_same_EOA(last_n_blocks, curr_block, eoa_address, web3):\n",
    "    web3.eth.get_block(curr_block)\n",
    "    \n",
    "    gas_prices = []\n",
    "    for i in range(last_n_blocks):\n",
    "        block = web3.eth.get_block(curr_block - i, full_transactions=True)\n",
    "        \n",
    "        for transaction in block.transactions:\n",
    "            if transaction[\"from\"] == eoa_address:\n",
    "                gas_prices.append((transaction[\"gasPrice\"]) / 10**18)\n",
    "    return np.mean(gas_prices), np.std(gas_prices)"
   ],
   "metadata": {
    "collapsed": false,
    "ExecuteTime": {
     "end_time": "2024-04-03T16:32:08.762158Z",
     "start_time": "2024-04-03T16:32:08.750998Z"
    }
   },
   "id": "74d179d2db4cbf31",
   "execution_count": 163
  },
  {
   "cell_type": "markdown",
   "source": [
    "### Feature 6\n",
    "Usage of gas tokens -> check if they use the gas token address"
   ],
   "metadata": {
    "collapsed": false
   },
   "id": "5bebdcb7ce8fb352"
  },
  {
   "cell_type": "code",
   "outputs": [],
   "source": [
    "def is_transaction_using_gas_token(block_number, address, web3):\n",
    "    block = web3.eth.get_block(block_number, full_transactions=True)\n",
    "    \n",
    "    for transaction in block.transactions:        \n",
    "        if transaction[\"from\"] == address and transaction[\"to\"] == '0x0000000000b3F879cb30FE243b4Dfee438691c04':\n",
    "            return True\n",
    "    return False"
   ],
   "metadata": {
    "collapsed": false,
    "ExecuteTime": {
     "end_time": "2024-04-03T16:32:08.772162Z",
     "start_time": "2024-04-03T16:32:08.764456Z"
    }
   },
   "id": "6ed4aac619f6fbfa",
   "execution_count": 164
  },
  {
   "cell_type": "markdown",
   "source": [
    "### Feature 7\n",
    "Predicted gas price --> train modell for this"
   ],
   "metadata": {
    "collapsed": false
   },
   "id": "b7ba2b0e91f569e9"
  },
  {
   "cell_type": "markdown",
   "source": [
    "Since the data was collected 3 years ago, we don't predict the gas-price trained on the gas-prices of the last 100 block from now, but from the highest block in the dataset."
   ],
   "metadata": {
    "collapsed": false
   },
   "id": "b27070964deae4f4"
  },
  {
   "cell_type": "code",
   "outputs": [],
   "source": [
    "def get_max_block_number() -> int:\n",
    "    return int(df_insertion[\"Block Number\"].max())"
   ],
   "metadata": {
    "collapsed": false,
    "ExecuteTime": {
     "end_time": "2024-04-03T16:32:08.780533Z",
     "start_time": "2024-04-03T16:32:08.775503Z"
    }
   },
   "id": "c117ded0195cdeb2",
   "execution_count": 165
  },
  {
   "cell_type": "code",
   "outputs": [
    {
     "data": {
      "text/plain": "        Block Number                              First Attacker  \\\n195114      11299998  0xeD1cAa76a8cb7E671654A6c816a753acE6217BAE   \n\n                                             Whale  \\\n195114  0xf384aa91c1709Ec28b7422A2897E74f2d61036Cd   \n\n                                   Second Attacker  \\\n195114  0xeD1cAa76a8cb7E671654A6c816a753acE6217BAE   \n\n        First-Whale Gas Price Delta  Whale-Second Gas Price Delta    Profit  \\\n195114                     10.09376                           0.0  5.022881   \n\n            Cost Interface    Exchange      Token  \\\n195114  4.400952       bot  Uniswap V2  yfi.group   \n\n                                               Bot  Bot Cluster ID  \n195114  0xEB46faa47A6A52519839A2e52c7b28a2Db17651e            37.0  ",
      "text/html": "<div>\n<style scoped>\n    .dataframe tbody tr th:only-of-type {\n        vertical-align: middle;\n    }\n\n    .dataframe tbody tr th {\n        vertical-align: top;\n    }\n\n    .dataframe thead th {\n        text-align: right;\n    }\n</style>\n<table border=\"1\" class=\"dataframe\">\n  <thead>\n    <tr style=\"text-align: right;\">\n      <th></th>\n      <th>Block Number</th>\n      <th>First Attacker</th>\n      <th>Whale</th>\n      <th>Second Attacker</th>\n      <th>First-Whale Gas Price Delta</th>\n      <th>Whale-Second Gas Price Delta</th>\n      <th>Profit</th>\n      <th>Cost</th>\n      <th>Interface</th>\n      <th>Exchange</th>\n      <th>Token</th>\n      <th>Bot</th>\n      <th>Bot Cluster ID</th>\n    </tr>\n  </thead>\n  <tbody>\n    <tr>\n      <th>195114</th>\n      <td>11299998</td>\n      <td>0xeD1cAa76a8cb7E671654A6c816a753acE6217BAE</td>\n      <td>0xf384aa91c1709Ec28b7422A2897E74f2d61036Cd</td>\n      <td>0xeD1cAa76a8cb7E671654A6c816a753acE6217BAE</td>\n      <td>10.09376</td>\n      <td>0.0</td>\n      <td>5.022881</td>\n      <td>4.400952</td>\n      <td>bot</td>\n      <td>Uniswap V2</td>\n      <td>yfi.group</td>\n      <td>0xEB46faa47A6A52519839A2e52c7b28a2Db17651e</td>\n      <td>37.0</td>\n    </tr>\n  </tbody>\n</table>\n</div>"
     },
     "execution_count": 166,
     "metadata": {},
     "output_type": "execute_result"
    }
   ],
   "source": [
    "df_insertion[df_insertion[\"Block Number\"] >= get_max_block_number()]"
   ],
   "metadata": {
    "collapsed": false,
    "ExecuteTime": {
     "end_time": "2024-04-03T16:32:08.802510Z",
     "start_time": "2024-04-03T16:32:08.783002Z"
    }
   },
   "id": "a8c276f5448ef75d",
   "execution_count": 166
  },
  {
   "cell_type": "code",
   "outputs": [],
   "source": [
    "def get_gas_prices_from_last_100_blocks(web3: Web3) -> list[int]:\n",
    "    \n",
    "    highest_block = get_max_block_number()    \n",
    "    \n",
    "    gas_prices = []\n",
    "    for i in range(100):\n",
    "        block = web3.eth.get_block(highest_block - i, full_transactions=True)\n",
    "        \n",
    "        for transaction in block.transactions:\n",
    "            gas_prices.append(transaction[\"gasPrice\"] / 10**18) # convertion from wei to eth\n",
    "        \n",
    "    return gas_prices"
   ],
   "metadata": {
    "collapsed": false,
    "ExecuteTime": {
     "end_time": "2024-04-03T16:32:08.809990Z",
     "start_time": "2024-04-03T16:32:08.804283Z"
    }
   },
   "id": "61ee2e49693298a8",
   "execution_count": 167
  },
  {
   "cell_type": "code",
   "outputs": [
    {
     "ename": "KeyboardInterrupt",
     "evalue": "",
     "output_type": "error",
     "traceback": [
      "\u001B[0;31m---------------------------------------------------------------------------\u001B[0m",
      "\u001B[0;31mKeyboardInterrupt\u001B[0m                         Traceback (most recent call last)",
      "Cell \u001B[0;32mIn[168], line 1\u001B[0m\n\u001B[0;32m----> 1\u001B[0m gas_prices_last_100_blocks \u001B[38;5;241m=\u001B[39m \u001B[43mget_gas_prices_from_last_100_blocks\u001B[49m\u001B[43m(\u001B[49m\u001B[43mweb3\u001B[49m\u001B[43m)\u001B[49m\n",
      "Cell \u001B[0;32mIn[167], line 7\u001B[0m, in \u001B[0;36mget_gas_prices_from_last_100_blocks\u001B[0;34m(web3)\u001B[0m\n\u001B[1;32m      5\u001B[0m gas_prices \u001B[38;5;241m=\u001B[39m []\n\u001B[1;32m      6\u001B[0m \u001B[38;5;28;01mfor\u001B[39;00m i \u001B[38;5;129;01min\u001B[39;00m \u001B[38;5;28mrange\u001B[39m(\u001B[38;5;241m100\u001B[39m):\n\u001B[0;32m----> 7\u001B[0m     block \u001B[38;5;241m=\u001B[39m \u001B[43mweb3\u001B[49m\u001B[38;5;241;43m.\u001B[39;49m\u001B[43meth\u001B[49m\u001B[38;5;241;43m.\u001B[39;49m\u001B[43mget_block\u001B[49m\u001B[43m(\u001B[49m\u001B[43mhighest_block\u001B[49m\u001B[43m \u001B[49m\u001B[38;5;241;43m-\u001B[39;49m\u001B[43m \u001B[49m\u001B[43mi\u001B[49m\u001B[43m,\u001B[49m\u001B[43m \u001B[49m\u001B[43mfull_transactions\u001B[49m\u001B[38;5;241;43m=\u001B[39;49m\u001B[38;5;28;43;01mTrue\u001B[39;49;00m\u001B[43m)\u001B[49m\n\u001B[1;32m      9\u001B[0m     \u001B[38;5;28;01mfor\u001B[39;00m transaction \u001B[38;5;129;01min\u001B[39;00m block\u001B[38;5;241m.\u001B[39mtransactions:\n\u001B[1;32m     10\u001B[0m         gas_prices\u001B[38;5;241m.\u001B[39mappend(transaction[\u001B[38;5;124m\"\u001B[39m\u001B[38;5;124mgasPrice\u001B[39m\u001B[38;5;124m\"\u001B[39m] \u001B[38;5;241m/\u001B[39m \u001B[38;5;241m10\u001B[39m\u001B[38;5;241m*\u001B[39m\u001B[38;5;241m*\u001B[39m\u001B[38;5;241m18\u001B[39m) \u001B[38;5;66;03m# convertion from wei to eth\u001B[39;00m\n",
      "File \u001B[0;32m~/miniconda3/envs/frontrunning-attacks/lib/python3.10/site-packages/web3/eth/eth.py:413\u001B[0m, in \u001B[0;36mEth.get_block\u001B[0;34m(self, block_identifier, full_transactions)\u001B[0m\n\u001B[1;32m    410\u001B[0m \u001B[38;5;28;01mdef\u001B[39;00m \u001B[38;5;21mget_block\u001B[39m(\n\u001B[1;32m    411\u001B[0m     \u001B[38;5;28mself\u001B[39m, block_identifier: BlockIdentifier, full_transactions: \u001B[38;5;28mbool\u001B[39m \u001B[38;5;241m=\u001B[39m \u001B[38;5;28;01mFalse\u001B[39;00m\n\u001B[1;32m    412\u001B[0m ) \u001B[38;5;241m-\u001B[39m\u001B[38;5;241m>\u001B[39m BlockData:\n\u001B[0;32m--> 413\u001B[0m     \u001B[38;5;28;01mreturn\u001B[39;00m \u001B[38;5;28;43mself\u001B[39;49m\u001B[38;5;241;43m.\u001B[39;49m\u001B[43m_get_block\u001B[49m\u001B[43m(\u001B[49m\u001B[43mblock_identifier\u001B[49m\u001B[43m,\u001B[49m\u001B[43m \u001B[49m\u001B[43mfull_transactions\u001B[49m\u001B[43m)\u001B[49m\n",
      "File \u001B[0;32m~/miniconda3/envs/frontrunning-attacks/lib/python3.10/site-packages/web3/module.py:75\u001B[0m, in \u001B[0;36mretrieve_blocking_method_call_fn.<locals>.caller\u001B[0;34m(*args, **kwargs)\u001B[0m\n\u001B[1;32m     68\u001B[0m     \u001B[38;5;28;01mreturn\u001B[39;00m LogFilter(eth_module\u001B[38;5;241m=\u001B[39mmodule, filter_id\u001B[38;5;241m=\u001B[39merr\u001B[38;5;241m.\u001B[39mfilter_id)\n\u001B[1;32m     70\u001B[0m (\n\u001B[1;32m     71\u001B[0m     result_formatters,\n\u001B[1;32m     72\u001B[0m     error_formatters,\n\u001B[1;32m     73\u001B[0m     null_result_formatters,\n\u001B[1;32m     74\u001B[0m ) \u001B[38;5;241m=\u001B[39m response_formatters\n\u001B[0;32m---> 75\u001B[0m result \u001B[38;5;241m=\u001B[39m \u001B[43mw3\u001B[49m\u001B[38;5;241;43m.\u001B[39;49m\u001B[43mmanager\u001B[49m\u001B[38;5;241;43m.\u001B[39;49m\u001B[43mrequest_blocking\u001B[49m\u001B[43m(\u001B[49m\n\u001B[1;32m     76\u001B[0m \u001B[43m    \u001B[49m\u001B[43mmethod_str\u001B[49m\u001B[43m,\u001B[49m\u001B[43m \u001B[49m\u001B[43mparams\u001B[49m\u001B[43m,\u001B[49m\u001B[43m \u001B[49m\u001B[43merror_formatters\u001B[49m\u001B[43m,\u001B[49m\u001B[43m \u001B[49m\u001B[43mnull_result_formatters\u001B[49m\n\u001B[1;32m     77\u001B[0m \u001B[43m\u001B[49m\u001B[43m)\u001B[49m\n\u001B[1;32m     78\u001B[0m \u001B[38;5;28;01mreturn\u001B[39;00m apply_result_formatters(result_formatters, result)\n",
      "File \u001B[0;32m~/miniconda3/envs/frontrunning-attacks/lib/python3.10/site-packages/web3/manager.py:328\u001B[0m, in \u001B[0;36mRequestManager.request_blocking\u001B[0;34m(self, method, params, error_formatters, null_result_formatters)\u001B[0m\n\u001B[1;32m    318\u001B[0m \u001B[38;5;28;01mdef\u001B[39;00m \u001B[38;5;21mrequest_blocking\u001B[39m(\n\u001B[1;32m    319\u001B[0m     \u001B[38;5;28mself\u001B[39m,\n\u001B[1;32m    320\u001B[0m     method: Union[RPCEndpoint, Callable[\u001B[38;5;241m.\u001B[39m\u001B[38;5;241m.\u001B[39m\u001B[38;5;241m.\u001B[39m, RPCEndpoint]],\n\u001B[0;32m   (...)\u001B[0m\n\u001B[1;32m    323\u001B[0m     null_result_formatters: Optional[Callable[\u001B[38;5;241m.\u001B[39m\u001B[38;5;241m.\u001B[39m\u001B[38;5;241m.\u001B[39m, Any]] \u001B[38;5;241m=\u001B[39m \u001B[38;5;28;01mNone\u001B[39;00m,\n\u001B[1;32m    324\u001B[0m ) \u001B[38;5;241m-\u001B[39m\u001B[38;5;241m>\u001B[39m Any:\n\u001B[1;32m    325\u001B[0m \u001B[38;5;250m    \u001B[39m\u001B[38;5;124;03m\"\"\"\u001B[39;00m\n\u001B[1;32m    326\u001B[0m \u001B[38;5;124;03m    Make a synchronous request using the provider\u001B[39;00m\n\u001B[1;32m    327\u001B[0m \u001B[38;5;124;03m    \"\"\"\u001B[39;00m\n\u001B[0;32m--> 328\u001B[0m     response \u001B[38;5;241m=\u001B[39m \u001B[38;5;28;43mself\u001B[39;49m\u001B[38;5;241;43m.\u001B[39;49m\u001B[43m_make_request\u001B[49m\u001B[43m(\u001B[49m\u001B[43mmethod\u001B[49m\u001B[43m,\u001B[49m\u001B[43m \u001B[49m\u001B[43mparams\u001B[49m\u001B[43m)\u001B[49m\n\u001B[1;32m    329\u001B[0m     \u001B[38;5;28;01mreturn\u001B[39;00m \u001B[38;5;28mself\u001B[39m\u001B[38;5;241m.\u001B[39mformatted_response(\n\u001B[1;32m    330\u001B[0m         response, params, error_formatters, null_result_formatters\n\u001B[1;32m    331\u001B[0m     )\n",
      "File \u001B[0;32m~/miniconda3/envs/frontrunning-attacks/lib/python3.10/site-packages/web3/manager.py:212\u001B[0m, in \u001B[0;36mRequestManager._make_request\u001B[0;34m(self, method, params)\u001B[0m\n\u001B[1;32m    208\u001B[0m request_func \u001B[38;5;241m=\u001B[39m provider\u001B[38;5;241m.\u001B[39mrequest_func(\n\u001B[1;32m    209\u001B[0m     cast(\u001B[38;5;124m\"\u001B[39m\u001B[38;5;124mWeb3\u001B[39m\u001B[38;5;124m\"\u001B[39m, \u001B[38;5;28mself\u001B[39m\u001B[38;5;241m.\u001B[39mw3), cast(MiddlewareOnion, \u001B[38;5;28mself\u001B[39m\u001B[38;5;241m.\u001B[39mmiddleware_onion)\n\u001B[1;32m    210\u001B[0m )\n\u001B[1;32m    211\u001B[0m \u001B[38;5;28mself\u001B[39m\u001B[38;5;241m.\u001B[39mlogger\u001B[38;5;241m.\u001B[39mdebug(\u001B[38;5;124mf\u001B[39m\u001B[38;5;124m\"\u001B[39m\u001B[38;5;124mMaking request. Method: \u001B[39m\u001B[38;5;132;01m{\u001B[39;00mmethod\u001B[38;5;132;01m}\u001B[39;00m\u001B[38;5;124m\"\u001B[39m)\n\u001B[0;32m--> 212\u001B[0m \u001B[38;5;28;01mreturn\u001B[39;00m \u001B[43mrequest_func\u001B[49m\u001B[43m(\u001B[49m\u001B[43mmethod\u001B[49m\u001B[43m,\u001B[49m\u001B[43m \u001B[49m\u001B[43mparams\u001B[49m\u001B[43m)\u001B[49m\n",
      "File \u001B[0;32m~/miniconda3/envs/frontrunning-attacks/lib/python3.10/site-packages/web3/middleware/gas_price_strategy.py:101\u001B[0m, in \u001B[0;36mgas_price_strategy_middleware.<locals>.middleware\u001B[0;34m(method, params)\u001B[0m\n\u001B[1;32m     97\u001B[0m     transaction \u001B[38;5;241m=\u001B[39m validate_transaction_params(\n\u001B[1;32m     98\u001B[0m         transaction, latest_block, generated_gas_price\n\u001B[1;32m     99\u001B[0m     )\n\u001B[1;32m    100\u001B[0m     \u001B[38;5;28;01mreturn\u001B[39;00m make_request(method, (transaction,))\n\u001B[0;32m--> 101\u001B[0m \u001B[38;5;28;01mreturn\u001B[39;00m \u001B[43mmake_request\u001B[49m\u001B[43m(\u001B[49m\u001B[43mmethod\u001B[49m\u001B[43m,\u001B[49m\u001B[43m \u001B[49m\u001B[43mparams\u001B[49m\u001B[43m)\u001B[49m\n",
      "File \u001B[0;32m~/miniconda3/envs/frontrunning-attacks/lib/python3.10/site-packages/web3/middleware/formatting.py:126\u001B[0m, in \u001B[0;36mconstruct_web3_formatting_middleware.<locals>.formatter_middleware.<locals>.middleware\u001B[0;34m(method, params)\u001B[0m\n\u001B[1;32m    124\u001B[0m     formatter \u001B[38;5;241m=\u001B[39m request_formatters[method]\n\u001B[1;32m    125\u001B[0m     params \u001B[38;5;241m=\u001B[39m formatter(params)\n\u001B[0;32m--> 126\u001B[0m response \u001B[38;5;241m=\u001B[39m \u001B[43mmake_request\u001B[49m\u001B[43m(\u001B[49m\u001B[43mmethod\u001B[49m\u001B[43m,\u001B[49m\u001B[43m \u001B[49m\u001B[43mparams\u001B[49m\u001B[43m)\u001B[49m\n\u001B[1;32m    128\u001B[0m \u001B[38;5;28;01mreturn\u001B[39;00m _apply_response_formatters(\n\u001B[1;32m    129\u001B[0m     method,\n\u001B[1;32m    130\u001B[0m     formatters[\u001B[38;5;124m\"\u001B[39m\u001B[38;5;124mresult_formatters\u001B[39m\u001B[38;5;124m\"\u001B[39m],\n\u001B[1;32m    131\u001B[0m     formatters[\u001B[38;5;124m\"\u001B[39m\u001B[38;5;124merror_formatters\u001B[39m\u001B[38;5;124m\"\u001B[39m],\n\u001B[1;32m    132\u001B[0m     response,\n\u001B[1;32m    133\u001B[0m )\n",
      "File \u001B[0;32m~/miniconda3/envs/frontrunning-attacks/lib/python3.10/site-packages/web3/middleware/attrdict.py:43\u001B[0m, in \u001B[0;36mattrdict_middleware.<locals>.middleware\u001B[0;34m(method, params)\u001B[0m\n\u001B[1;32m     42\u001B[0m \u001B[38;5;28;01mdef\u001B[39;00m \u001B[38;5;21mmiddleware\u001B[39m(method: RPCEndpoint, params: Any) \u001B[38;5;241m-\u001B[39m\u001B[38;5;241m>\u001B[39m RPCResponse:\n\u001B[0;32m---> 43\u001B[0m     response \u001B[38;5;241m=\u001B[39m \u001B[43mmake_request\u001B[49m\u001B[43m(\u001B[49m\u001B[43mmethod\u001B[49m\u001B[43m,\u001B[49m\u001B[43m \u001B[49m\u001B[43mparams\u001B[49m\u001B[43m)\u001B[49m\n\u001B[1;32m     45\u001B[0m     \u001B[38;5;28;01mif\u001B[39;00m \u001B[38;5;124m\"\u001B[39m\u001B[38;5;124mresult\u001B[39m\u001B[38;5;124m\"\u001B[39m \u001B[38;5;129;01min\u001B[39;00m response:\n\u001B[1;32m     46\u001B[0m         \u001B[38;5;28;01mreturn\u001B[39;00m assoc(\n\u001B[1;32m     47\u001B[0m             response, \u001B[38;5;124m\"\u001B[39m\u001B[38;5;124mresult\u001B[39m\u001B[38;5;124m\"\u001B[39m, AttributeDict\u001B[38;5;241m.\u001B[39mrecursive(response[\u001B[38;5;124m\"\u001B[39m\u001B[38;5;124mresult\u001B[39m\u001B[38;5;124m\"\u001B[39m])\n\u001B[1;32m     48\u001B[0m         )\n",
      "File \u001B[0;32m~/miniconda3/envs/frontrunning-attacks/lib/python3.10/site-packages/web3/middleware/formatting.py:126\u001B[0m, in \u001B[0;36mconstruct_web3_formatting_middleware.<locals>.formatter_middleware.<locals>.middleware\u001B[0;34m(method, params)\u001B[0m\n\u001B[1;32m    124\u001B[0m     formatter \u001B[38;5;241m=\u001B[39m request_formatters[method]\n\u001B[1;32m    125\u001B[0m     params \u001B[38;5;241m=\u001B[39m formatter(params)\n\u001B[0;32m--> 126\u001B[0m response \u001B[38;5;241m=\u001B[39m \u001B[43mmake_request\u001B[49m\u001B[43m(\u001B[49m\u001B[43mmethod\u001B[49m\u001B[43m,\u001B[49m\u001B[43m \u001B[49m\u001B[43mparams\u001B[49m\u001B[43m)\u001B[49m\n\u001B[1;32m    128\u001B[0m \u001B[38;5;28;01mreturn\u001B[39;00m _apply_response_formatters(\n\u001B[1;32m    129\u001B[0m     method,\n\u001B[1;32m    130\u001B[0m     formatters[\u001B[38;5;124m\"\u001B[39m\u001B[38;5;124mresult_formatters\u001B[39m\u001B[38;5;124m\"\u001B[39m],\n\u001B[1;32m    131\u001B[0m     formatters[\u001B[38;5;124m\"\u001B[39m\u001B[38;5;124merror_formatters\u001B[39m\u001B[38;5;124m\"\u001B[39m],\n\u001B[1;32m    132\u001B[0m     response,\n\u001B[1;32m    133\u001B[0m )\n",
      "File \u001B[0;32m~/miniconda3/envs/frontrunning-attacks/lib/python3.10/site-packages/web3/middleware/formatting.py:126\u001B[0m, in \u001B[0;36mconstruct_web3_formatting_middleware.<locals>.formatter_middleware.<locals>.middleware\u001B[0;34m(method, params)\u001B[0m\n\u001B[1;32m    124\u001B[0m     formatter \u001B[38;5;241m=\u001B[39m request_formatters[method]\n\u001B[1;32m    125\u001B[0m     params \u001B[38;5;241m=\u001B[39m formatter(params)\n\u001B[0;32m--> 126\u001B[0m response \u001B[38;5;241m=\u001B[39m \u001B[43mmake_request\u001B[49m\u001B[43m(\u001B[49m\u001B[43mmethod\u001B[49m\u001B[43m,\u001B[49m\u001B[43m \u001B[49m\u001B[43mparams\u001B[49m\u001B[43m)\u001B[49m\n\u001B[1;32m    128\u001B[0m \u001B[38;5;28;01mreturn\u001B[39;00m _apply_response_formatters(\n\u001B[1;32m    129\u001B[0m     method,\n\u001B[1;32m    130\u001B[0m     formatters[\u001B[38;5;124m\"\u001B[39m\u001B[38;5;124mresult_formatters\u001B[39m\u001B[38;5;124m\"\u001B[39m],\n\u001B[1;32m    131\u001B[0m     formatters[\u001B[38;5;124m\"\u001B[39m\u001B[38;5;124merror_formatters\u001B[39m\u001B[38;5;124m\"\u001B[39m],\n\u001B[1;32m    132\u001B[0m     response,\n\u001B[1;32m    133\u001B[0m )\n",
      "File \u001B[0;32m~/miniconda3/envs/frontrunning-attacks/lib/python3.10/site-packages/web3/middleware/buffered_gas_estimate.py:43\u001B[0m, in \u001B[0;36mbuffered_gas_estimate_middleware.<locals>.middleware\u001B[0;34m(method, params)\u001B[0m\n\u001B[1;32m     37\u001B[0m         transaction \u001B[38;5;241m=\u001B[39m assoc(\n\u001B[1;32m     38\u001B[0m             transaction,\n\u001B[1;32m     39\u001B[0m             \u001B[38;5;124m\"\u001B[39m\u001B[38;5;124mgas\u001B[39m\u001B[38;5;124m\"\u001B[39m,\n\u001B[1;32m     40\u001B[0m             \u001B[38;5;28mhex\u001B[39m(get_buffered_gas_estimate(w3, transaction)),\n\u001B[1;32m     41\u001B[0m         )\n\u001B[1;32m     42\u001B[0m         \u001B[38;5;28;01mreturn\u001B[39;00m make_request(method, [transaction])\n\u001B[0;32m---> 43\u001B[0m \u001B[38;5;28;01mreturn\u001B[39;00m \u001B[43mmake_request\u001B[49m\u001B[43m(\u001B[49m\u001B[43mmethod\u001B[49m\u001B[43m,\u001B[49m\u001B[43m \u001B[49m\u001B[43mparams\u001B[49m\u001B[43m)\u001B[49m\n",
      "File \u001B[0;32m~/miniconda3/envs/frontrunning-attacks/lib/python3.10/site-packages/web3/middleware/exception_retry_request.py:125\u001B[0m, in \u001B[0;36mexception_retry_middleware.<locals>.middleware\u001B[0;34m(method, params)\u001B[0m\n\u001B[1;32m    123\u001B[0m \u001B[38;5;28;01mfor\u001B[39;00m i \u001B[38;5;129;01min\u001B[39;00m \u001B[38;5;28mrange\u001B[39m(retries):\n\u001B[1;32m    124\u001B[0m     \u001B[38;5;28;01mtry\u001B[39;00m:\n\u001B[0;32m--> 125\u001B[0m         \u001B[38;5;28;01mreturn\u001B[39;00m \u001B[43mmake_request\u001B[49m\u001B[43m(\u001B[49m\u001B[43mmethod\u001B[49m\u001B[43m,\u001B[49m\u001B[43m \u001B[49m\u001B[43mparams\u001B[49m\u001B[43m)\u001B[49m\n\u001B[1;32m    126\u001B[0m     \u001B[38;5;28;01mexcept\u001B[39;00m \u001B[38;5;28mtuple\u001B[39m(errors):\n\u001B[1;32m    127\u001B[0m         \u001B[38;5;28;01mif\u001B[39;00m i \u001B[38;5;241m<\u001B[39m retries \u001B[38;5;241m-\u001B[39m \u001B[38;5;241m1\u001B[39m:\n",
      "File \u001B[0;32m~/miniconda3/envs/frontrunning-attacks/lib/python3.10/site-packages/web3/providers/rpc.py:90\u001B[0m, in \u001B[0;36mHTTPProvider.make_request\u001B[0;34m(self, method, params)\u001B[0m\n\u001B[1;32m     86\u001B[0m \u001B[38;5;28mself\u001B[39m\u001B[38;5;241m.\u001B[39mlogger\u001B[38;5;241m.\u001B[39mdebug(\n\u001B[1;32m     87\u001B[0m     \u001B[38;5;124mf\u001B[39m\u001B[38;5;124m\"\u001B[39m\u001B[38;5;124mMaking request HTTP. URI: \u001B[39m\u001B[38;5;132;01m{\u001B[39;00m\u001B[38;5;28mself\u001B[39m\u001B[38;5;241m.\u001B[39mendpoint_uri\u001B[38;5;132;01m}\u001B[39;00m\u001B[38;5;124m, Method: \u001B[39m\u001B[38;5;132;01m{\u001B[39;00mmethod\u001B[38;5;132;01m}\u001B[39;00m\u001B[38;5;124m\"\u001B[39m\n\u001B[1;32m     88\u001B[0m )\n\u001B[1;32m     89\u001B[0m request_data \u001B[38;5;241m=\u001B[39m \u001B[38;5;28mself\u001B[39m\u001B[38;5;241m.\u001B[39mencode_rpc_request(method, params)\n\u001B[0;32m---> 90\u001B[0m raw_response \u001B[38;5;241m=\u001B[39m \u001B[43mmake_post_request\u001B[49m\u001B[43m(\u001B[49m\n\u001B[1;32m     91\u001B[0m \u001B[43m    \u001B[49m\u001B[38;5;28;43mself\u001B[39;49m\u001B[38;5;241;43m.\u001B[39;49m\u001B[43mendpoint_uri\u001B[49m\u001B[43m,\u001B[49m\u001B[43m \u001B[49m\u001B[43mrequest_data\u001B[49m\u001B[43m,\u001B[49m\u001B[43m \u001B[49m\u001B[38;5;241;43m*\u001B[39;49m\u001B[38;5;241;43m*\u001B[39;49m\u001B[38;5;28;43mself\u001B[39;49m\u001B[38;5;241;43m.\u001B[39;49m\u001B[43mget_request_kwargs\u001B[49m\u001B[43m(\u001B[49m\u001B[43m)\u001B[49m\n\u001B[1;32m     92\u001B[0m \u001B[43m\u001B[49m\u001B[43m)\u001B[49m\n\u001B[1;32m     93\u001B[0m response \u001B[38;5;241m=\u001B[39m \u001B[38;5;28mself\u001B[39m\u001B[38;5;241m.\u001B[39mdecode_rpc_response(raw_response)\n\u001B[1;32m     94\u001B[0m \u001B[38;5;28mself\u001B[39m\u001B[38;5;241m.\u001B[39mlogger\u001B[38;5;241m.\u001B[39mdebug(\n\u001B[1;32m     95\u001B[0m     \u001B[38;5;124mf\u001B[39m\u001B[38;5;124m\"\u001B[39m\u001B[38;5;124mGetting response HTTP. URI: \u001B[39m\u001B[38;5;132;01m{\u001B[39;00m\u001B[38;5;28mself\u001B[39m\u001B[38;5;241m.\u001B[39mendpoint_uri\u001B[38;5;132;01m}\u001B[39;00m\u001B[38;5;124m, \u001B[39m\u001B[38;5;124m\"\u001B[39m\n\u001B[1;32m     96\u001B[0m     \u001B[38;5;124mf\u001B[39m\u001B[38;5;124m\"\u001B[39m\u001B[38;5;124mMethod: \u001B[39m\u001B[38;5;132;01m{\u001B[39;00mmethod\u001B[38;5;132;01m}\u001B[39;00m\u001B[38;5;124m, Response: \u001B[39m\u001B[38;5;132;01m{\u001B[39;00mresponse\u001B[38;5;132;01m}\u001B[39;00m\u001B[38;5;124m\"\u001B[39m\n\u001B[1;32m     97\u001B[0m )\n",
      "File \u001B[0;32m~/miniconda3/envs/frontrunning-attacks/lib/python3.10/site-packages/web3/_utils/request.py:114\u001B[0m, in \u001B[0;36mmake_post_request\u001B[0;34m(endpoint_uri, data, *args, **kwargs)\u001B[0m\n\u001B[1;32m    111\u001B[0m \u001B[38;5;28;01mdef\u001B[39;00m \u001B[38;5;21mmake_post_request\u001B[39m(\n\u001B[1;32m    112\u001B[0m     endpoint_uri: URI, data: Union[\u001B[38;5;28mbytes\u001B[39m, Dict[\u001B[38;5;28mstr\u001B[39m, Any]], \u001B[38;5;241m*\u001B[39margs: Any, \u001B[38;5;241m*\u001B[39m\u001B[38;5;241m*\u001B[39mkwargs: Any\n\u001B[1;32m    113\u001B[0m ) \u001B[38;5;241m-\u001B[39m\u001B[38;5;241m>\u001B[39m \u001B[38;5;28mbytes\u001B[39m:\n\u001B[0;32m--> 114\u001B[0m     response \u001B[38;5;241m=\u001B[39m \u001B[43mget_response_from_post_request\u001B[49m\u001B[43m(\u001B[49m\u001B[43mendpoint_uri\u001B[49m\u001B[43m,\u001B[49m\u001B[43m \u001B[49m\u001B[43mdata\u001B[49m\u001B[38;5;241;43m=\u001B[39;49m\u001B[43mdata\u001B[49m\u001B[43m,\u001B[49m\u001B[43m \u001B[49m\u001B[38;5;241;43m*\u001B[39;49m\u001B[43margs\u001B[49m\u001B[43m,\u001B[49m\u001B[43m \u001B[49m\u001B[38;5;241;43m*\u001B[39;49m\u001B[38;5;241;43m*\u001B[39;49m\u001B[43mkwargs\u001B[49m\u001B[43m)\u001B[49m\n\u001B[1;32m    115\u001B[0m     response\u001B[38;5;241m.\u001B[39mraise_for_status()\n\u001B[1;32m    116\u001B[0m     \u001B[38;5;28;01mreturn\u001B[39;00m response\u001B[38;5;241m.\u001B[39mcontent\n",
      "File \u001B[0;32m~/miniconda3/envs/frontrunning-attacks/lib/python3.10/site-packages/web3/_utils/request.py:107\u001B[0m, in \u001B[0;36mget_response_from_post_request\u001B[0;34m(endpoint_uri, *args, **kwargs)\u001B[0m\n\u001B[1;32m    105\u001B[0m kwargs\u001B[38;5;241m.\u001B[39msetdefault(\u001B[38;5;124m\"\u001B[39m\u001B[38;5;124mtimeout\u001B[39m\u001B[38;5;124m\"\u001B[39m, DEFAULT_TIMEOUT)\n\u001B[1;32m    106\u001B[0m session \u001B[38;5;241m=\u001B[39m cache_and_return_session(endpoint_uri)\n\u001B[0;32m--> 107\u001B[0m response \u001B[38;5;241m=\u001B[39m \u001B[43msession\u001B[49m\u001B[38;5;241;43m.\u001B[39;49m\u001B[43mpost\u001B[49m\u001B[43m(\u001B[49m\u001B[43mendpoint_uri\u001B[49m\u001B[43m,\u001B[49m\u001B[43m \u001B[49m\u001B[38;5;241;43m*\u001B[39;49m\u001B[43margs\u001B[49m\u001B[43m,\u001B[49m\u001B[43m \u001B[49m\u001B[38;5;241;43m*\u001B[39;49m\u001B[38;5;241;43m*\u001B[39;49m\u001B[43mkwargs\u001B[49m\u001B[43m)\u001B[49m\n\u001B[1;32m    108\u001B[0m \u001B[38;5;28;01mreturn\u001B[39;00m response\n",
      "File \u001B[0;32m~/.local/lib/python3.10/site-packages/requests/sessions.py:637\u001B[0m, in \u001B[0;36mSession.post\u001B[0;34m(self, url, data, json, **kwargs)\u001B[0m\n\u001B[1;32m    626\u001B[0m \u001B[38;5;28;01mdef\u001B[39;00m \u001B[38;5;21mpost\u001B[39m(\u001B[38;5;28mself\u001B[39m, url, data\u001B[38;5;241m=\u001B[39m\u001B[38;5;28;01mNone\u001B[39;00m, json\u001B[38;5;241m=\u001B[39m\u001B[38;5;28;01mNone\u001B[39;00m, \u001B[38;5;241m*\u001B[39m\u001B[38;5;241m*\u001B[39mkwargs):\n\u001B[1;32m    627\u001B[0m \u001B[38;5;250m    \u001B[39m\u001B[38;5;124mr\u001B[39m\u001B[38;5;124;03m\"\"\"Sends a POST request. Returns :class:`Response` object.\u001B[39;00m\n\u001B[1;32m    628\u001B[0m \n\u001B[1;32m    629\u001B[0m \u001B[38;5;124;03m    :param url: URL for the new :class:`Request` object.\u001B[39;00m\n\u001B[0;32m   (...)\u001B[0m\n\u001B[1;32m    634\u001B[0m \u001B[38;5;124;03m    :rtype: requests.Response\u001B[39;00m\n\u001B[1;32m    635\u001B[0m \u001B[38;5;124;03m    \"\"\"\u001B[39;00m\n\u001B[0;32m--> 637\u001B[0m     \u001B[38;5;28;01mreturn\u001B[39;00m \u001B[38;5;28;43mself\u001B[39;49m\u001B[38;5;241;43m.\u001B[39;49m\u001B[43mrequest\u001B[49m\u001B[43m(\u001B[49m\u001B[38;5;124;43m\"\u001B[39;49m\u001B[38;5;124;43mPOST\u001B[39;49m\u001B[38;5;124;43m\"\u001B[39;49m\u001B[43m,\u001B[49m\u001B[43m \u001B[49m\u001B[43murl\u001B[49m\u001B[43m,\u001B[49m\u001B[43m \u001B[49m\u001B[43mdata\u001B[49m\u001B[38;5;241;43m=\u001B[39;49m\u001B[43mdata\u001B[49m\u001B[43m,\u001B[49m\u001B[43m \u001B[49m\u001B[43mjson\u001B[49m\u001B[38;5;241;43m=\u001B[39;49m\u001B[43mjson\u001B[49m\u001B[43m,\u001B[49m\u001B[43m \u001B[49m\u001B[38;5;241;43m*\u001B[39;49m\u001B[38;5;241;43m*\u001B[39;49m\u001B[43mkwargs\u001B[49m\u001B[43m)\u001B[49m\n",
      "File \u001B[0;32m~/.local/lib/python3.10/site-packages/requests/sessions.py:589\u001B[0m, in \u001B[0;36mSession.request\u001B[0;34m(self, method, url, params, data, headers, cookies, files, auth, timeout, allow_redirects, proxies, hooks, stream, verify, cert, json)\u001B[0m\n\u001B[1;32m    584\u001B[0m send_kwargs \u001B[38;5;241m=\u001B[39m {\n\u001B[1;32m    585\u001B[0m     \u001B[38;5;124m\"\u001B[39m\u001B[38;5;124mtimeout\u001B[39m\u001B[38;5;124m\"\u001B[39m: timeout,\n\u001B[1;32m    586\u001B[0m     \u001B[38;5;124m\"\u001B[39m\u001B[38;5;124mallow_redirects\u001B[39m\u001B[38;5;124m\"\u001B[39m: allow_redirects,\n\u001B[1;32m    587\u001B[0m }\n\u001B[1;32m    588\u001B[0m send_kwargs\u001B[38;5;241m.\u001B[39mupdate(settings)\n\u001B[0;32m--> 589\u001B[0m resp \u001B[38;5;241m=\u001B[39m \u001B[38;5;28;43mself\u001B[39;49m\u001B[38;5;241;43m.\u001B[39;49m\u001B[43msend\u001B[49m\u001B[43m(\u001B[49m\u001B[43mprep\u001B[49m\u001B[43m,\u001B[49m\u001B[43m \u001B[49m\u001B[38;5;241;43m*\u001B[39;49m\u001B[38;5;241;43m*\u001B[39;49m\u001B[43msend_kwargs\u001B[49m\u001B[43m)\u001B[49m\n\u001B[1;32m    591\u001B[0m \u001B[38;5;28;01mreturn\u001B[39;00m resp\n",
      "File \u001B[0;32m~/.local/lib/python3.10/site-packages/requests/sessions.py:703\u001B[0m, in \u001B[0;36mSession.send\u001B[0;34m(self, request, **kwargs)\u001B[0m\n\u001B[1;32m    700\u001B[0m start \u001B[38;5;241m=\u001B[39m preferred_clock()\n\u001B[1;32m    702\u001B[0m \u001B[38;5;66;03m# Send the request\u001B[39;00m\n\u001B[0;32m--> 703\u001B[0m r \u001B[38;5;241m=\u001B[39m \u001B[43madapter\u001B[49m\u001B[38;5;241;43m.\u001B[39;49m\u001B[43msend\u001B[49m\u001B[43m(\u001B[49m\u001B[43mrequest\u001B[49m\u001B[43m,\u001B[49m\u001B[43m \u001B[49m\u001B[38;5;241;43m*\u001B[39;49m\u001B[38;5;241;43m*\u001B[39;49m\u001B[43mkwargs\u001B[49m\u001B[43m)\u001B[49m\n\u001B[1;32m    705\u001B[0m \u001B[38;5;66;03m# Total elapsed time of the request (approximately)\u001B[39;00m\n\u001B[1;32m    706\u001B[0m elapsed \u001B[38;5;241m=\u001B[39m preferred_clock() \u001B[38;5;241m-\u001B[39m start\n",
      "File \u001B[0;32m~/.local/lib/python3.10/site-packages/requests/adapters.py:486\u001B[0m, in \u001B[0;36mHTTPAdapter.send\u001B[0;34m(self, request, stream, timeout, verify, cert, proxies)\u001B[0m\n\u001B[1;32m    483\u001B[0m     timeout \u001B[38;5;241m=\u001B[39m TimeoutSauce(connect\u001B[38;5;241m=\u001B[39mtimeout, read\u001B[38;5;241m=\u001B[39mtimeout)\n\u001B[1;32m    485\u001B[0m \u001B[38;5;28;01mtry\u001B[39;00m:\n\u001B[0;32m--> 486\u001B[0m     resp \u001B[38;5;241m=\u001B[39m \u001B[43mconn\u001B[49m\u001B[38;5;241;43m.\u001B[39;49m\u001B[43murlopen\u001B[49m\u001B[43m(\u001B[49m\n\u001B[1;32m    487\u001B[0m \u001B[43m        \u001B[49m\u001B[43mmethod\u001B[49m\u001B[38;5;241;43m=\u001B[39;49m\u001B[43mrequest\u001B[49m\u001B[38;5;241;43m.\u001B[39;49m\u001B[43mmethod\u001B[49m\u001B[43m,\u001B[49m\n\u001B[1;32m    488\u001B[0m \u001B[43m        \u001B[49m\u001B[43murl\u001B[49m\u001B[38;5;241;43m=\u001B[39;49m\u001B[43murl\u001B[49m\u001B[43m,\u001B[49m\n\u001B[1;32m    489\u001B[0m \u001B[43m        \u001B[49m\u001B[43mbody\u001B[49m\u001B[38;5;241;43m=\u001B[39;49m\u001B[43mrequest\u001B[49m\u001B[38;5;241;43m.\u001B[39;49m\u001B[43mbody\u001B[49m\u001B[43m,\u001B[49m\n\u001B[1;32m    490\u001B[0m \u001B[43m        \u001B[49m\u001B[43mheaders\u001B[49m\u001B[38;5;241;43m=\u001B[39;49m\u001B[43mrequest\u001B[49m\u001B[38;5;241;43m.\u001B[39;49m\u001B[43mheaders\u001B[49m\u001B[43m,\u001B[49m\n\u001B[1;32m    491\u001B[0m \u001B[43m        \u001B[49m\u001B[43mredirect\u001B[49m\u001B[38;5;241;43m=\u001B[39;49m\u001B[38;5;28;43;01mFalse\u001B[39;49;00m\u001B[43m,\u001B[49m\n\u001B[1;32m    492\u001B[0m \u001B[43m        \u001B[49m\u001B[43massert_same_host\u001B[49m\u001B[38;5;241;43m=\u001B[39;49m\u001B[38;5;28;43;01mFalse\u001B[39;49;00m\u001B[43m,\u001B[49m\n\u001B[1;32m    493\u001B[0m \u001B[43m        \u001B[49m\u001B[43mpreload_content\u001B[49m\u001B[38;5;241;43m=\u001B[39;49m\u001B[38;5;28;43;01mFalse\u001B[39;49;00m\u001B[43m,\u001B[49m\n\u001B[1;32m    494\u001B[0m \u001B[43m        \u001B[49m\u001B[43mdecode_content\u001B[49m\u001B[38;5;241;43m=\u001B[39;49m\u001B[38;5;28;43;01mFalse\u001B[39;49;00m\u001B[43m,\u001B[49m\n\u001B[1;32m    495\u001B[0m \u001B[43m        \u001B[49m\u001B[43mretries\u001B[49m\u001B[38;5;241;43m=\u001B[39;49m\u001B[38;5;28;43mself\u001B[39;49m\u001B[38;5;241;43m.\u001B[39;49m\u001B[43mmax_retries\u001B[49m\u001B[43m,\u001B[49m\n\u001B[1;32m    496\u001B[0m \u001B[43m        \u001B[49m\u001B[43mtimeout\u001B[49m\u001B[38;5;241;43m=\u001B[39;49m\u001B[43mtimeout\u001B[49m\u001B[43m,\u001B[49m\n\u001B[1;32m    497\u001B[0m \u001B[43m        \u001B[49m\u001B[43mchunked\u001B[49m\u001B[38;5;241;43m=\u001B[39;49m\u001B[43mchunked\u001B[49m\u001B[43m,\u001B[49m\n\u001B[1;32m    498\u001B[0m \u001B[43m    \u001B[49m\u001B[43m)\u001B[49m\n\u001B[1;32m    500\u001B[0m \u001B[38;5;28;01mexcept\u001B[39;00m (ProtocolError, \u001B[38;5;167;01mOSError\u001B[39;00m) \u001B[38;5;28;01mas\u001B[39;00m err:\n\u001B[1;32m    501\u001B[0m     \u001B[38;5;28;01mraise\u001B[39;00m \u001B[38;5;167;01mConnectionError\u001B[39;00m(err, request\u001B[38;5;241m=\u001B[39mrequest)\n",
      "File \u001B[0;32m~/miniconda3/envs/frontrunning-attacks/lib/python3.10/site-packages/urllib3/connectionpool.py:793\u001B[0m, in \u001B[0;36mHTTPConnectionPool.urlopen\u001B[0;34m(self, method, url, body, headers, retries, redirect, assert_same_host, timeout, pool_timeout, release_conn, chunked, body_pos, preload_content, decode_content, **response_kw)\u001B[0m\n\u001B[1;32m    790\u001B[0m response_conn \u001B[38;5;241m=\u001B[39m conn \u001B[38;5;28;01mif\u001B[39;00m \u001B[38;5;129;01mnot\u001B[39;00m release_conn \u001B[38;5;28;01melse\u001B[39;00m \u001B[38;5;28;01mNone\u001B[39;00m\n\u001B[1;32m    792\u001B[0m \u001B[38;5;66;03m# Make the request on the HTTPConnection object\u001B[39;00m\n\u001B[0;32m--> 793\u001B[0m response \u001B[38;5;241m=\u001B[39m \u001B[38;5;28;43mself\u001B[39;49m\u001B[38;5;241;43m.\u001B[39;49m\u001B[43m_make_request\u001B[49m\u001B[43m(\u001B[49m\n\u001B[1;32m    794\u001B[0m \u001B[43m    \u001B[49m\u001B[43mconn\u001B[49m\u001B[43m,\u001B[49m\n\u001B[1;32m    795\u001B[0m \u001B[43m    \u001B[49m\u001B[43mmethod\u001B[49m\u001B[43m,\u001B[49m\n\u001B[1;32m    796\u001B[0m \u001B[43m    \u001B[49m\u001B[43murl\u001B[49m\u001B[43m,\u001B[49m\n\u001B[1;32m    797\u001B[0m \u001B[43m    \u001B[49m\u001B[43mtimeout\u001B[49m\u001B[38;5;241;43m=\u001B[39;49m\u001B[43mtimeout_obj\u001B[49m\u001B[43m,\u001B[49m\n\u001B[1;32m    798\u001B[0m \u001B[43m    \u001B[49m\u001B[43mbody\u001B[49m\u001B[38;5;241;43m=\u001B[39;49m\u001B[43mbody\u001B[49m\u001B[43m,\u001B[49m\n\u001B[1;32m    799\u001B[0m \u001B[43m    \u001B[49m\u001B[43mheaders\u001B[49m\u001B[38;5;241;43m=\u001B[39;49m\u001B[43mheaders\u001B[49m\u001B[43m,\u001B[49m\n\u001B[1;32m    800\u001B[0m \u001B[43m    \u001B[49m\u001B[43mchunked\u001B[49m\u001B[38;5;241;43m=\u001B[39;49m\u001B[43mchunked\u001B[49m\u001B[43m,\u001B[49m\n\u001B[1;32m    801\u001B[0m \u001B[43m    \u001B[49m\u001B[43mretries\u001B[49m\u001B[38;5;241;43m=\u001B[39;49m\u001B[43mretries\u001B[49m\u001B[43m,\u001B[49m\n\u001B[1;32m    802\u001B[0m \u001B[43m    \u001B[49m\u001B[43mresponse_conn\u001B[49m\u001B[38;5;241;43m=\u001B[39;49m\u001B[43mresponse_conn\u001B[49m\u001B[43m,\u001B[49m\n\u001B[1;32m    803\u001B[0m \u001B[43m    \u001B[49m\u001B[43mpreload_content\u001B[49m\u001B[38;5;241;43m=\u001B[39;49m\u001B[43mpreload_content\u001B[49m\u001B[43m,\u001B[49m\n\u001B[1;32m    804\u001B[0m \u001B[43m    \u001B[49m\u001B[43mdecode_content\u001B[49m\u001B[38;5;241;43m=\u001B[39;49m\u001B[43mdecode_content\u001B[49m\u001B[43m,\u001B[49m\n\u001B[1;32m    805\u001B[0m \u001B[43m    \u001B[49m\u001B[38;5;241;43m*\u001B[39;49m\u001B[38;5;241;43m*\u001B[39;49m\u001B[43mresponse_kw\u001B[49m\u001B[43m,\u001B[49m\n\u001B[1;32m    806\u001B[0m \u001B[43m\u001B[49m\u001B[43m)\u001B[49m\n\u001B[1;32m    808\u001B[0m \u001B[38;5;66;03m# Everything went great!\u001B[39;00m\n\u001B[1;32m    809\u001B[0m clean_exit \u001B[38;5;241m=\u001B[39m \u001B[38;5;28;01mTrue\u001B[39;00m\n",
      "File \u001B[0;32m~/miniconda3/envs/frontrunning-attacks/lib/python3.10/site-packages/urllib3/connectionpool.py:537\u001B[0m, in \u001B[0;36mHTTPConnectionPool._make_request\u001B[0;34m(self, conn, method, url, body, headers, retries, timeout, chunked, response_conn, preload_content, decode_content, enforce_content_length)\u001B[0m\n\u001B[1;32m    535\u001B[0m \u001B[38;5;66;03m# Receive the response from the server\u001B[39;00m\n\u001B[1;32m    536\u001B[0m \u001B[38;5;28;01mtry\u001B[39;00m:\n\u001B[0;32m--> 537\u001B[0m     response \u001B[38;5;241m=\u001B[39m \u001B[43mconn\u001B[49m\u001B[38;5;241;43m.\u001B[39;49m\u001B[43mgetresponse\u001B[49m\u001B[43m(\u001B[49m\u001B[43m)\u001B[49m\n\u001B[1;32m    538\u001B[0m \u001B[38;5;28;01mexcept\u001B[39;00m (BaseSSLError, \u001B[38;5;167;01mOSError\u001B[39;00m) \u001B[38;5;28;01mas\u001B[39;00m e:\n\u001B[1;32m    539\u001B[0m     \u001B[38;5;28mself\u001B[39m\u001B[38;5;241m.\u001B[39m_raise_timeout(err\u001B[38;5;241m=\u001B[39me, url\u001B[38;5;241m=\u001B[39murl, timeout_value\u001B[38;5;241m=\u001B[39mread_timeout)\n",
      "File \u001B[0;32m~/miniconda3/envs/frontrunning-attacks/lib/python3.10/site-packages/urllib3/connection.py:466\u001B[0m, in \u001B[0;36mHTTPConnection.getresponse\u001B[0;34m(self)\u001B[0m\n\u001B[1;32m    463\u001B[0m \u001B[38;5;28;01mfrom\u001B[39;00m \u001B[38;5;21;01m.\u001B[39;00m\u001B[38;5;21;01mresponse\u001B[39;00m \u001B[38;5;28;01mimport\u001B[39;00m HTTPResponse\n\u001B[1;32m    465\u001B[0m \u001B[38;5;66;03m# Get the response from http.client.HTTPConnection\u001B[39;00m\n\u001B[0;32m--> 466\u001B[0m httplib_response \u001B[38;5;241m=\u001B[39m \u001B[38;5;28;43msuper\u001B[39;49m\u001B[43m(\u001B[49m\u001B[43m)\u001B[49m\u001B[38;5;241;43m.\u001B[39;49m\u001B[43mgetresponse\u001B[49m\u001B[43m(\u001B[49m\u001B[43m)\u001B[49m\n\u001B[1;32m    468\u001B[0m \u001B[38;5;28;01mtry\u001B[39;00m:\n\u001B[1;32m    469\u001B[0m     assert_header_parsing(httplib_response\u001B[38;5;241m.\u001B[39mmsg)\n",
      "File \u001B[0;32m~/miniconda3/envs/frontrunning-attacks/lib/python3.10/http/client.py:1375\u001B[0m, in \u001B[0;36mHTTPConnection.getresponse\u001B[0;34m(self)\u001B[0m\n\u001B[1;32m   1373\u001B[0m \u001B[38;5;28;01mtry\u001B[39;00m:\n\u001B[1;32m   1374\u001B[0m     \u001B[38;5;28;01mtry\u001B[39;00m:\n\u001B[0;32m-> 1375\u001B[0m         \u001B[43mresponse\u001B[49m\u001B[38;5;241;43m.\u001B[39;49m\u001B[43mbegin\u001B[49m\u001B[43m(\u001B[49m\u001B[43m)\u001B[49m\n\u001B[1;32m   1376\u001B[0m     \u001B[38;5;28;01mexcept\u001B[39;00m \u001B[38;5;167;01mConnectionError\u001B[39;00m:\n\u001B[1;32m   1377\u001B[0m         \u001B[38;5;28mself\u001B[39m\u001B[38;5;241m.\u001B[39mclose()\n",
      "File \u001B[0;32m~/miniconda3/envs/frontrunning-attacks/lib/python3.10/http/client.py:318\u001B[0m, in \u001B[0;36mHTTPResponse.begin\u001B[0;34m(self)\u001B[0m\n\u001B[1;32m    316\u001B[0m \u001B[38;5;66;03m# read until we get a non-100 response\u001B[39;00m\n\u001B[1;32m    317\u001B[0m \u001B[38;5;28;01mwhile\u001B[39;00m \u001B[38;5;28;01mTrue\u001B[39;00m:\n\u001B[0;32m--> 318\u001B[0m     version, status, reason \u001B[38;5;241m=\u001B[39m \u001B[38;5;28;43mself\u001B[39;49m\u001B[38;5;241;43m.\u001B[39;49m\u001B[43m_read_status\u001B[49m\u001B[43m(\u001B[49m\u001B[43m)\u001B[49m\n\u001B[1;32m    319\u001B[0m     \u001B[38;5;28;01mif\u001B[39;00m status \u001B[38;5;241m!=\u001B[39m CONTINUE:\n\u001B[1;32m    320\u001B[0m         \u001B[38;5;28;01mbreak\u001B[39;00m\n",
      "File \u001B[0;32m~/miniconda3/envs/frontrunning-attacks/lib/python3.10/http/client.py:279\u001B[0m, in \u001B[0;36mHTTPResponse._read_status\u001B[0;34m(self)\u001B[0m\n\u001B[1;32m    278\u001B[0m \u001B[38;5;28;01mdef\u001B[39;00m \u001B[38;5;21m_read_status\u001B[39m(\u001B[38;5;28mself\u001B[39m):\n\u001B[0;32m--> 279\u001B[0m     line \u001B[38;5;241m=\u001B[39m \u001B[38;5;28mstr\u001B[39m(\u001B[38;5;28;43mself\u001B[39;49m\u001B[38;5;241;43m.\u001B[39;49m\u001B[43mfp\u001B[49m\u001B[38;5;241;43m.\u001B[39;49m\u001B[43mreadline\u001B[49m\u001B[43m(\u001B[49m\u001B[43m_MAXLINE\u001B[49m\u001B[43m \u001B[49m\u001B[38;5;241;43m+\u001B[39;49m\u001B[43m \u001B[49m\u001B[38;5;241;43m1\u001B[39;49m\u001B[43m)\u001B[49m, \u001B[38;5;124m\"\u001B[39m\u001B[38;5;124miso-8859-1\u001B[39m\u001B[38;5;124m\"\u001B[39m)\n\u001B[1;32m    280\u001B[0m     \u001B[38;5;28;01mif\u001B[39;00m \u001B[38;5;28mlen\u001B[39m(line) \u001B[38;5;241m>\u001B[39m _MAXLINE:\n\u001B[1;32m    281\u001B[0m         \u001B[38;5;28;01mraise\u001B[39;00m LineTooLong(\u001B[38;5;124m\"\u001B[39m\u001B[38;5;124mstatus line\u001B[39m\u001B[38;5;124m\"\u001B[39m)\n",
      "File \u001B[0;32m~/miniconda3/envs/frontrunning-attacks/lib/python3.10/socket.py:705\u001B[0m, in \u001B[0;36mSocketIO.readinto\u001B[0;34m(self, b)\u001B[0m\n\u001B[1;32m    703\u001B[0m \u001B[38;5;28;01mwhile\u001B[39;00m \u001B[38;5;28;01mTrue\u001B[39;00m:\n\u001B[1;32m    704\u001B[0m     \u001B[38;5;28;01mtry\u001B[39;00m:\n\u001B[0;32m--> 705\u001B[0m         \u001B[38;5;28;01mreturn\u001B[39;00m \u001B[38;5;28;43mself\u001B[39;49m\u001B[38;5;241;43m.\u001B[39;49m\u001B[43m_sock\u001B[49m\u001B[38;5;241;43m.\u001B[39;49m\u001B[43mrecv_into\u001B[49m\u001B[43m(\u001B[49m\u001B[43mb\u001B[49m\u001B[43m)\u001B[49m\n\u001B[1;32m    706\u001B[0m     \u001B[38;5;28;01mexcept\u001B[39;00m timeout:\n\u001B[1;32m    707\u001B[0m         \u001B[38;5;28mself\u001B[39m\u001B[38;5;241m.\u001B[39m_timeout_occurred \u001B[38;5;241m=\u001B[39m \u001B[38;5;28;01mTrue\u001B[39;00m\n",
      "File \u001B[0;32m~/miniconda3/envs/frontrunning-attacks/lib/python3.10/ssl.py:1307\u001B[0m, in \u001B[0;36mSSLSocket.recv_into\u001B[0;34m(self, buffer, nbytes, flags)\u001B[0m\n\u001B[1;32m   1303\u001B[0m     \u001B[38;5;28;01mif\u001B[39;00m flags \u001B[38;5;241m!=\u001B[39m \u001B[38;5;241m0\u001B[39m:\n\u001B[1;32m   1304\u001B[0m         \u001B[38;5;28;01mraise\u001B[39;00m \u001B[38;5;167;01mValueError\u001B[39;00m(\n\u001B[1;32m   1305\u001B[0m           \u001B[38;5;124m\"\u001B[39m\u001B[38;5;124mnon-zero flags not allowed in calls to recv_into() on \u001B[39m\u001B[38;5;132;01m%s\u001B[39;00m\u001B[38;5;124m\"\u001B[39m \u001B[38;5;241m%\u001B[39m\n\u001B[1;32m   1306\u001B[0m           \u001B[38;5;28mself\u001B[39m\u001B[38;5;241m.\u001B[39m\u001B[38;5;18m__class__\u001B[39m)\n\u001B[0;32m-> 1307\u001B[0m     \u001B[38;5;28;01mreturn\u001B[39;00m \u001B[38;5;28;43mself\u001B[39;49m\u001B[38;5;241;43m.\u001B[39;49m\u001B[43mread\u001B[49m\u001B[43m(\u001B[49m\u001B[43mnbytes\u001B[49m\u001B[43m,\u001B[49m\u001B[43m \u001B[49m\u001B[43mbuffer\u001B[49m\u001B[43m)\u001B[49m\n\u001B[1;32m   1308\u001B[0m \u001B[38;5;28;01melse\u001B[39;00m:\n\u001B[1;32m   1309\u001B[0m     \u001B[38;5;28;01mreturn\u001B[39;00m \u001B[38;5;28msuper\u001B[39m()\u001B[38;5;241m.\u001B[39mrecv_into(buffer, nbytes, flags)\n",
      "File \u001B[0;32m~/miniconda3/envs/frontrunning-attacks/lib/python3.10/ssl.py:1163\u001B[0m, in \u001B[0;36mSSLSocket.read\u001B[0;34m(self, len, buffer)\u001B[0m\n\u001B[1;32m   1161\u001B[0m \u001B[38;5;28;01mtry\u001B[39;00m:\n\u001B[1;32m   1162\u001B[0m     \u001B[38;5;28;01mif\u001B[39;00m buffer \u001B[38;5;129;01mis\u001B[39;00m \u001B[38;5;129;01mnot\u001B[39;00m \u001B[38;5;28;01mNone\u001B[39;00m:\n\u001B[0;32m-> 1163\u001B[0m         \u001B[38;5;28;01mreturn\u001B[39;00m \u001B[38;5;28;43mself\u001B[39;49m\u001B[38;5;241;43m.\u001B[39;49m\u001B[43m_sslobj\u001B[49m\u001B[38;5;241;43m.\u001B[39;49m\u001B[43mread\u001B[49m\u001B[43m(\u001B[49m\u001B[38;5;28;43mlen\u001B[39;49m\u001B[43m,\u001B[49m\u001B[43m \u001B[49m\u001B[43mbuffer\u001B[49m\u001B[43m)\u001B[49m\n\u001B[1;32m   1164\u001B[0m     \u001B[38;5;28;01melse\u001B[39;00m:\n\u001B[1;32m   1165\u001B[0m         \u001B[38;5;28;01mreturn\u001B[39;00m \u001B[38;5;28mself\u001B[39m\u001B[38;5;241m.\u001B[39m_sslobj\u001B[38;5;241m.\u001B[39mread(\u001B[38;5;28mlen\u001B[39m)\n",
      "\u001B[0;31mKeyboardInterrupt\u001B[0m: "
     ]
    }
   ],
   "source": [
    "gas_prices_last_100_blocks = get_gas_prices_from_last_100_blocks(web3)"
   ],
   "metadata": {
    "collapsed": false,
    "ExecuteTime": {
     "end_time": "2024-04-03T16:32:15.619224Z",
     "start_time": "2024-04-03T16:32:08.811911Z"
    }
   },
   "id": "f8a211f5798e1424",
   "execution_count": 168
  },
  {
   "cell_type": "markdown",
   "source": [
    "### Putting all together"
   ],
   "metadata": {
    "collapsed": false
   },
   "id": "8a52cd551354d2e6"
  },
  {
   "cell_type": "code",
   "outputs": [],
   "source": [
    "def extract_features_insertion_attack(csv_column: str) -> pd.DataFrame:\n",
    "    \n",
    "    entries = []\n",
    "    \n",
    "    for index, entry in tqdm(df_insertion.iterrows()):\n",
    "        block_nr = entry[\"Block Number\"]\n",
    "        address = entry[csv_column]\n",
    "        \n",
    "        mean_gas_price_last_10_blocks, std_gas_price_last_10_blocks = get_mean_and_std_gas_price_of_last_n_blocks(10, block_nr, web3)\n",
    "        \n",
    "        mean_gas_price_last_n_blocks_same_EOA, std_gas_price_last_n_blocks_same_EOA = get_mean_and_std_gas_price_of_last_n_blocks_of_same_EOA(20, block_nr, address, web3)\n",
    "        \n",
    "        new_entry = {\n",
    "            \"blockNumber\": block_nr,\n",
    "            \"address\": address,\n",
    "            \"gasPrice\": get_transaction_gas_price_in_eth_by_sender_and_block_nr(block_nr, address, web3),\n",
    "            \"meanGasPriceLastTenBlocks\": mean_gas_price_last_10_blocks,\n",
    "            \"stdGasPriceLastTenBlocks\": std_gas_price_last_10_blocks,\n",
    "            \"meanGasPriceLastTenBlocksSameEOA\": mean_gas_price_last_n_blocks_same_EOA,\n",
    "            \"stdGasPriceLastTenBlocksSameEOA\": std_gas_price_last_n_blocks_same_EOA,\n",
    "            \"usedGasToken\": is_transaction_using_gas_token(block_nr, address, web3)\n",
    "        }\n",
    "        entries.append(new_entry)\n",
    "    \n",
    "    return pd.DataFrame(entries) "
   ],
   "metadata": {
    "collapsed": false
   },
   "id": "d002ea1493baec66",
   "execution_count": null
  },
  {
   "cell_type": "markdown",
   "source": [
    "**Feature Extraction First Attacker**"
   ],
   "metadata": {
    "collapsed": false
   },
   "id": "6382d2047991e65f"
  },
  {
   "cell_type": "code",
   "outputs": [],
   "source": [
    "feature_insertion_first_atk_df = extract_features_insertion_attack(csv_column=\"First Attacker\")"
   ],
   "metadata": {
    "collapsed": false
   },
   "id": "a8d3af34a4d7e83",
   "execution_count": null
  },
  {
   "cell_type": "markdown",
   "source": [
    "**Feature Extraction Second Attacker**\n"
   ],
   "metadata": {
    "collapsed": false
   },
   "id": "ac9aadfd7070f78b"
  },
  {
   "cell_type": "code",
   "outputs": [],
   "source": [
    "feature_insertion_second_atk_df = extract_features_insertion_attack(csv_column=\"Second Attacker\")"
   ],
   "metadata": {
    "collapsed": false
   },
   "id": "e78a31711923ef82",
   "execution_count": null
  },
  {
   "cell_type": "markdown",
   "source": [
    "**Feature Extraction Whale/Victim**"
   ],
   "metadata": {
    "collapsed": false
   },
   "id": "654149907cb12dcc"
  },
  {
   "cell_type": "code",
   "outputs": [],
   "source": [
    "feature_insertion_whale_txs_df = extract_features_insertion_attack(csv_column=\"Whale\")\n"
   ],
   "metadata": {
    "collapsed": false
   },
   "id": "d2d781afc44774e0",
   "execution_count": null
  },
  {
   "cell_type": "markdown",
   "source": [
    "### Feature extraction - random transactions "
   ],
   "metadata": {
    "collapsed": false
   },
   "id": "c7fa97761012cfe8"
  },
  {
   "cell_type": "markdown",
   "source": [
    "Function to get n random block numbers out of the blocks in which the attacks where collected."
   ],
   "metadata": {
    "collapsed": false
   },
   "id": "d2af5a5158e33711"
  },
  {
   "cell_type": "code",
   "outputs": [],
   "source": [
    "def get_n_random_block_numbers_from_insertion_data(n: int):\n",
    "    \n",
    "    unique_block_numbers = df_insertion[\"Block Number\"].unique()\n",
    "    random_block_numbers = pd.Series(unique_block_numbers).sample(n=n).tolist()\n",
    "    return random_block_numbers"
   ],
   "metadata": {
    "collapsed": false,
    "ExecuteTime": {
     "end_time": "2024-04-03T16:32:25.072721Z",
     "start_time": "2024-04-03T16:32:25.067731Z"
    }
   },
   "id": "2591978c30bdd253",
   "execution_count": 169
  },
  {
   "cell_type": "markdown",
   "source": [
    "Function to get n random blocks in the block-range of the sampled attacks."
   ],
   "metadata": {
    "collapsed": false
   },
   "id": "dafe8e0727605d76"
  },
  {
   "cell_type": "code",
   "outputs": [],
   "source": [
    "def get_n_random_block_numbers_from_insertion_data_range(n: int):\n",
    "        \n",
    "    min_block_number = df_insertion[\"Block Number\"].min()\n",
    "    max_block_number = df_insertion[\"Block Number\"].max()\n",
    "    \n",
    "    block_number_range = range(min_block_number, max_block_number + 1)\n",
    "    \n",
    "    random_block_numbers = random.choices(block_number_range, k=n)\n",
    "    return random_block_numbers"
   ],
   "metadata": {
    "collapsed": false,
    "ExecuteTime": {
     "end_time": "2024-04-03T16:32:26.102737Z",
     "start_time": "2024-04-03T16:32:26.095210Z"
    }
   },
   "id": "d872a9a9287dc408",
   "execution_count": 170
  },
  {
   "cell_type": "markdown",
   "source": [
    "Function to get n random blocks over all blocks on ethereum main net."
   ],
   "metadata": {
    "collapsed": false
   },
   "id": "44f4fdb53c685faf"
  },
  {
   "cell_type": "code",
   "outputs": [],
   "source": [
    "def get_n_random_block_numbers_from_total_block_range(n: int):\n",
    "        \n",
    "    current_block_number = web3.eth.block_number\n",
    "    \n",
    "    block_number_range = range(1, current_block_number + 1)\n",
    "    \n",
    "    random_block_numbers = random.choices(block_number_range, k=n)\n",
    "    return random_block_numbers"
   ],
   "metadata": {
    "collapsed": false,
    "ExecuteTime": {
     "end_time": "2024-04-03T16:32:28.227907Z",
     "start_time": "2024-04-03T16:32:28.220459Z"
    }
   },
   "id": "5c4d986cf9d8aff3",
   "execution_count": 171
  },
  {
   "cell_type": "markdown",
   "source": [
    "Function to get random transaction out of a block."
   ],
   "metadata": {
    "collapsed": false
   },
   "id": "a6b51b6a3d637873"
  },
  {
   "cell_type": "code",
   "outputs": [],
   "source": [
    "def address_in_insertion_data(block_number: int, address: str):\n",
    "    \n",
    "    if block_number not in df_insertion[\"Block Number\"].values:\n",
    "        return False\n",
    "    \n",
    "    df_subset_with_block_number = df_insertion[df_insertion[\"Block Number\"] == block_number]\n",
    "    \n",
    "    if any(address in df_subset_with_block_number[col].values for col in [\"First Attacker\", \"Second Attacker\", \"Whale\"]):\n",
    "        return True\n",
    "    \n",
    "    return False    "
   ],
   "metadata": {
    "collapsed": false,
    "ExecuteTime": {
     "end_time": "2024-04-03T16:32:29.653615Z",
     "start_time": "2024-04-03T16:32:29.646474Z"
    }
   },
   "id": "a1d4d0cc69d5f812",
   "execution_count": 172
  },
  {
   "cell_type": "code",
   "outputs": [],
   "source": [
    "def get_random_transaction_from_block(block_number: int):\n",
    "    \n",
    "    # Retrieve txs from block\n",
    "    block = web3.eth.get_block(block_number)\n",
    "    transactions = block['transactions']\n",
    "    \n",
    "    if len(transactions) == 0:\n",
    "        print(f\"Block {block_number} has no transactions!\")\n",
    "        return None\n",
    "    \n",
    "    # Choose a random transaction from block\n",
    "    random_transaction_hash = random.choice(transactions)    \n",
    "    random_transaction = web3.eth.get_transaction(random_transaction_hash)\n",
    "    \n",
    "    if address_in_insertion_data(block_number, random_transaction[\"from\"]):\n",
    "        print(\"Randomly sampled transaction already in data set!\")\n",
    "        get_random_transaction_from_block(block_number)\n",
    "    \n",
    "    return random_transaction_hash"
   ],
   "metadata": {
    "collapsed": false,
    "ExecuteTime": {
     "end_time": "2024-04-03T16:32:31.601308Z",
     "start_time": "2024-04-03T16:32:31.594275Z"
    }
   },
   "id": "8ca8cf1de465f61a",
   "execution_count": 173
  },
  {
   "cell_type": "code",
   "outputs": [],
   "source": [
    "get_random_transaction_from_block(100)"
   ],
   "metadata": {
    "collapsed": false
   },
   "id": "b625d08ea52e178b",
   "execution_count": null
  },
  {
   "cell_type": "markdown",
   "source": [
    "### Sample random transactions"
   ],
   "metadata": {
    "collapsed": false
   },
   "id": "314bb0c907804a0"
  },
  {
   "cell_type": "code",
   "outputs": [],
   "source": [
    "def sample_random_transaction():\n",
    "    \n",
    "    # Get random block numbers\n",
    "    block_numbers = []\n",
    "    \n",
    "    random_block_numbers_from_insertion_data = get_n_random_block_numbers_from_insertion_data(10)\n",
    "    random_block_numbers_from_insertion_data_range = get_n_random_block_numbers_from_insertion_data_range(10)\n",
    "    random_block_numbers_from_total_range = get_n_random_block_numbers_from_total_block_range(10)\n",
    "\n",
    "    block_numbers.extend(random_block_numbers_from_insertion_data)\n",
    "    block_numbers.extend(random_block_numbers_from_insertion_data_range)\n",
    "    block_numbers.extend(random_block_numbers_from_total_range)\n",
    "    \n",
    "    # Get random transactions out of blocks\n",
    "    transactions = []\n",
    "    \n",
    "    for block in block_numbers:\n",
    "        transaction = get_random_transaction_from_block(block)\n",
    "        if transaction:\n",
    "            transactions.append(transaction)\n",
    "    \n",
    "    return transactions\n",
    "    "
   ],
   "metadata": {
    "collapsed": false,
    "ExecuteTime": {
     "end_time": "2024-04-03T16:32:33.543902Z",
     "start_time": "2024-04-03T16:32:33.535733Z"
    }
   },
   "id": "cabeef0dbb6c48de",
   "execution_count": 174
  },
  {
   "cell_type": "code",
   "outputs": [
    {
     "name": "stdout",
     "output_type": "stream",
     "text": [
      "Block 2428110 has no transactions!\n"
     ]
    }
   ],
   "source": [
    "random_transactions = sample_random_transaction()"
   ],
   "metadata": {
    "collapsed": false,
    "ExecuteTime": {
     "end_time": "2024-04-03T16:32:46.268172Z",
     "start_time": "2024-04-03T16:32:36.958159Z"
    }
   },
   "id": "2616473fd8cc92e0",
   "execution_count": 175
  },
  {
   "cell_type": "code",
   "outputs": [
    {
     "data": {
      "text/plain": "[HexBytes('0x0af5e34951ff18a984e598fb535ceb3d06af79a5684ddaa6e0e167292fcc9723'),\n HexBytes('0x05a270a01e984fcf9f9e90e02abe5a998b0ead996fd0a732f3552ac0f1e86133'),\n HexBytes('0xc59f1a9bf9bddb94867b5d83e577fb228957227622b69d741dbc6845220cd680'),\n HexBytes('0x72571ac56759e7474346c67fb89b7e58614e8e264ae09f5d43827f0f73b92e11'),\n HexBytes('0x2b55e07f5a89fd09c3c85b18c83d91516a98a447185cf276e2feab4a8cb3d13b')]"
     },
     "execution_count": 176,
     "metadata": {},
     "output_type": "execute_result"
    }
   ],
   "source": [
    "random_transactions[:5]"
   ],
   "metadata": {
    "collapsed": false,
    "ExecuteTime": {
     "end_time": "2024-04-03T16:32:48.673964Z",
     "start_time": "2024-04-03T16:32:48.665674Z"
    }
   },
   "id": "c764e1ba6d5f16c1",
   "execution_count": 176
  }
 ],
 "metadata": {
  "kernelspec": {
   "display_name": "Python 3",
   "language": "python",
   "name": "python3"
  },
  "language_info": {
   "codemirror_mode": {
    "name": "ipython",
    "version": 2
   },
   "file_extension": ".py",
   "mimetype": "text/x-python",
   "name": "python",
   "nbconvert_exporter": "python",
   "pygments_lexer": "ipython2",
   "version": "2.7.6"
  }
 },
 "nbformat": 4,
 "nbformat_minor": 5
}
