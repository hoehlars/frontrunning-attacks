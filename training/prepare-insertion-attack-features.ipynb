{
 "cells": [
  {
   "cell_type": "markdown",
   "source": [
    "## Features needed for training\n",
    "1. Gas Price of the Transaction\n",
    "2. Mean Gas Price of Transactions in the Last 10 Blocks\n",
    "3.  Standard Deviation of Gas Price of Transactions in the\n",
    "Last Ten Blocks\n",
    "4. Mean Gas Price of Transactions by the same EOA (externally owned account)\n",
    "5. Standard Deviation of Gas Price in Transactions by the\n",
    "same EOA\n",
    "6. Usage of Gas Tokens\n",
    "7. Predicted Gas Price"
   ],
   "metadata": {
    "collapsed": false
   },
   "id": "a630be665b11f3d3"
  },
  {
   "cell_type": "code",
   "source": [
    "from web3 import Web3\n",
    "from tqdm import tqdm\n",
    "import pandas as pd\n",
    "import numpy as np\n",
    "import random"
   ],
   "metadata": {
    "collapsed": false,
    "ExecuteTime": {
     "end_time": "2024-04-10T07:02:27.950431Z",
     "start_time": "2024-04-10T07:02:26.198575Z"
    }
   },
   "id": "5f8c59138bb46f0a",
   "outputs": [],
   "execution_count": 1
  },
  {
   "cell_type": "code",
   "source": [
    "web3 = Web3(Web3.HTTPProvider(\"https://intensive-sly-mountain.quiknode.pro/a3f5256d7f2af6541d483cce3f1d49c94c01879e/\"))\n",
    "print(web3.is_connected())"
   ],
   "metadata": {
    "collapsed": false,
    "ExecuteTime": {
     "end_time": "2024-04-10T07:02:31.051090Z",
     "start_time": "2024-04-10T07:02:30.775902Z"
    }
   },
   "id": "2a5ebe396cf3628d",
   "outputs": [
    {
     "name": "stdout",
     "output_type": "stream",
     "text": [
      "True\n"
     ]
    }
   ],
   "execution_count": 2
  },
  {
   "cell_type": "code",
   "id": "initial_id",
   "metadata": {
    "collapsed": true,
    "ExecuteTime": {
     "end_time": "2024-04-10T07:02:34.131548Z",
     "start_time": "2024-04-10T07:02:32.903419Z"
    }
   },
   "source": [
    "df_insertion = pd.read_csv ('../data/insertion_attacks.csv', delimiter=',')\n",
    "#print(df_insertion.describe())\n",
    "#print(df_insertion)\n",
    "print('# of insertion: ', len(df_insertion))"
   ],
   "outputs": [
    {
     "name": "stdout",
     "output_type": "stream",
     "text": [
      "# of insertion:  196691\n"
     ]
    }
   ],
   "execution_count": 3
  },
  {
   "metadata": {},
   "cell_type": "markdown",
   "source": "### Insertion-Dataset Exploration",
   "id": "542f526351a91959"
  },
  {
   "metadata": {},
   "cell_type": "markdown",
   "source": "Explore occurrences of same wallet and same block:",
   "id": "34a819647ed16fa8"
  },
  {
   "metadata": {
    "ExecuteTime": {
     "end_time": "2024-04-10T07:34:53.797992Z",
     "start_time": "2024-04-10T07:34:53.246705Z"
    }
   },
   "cell_type": "code",
   "source": [
    "columns = [\"First Attacker\", \"Whale\", \"Second Attacker\"]\n",
    "\n",
    "for col in columns:\n",
    "    occurrences = df_insertion.groupby(['Block Number', col]).size().reset_index(name='Count')\n",
    "    nr_rows_with_same_address_and_block_nr = occurrences[occurrences['Count'] > 1].shape[0]\n",
    "    print(f\"Number of rows in {col} with same address and block number: {nr_rows_with_same_address_and_block_nr}\")"
   ],
   "id": "6d5c9cfa5b717154",
   "outputs": [
    {
     "name": "stdout",
     "output_type": "stream",
     "text": [
      "Number of rows in First Attacker with same address and block number: 17\n",
      "Number of rows in Whale with same address and block number: 5730\n",
      "Number of rows in Second Attacker with same address and block number: 17\n"
     ]
    }
   ],
   "execution_count": 61
  },
  {
   "metadata": {
    "ExecuteTime": {
     "end_time": "2024-04-10T09:21:17.326701Z",
     "start_time": "2024-04-10T09:21:17.241672Z"
    }
   },
   "cell_type": "code",
   "source": [
    "concatenated_values = np.vstack((df_insertion[['Block Number', \"First Attacker\"]].values,\n",
    "                                df_insertion[['Block Number', \"Whale\"]].values,\n",
    "                                df_insertion[['Block Number', \"Second Attacker\"]].values))\n",
    "\n",
    "concatenated_df = pd.DataFrame(concatenated_values, columns=['Block Number', 'Address'])\n",
    "concatenated_df"
   ],
   "id": "257db958699e339d",
   "outputs": [
    {
     "data": {
      "text/plain": [
       "       Block Number                                     Address\n",
       "0           5599805  0xfF1b9745f68F84F036E5e92c920038d895FB701A\n",
       "1           5574870  0x4fCc2FF6c75923D33B4F5aF4C524461014B2EE1C\n",
       "2           5599933  0xfF1b9745f68F84F036E5e92c920038d895FB701A\n",
       "3           5625057  0xfF1b9745f68F84F036E5e92c920038d895FB701A\n",
       "4           5625138  0xfF1b9745f68F84F036E5e92c920038d895FB701A\n",
       "...             ...                                         ...\n",
       "590068     11022873  0x18a85f755F7508f9CEe4698003a8F5D1e231AB22\n",
       "590069     11022878  0x12b967bba40E3220e9697B5fdBb75BA32626E1FC\n",
       "590070     11022880  0xdB9c8428e68a1E6B2244C92127D2dcD708F893f4\n",
       "590071     11022881  0xe4Ec5Ba53cAEcFE979570d5396d1d2dc5e6c3BD5\n",
       "590072     11022887  0x58275e42f0DDB2Ea342a1C57f4966928A66a4289\n",
       "\n",
       "[590073 rows x 2 columns]"
      ],
      "text/html": [
       "<div>\n",
       "<style scoped>\n",
       "    .dataframe tbody tr th:only-of-type {\n",
       "        vertical-align: middle;\n",
       "    }\n",
       "\n",
       "    .dataframe tbody tr th {\n",
       "        vertical-align: top;\n",
       "    }\n",
       "\n",
       "    .dataframe thead th {\n",
       "        text-align: right;\n",
       "    }\n",
       "</style>\n",
       "<table border=\"1\" class=\"dataframe\">\n",
       "  <thead>\n",
       "    <tr style=\"text-align: right;\">\n",
       "      <th></th>\n",
       "      <th>Block Number</th>\n",
       "      <th>Address</th>\n",
       "    </tr>\n",
       "  </thead>\n",
       "  <tbody>\n",
       "    <tr>\n",
       "      <th>0</th>\n",
       "      <td>5599805</td>\n",
       "      <td>0xfF1b9745f68F84F036E5e92c920038d895FB701A</td>\n",
       "    </tr>\n",
       "    <tr>\n",
       "      <th>1</th>\n",
       "      <td>5574870</td>\n",
       "      <td>0x4fCc2FF6c75923D33B4F5aF4C524461014B2EE1C</td>\n",
       "    </tr>\n",
       "    <tr>\n",
       "      <th>2</th>\n",
       "      <td>5599933</td>\n",
       "      <td>0xfF1b9745f68F84F036E5e92c920038d895FB701A</td>\n",
       "    </tr>\n",
       "    <tr>\n",
       "      <th>3</th>\n",
       "      <td>5625057</td>\n",
       "      <td>0xfF1b9745f68F84F036E5e92c920038d895FB701A</td>\n",
       "    </tr>\n",
       "    <tr>\n",
       "      <th>4</th>\n",
       "      <td>5625138</td>\n",
       "      <td>0xfF1b9745f68F84F036E5e92c920038d895FB701A</td>\n",
       "    </tr>\n",
       "    <tr>\n",
       "      <th>...</th>\n",
       "      <td>...</td>\n",
       "      <td>...</td>\n",
       "    </tr>\n",
       "    <tr>\n",
       "      <th>590068</th>\n",
       "      <td>11022873</td>\n",
       "      <td>0x18a85f755F7508f9CEe4698003a8F5D1e231AB22</td>\n",
       "    </tr>\n",
       "    <tr>\n",
       "      <th>590069</th>\n",
       "      <td>11022878</td>\n",
       "      <td>0x12b967bba40E3220e9697B5fdBb75BA32626E1FC</td>\n",
       "    </tr>\n",
       "    <tr>\n",
       "      <th>590070</th>\n",
       "      <td>11022880</td>\n",
       "      <td>0xdB9c8428e68a1E6B2244C92127D2dcD708F893f4</td>\n",
       "    </tr>\n",
       "    <tr>\n",
       "      <th>590071</th>\n",
       "      <td>11022881</td>\n",
       "      <td>0xe4Ec5Ba53cAEcFE979570d5396d1d2dc5e6c3BD5</td>\n",
       "    </tr>\n",
       "    <tr>\n",
       "      <th>590072</th>\n",
       "      <td>11022887</td>\n",
       "      <td>0x58275e42f0DDB2Ea342a1C57f4966928A66a4289</td>\n",
       "    </tr>\n",
       "  </tbody>\n",
       "</table>\n",
       "<p>590073 rows × 2 columns</p>\n",
       "</div>"
      ]
     },
     "execution_count": 120,
     "metadata": {},
     "output_type": "execute_result"
    }
   ],
   "execution_count": 120
  },
  {
   "metadata": {
    "ExecuteTime": {
     "end_time": "2024-04-10T09:19:47.401645Z",
     "start_time": "2024-04-10T09:19:47.170987Z"
    }
   },
   "cell_type": "code",
   "source": [
    "# Get unique rows\n",
    "unique_df = concatenated_df.drop_duplicates()\n",
    "\n",
    "print(f\"{unique_df.shape[0]} unique blockNr-Address pairs\")"
   ],
   "id": "a3d82f388f8d8302",
   "outputs": [
    {
     "name": "stdout",
     "output_type": "stream",
     "text": [
      "473515 unique blockNr-Address pairs\n"
     ]
    }
   ],
   "execution_count": 119
  },
  {
   "metadata": {
    "ExecuteTime": {
     "end_time": "2024-04-10T09:21:55.941773Z",
     "start_time": "2024-04-10T09:21:55.821262Z"
    }
   },
   "cell_type": "code",
   "source": [
    "unique_addresses = concatenated_df[\"Address\"].unique()\n",
    "print(f\"{unique_addresses.shape[0]} unique addresses\")"
   ],
   "id": "ecd0789bc8ac8a77",
   "outputs": [
    {
     "name": "stdout",
     "output_type": "stream",
     "text": [
      "41350 unique addresses\n"
     ]
    }
   ],
   "execution_count": 121
  },
  {
   "metadata": {},
   "cell_type": "markdown",
   "source": "Explore of duplicated occurrences of block number",
   "id": "465c35bc779cad67"
  },
  {
   "metadata": {
    "ExecuteTime": {
     "end_time": "2024-04-10T07:35:13.527672Z",
     "start_time": "2024-04-10T07:35:13.453765Z"
    }
   },
   "cell_type": "code",
   "source": [
    "occurrences= df_insertion.groupby(['Block Number']).size().reset_index(name='Count')\n",
    "nr_rows_with_same_block_nr = occurrences[occurrences['Count'] > 1].shape[0]\n",
    "print(f\"Number of rows with same block number: {nr_rows_with_same_block_nr}\")"
   ],
   "id": "fe91c36dbb464542",
   "outputs": [
    {
     "name": "stdout",
     "output_type": "stream",
     "text": [
      "Number of rows with same block number: 24929\n"
     ]
    }
   ],
   "execution_count": 62
  },
  {
   "metadata": {
    "ExecuteTime": {
     "end_time": "2024-04-10T09:22:41.449350Z",
     "start_time": "2024-04-10T09:22:41.436222Z"
    }
   },
   "cell_type": "code",
   "source": [
    "unique_blocks = df_insertion[\"Block Number\"].unique()\n",
    "print(f\"{unique_blocks.shape[0]} unique block numbers\")"
   ],
   "id": "6f1b0cd9c6fa88b",
   "outputs": [
    {
     "name": "stdout",
     "output_type": "stream",
     "text": [
      "167503 unique block numbers\n"
     ]
    }
   ],
   "execution_count": 122
  },
  {
   "cell_type": "markdown",
   "source": [
    "### Feature 1\n",
    "Gas price of transaction"
   ],
   "metadata": {
    "collapsed": false
   },
   "id": "83df9230650ad3b8"
  },
  {
   "cell_type": "code",
   "source": [
    "def get_transaction_gas_price_in_eth_by_sender_and_block_nr(block_number, sender, web3):\n",
    "    block = web3.eth.get_block(block_number, full_transactions=True)\n",
    "    \n",
    "    for transaction in block.transactions:        \n",
    "        if transaction[\"from\"] == sender:\n",
    "            return (transaction[\"gasPrice\"]) / 10**18\n",
    "\n",
    "get_transaction_gas_price_in_eth_by_sender_and_block_nr(5599805, '0xFF28319a7cD2136ea7283E7cDb0675B50AC29Dd2', web3)"
   ],
   "metadata": {
    "collapsed": false,
    "ExecuteTime": {
     "end_time": "2024-04-10T07:02:38.121591Z",
     "start_time": "2024-04-10T07:02:37.546903Z"
    }
   },
   "id": "fd716710c6e39e03",
   "outputs": [
    {
     "data": {
      "text/plain": [
       "9.97e-09"
      ]
     },
     "execution_count": 4,
     "metadata": {},
     "output_type": "execute_result"
    }
   ],
   "execution_count": 4
  },
  {
   "cell_type": "markdown",
   "source": [
    "### Feature 2 and 3\n",
    "- Mean Gas Price of Transactions in the Last 10 Blocks\n",
    "- Standard Deviation of Gas Price of Transactions in the Last 10 Blocks"
   ],
   "metadata": {
    "collapsed": false
   },
   "id": "9ab9d2a12daec479"
  },
  {
   "cell_type": "code",
   "source": [
    "def get_mean_and_std_gas_price_of_last_n_blocks(last_n_blocks, curr_block, web3):\n",
    "    web3.eth.get_block(curr_block)\n",
    "    \n",
    "    gas_prices = []\n",
    "    for i in range(last_n_blocks):\n",
    "        block = web3.eth.get_block(curr_block - i, full_transactions=True)\n",
    "        \n",
    "        for transaction in block.transactions:\n",
    "            gas_prices.append(transaction[\"gasPrice\"] / 10**18)\n",
    "    \n",
    "    return np.mean(gas_prices), np.std(gas_prices)"
   ],
   "metadata": {
    "collapsed": false,
    "ExecuteTime": {
     "end_time": "2024-04-10T07:57:03.002015Z",
     "start_time": "2024-04-10T07:57:02.995494Z"
    }
   },
   "id": "92fe819583a45baa",
   "outputs": [],
   "execution_count": 77
  },
  {
   "metadata": {
    "ExecuteTime": {
     "end_time": "2024-04-10T09:57:56.812168Z",
     "start_time": "2024-04-10T09:57:53.393888Z"
    }
   },
   "cell_type": "code",
   "source": "get_mean_and_std_gas_price_of_last_n_blocks(10, 5599805, web3)",
   "id": "a32d022b32baa7c0",
   "outputs": [
    {
     "data": {
      "text/plain": [
       "(7.154557340707021e-09, 1.332266261030719e-08)"
      ]
     },
     "execution_count": 123,
     "metadata": {},
     "output_type": "execute_result"
    }
   ],
   "execution_count": 123
  },
  {
   "cell_type": "markdown",
   "source": [
    "### Feature 4\n",
    "- Mean Gas Price of Transactions by the same EOA (externally owned account)\n",
    "- Standard Deviation of Gas Price in Transactions by the\n",
    "same EOA"
   ],
   "metadata": {
    "collapsed": false
   },
   "id": "53d4b34e7a52aa39"
  },
  {
   "cell_type": "code",
   "source": [
    "# prepare data for insertion\n",
    "\n",
    "def get_mean_and_std_gas_price_of_last_n_blocks_of_same_EOA(last_n_blocks, curr_block, eoa_address, web3):\n",
    "    web3.eth.get_block(curr_block)\n",
    "    \n",
    "    gas_prices = []\n",
    "    for i in range(last_n_blocks):\n",
    "        block = web3.eth.get_block(curr_block - i, full_transactions=True)\n",
    "        \n",
    "        for transaction in block.transactions:\n",
    "            if transaction[\"from\"] == eoa_address:\n",
    "                gas_prices.append((transaction[\"gasPrice\"]) / 10**18)\n",
    "    return np.mean(gas_prices), np.std(gas_prices)"
   ],
   "metadata": {
    "collapsed": false,
    "ExecuteTime": {
     "end_time": "2024-04-10T07:59:22.759069Z",
     "start_time": "2024-04-10T07:59:22.751644Z"
    }
   },
   "id": "74d179d2db4cbf31",
   "outputs": [],
   "execution_count": 88
  },
  {
   "metadata": {
    "ExecuteTime": {
     "end_time": "2024-04-10T08:01:40.414734Z",
     "start_time": "2024-04-10T08:01:36.823712Z"
    }
   },
   "cell_type": "code",
   "source": "get_mean_and_std_gas_price_of_last_n_blocks_of_same_EOA(10, 5599805, '0xFF28319a7cD2136ea7283E7cDb0675B50AC29Dd2', web3)",
   "id": "556a54eae06c0bfc",
   "outputs": [
    {
     "data": {
      "text/plain": [
       "(9.97e-09, 0.0)"
      ]
     },
     "execution_count": 95,
     "metadata": {},
     "output_type": "execute_result"
    }
   ],
   "execution_count": 95
  },
  {
   "cell_type": "markdown",
   "source": [
    "### Feature 6\n",
    "Usage of gas tokens -> check if they use the gas token address"
   ],
   "metadata": {
    "collapsed": false
   },
   "id": "5bebdcb7ce8fb352"
  },
  {
   "cell_type": "code",
   "source": [
    "def is_transaction_using_gas_token(block_number, address, web3):\n",
    "    block = web3.eth.get_block(block_number, full_transactions=True)\n",
    "    \n",
    "    for transaction in block.transactions:        \n",
    "        if transaction[\"from\"] == address and transaction[\"to\"] == '0x0000000000b3F879cb30FE243b4Dfee438691c04':\n",
    "            return True\n",
    "    return False"
   ],
   "metadata": {
    "collapsed": false,
    "ExecuteTime": {
     "end_time": "2024-04-10T07:02:44.863449Z",
     "start_time": "2024-04-10T07:02:44.856909Z"
    }
   },
   "id": "6ed4aac619f6fbfa",
   "outputs": [],
   "execution_count": 7
  },
  {
   "cell_type": "markdown",
   "source": [
    "### Feature 7\n",
    "Predicted gas price --> train modell for this"
   ],
   "metadata": {
    "collapsed": false
   },
   "id": "b7ba2b0e91f569e9"
  },
  {
   "cell_type": "markdown",
   "source": [
    "Since the data was collected 3 years ago, we don't predict the gas-price trained on the gas-prices of the last 100 block from now, but from the highest block in the dataset."
   ],
   "metadata": {
    "collapsed": false
   },
   "id": "b27070964deae4f4"
  },
  {
   "cell_type": "code",
   "source": [
    "def get_max_block_number() -> int:\n",
    "    return int(df_insertion[\"Block Number\"].max())"
   ],
   "metadata": {
    "collapsed": false,
    "ExecuteTime": {
     "end_time": "2024-04-10T07:02:47.279700Z",
     "start_time": "2024-04-10T07:02:47.274122Z"
    }
   },
   "id": "c117ded0195cdeb2",
   "outputs": [],
   "execution_count": 8
  },
  {
   "cell_type": "code",
   "source": [
    "df_insertion[df_insertion[\"Block Number\"] >= get_max_block_number()]"
   ],
   "metadata": {
    "collapsed": false,
    "ExecuteTime": {
     "end_time": "2024-04-10T07:02:48.693270Z",
     "start_time": "2024-04-10T07:02:48.667146Z"
    }
   },
   "id": "a8c276f5448ef75d",
   "outputs": [
    {
     "data": {
      "text/plain": [
       "        Block Number                              First Attacker  \\\n",
       "195114      11299998  0xeD1cAa76a8cb7E671654A6c816a753acE6217BAE   \n",
       "\n",
       "                                             Whale  \\\n",
       "195114  0xf384aa91c1709Ec28b7422A2897E74f2d61036Cd   \n",
       "\n",
       "                                   Second Attacker  \\\n",
       "195114  0xeD1cAa76a8cb7E671654A6c816a753acE6217BAE   \n",
       "\n",
       "        First-Whale Gas Price Delta  Whale-Second Gas Price Delta    Profit  \\\n",
       "195114                     10.09376                           0.0  5.022881   \n",
       "\n",
       "            Cost Interface    Exchange      Token  \\\n",
       "195114  4.400952       bot  Uniswap V2  yfi.group   \n",
       "\n",
       "                                               Bot  Bot Cluster ID  \n",
       "195114  0xEB46faa47A6A52519839A2e52c7b28a2Db17651e            37.0  "
      ],
      "text/html": [
       "<div>\n",
       "<style scoped>\n",
       "    .dataframe tbody tr th:only-of-type {\n",
       "        vertical-align: middle;\n",
       "    }\n",
       "\n",
       "    .dataframe tbody tr th {\n",
       "        vertical-align: top;\n",
       "    }\n",
       "\n",
       "    .dataframe thead th {\n",
       "        text-align: right;\n",
       "    }\n",
       "</style>\n",
       "<table border=\"1\" class=\"dataframe\">\n",
       "  <thead>\n",
       "    <tr style=\"text-align: right;\">\n",
       "      <th></th>\n",
       "      <th>Block Number</th>\n",
       "      <th>First Attacker</th>\n",
       "      <th>Whale</th>\n",
       "      <th>Second Attacker</th>\n",
       "      <th>First-Whale Gas Price Delta</th>\n",
       "      <th>Whale-Second Gas Price Delta</th>\n",
       "      <th>Profit</th>\n",
       "      <th>Cost</th>\n",
       "      <th>Interface</th>\n",
       "      <th>Exchange</th>\n",
       "      <th>Token</th>\n",
       "      <th>Bot</th>\n",
       "      <th>Bot Cluster ID</th>\n",
       "    </tr>\n",
       "  </thead>\n",
       "  <tbody>\n",
       "    <tr>\n",
       "      <th>195114</th>\n",
       "      <td>11299998</td>\n",
       "      <td>0xeD1cAa76a8cb7E671654A6c816a753acE6217BAE</td>\n",
       "      <td>0xf384aa91c1709Ec28b7422A2897E74f2d61036Cd</td>\n",
       "      <td>0xeD1cAa76a8cb7E671654A6c816a753acE6217BAE</td>\n",
       "      <td>10.09376</td>\n",
       "      <td>0.0</td>\n",
       "      <td>5.022881</td>\n",
       "      <td>4.400952</td>\n",
       "      <td>bot</td>\n",
       "      <td>Uniswap V2</td>\n",
       "      <td>yfi.group</td>\n",
       "      <td>0xEB46faa47A6A52519839A2e52c7b28a2Db17651e</td>\n",
       "      <td>37.0</td>\n",
       "    </tr>\n",
       "  </tbody>\n",
       "</table>\n",
       "</div>"
      ]
     },
     "execution_count": 9,
     "metadata": {},
     "output_type": "execute_result"
    }
   ],
   "execution_count": 9
  },
  {
   "cell_type": "code",
   "source": [
    "def get_gas_prices_from_last_100_blocks(web3: Web3) -> list[int]:\n",
    "    \n",
    "    highest_block = get_max_block_number()    \n",
    "    \n",
    "    gas_prices = []\n",
    "    for i in range(100):\n",
    "        block = web3.eth.get_block(highest_block - i, full_transactions=True)\n",
    "        \n",
    "        for transaction in block.transactions:\n",
    "            gas_prices.append(transaction[\"gasPrice\"] / 10**18) # convertion from wei to eth\n",
    "        \n",
    "    return gas_prices"
   ],
   "metadata": {
    "collapsed": false,
    "ExecuteTime": {
     "end_time": "2024-04-10T07:02:51.492605Z",
     "start_time": "2024-04-10T07:02:51.486429Z"
    }
   },
   "id": "61ee2e49693298a8",
   "outputs": [],
   "execution_count": 10
  },
  {
   "cell_type": "code",
   "source": [
    "gas_prices_last_100_blocks = get_gas_prices_from_last_100_blocks(web3)"
   ],
   "metadata": {
    "collapsed": false,
    "ExecuteTime": {
     "end_time": "2024-04-10T07:03:24.364053Z",
     "start_time": "2024-04-10T07:02:53.239686Z"
    }
   },
   "id": "f8a211f5798e1424",
   "outputs": [],
   "execution_count": 11
  },
  {
   "cell_type": "markdown",
   "source": [
    "### Putting all together"
   ],
   "metadata": {
    "collapsed": false
   },
   "id": "8a52cd551354d2e6"
  },
  {
   "cell_type": "code",
   "source": [
    "def extract_features_insertion_attack(csv_column: str) -> pd.DataFrame:\n",
    "    \n",
    "    entries = []\n",
    "    \n",
    "    for index, entry in tqdm(df_insertion.iterrows()):\n",
    "        block_nr = entry[\"Block Number\"]\n",
    "        address = entry[csv_column]\n",
    "        \n",
    "        mean_gas_price_last_10_blocks, std_gas_price_last_10_blocks = get_mean_and_std_gas_price_of_last_n_blocks(10, block_nr, web3)\n",
    "        \n",
    "        mean_gas_price_last_n_blocks_same_EOA, std_gas_price_last_n_blocks_same_EOA = get_mean_and_std_gas_price_of_last_n_blocks_of_same_EOA(20, block_nr, address, web3)\n",
    "        \n",
    "        new_entry = {\n",
    "            \"blockNumber\": block_nr,\n",
    "            \"address\": address,\n",
    "            \"gasPrice\": get_transaction_gas_price_in_eth_by_sender_and_block_nr(block_nr, address, web3),\n",
    "            \"meanGasPriceLastTenBlocks\": mean_gas_price_last_10_blocks,\n",
    "            \"stdGasPriceLastTenBlocks\": std_gas_price_last_10_blocks,\n",
    "            \"meanGasPriceLastTenBlocksSameEOA\": mean_gas_price_last_n_blocks_same_EOA,\n",
    "            \"stdGasPriceLastTenBlocksSameEOA\": std_gas_price_last_n_blocks_same_EOA,\n",
    "            \"usedGasToken\": is_transaction_using_gas_token(block_nr, address, web3)\n",
    "        }\n",
    "        entries.append(new_entry)\n",
    "    \n",
    "    return pd.DataFrame(entries) "
   ],
   "metadata": {
    "collapsed": false,
    "ExecuteTime": {
     "end_time": "2024-04-10T07:25:57.840999Z",
     "start_time": "2024-04-10T07:25:57.832322Z"
    }
   },
   "id": "d002ea1493baec66",
   "outputs": [],
   "execution_count": 43
  },
  {
   "cell_type": "markdown",
   "source": [
    "**Feature Extraction First Attacker**"
   ],
   "metadata": {
    "collapsed": false
   },
   "id": "6382d2047991e65f"
  },
  {
   "cell_type": "code",
   "source": [
    "feature_insertion_first_atk_df = extract_features_insertion_attack(csv_column=\"First Attacker\")"
   ],
   "metadata": {
    "collapsed": false,
    "ExecuteTime": {
     "end_time": "2024-04-10T07:25:45.914031Z",
     "start_time": "2024-04-10T07:25:41.390997Z"
    }
   },
   "id": "a8d3af34a4d7e83",
   "outputs": [
    {
     "name": "stderr",
     "output_type": "stream",
     "text": [
      "4it [00:04,  1.06s/it]\n"
     ]
    },
    {
     "ename": "KeyboardInterrupt",
     "evalue": "",
     "output_type": "error",
     "traceback": [
      "\u001B[0;31m---------------------------------------------------------------------------\u001B[0m",
      "\u001B[0;31mKeyboardInterrupt\u001B[0m                         Traceback (most recent call last)",
      "Cell \u001B[0;32mIn[42], line 1\u001B[0m\n\u001B[0;32m----> 1\u001B[0m feature_insertion_first_atk_df \u001B[38;5;241m=\u001B[39m \u001B[43mextract_features_insertion_attack\u001B[49m\u001B[43m(\u001B[49m\u001B[43mcsv_column\u001B[49m\u001B[38;5;241;43m=\u001B[39;49m\u001B[38;5;124;43m\"\u001B[39;49m\u001B[38;5;124;43mFirst Attacker\u001B[39;49m\u001B[38;5;124;43m\"\u001B[39;49m\u001B[43m)\u001B[49m\n",
      "Cell \u001B[0;32mIn[41], line 21\u001B[0m, in \u001B[0;36mextract_features_insertion_attack\u001B[0;34m(csv_column)\u001B[0m\n\u001B[1;32m      9\u001B[0m     mean_gas_price_last_10_blocks, std_gas_price_last_10_blocks \u001B[38;5;241m=\u001B[39m \u001B[38;5;241m1\u001B[39m,\u001B[38;5;241m1\u001B[39m\n\u001B[1;32m     11\u001B[0m     mean_gas_price_last_n_blocks_same_EOA, std_gas_price_last_n_blocks_same_EOA \u001B[38;5;241m=\u001B[39m \u001B[38;5;241m1\u001B[39m, \u001B[38;5;241m1\u001B[39m\n\u001B[1;32m     13\u001B[0m     new_entry \u001B[38;5;241m=\u001B[39m {\n\u001B[1;32m     14\u001B[0m         \u001B[38;5;124m\"\u001B[39m\u001B[38;5;124mblockNumber\u001B[39m\u001B[38;5;124m\"\u001B[39m: block_nr,\n\u001B[1;32m     15\u001B[0m         \u001B[38;5;124m\"\u001B[39m\u001B[38;5;124maddress\u001B[39m\u001B[38;5;124m\"\u001B[39m: address,\n\u001B[1;32m     16\u001B[0m         \u001B[38;5;124m\"\u001B[39m\u001B[38;5;124mgasPrice\u001B[39m\u001B[38;5;124m\"\u001B[39m: get_transaction_gas_price_in_eth_by_sender_and_block_nr(block_nr, address, web3),\n\u001B[1;32m     17\u001B[0m         \u001B[38;5;124m\"\u001B[39m\u001B[38;5;124mmeanGasPriceLastTenBlocks\u001B[39m\u001B[38;5;124m\"\u001B[39m: mean_gas_price_last_10_blocks,\n\u001B[1;32m     18\u001B[0m         \u001B[38;5;124m\"\u001B[39m\u001B[38;5;124mstdGasPriceLastTenBlocks\u001B[39m\u001B[38;5;124m\"\u001B[39m: std_gas_price_last_10_blocks,\n\u001B[1;32m     19\u001B[0m         \u001B[38;5;124m\"\u001B[39m\u001B[38;5;124mmeanGasPriceLastTenBlocksSameEOA\u001B[39m\u001B[38;5;124m\"\u001B[39m: mean_gas_price_last_n_blocks_same_EOA,\n\u001B[1;32m     20\u001B[0m         \u001B[38;5;124m\"\u001B[39m\u001B[38;5;124mstdGasPriceLastTenBlocksSameEOA\u001B[39m\u001B[38;5;124m\"\u001B[39m: std_gas_price_last_n_blocks_same_EOA,\n\u001B[0;32m---> 21\u001B[0m         \u001B[38;5;124m\"\u001B[39m\u001B[38;5;124musedGasToken\u001B[39m\u001B[38;5;124m\"\u001B[39m: \u001B[43mis_transaction_using_gas_token\u001B[49m\u001B[43m(\u001B[49m\u001B[43mblock_nr\u001B[49m\u001B[43m,\u001B[49m\u001B[43m \u001B[49m\u001B[43maddress\u001B[49m\u001B[43m,\u001B[49m\u001B[43m \u001B[49m\u001B[43mweb3\u001B[49m\u001B[43m)\u001B[49m\n\u001B[1;32m     22\u001B[0m     }\n\u001B[1;32m     23\u001B[0m     entries\u001B[38;5;241m.\u001B[39mappend(new_entry)\n\u001B[1;32m     25\u001B[0m \u001B[38;5;28;01mreturn\u001B[39;00m pd\u001B[38;5;241m.\u001B[39mDataFrame(entries)\n",
      "Cell \u001B[0;32mIn[7], line 2\u001B[0m, in \u001B[0;36mis_transaction_using_gas_token\u001B[0;34m(block_number, address, web3)\u001B[0m\n\u001B[1;32m      1\u001B[0m \u001B[38;5;28;01mdef\u001B[39;00m \u001B[38;5;21mis_transaction_using_gas_token\u001B[39m(block_number, address, web3):\n\u001B[0;32m----> 2\u001B[0m     block \u001B[38;5;241m=\u001B[39m \u001B[43mweb3\u001B[49m\u001B[38;5;241;43m.\u001B[39;49m\u001B[43meth\u001B[49m\u001B[38;5;241;43m.\u001B[39;49m\u001B[43mget_block\u001B[49m\u001B[43m(\u001B[49m\u001B[43mblock_number\u001B[49m\u001B[43m,\u001B[49m\u001B[43m \u001B[49m\u001B[43mfull_transactions\u001B[49m\u001B[38;5;241;43m=\u001B[39;49m\u001B[38;5;28;43;01mTrue\u001B[39;49;00m\u001B[43m)\u001B[49m\n\u001B[1;32m      4\u001B[0m     \u001B[38;5;28;01mfor\u001B[39;00m transaction \u001B[38;5;129;01min\u001B[39;00m block\u001B[38;5;241m.\u001B[39mtransactions:        \n\u001B[1;32m      5\u001B[0m         \u001B[38;5;28;01mif\u001B[39;00m transaction[\u001B[38;5;124m\"\u001B[39m\u001B[38;5;124mfrom\u001B[39m\u001B[38;5;124m\"\u001B[39m] \u001B[38;5;241m==\u001B[39m address \u001B[38;5;129;01mand\u001B[39;00m transaction[\u001B[38;5;124m\"\u001B[39m\u001B[38;5;124mto\u001B[39m\u001B[38;5;124m\"\u001B[39m] \u001B[38;5;241m==\u001B[39m \u001B[38;5;124m'\u001B[39m\u001B[38;5;124m0x0000000000b3F879cb30FE243b4Dfee438691c04\u001B[39m\u001B[38;5;124m'\u001B[39m:\n",
      "File \u001B[0;32m~/miniconda3/envs/frontrunning-attacks/lib/python3.10/site-packages/web3/eth/eth.py:413\u001B[0m, in \u001B[0;36mEth.get_block\u001B[0;34m(self, block_identifier, full_transactions)\u001B[0m\n\u001B[1;32m    410\u001B[0m \u001B[38;5;28;01mdef\u001B[39;00m \u001B[38;5;21mget_block\u001B[39m(\n\u001B[1;32m    411\u001B[0m     \u001B[38;5;28mself\u001B[39m, block_identifier: BlockIdentifier, full_transactions: \u001B[38;5;28mbool\u001B[39m \u001B[38;5;241m=\u001B[39m \u001B[38;5;28;01mFalse\u001B[39;00m\n\u001B[1;32m    412\u001B[0m ) \u001B[38;5;241m-\u001B[39m\u001B[38;5;241m>\u001B[39m BlockData:\n\u001B[0;32m--> 413\u001B[0m     \u001B[38;5;28;01mreturn\u001B[39;00m \u001B[38;5;28;43mself\u001B[39;49m\u001B[38;5;241;43m.\u001B[39;49m\u001B[43m_get_block\u001B[49m\u001B[43m(\u001B[49m\u001B[43mblock_identifier\u001B[49m\u001B[43m,\u001B[49m\u001B[43m \u001B[49m\u001B[43mfull_transactions\u001B[49m\u001B[43m)\u001B[49m\n",
      "File \u001B[0;32m~/miniconda3/envs/frontrunning-attacks/lib/python3.10/site-packages/web3/module.py:78\u001B[0m, in \u001B[0;36mretrieve_blocking_method_call_fn.<locals>.caller\u001B[0;34m(*args, **kwargs)\u001B[0m\n\u001B[1;32m     70\u001B[0m (\n\u001B[1;32m     71\u001B[0m     result_formatters,\n\u001B[1;32m     72\u001B[0m     error_formatters,\n\u001B[1;32m     73\u001B[0m     null_result_formatters,\n\u001B[1;32m     74\u001B[0m ) \u001B[38;5;241m=\u001B[39m response_formatters\n\u001B[1;32m     75\u001B[0m result \u001B[38;5;241m=\u001B[39m w3\u001B[38;5;241m.\u001B[39mmanager\u001B[38;5;241m.\u001B[39mrequest_blocking(\n\u001B[1;32m     76\u001B[0m     method_str, params, error_formatters, null_result_formatters\n\u001B[1;32m     77\u001B[0m )\n\u001B[0;32m---> 78\u001B[0m \u001B[38;5;28;01mreturn\u001B[39;00m \u001B[43mapply_result_formatters\u001B[49m\u001B[43m(\u001B[49m\u001B[43mresult_formatters\u001B[49m\u001B[43m,\u001B[49m\u001B[43m \u001B[49m\u001B[43mresult\u001B[49m\u001B[43m)\u001B[49m\n",
      "File \u001B[0;32m~/miniconda3/envs/frontrunning-attacks/lib/python3.10/site-packages/cytoolz/functoolz.pyx:263\u001B[0m, in \u001B[0;36mcytoolz.functoolz.curry.__call__\u001B[0;34m()\u001B[0m\n",
      "File \u001B[0;32m~/miniconda3/envs/frontrunning-attacks/lib/python3.10/site-packages/web3/module.py:49\u001B[0m, in \u001B[0;36mapply_result_formatters\u001B[0;34m(result_formatters, result)\u001B[0m\n\u001B[1;32m     44\u001B[0m \u001B[38;5;129m@curry\u001B[39m\n\u001B[1;32m     45\u001B[0m \u001B[38;5;28;01mdef\u001B[39;00m \u001B[38;5;21mapply_result_formatters\u001B[39m(\n\u001B[1;32m     46\u001B[0m     result_formatters: Callable[\u001B[38;5;241m.\u001B[39m\u001B[38;5;241m.\u001B[39m\u001B[38;5;241m.\u001B[39m, Any], result: RPCResponse\n\u001B[1;32m     47\u001B[0m ) \u001B[38;5;241m-\u001B[39m\u001B[38;5;241m>\u001B[39m RPCResponse:\n\u001B[1;32m     48\u001B[0m     \u001B[38;5;28;01mif\u001B[39;00m result_formatters:\n\u001B[0;32m---> 49\u001B[0m         formatted_result \u001B[38;5;241m=\u001B[39m \u001B[43mpipe\u001B[49m\u001B[43m(\u001B[49m\u001B[43mresult\u001B[49m\u001B[43m,\u001B[49m\u001B[43m \u001B[49m\u001B[43mresult_formatters\u001B[49m\u001B[43m)\u001B[49m\n\u001B[1;32m     50\u001B[0m         \u001B[38;5;28;01mreturn\u001B[39;00m formatted_result\n\u001B[1;32m     51\u001B[0m     \u001B[38;5;28;01melse\u001B[39;00m:\n",
      "File \u001B[0;32m~/miniconda3/envs/frontrunning-attacks/lib/python3.10/site-packages/cytoolz/functoolz.pyx:680\u001B[0m, in \u001B[0;36mcytoolz.functoolz.pipe\u001B[0;34m()\u001B[0m\n",
      "File \u001B[0;32m~/miniconda3/envs/frontrunning-attacks/lib/python3.10/site-packages/cytoolz/functoolz.pyx:655\u001B[0m, in \u001B[0;36mcytoolz.functoolz.c_pipe\u001B[0;34m()\u001B[0m\n",
      "File \u001B[0;32m~/miniconda3/envs/frontrunning-attacks/lib/python3.10/site-packages/cytoolz/functoolz.pyx:263\u001B[0m, in \u001B[0;36mcytoolz.functoolz.curry.__call__\u001B[0;34m()\u001B[0m\n",
      "File \u001B[0;32m~/miniconda3/envs/frontrunning-attacks/lib/python3.10/site-packages/eth_utils/applicators.py:85\u001B[0m, in \u001B[0;36mapply_formatter_if\u001B[0;34m(condition, formatter, value)\u001B[0m\n\u001B[1;32m     81\u001B[0m \u001B[38;5;28;01mdef\u001B[39;00m \u001B[38;5;21mapply_formatter_if\u001B[39m(\n\u001B[1;32m     82\u001B[0m     condition: Callable[\u001B[38;5;241m.\u001B[39m\u001B[38;5;241m.\u001B[39m\u001B[38;5;241m.\u001B[39m, \u001B[38;5;28mbool\u001B[39m], formatter: Callable[\u001B[38;5;241m.\u001B[39m\u001B[38;5;241m.\u001B[39m\u001B[38;5;241m.\u001B[39m, Any], value: Any\n\u001B[1;32m     83\u001B[0m ) \u001B[38;5;241m-\u001B[39m\u001B[38;5;241m>\u001B[39m Any:\n\u001B[1;32m     84\u001B[0m     \u001B[38;5;28;01mif\u001B[39;00m condition(value):\n\u001B[0;32m---> 85\u001B[0m         \u001B[38;5;28;01mreturn\u001B[39;00m \u001B[43mformatter\u001B[49m\u001B[43m(\u001B[49m\u001B[43mvalue\u001B[49m\u001B[43m)\u001B[49m\n\u001B[1;32m     86\u001B[0m     \u001B[38;5;28;01melse\u001B[39;00m:\n\u001B[1;32m     87\u001B[0m         \u001B[38;5;28;01mreturn\u001B[39;00m value\n",
      "File \u001B[0;32m~/miniconda3/envs/frontrunning-attacks/lib/python3.10/site-packages/cytoolz/functoolz.pyx:263\u001B[0m, in \u001B[0;36mcytoolz.functoolz.curry.__call__\u001B[0;34m()\u001B[0m\n",
      "File \u001B[0;32m~/miniconda3/envs/frontrunning-attacks/lib/python3.10/site-packages/web3/_utils/method_formatters.py:164\u001B[0m, in \u001B[0;36mtype_aware_apply_formatters_to_dict\u001B[0;34m(formatters, value)\u001B[0m\n\u001B[1;32m    156\u001B[0m \u001B[38;5;129m@curry\u001B[39m\n\u001B[1;32m    157\u001B[0m \u001B[38;5;28;01mdef\u001B[39;00m \u001B[38;5;21mtype_aware_apply_formatters_to_dict\u001B[39m(\n\u001B[1;32m    158\u001B[0m     formatters: Formatters,\n\u001B[1;32m    159\u001B[0m     value: Union[AttributeDict[\u001B[38;5;28mstr\u001B[39m, Any], Dict[\u001B[38;5;28mstr\u001B[39m, Any]],\n\u001B[1;32m    160\u001B[0m ) \u001B[38;5;241m-\u001B[39m\u001B[38;5;241m>\u001B[39m Union[ReadableAttributeDict[\u001B[38;5;28mstr\u001B[39m, Any], Dict[\u001B[38;5;28mstr\u001B[39m, Any]]:\n\u001B[1;32m    161\u001B[0m \u001B[38;5;250m    \u001B[39m\u001B[38;5;124;03m\"\"\"\u001B[39;00m\n\u001B[1;32m    162\u001B[0m \u001B[38;5;124;03m    Preserve ``AttributeDict`` types if original ``value`` was an ``AttributeDict``.\u001B[39;00m\n\u001B[1;32m    163\u001B[0m \u001B[38;5;124;03m    \"\"\"\u001B[39;00m\n\u001B[0;32m--> 164\u001B[0m     formatted_dict: Dict[\u001B[38;5;28mstr\u001B[39m, Any] \u001B[38;5;241m=\u001B[39m \u001B[43mapply_formatters_to_dict\u001B[49m\u001B[43m(\u001B[49m\u001B[43mformatters\u001B[49m\u001B[43m,\u001B[49m\u001B[43m \u001B[49m\u001B[38;5;28;43mdict\u001B[39;49m\u001B[43m(\u001B[49m\u001B[43mvalue\u001B[49m\u001B[43m)\u001B[49m\u001B[43m)\u001B[49m\n\u001B[1;32m    165\u001B[0m     \u001B[38;5;28;01mreturn\u001B[39;00m (\n\u001B[1;32m    166\u001B[0m         AttributeDict\u001B[38;5;241m.\u001B[39mrecursive(formatted_dict)\n\u001B[1;32m    167\u001B[0m         \u001B[38;5;28;01mif\u001B[39;00m is_attrdict(value)\n\u001B[1;32m    168\u001B[0m         \u001B[38;5;28;01melse\u001B[39;00m formatted_dict\n\u001B[1;32m    169\u001B[0m     )\n",
      "File \u001B[0;32m~/miniconda3/envs/frontrunning-attacks/lib/python3.10/site-packages/cytoolz/functoolz.pyx:263\u001B[0m, in \u001B[0;36mcytoolz.functoolz.curry.__call__\u001B[0;34m()\u001B[0m\n",
      "File \u001B[0;32m~/miniconda3/envs/frontrunning-attacks/lib/python3.10/site-packages/eth_utils/functional.py:47\u001B[0m, in \u001B[0;36mapply_to_return_value.<locals>.outer.<locals>.inner\u001B[0;34m(*args, **kwargs)\u001B[0m\n\u001B[1;32m     45\u001B[0m \u001B[38;5;129m@functools\u001B[39m\u001B[38;5;241m.\u001B[39mwraps(fn)\n\u001B[1;32m     46\u001B[0m \u001B[38;5;28;01mdef\u001B[39;00m \u001B[38;5;21minner\u001B[39m(\u001B[38;5;241m*\u001B[39margs, \u001B[38;5;241m*\u001B[39m\u001B[38;5;241m*\u001B[39mkwargs) \u001B[38;5;241m-\u001B[39m\u001B[38;5;241m>\u001B[39m T:  \u001B[38;5;66;03m# type: ignore\u001B[39;00m\n\u001B[0;32m---> 47\u001B[0m     \u001B[38;5;28;01mreturn\u001B[39;00m \u001B[43mcallback\u001B[49m\u001B[43m(\u001B[49m\u001B[43mfn\u001B[49m\u001B[43m(\u001B[49m\u001B[38;5;241;43m*\u001B[39;49m\u001B[43margs\u001B[49m\u001B[43m,\u001B[49m\u001B[43m \u001B[49m\u001B[38;5;241;43m*\u001B[39;49m\u001B[38;5;241;43m*\u001B[39;49m\u001B[43mkwargs\u001B[49m\u001B[43m)\u001B[49m\u001B[43m)\u001B[49m\n",
      "File \u001B[0;32m~/miniconda3/envs/frontrunning-attacks/lib/python3.10/site-packages/eth_utils/applicators.py:97\u001B[0m, in \u001B[0;36mapply_formatters_to_dict\u001B[0;34m(formatters, value)\u001B[0m\n\u001B[1;32m     95\u001B[0m \u001B[38;5;28;01mif\u001B[39;00m key \u001B[38;5;129;01min\u001B[39;00m formatters:\n\u001B[1;32m     96\u001B[0m     \u001B[38;5;28;01mtry\u001B[39;00m:\n\u001B[0;32m---> 97\u001B[0m         \u001B[38;5;28;01myield\u001B[39;00m key, \u001B[43mformatters\u001B[49m\u001B[43m[\u001B[49m\u001B[43mkey\u001B[49m\u001B[43m]\u001B[49m\u001B[43m(\u001B[49m\u001B[43mitem\u001B[49m\u001B[43m)\u001B[49m\n\u001B[1;32m     98\u001B[0m     \u001B[38;5;28;01mexcept\u001B[39;00m \u001B[38;5;167;01mValueError\u001B[39;00m \u001B[38;5;28;01mas\u001B[39;00m exc:\n\u001B[1;32m     99\u001B[0m         new_error_message \u001B[38;5;241m=\u001B[39m (\n\u001B[1;32m    100\u001B[0m             \u001B[38;5;124mf\u001B[39m\u001B[38;5;124m\"\u001B[39m\u001B[38;5;124mCould not format invalid value \u001B[39m\u001B[38;5;132;01m{\u001B[39;00m\u001B[38;5;28mrepr\u001B[39m(item)\u001B[38;5;132;01m}\u001B[39;00m\u001B[38;5;124m as field \u001B[39m\u001B[38;5;132;01m{\u001B[39;00m\u001B[38;5;28mrepr\u001B[39m(key)\u001B[38;5;132;01m}\u001B[39;00m\u001B[38;5;124m\"\u001B[39m\n\u001B[1;32m    101\u001B[0m         )\n",
      "File \u001B[0;32m~/miniconda3/envs/frontrunning-attacks/lib/python3.10/site-packages/cytoolz/functoolz.pyx:263\u001B[0m, in \u001B[0;36mcytoolz.functoolz.curry.__call__\u001B[0;34m()\u001B[0m\n",
      "File \u001B[0;32m~/miniconda3/envs/frontrunning-attacks/lib/python3.10/site-packages/eth_utils/applicators.py:126\u001B[0m, in \u001B[0;36mapply_one_of_formatters\u001B[0;34m(formatter_condition_pairs, value)\u001B[0m\n\u001B[1;32m    124\u001B[0m \u001B[38;5;28;01mfor\u001B[39;00m condition, formatter \u001B[38;5;129;01min\u001B[39;00m formatter_condition_pairs:\n\u001B[1;32m    125\u001B[0m     \u001B[38;5;28;01mif\u001B[39;00m condition(value):\n\u001B[0;32m--> 126\u001B[0m         \u001B[38;5;28;01mreturn\u001B[39;00m \u001B[43mformatter\u001B[49m\u001B[43m(\u001B[49m\u001B[43mvalue\u001B[49m\u001B[43m)\u001B[49m\n\u001B[1;32m    127\u001B[0m \u001B[38;5;28;01melse\u001B[39;00m:\n\u001B[1;32m    128\u001B[0m     \u001B[38;5;28;01mraise\u001B[39;00m \u001B[38;5;167;01mValueError\u001B[39;00m(\n\u001B[1;32m    129\u001B[0m         \u001B[38;5;124m\"\u001B[39m\u001B[38;5;124mThe provided value did not satisfy any of the formatter conditions\u001B[39m\u001B[38;5;124m\"\u001B[39m\n\u001B[1;32m    130\u001B[0m     )\n",
      "File \u001B[0;32m~/miniconda3/envs/frontrunning-attacks/lib/python3.10/site-packages/eth_utils/functional.py:47\u001B[0m, in \u001B[0;36mapply_to_return_value.<locals>.outer.<locals>.inner\u001B[0;34m(*args, **kwargs)\u001B[0m\n\u001B[1;32m     45\u001B[0m \u001B[38;5;129m@functools\u001B[39m\u001B[38;5;241m.\u001B[39mwraps(fn)\n\u001B[1;32m     46\u001B[0m \u001B[38;5;28;01mdef\u001B[39;00m \u001B[38;5;21minner\u001B[39m(\u001B[38;5;241m*\u001B[39margs, \u001B[38;5;241m*\u001B[39m\u001B[38;5;241m*\u001B[39mkwargs) \u001B[38;5;241m-\u001B[39m\u001B[38;5;241m>\u001B[39m T:  \u001B[38;5;66;03m# type: ignore\u001B[39;00m\n\u001B[0;32m---> 47\u001B[0m     \u001B[38;5;28;01mreturn\u001B[39;00m callback(\u001B[43mfn\u001B[49m\u001B[43m(\u001B[49m\u001B[38;5;241;43m*\u001B[39;49m\u001B[43margs\u001B[49m\u001B[43m,\u001B[49m\u001B[43m \u001B[49m\u001B[38;5;241;43m*\u001B[39;49m\u001B[38;5;241;43m*\u001B[39;49m\u001B[43mkwargs\u001B[49m\u001B[43m)\u001B[49m)\n",
      "File \u001B[0;32m~/miniconda3/envs/frontrunning-attacks/lib/python3.10/site-packages/cytoolz/functoolz.pyx:263\u001B[0m, in \u001B[0;36mcytoolz.functoolz.curry.__call__\u001B[0;34m()\u001B[0m\n",
      "File \u001B[0;32m~/miniconda3/envs/frontrunning-attacks/lib/python3.10/site-packages/eth_utils/decorators.py:102\u001B[0m, in \u001B[0;36mreturn_arg_type.<locals>.decorator.<locals>.wrapper\u001B[0;34m(*args, **kwargs)\u001B[0m\n\u001B[1;32m    100\u001B[0m result \u001B[38;5;241m=\u001B[39m to_wrap(\u001B[38;5;241m*\u001B[39margs, \u001B[38;5;241m*\u001B[39m\u001B[38;5;241m*\u001B[39mkwargs)\n\u001B[1;32m    101\u001B[0m ReturnType \u001B[38;5;241m=\u001B[39m \u001B[38;5;28mtype\u001B[39m(args[at_position])\n\u001B[0;32m--> 102\u001B[0m \u001B[38;5;28;01mreturn\u001B[39;00m \u001B[43mReturnType\u001B[49m\u001B[43m(\u001B[49m\u001B[43mresult\u001B[49m\u001B[43m)\u001B[49m\n",
      "File \u001B[0;32m~/miniconda3/envs/frontrunning-attacks/lib/python3.10/site-packages/eth_utils/applicators.py:117\u001B[0m, in \u001B[0;36mapply_formatter_to_array\u001B[0;34m(formatter, value)\u001B[0m\n\u001B[1;32m    112\u001B[0m \u001B[38;5;129m@return_arg_type\u001B[39m(\u001B[38;5;241m1\u001B[39m)\n\u001B[1;32m    113\u001B[0m \u001B[38;5;28;01mdef\u001B[39;00m \u001B[38;5;21mapply_formatter_to_array\u001B[39m(\n\u001B[1;32m    114\u001B[0m     formatter: Callable[\u001B[38;5;241m.\u001B[39m\u001B[38;5;241m.\u001B[39m\u001B[38;5;241m.\u001B[39m, Any], value: List[Any]\n\u001B[1;32m    115\u001B[0m ) \u001B[38;5;241m-\u001B[39m\u001B[38;5;241m>\u001B[39m Generator[List[Any], \u001B[38;5;28;01mNone\u001B[39;00m, \u001B[38;5;28;01mNone\u001B[39;00m]:\n\u001B[1;32m    116\u001B[0m     \u001B[38;5;28;01mfor\u001B[39;00m item \u001B[38;5;129;01min\u001B[39;00m value:\n\u001B[0;32m--> 117\u001B[0m         \u001B[38;5;28;01myield\u001B[39;00m \u001B[43mformatter\u001B[49m\u001B[43m(\u001B[49m\u001B[43mitem\u001B[49m\u001B[43m)\u001B[49m\n",
      "File \u001B[0;32m~/miniconda3/envs/frontrunning-attacks/lib/python3.10/site-packages/cytoolz/functoolz.pyx:263\u001B[0m, in \u001B[0;36mcytoolz.functoolz.curry.__call__\u001B[0;34m()\u001B[0m\n",
      "File \u001B[0;32m~/miniconda3/envs/frontrunning-attacks/lib/python3.10/site-packages/web3/_utils/method_formatters.py:164\u001B[0m, in \u001B[0;36mtype_aware_apply_formatters_to_dict\u001B[0;34m(formatters, value)\u001B[0m\n\u001B[1;32m    156\u001B[0m \u001B[38;5;129m@curry\u001B[39m\n\u001B[1;32m    157\u001B[0m \u001B[38;5;28;01mdef\u001B[39;00m \u001B[38;5;21mtype_aware_apply_formatters_to_dict\u001B[39m(\n\u001B[1;32m    158\u001B[0m     formatters: Formatters,\n\u001B[1;32m    159\u001B[0m     value: Union[AttributeDict[\u001B[38;5;28mstr\u001B[39m, Any], Dict[\u001B[38;5;28mstr\u001B[39m, Any]],\n\u001B[1;32m    160\u001B[0m ) \u001B[38;5;241m-\u001B[39m\u001B[38;5;241m>\u001B[39m Union[ReadableAttributeDict[\u001B[38;5;28mstr\u001B[39m, Any], Dict[\u001B[38;5;28mstr\u001B[39m, Any]]:\n\u001B[1;32m    161\u001B[0m \u001B[38;5;250m    \u001B[39m\u001B[38;5;124;03m\"\"\"\u001B[39;00m\n\u001B[1;32m    162\u001B[0m \u001B[38;5;124;03m    Preserve ``AttributeDict`` types if original ``value`` was an ``AttributeDict``.\u001B[39;00m\n\u001B[1;32m    163\u001B[0m \u001B[38;5;124;03m    \"\"\"\u001B[39;00m\n\u001B[0;32m--> 164\u001B[0m     formatted_dict: Dict[\u001B[38;5;28mstr\u001B[39m, Any] \u001B[38;5;241m=\u001B[39m \u001B[43mapply_formatters_to_dict\u001B[49m\u001B[43m(\u001B[49m\u001B[43mformatters\u001B[49m\u001B[43m,\u001B[49m\u001B[43m \u001B[49m\u001B[38;5;28;43mdict\u001B[39;49m\u001B[43m(\u001B[49m\u001B[43mvalue\u001B[49m\u001B[43m)\u001B[49m\u001B[43m)\u001B[49m\n\u001B[1;32m    165\u001B[0m     \u001B[38;5;28;01mreturn\u001B[39;00m (\n\u001B[1;32m    166\u001B[0m         AttributeDict\u001B[38;5;241m.\u001B[39mrecursive(formatted_dict)\n\u001B[1;32m    167\u001B[0m         \u001B[38;5;28;01mif\u001B[39;00m is_attrdict(value)\n\u001B[1;32m    168\u001B[0m         \u001B[38;5;28;01melse\u001B[39;00m formatted_dict\n\u001B[1;32m    169\u001B[0m     )\n",
      "File \u001B[0;32m~/miniconda3/envs/frontrunning-attacks/lib/python3.10/site-packages/cytoolz/functoolz.pyx:263\u001B[0m, in \u001B[0;36mcytoolz.functoolz.curry.__call__\u001B[0;34m()\u001B[0m\n",
      "File \u001B[0;32m~/miniconda3/envs/frontrunning-attacks/lib/python3.10/site-packages/eth_utils/functional.py:47\u001B[0m, in \u001B[0;36mapply_to_return_value.<locals>.outer.<locals>.inner\u001B[0;34m(*args, **kwargs)\u001B[0m\n\u001B[1;32m     45\u001B[0m \u001B[38;5;129m@functools\u001B[39m\u001B[38;5;241m.\u001B[39mwraps(fn)\n\u001B[1;32m     46\u001B[0m \u001B[38;5;28;01mdef\u001B[39;00m \u001B[38;5;21minner\u001B[39m(\u001B[38;5;241m*\u001B[39margs, \u001B[38;5;241m*\u001B[39m\u001B[38;5;241m*\u001B[39mkwargs) \u001B[38;5;241m-\u001B[39m\u001B[38;5;241m>\u001B[39m T:  \u001B[38;5;66;03m# type: ignore\u001B[39;00m\n\u001B[0;32m---> 47\u001B[0m     \u001B[38;5;28;01mreturn\u001B[39;00m \u001B[43mcallback\u001B[49m\u001B[43m(\u001B[49m\u001B[43mfn\u001B[49m\u001B[43m(\u001B[49m\u001B[38;5;241;43m*\u001B[39;49m\u001B[43margs\u001B[49m\u001B[43m,\u001B[49m\u001B[43m \u001B[49m\u001B[38;5;241;43m*\u001B[39;49m\u001B[38;5;241;43m*\u001B[39;49m\u001B[43mkwargs\u001B[49m\u001B[43m)\u001B[49m\u001B[43m)\u001B[49m\n",
      "File \u001B[0;32m~/miniconda3/envs/frontrunning-attacks/lib/python3.10/site-packages/eth_utils/applicators.py:97\u001B[0m, in \u001B[0;36mapply_formatters_to_dict\u001B[0;34m(formatters, value)\u001B[0m\n\u001B[1;32m     95\u001B[0m \u001B[38;5;28;01mif\u001B[39;00m key \u001B[38;5;129;01min\u001B[39;00m formatters:\n\u001B[1;32m     96\u001B[0m     \u001B[38;5;28;01mtry\u001B[39;00m:\n\u001B[0;32m---> 97\u001B[0m         \u001B[38;5;28;01myield\u001B[39;00m key, \u001B[43mformatters\u001B[49m\u001B[43m[\u001B[49m\u001B[43mkey\u001B[49m\u001B[43m]\u001B[49m\u001B[43m(\u001B[49m\u001B[43mitem\u001B[49m\u001B[43m)\u001B[49m\n\u001B[1;32m     98\u001B[0m     \u001B[38;5;28;01mexcept\u001B[39;00m \u001B[38;5;167;01mValueError\u001B[39;00m \u001B[38;5;28;01mas\u001B[39;00m exc:\n\u001B[1;32m     99\u001B[0m         new_error_message \u001B[38;5;241m=\u001B[39m (\n\u001B[1;32m    100\u001B[0m             \u001B[38;5;124mf\u001B[39m\u001B[38;5;124m\"\u001B[39m\u001B[38;5;124mCould not format invalid value \u001B[39m\u001B[38;5;132;01m{\u001B[39;00m\u001B[38;5;28mrepr\u001B[39m(item)\u001B[38;5;132;01m}\u001B[39;00m\u001B[38;5;124m as field \u001B[39m\u001B[38;5;132;01m{\u001B[39;00m\u001B[38;5;28mrepr\u001B[39m(key)\u001B[38;5;132;01m}\u001B[39;00m\u001B[38;5;124m\"\u001B[39m\n\u001B[1;32m    101\u001B[0m         )\n",
      "File \u001B[0;32m~/miniconda3/envs/frontrunning-attacks/lib/python3.10/site-packages/eth_utils/address.py:138\u001B[0m, in \u001B[0;36mto_checksum_address\u001B[0;34m(value)\u001B[0m\n\u001B[1;32m    127\u001B[0m norm_address \u001B[38;5;241m=\u001B[39m to_normalized_address(value)\n\u001B[1;32m    128\u001B[0m address_hash \u001B[38;5;241m=\u001B[39m encode_hex(keccak(text\u001B[38;5;241m=\u001B[39mremove_0x_prefix(HexStr(norm_address))))\n\u001B[1;32m    130\u001B[0m checksum_address \u001B[38;5;241m=\u001B[39m add_0x_prefix(\n\u001B[1;32m    131\u001B[0m     HexStr(\n\u001B[1;32m    132\u001B[0m         \u001B[38;5;124m\"\u001B[39m\u001B[38;5;124m\"\u001B[39m\u001B[38;5;241m.\u001B[39mjoin(\n\u001B[1;32m    133\u001B[0m             (\n\u001B[1;32m    134\u001B[0m                 norm_address[i]\u001B[38;5;241m.\u001B[39mupper()\n\u001B[1;32m    135\u001B[0m                 \u001B[38;5;28;01mif\u001B[39;00m \u001B[38;5;28mint\u001B[39m(address_hash[i], \u001B[38;5;241m16\u001B[39m) \u001B[38;5;241m>\u001B[39m \u001B[38;5;241m7\u001B[39m\n\u001B[1;32m    136\u001B[0m                 \u001B[38;5;28;01melse\u001B[39;00m norm_address[i]\n\u001B[1;32m    137\u001B[0m             )\n\u001B[0;32m--> 138\u001B[0m             \u001B[38;5;28;01mfor\u001B[39;00m i \u001B[38;5;129;01min\u001B[39;00m \u001B[38;5;28;43mrange\u001B[39;49m\u001B[43m(\u001B[49m\u001B[38;5;241;43m2\u001B[39;49m\u001B[43m,\u001B[49m\u001B[43m \u001B[49m\u001B[38;5;241;43m42\u001B[39;49m\u001B[43m)\u001B[49m\n\u001B[1;32m    139\u001B[0m         )\n\u001B[1;32m    140\u001B[0m     )\n\u001B[1;32m    141\u001B[0m )\n\u001B[1;32m    142\u001B[0m \u001B[38;5;28;01mreturn\u001B[39;00m ChecksumAddress(HexAddress(checksum_address))\n",
      "\u001B[0;31mKeyboardInterrupt\u001B[0m: "
     ]
    }
   ],
   "execution_count": 42
  },
  {
   "cell_type": "markdown",
   "source": [
    "**Feature Extraction Second Attacker**\n"
   ],
   "metadata": {
    "collapsed": false
   },
   "id": "ac9aadfd7070f78b"
  },
  {
   "cell_type": "code",
   "source": [
    "feature_insertion_second_atk_df = extract_features_insertion_attack(csv_column=\"Second Attacker\")"
   ],
   "metadata": {
    "collapsed": false,
    "ExecuteTime": {
     "end_time": "2024-04-10T07:04:02.039623Z",
     "start_time": "2024-04-10T07:03:50.131917Z"
    }
   },
   "id": "e78a31711923ef82",
   "outputs": [
    {
     "name": "stderr",
     "output_type": "stream",
     "text": [
      "1it [00:11, 11.61s/it]\n"
     ]
    },
    {
     "ename": "KeyboardInterrupt",
     "evalue": "",
     "output_type": "error",
     "traceback": [
      "\u001B[0;31m---------------------------------------------------------------------------\u001B[0m",
      "\u001B[0;31mKeyboardInterrupt\u001B[0m                         Traceback (most recent call last)",
      "Cell \u001B[0;32mIn[14], line 1\u001B[0m\n\u001B[0;32m----> 1\u001B[0m feature_insertion_second_atk_df \u001B[38;5;241m=\u001B[39m \u001B[43mextract_features_insertion_attack\u001B[49m\u001B[43m(\u001B[49m\u001B[43mcsv_column\u001B[49m\u001B[38;5;241;43m=\u001B[39;49m\u001B[38;5;124;43m\"\u001B[39;49m\u001B[38;5;124;43mSecond Attacker\u001B[39;49m\u001B[38;5;124;43m\"\u001B[39;49m\u001B[43m)\u001B[49m\n",
      "Cell \u001B[0;32mIn[12], line 9\u001B[0m, in \u001B[0;36mextract_features_insertion_attack\u001B[0;34m(csv_column)\u001B[0m\n\u001B[1;32m      6\u001B[0m block_nr \u001B[38;5;241m=\u001B[39m entry[\u001B[38;5;124m\"\u001B[39m\u001B[38;5;124mBlock Number\u001B[39m\u001B[38;5;124m\"\u001B[39m]\n\u001B[1;32m      7\u001B[0m address \u001B[38;5;241m=\u001B[39m entry[csv_column]\n\u001B[0;32m----> 9\u001B[0m mean_gas_price_last_10_blocks, std_gas_price_last_10_blocks \u001B[38;5;241m=\u001B[39m \u001B[43mget_mean_and_std_gas_price_of_last_n_blocks\u001B[49m\u001B[43m(\u001B[49m\u001B[38;5;241;43m10\u001B[39;49m\u001B[43m,\u001B[49m\u001B[43m \u001B[49m\u001B[43mblock_nr\u001B[49m\u001B[43m,\u001B[49m\u001B[43m \u001B[49m\u001B[43mweb3\u001B[49m\u001B[43m)\u001B[49m\n\u001B[1;32m     11\u001B[0m mean_gas_price_last_n_blocks_same_EOA, std_gas_price_last_n_blocks_same_EOA \u001B[38;5;241m=\u001B[39m get_mean_and_std_gas_price_of_last_n_blocks_of_same_EOA(\u001B[38;5;241m20\u001B[39m, block_nr, address, web3)\n\u001B[1;32m     13\u001B[0m new_entry \u001B[38;5;241m=\u001B[39m {\n\u001B[1;32m     14\u001B[0m     \u001B[38;5;124m\"\u001B[39m\u001B[38;5;124mblockNumber\u001B[39m\u001B[38;5;124m\"\u001B[39m: block_nr,\n\u001B[1;32m     15\u001B[0m     \u001B[38;5;124m\"\u001B[39m\u001B[38;5;124maddress\u001B[39m\u001B[38;5;124m\"\u001B[39m: address,\n\u001B[0;32m   (...)\u001B[0m\n\u001B[1;32m     21\u001B[0m     \u001B[38;5;124m\"\u001B[39m\u001B[38;5;124musedGasToken\u001B[39m\u001B[38;5;124m\"\u001B[39m: is_transaction_using_gas_token(block_nr, address, web3)\n\u001B[1;32m     22\u001B[0m }\n",
      "Cell \u001B[0;32mIn[5], line 6\u001B[0m, in \u001B[0;36mget_mean_and_std_gas_price_of_last_n_blocks\u001B[0;34m(last_n_blocks, curr_block, web3)\u001B[0m\n\u001B[1;32m      4\u001B[0m gas_prices \u001B[38;5;241m=\u001B[39m []\n\u001B[1;32m      5\u001B[0m \u001B[38;5;28;01mfor\u001B[39;00m i \u001B[38;5;129;01min\u001B[39;00m \u001B[38;5;28mrange\u001B[39m(last_n_blocks):\n\u001B[0;32m----> 6\u001B[0m     block \u001B[38;5;241m=\u001B[39m \u001B[43mweb3\u001B[49m\u001B[38;5;241;43m.\u001B[39;49m\u001B[43meth\u001B[49m\u001B[38;5;241;43m.\u001B[39;49m\u001B[43mget_block\u001B[49m\u001B[43m(\u001B[49m\u001B[43mcurr_block\u001B[49m\u001B[43m \u001B[49m\u001B[38;5;241;43m-\u001B[39;49m\u001B[43m \u001B[49m\u001B[43mi\u001B[49m\u001B[43m,\u001B[49m\u001B[43m \u001B[49m\u001B[43mfull_transactions\u001B[49m\u001B[38;5;241;43m=\u001B[39;49m\u001B[38;5;28;43;01mTrue\u001B[39;49;00m\u001B[43m)\u001B[49m\n\u001B[1;32m      8\u001B[0m     \u001B[38;5;28;01mfor\u001B[39;00m transaction \u001B[38;5;129;01min\u001B[39;00m block\u001B[38;5;241m.\u001B[39mtransactions:\n\u001B[1;32m      9\u001B[0m         gas_prices\u001B[38;5;241m.\u001B[39mappend(transaction[\u001B[38;5;124m\"\u001B[39m\u001B[38;5;124mgasPrice\u001B[39m\u001B[38;5;124m\"\u001B[39m] \u001B[38;5;241m/\u001B[39m \u001B[38;5;241m10\u001B[39m\u001B[38;5;241m*\u001B[39m\u001B[38;5;241m*\u001B[39m\u001B[38;5;241m18\u001B[39m)\n",
      "File \u001B[0;32m~/miniconda3/envs/frontrunning-attacks/lib/python3.10/site-packages/web3/eth/eth.py:413\u001B[0m, in \u001B[0;36mEth.get_block\u001B[0;34m(self, block_identifier, full_transactions)\u001B[0m\n\u001B[1;32m    410\u001B[0m \u001B[38;5;28;01mdef\u001B[39;00m \u001B[38;5;21mget_block\u001B[39m(\n\u001B[1;32m    411\u001B[0m     \u001B[38;5;28mself\u001B[39m, block_identifier: BlockIdentifier, full_transactions: \u001B[38;5;28mbool\u001B[39m \u001B[38;5;241m=\u001B[39m \u001B[38;5;28;01mFalse\u001B[39;00m\n\u001B[1;32m    412\u001B[0m ) \u001B[38;5;241m-\u001B[39m\u001B[38;5;241m>\u001B[39m BlockData:\n\u001B[0;32m--> 413\u001B[0m     \u001B[38;5;28;01mreturn\u001B[39;00m \u001B[38;5;28;43mself\u001B[39;49m\u001B[38;5;241;43m.\u001B[39;49m\u001B[43m_get_block\u001B[49m\u001B[43m(\u001B[49m\u001B[43mblock_identifier\u001B[49m\u001B[43m,\u001B[49m\u001B[43m \u001B[49m\u001B[43mfull_transactions\u001B[49m\u001B[43m)\u001B[49m\n",
      "File \u001B[0;32m~/miniconda3/envs/frontrunning-attacks/lib/python3.10/site-packages/web3/module.py:75\u001B[0m, in \u001B[0;36mretrieve_blocking_method_call_fn.<locals>.caller\u001B[0;34m(*args, **kwargs)\u001B[0m\n\u001B[1;32m     68\u001B[0m     \u001B[38;5;28;01mreturn\u001B[39;00m LogFilter(eth_module\u001B[38;5;241m=\u001B[39mmodule, filter_id\u001B[38;5;241m=\u001B[39merr\u001B[38;5;241m.\u001B[39mfilter_id)\n\u001B[1;32m     70\u001B[0m (\n\u001B[1;32m     71\u001B[0m     result_formatters,\n\u001B[1;32m     72\u001B[0m     error_formatters,\n\u001B[1;32m     73\u001B[0m     null_result_formatters,\n\u001B[1;32m     74\u001B[0m ) \u001B[38;5;241m=\u001B[39m response_formatters\n\u001B[0;32m---> 75\u001B[0m result \u001B[38;5;241m=\u001B[39m \u001B[43mw3\u001B[49m\u001B[38;5;241;43m.\u001B[39;49m\u001B[43mmanager\u001B[49m\u001B[38;5;241;43m.\u001B[39;49m\u001B[43mrequest_blocking\u001B[49m\u001B[43m(\u001B[49m\n\u001B[1;32m     76\u001B[0m \u001B[43m    \u001B[49m\u001B[43mmethod_str\u001B[49m\u001B[43m,\u001B[49m\u001B[43m \u001B[49m\u001B[43mparams\u001B[49m\u001B[43m,\u001B[49m\u001B[43m \u001B[49m\u001B[43merror_formatters\u001B[49m\u001B[43m,\u001B[49m\u001B[43m \u001B[49m\u001B[43mnull_result_formatters\u001B[49m\n\u001B[1;32m     77\u001B[0m \u001B[43m\u001B[49m\u001B[43m)\u001B[49m\n\u001B[1;32m     78\u001B[0m \u001B[38;5;28;01mreturn\u001B[39;00m apply_result_formatters(result_formatters, result)\n",
      "File \u001B[0;32m~/miniconda3/envs/frontrunning-attacks/lib/python3.10/site-packages/web3/manager.py:328\u001B[0m, in \u001B[0;36mRequestManager.request_blocking\u001B[0;34m(self, method, params, error_formatters, null_result_formatters)\u001B[0m\n\u001B[1;32m    318\u001B[0m \u001B[38;5;28;01mdef\u001B[39;00m \u001B[38;5;21mrequest_blocking\u001B[39m(\n\u001B[1;32m    319\u001B[0m     \u001B[38;5;28mself\u001B[39m,\n\u001B[1;32m    320\u001B[0m     method: Union[RPCEndpoint, Callable[\u001B[38;5;241m.\u001B[39m\u001B[38;5;241m.\u001B[39m\u001B[38;5;241m.\u001B[39m, RPCEndpoint]],\n\u001B[0;32m   (...)\u001B[0m\n\u001B[1;32m    323\u001B[0m     null_result_formatters: Optional[Callable[\u001B[38;5;241m.\u001B[39m\u001B[38;5;241m.\u001B[39m\u001B[38;5;241m.\u001B[39m, Any]] \u001B[38;5;241m=\u001B[39m \u001B[38;5;28;01mNone\u001B[39;00m,\n\u001B[1;32m    324\u001B[0m ) \u001B[38;5;241m-\u001B[39m\u001B[38;5;241m>\u001B[39m Any:\n\u001B[1;32m    325\u001B[0m \u001B[38;5;250m    \u001B[39m\u001B[38;5;124;03m\"\"\"\u001B[39;00m\n\u001B[1;32m    326\u001B[0m \u001B[38;5;124;03m    Make a synchronous request using the provider\u001B[39;00m\n\u001B[1;32m    327\u001B[0m \u001B[38;5;124;03m    \"\"\"\u001B[39;00m\n\u001B[0;32m--> 328\u001B[0m     response \u001B[38;5;241m=\u001B[39m \u001B[38;5;28;43mself\u001B[39;49m\u001B[38;5;241;43m.\u001B[39;49m\u001B[43m_make_request\u001B[49m\u001B[43m(\u001B[49m\u001B[43mmethod\u001B[49m\u001B[43m,\u001B[49m\u001B[43m \u001B[49m\u001B[43mparams\u001B[49m\u001B[43m)\u001B[49m\n\u001B[1;32m    329\u001B[0m     \u001B[38;5;28;01mreturn\u001B[39;00m \u001B[38;5;28mself\u001B[39m\u001B[38;5;241m.\u001B[39mformatted_response(\n\u001B[1;32m    330\u001B[0m         response, params, error_formatters, null_result_formatters\n\u001B[1;32m    331\u001B[0m     )\n",
      "File \u001B[0;32m~/miniconda3/envs/frontrunning-attacks/lib/python3.10/site-packages/web3/manager.py:212\u001B[0m, in \u001B[0;36mRequestManager._make_request\u001B[0;34m(self, method, params)\u001B[0m\n\u001B[1;32m    208\u001B[0m request_func \u001B[38;5;241m=\u001B[39m provider\u001B[38;5;241m.\u001B[39mrequest_func(\n\u001B[1;32m    209\u001B[0m     cast(\u001B[38;5;124m\"\u001B[39m\u001B[38;5;124mWeb3\u001B[39m\u001B[38;5;124m\"\u001B[39m, \u001B[38;5;28mself\u001B[39m\u001B[38;5;241m.\u001B[39mw3), cast(MiddlewareOnion, \u001B[38;5;28mself\u001B[39m\u001B[38;5;241m.\u001B[39mmiddleware_onion)\n\u001B[1;32m    210\u001B[0m )\n\u001B[1;32m    211\u001B[0m \u001B[38;5;28mself\u001B[39m\u001B[38;5;241m.\u001B[39mlogger\u001B[38;5;241m.\u001B[39mdebug(\u001B[38;5;124mf\u001B[39m\u001B[38;5;124m\"\u001B[39m\u001B[38;5;124mMaking request. Method: \u001B[39m\u001B[38;5;132;01m{\u001B[39;00mmethod\u001B[38;5;132;01m}\u001B[39;00m\u001B[38;5;124m\"\u001B[39m)\n\u001B[0;32m--> 212\u001B[0m \u001B[38;5;28;01mreturn\u001B[39;00m \u001B[43mrequest_func\u001B[49m\u001B[43m(\u001B[49m\u001B[43mmethod\u001B[49m\u001B[43m,\u001B[49m\u001B[43m \u001B[49m\u001B[43mparams\u001B[49m\u001B[43m)\u001B[49m\n",
      "File \u001B[0;32m~/miniconda3/envs/frontrunning-attacks/lib/python3.10/site-packages/web3/middleware/gas_price_strategy.py:101\u001B[0m, in \u001B[0;36mgas_price_strategy_middleware.<locals>.middleware\u001B[0;34m(method, params)\u001B[0m\n\u001B[1;32m     97\u001B[0m     transaction \u001B[38;5;241m=\u001B[39m validate_transaction_params(\n\u001B[1;32m     98\u001B[0m         transaction, latest_block, generated_gas_price\n\u001B[1;32m     99\u001B[0m     )\n\u001B[1;32m    100\u001B[0m     \u001B[38;5;28;01mreturn\u001B[39;00m make_request(method, (transaction,))\n\u001B[0;32m--> 101\u001B[0m \u001B[38;5;28;01mreturn\u001B[39;00m \u001B[43mmake_request\u001B[49m\u001B[43m(\u001B[49m\u001B[43mmethod\u001B[49m\u001B[43m,\u001B[49m\u001B[43m \u001B[49m\u001B[43mparams\u001B[49m\u001B[43m)\u001B[49m\n",
      "File \u001B[0;32m~/miniconda3/envs/frontrunning-attacks/lib/python3.10/site-packages/web3/middleware/formatting.py:126\u001B[0m, in \u001B[0;36mconstruct_web3_formatting_middleware.<locals>.formatter_middleware.<locals>.middleware\u001B[0;34m(method, params)\u001B[0m\n\u001B[1;32m    124\u001B[0m     formatter \u001B[38;5;241m=\u001B[39m request_formatters[method]\n\u001B[1;32m    125\u001B[0m     params \u001B[38;5;241m=\u001B[39m formatter(params)\n\u001B[0;32m--> 126\u001B[0m response \u001B[38;5;241m=\u001B[39m \u001B[43mmake_request\u001B[49m\u001B[43m(\u001B[49m\u001B[43mmethod\u001B[49m\u001B[43m,\u001B[49m\u001B[43m \u001B[49m\u001B[43mparams\u001B[49m\u001B[43m)\u001B[49m\n\u001B[1;32m    128\u001B[0m \u001B[38;5;28;01mreturn\u001B[39;00m _apply_response_formatters(\n\u001B[1;32m    129\u001B[0m     method,\n\u001B[1;32m    130\u001B[0m     formatters[\u001B[38;5;124m\"\u001B[39m\u001B[38;5;124mresult_formatters\u001B[39m\u001B[38;5;124m\"\u001B[39m],\n\u001B[1;32m    131\u001B[0m     formatters[\u001B[38;5;124m\"\u001B[39m\u001B[38;5;124merror_formatters\u001B[39m\u001B[38;5;124m\"\u001B[39m],\n\u001B[1;32m    132\u001B[0m     response,\n\u001B[1;32m    133\u001B[0m )\n",
      "File \u001B[0;32m~/miniconda3/envs/frontrunning-attacks/lib/python3.10/site-packages/web3/middleware/attrdict.py:43\u001B[0m, in \u001B[0;36mattrdict_middleware.<locals>.middleware\u001B[0;34m(method, params)\u001B[0m\n\u001B[1;32m     42\u001B[0m \u001B[38;5;28;01mdef\u001B[39;00m \u001B[38;5;21mmiddleware\u001B[39m(method: RPCEndpoint, params: Any) \u001B[38;5;241m-\u001B[39m\u001B[38;5;241m>\u001B[39m RPCResponse:\n\u001B[0;32m---> 43\u001B[0m     response \u001B[38;5;241m=\u001B[39m \u001B[43mmake_request\u001B[49m\u001B[43m(\u001B[49m\u001B[43mmethod\u001B[49m\u001B[43m,\u001B[49m\u001B[43m \u001B[49m\u001B[43mparams\u001B[49m\u001B[43m)\u001B[49m\n\u001B[1;32m     45\u001B[0m     \u001B[38;5;28;01mif\u001B[39;00m \u001B[38;5;124m\"\u001B[39m\u001B[38;5;124mresult\u001B[39m\u001B[38;5;124m\"\u001B[39m \u001B[38;5;129;01min\u001B[39;00m response:\n\u001B[1;32m     46\u001B[0m         \u001B[38;5;28;01mreturn\u001B[39;00m assoc(\n\u001B[1;32m     47\u001B[0m             response, \u001B[38;5;124m\"\u001B[39m\u001B[38;5;124mresult\u001B[39m\u001B[38;5;124m\"\u001B[39m, AttributeDict\u001B[38;5;241m.\u001B[39mrecursive(response[\u001B[38;5;124m\"\u001B[39m\u001B[38;5;124mresult\u001B[39m\u001B[38;5;124m\"\u001B[39m])\n\u001B[1;32m     48\u001B[0m         )\n",
      "File \u001B[0;32m~/miniconda3/envs/frontrunning-attacks/lib/python3.10/site-packages/web3/middleware/formatting.py:126\u001B[0m, in \u001B[0;36mconstruct_web3_formatting_middleware.<locals>.formatter_middleware.<locals>.middleware\u001B[0;34m(method, params)\u001B[0m\n\u001B[1;32m    124\u001B[0m     formatter \u001B[38;5;241m=\u001B[39m request_formatters[method]\n\u001B[1;32m    125\u001B[0m     params \u001B[38;5;241m=\u001B[39m formatter(params)\n\u001B[0;32m--> 126\u001B[0m response \u001B[38;5;241m=\u001B[39m \u001B[43mmake_request\u001B[49m\u001B[43m(\u001B[49m\u001B[43mmethod\u001B[49m\u001B[43m,\u001B[49m\u001B[43m \u001B[49m\u001B[43mparams\u001B[49m\u001B[43m)\u001B[49m\n\u001B[1;32m    128\u001B[0m \u001B[38;5;28;01mreturn\u001B[39;00m _apply_response_formatters(\n\u001B[1;32m    129\u001B[0m     method,\n\u001B[1;32m    130\u001B[0m     formatters[\u001B[38;5;124m\"\u001B[39m\u001B[38;5;124mresult_formatters\u001B[39m\u001B[38;5;124m\"\u001B[39m],\n\u001B[1;32m    131\u001B[0m     formatters[\u001B[38;5;124m\"\u001B[39m\u001B[38;5;124merror_formatters\u001B[39m\u001B[38;5;124m\"\u001B[39m],\n\u001B[1;32m    132\u001B[0m     response,\n\u001B[1;32m    133\u001B[0m )\n",
      "File \u001B[0;32m~/miniconda3/envs/frontrunning-attacks/lib/python3.10/site-packages/web3/middleware/formatting.py:126\u001B[0m, in \u001B[0;36mconstruct_web3_formatting_middleware.<locals>.formatter_middleware.<locals>.middleware\u001B[0;34m(method, params)\u001B[0m\n\u001B[1;32m    124\u001B[0m     formatter \u001B[38;5;241m=\u001B[39m request_formatters[method]\n\u001B[1;32m    125\u001B[0m     params \u001B[38;5;241m=\u001B[39m formatter(params)\n\u001B[0;32m--> 126\u001B[0m response \u001B[38;5;241m=\u001B[39m \u001B[43mmake_request\u001B[49m\u001B[43m(\u001B[49m\u001B[43mmethod\u001B[49m\u001B[43m,\u001B[49m\u001B[43m \u001B[49m\u001B[43mparams\u001B[49m\u001B[43m)\u001B[49m\n\u001B[1;32m    128\u001B[0m \u001B[38;5;28;01mreturn\u001B[39;00m _apply_response_formatters(\n\u001B[1;32m    129\u001B[0m     method,\n\u001B[1;32m    130\u001B[0m     formatters[\u001B[38;5;124m\"\u001B[39m\u001B[38;5;124mresult_formatters\u001B[39m\u001B[38;5;124m\"\u001B[39m],\n\u001B[1;32m    131\u001B[0m     formatters[\u001B[38;5;124m\"\u001B[39m\u001B[38;5;124merror_formatters\u001B[39m\u001B[38;5;124m\"\u001B[39m],\n\u001B[1;32m    132\u001B[0m     response,\n\u001B[1;32m    133\u001B[0m )\n",
      "File \u001B[0;32m~/miniconda3/envs/frontrunning-attacks/lib/python3.10/site-packages/web3/middleware/buffered_gas_estimate.py:43\u001B[0m, in \u001B[0;36mbuffered_gas_estimate_middleware.<locals>.middleware\u001B[0;34m(method, params)\u001B[0m\n\u001B[1;32m     37\u001B[0m         transaction \u001B[38;5;241m=\u001B[39m assoc(\n\u001B[1;32m     38\u001B[0m             transaction,\n\u001B[1;32m     39\u001B[0m             \u001B[38;5;124m\"\u001B[39m\u001B[38;5;124mgas\u001B[39m\u001B[38;5;124m\"\u001B[39m,\n\u001B[1;32m     40\u001B[0m             \u001B[38;5;28mhex\u001B[39m(get_buffered_gas_estimate(w3, transaction)),\n\u001B[1;32m     41\u001B[0m         )\n\u001B[1;32m     42\u001B[0m         \u001B[38;5;28;01mreturn\u001B[39;00m make_request(method, [transaction])\n\u001B[0;32m---> 43\u001B[0m \u001B[38;5;28;01mreturn\u001B[39;00m \u001B[43mmake_request\u001B[49m\u001B[43m(\u001B[49m\u001B[43mmethod\u001B[49m\u001B[43m,\u001B[49m\u001B[43m \u001B[49m\u001B[43mparams\u001B[49m\u001B[43m)\u001B[49m\n",
      "File \u001B[0;32m~/miniconda3/envs/frontrunning-attacks/lib/python3.10/site-packages/web3/middleware/exception_retry_request.py:125\u001B[0m, in \u001B[0;36mexception_retry_middleware.<locals>.middleware\u001B[0;34m(method, params)\u001B[0m\n\u001B[1;32m    123\u001B[0m \u001B[38;5;28;01mfor\u001B[39;00m i \u001B[38;5;129;01min\u001B[39;00m \u001B[38;5;28mrange\u001B[39m(retries):\n\u001B[1;32m    124\u001B[0m     \u001B[38;5;28;01mtry\u001B[39;00m:\n\u001B[0;32m--> 125\u001B[0m         \u001B[38;5;28;01mreturn\u001B[39;00m \u001B[43mmake_request\u001B[49m\u001B[43m(\u001B[49m\u001B[43mmethod\u001B[49m\u001B[43m,\u001B[49m\u001B[43m \u001B[49m\u001B[43mparams\u001B[49m\u001B[43m)\u001B[49m\n\u001B[1;32m    126\u001B[0m     \u001B[38;5;28;01mexcept\u001B[39;00m \u001B[38;5;28mtuple\u001B[39m(errors):\n\u001B[1;32m    127\u001B[0m         \u001B[38;5;28;01mif\u001B[39;00m i \u001B[38;5;241m<\u001B[39m retries \u001B[38;5;241m-\u001B[39m \u001B[38;5;241m1\u001B[39m:\n",
      "File \u001B[0;32m~/miniconda3/envs/frontrunning-attacks/lib/python3.10/site-packages/web3/providers/rpc.py:90\u001B[0m, in \u001B[0;36mHTTPProvider.make_request\u001B[0;34m(self, method, params)\u001B[0m\n\u001B[1;32m     86\u001B[0m \u001B[38;5;28mself\u001B[39m\u001B[38;5;241m.\u001B[39mlogger\u001B[38;5;241m.\u001B[39mdebug(\n\u001B[1;32m     87\u001B[0m     \u001B[38;5;124mf\u001B[39m\u001B[38;5;124m\"\u001B[39m\u001B[38;5;124mMaking request HTTP. URI: \u001B[39m\u001B[38;5;132;01m{\u001B[39;00m\u001B[38;5;28mself\u001B[39m\u001B[38;5;241m.\u001B[39mendpoint_uri\u001B[38;5;132;01m}\u001B[39;00m\u001B[38;5;124m, Method: \u001B[39m\u001B[38;5;132;01m{\u001B[39;00mmethod\u001B[38;5;132;01m}\u001B[39;00m\u001B[38;5;124m\"\u001B[39m\n\u001B[1;32m     88\u001B[0m )\n\u001B[1;32m     89\u001B[0m request_data \u001B[38;5;241m=\u001B[39m \u001B[38;5;28mself\u001B[39m\u001B[38;5;241m.\u001B[39mencode_rpc_request(method, params)\n\u001B[0;32m---> 90\u001B[0m raw_response \u001B[38;5;241m=\u001B[39m \u001B[43mmake_post_request\u001B[49m\u001B[43m(\u001B[49m\n\u001B[1;32m     91\u001B[0m \u001B[43m    \u001B[49m\u001B[38;5;28;43mself\u001B[39;49m\u001B[38;5;241;43m.\u001B[39;49m\u001B[43mendpoint_uri\u001B[49m\u001B[43m,\u001B[49m\u001B[43m \u001B[49m\u001B[43mrequest_data\u001B[49m\u001B[43m,\u001B[49m\u001B[43m \u001B[49m\u001B[38;5;241;43m*\u001B[39;49m\u001B[38;5;241;43m*\u001B[39;49m\u001B[38;5;28;43mself\u001B[39;49m\u001B[38;5;241;43m.\u001B[39;49m\u001B[43mget_request_kwargs\u001B[49m\u001B[43m(\u001B[49m\u001B[43m)\u001B[49m\n\u001B[1;32m     92\u001B[0m \u001B[43m\u001B[49m\u001B[43m)\u001B[49m\n\u001B[1;32m     93\u001B[0m response \u001B[38;5;241m=\u001B[39m \u001B[38;5;28mself\u001B[39m\u001B[38;5;241m.\u001B[39mdecode_rpc_response(raw_response)\n\u001B[1;32m     94\u001B[0m \u001B[38;5;28mself\u001B[39m\u001B[38;5;241m.\u001B[39mlogger\u001B[38;5;241m.\u001B[39mdebug(\n\u001B[1;32m     95\u001B[0m     \u001B[38;5;124mf\u001B[39m\u001B[38;5;124m\"\u001B[39m\u001B[38;5;124mGetting response HTTP. URI: \u001B[39m\u001B[38;5;132;01m{\u001B[39;00m\u001B[38;5;28mself\u001B[39m\u001B[38;5;241m.\u001B[39mendpoint_uri\u001B[38;5;132;01m}\u001B[39;00m\u001B[38;5;124m, \u001B[39m\u001B[38;5;124m\"\u001B[39m\n\u001B[1;32m     96\u001B[0m     \u001B[38;5;124mf\u001B[39m\u001B[38;5;124m\"\u001B[39m\u001B[38;5;124mMethod: \u001B[39m\u001B[38;5;132;01m{\u001B[39;00mmethod\u001B[38;5;132;01m}\u001B[39;00m\u001B[38;5;124m, Response: \u001B[39m\u001B[38;5;132;01m{\u001B[39;00mresponse\u001B[38;5;132;01m}\u001B[39;00m\u001B[38;5;124m\"\u001B[39m\n\u001B[1;32m     97\u001B[0m )\n",
      "File \u001B[0;32m~/miniconda3/envs/frontrunning-attacks/lib/python3.10/site-packages/web3/_utils/request.py:114\u001B[0m, in \u001B[0;36mmake_post_request\u001B[0;34m(endpoint_uri, data, *args, **kwargs)\u001B[0m\n\u001B[1;32m    111\u001B[0m \u001B[38;5;28;01mdef\u001B[39;00m \u001B[38;5;21mmake_post_request\u001B[39m(\n\u001B[1;32m    112\u001B[0m     endpoint_uri: URI, data: Union[\u001B[38;5;28mbytes\u001B[39m, Dict[\u001B[38;5;28mstr\u001B[39m, Any]], \u001B[38;5;241m*\u001B[39margs: Any, \u001B[38;5;241m*\u001B[39m\u001B[38;5;241m*\u001B[39mkwargs: Any\n\u001B[1;32m    113\u001B[0m ) \u001B[38;5;241m-\u001B[39m\u001B[38;5;241m>\u001B[39m \u001B[38;5;28mbytes\u001B[39m:\n\u001B[0;32m--> 114\u001B[0m     response \u001B[38;5;241m=\u001B[39m \u001B[43mget_response_from_post_request\u001B[49m\u001B[43m(\u001B[49m\u001B[43mendpoint_uri\u001B[49m\u001B[43m,\u001B[49m\u001B[43m \u001B[49m\u001B[43mdata\u001B[49m\u001B[38;5;241;43m=\u001B[39;49m\u001B[43mdata\u001B[49m\u001B[43m,\u001B[49m\u001B[43m \u001B[49m\u001B[38;5;241;43m*\u001B[39;49m\u001B[43margs\u001B[49m\u001B[43m,\u001B[49m\u001B[43m \u001B[49m\u001B[38;5;241;43m*\u001B[39;49m\u001B[38;5;241;43m*\u001B[39;49m\u001B[43mkwargs\u001B[49m\u001B[43m)\u001B[49m\n\u001B[1;32m    115\u001B[0m     response\u001B[38;5;241m.\u001B[39mraise_for_status()\n\u001B[1;32m    116\u001B[0m     \u001B[38;5;28;01mreturn\u001B[39;00m response\u001B[38;5;241m.\u001B[39mcontent\n",
      "File \u001B[0;32m~/miniconda3/envs/frontrunning-attacks/lib/python3.10/site-packages/web3/_utils/request.py:107\u001B[0m, in \u001B[0;36mget_response_from_post_request\u001B[0;34m(endpoint_uri, *args, **kwargs)\u001B[0m\n\u001B[1;32m    105\u001B[0m kwargs\u001B[38;5;241m.\u001B[39msetdefault(\u001B[38;5;124m\"\u001B[39m\u001B[38;5;124mtimeout\u001B[39m\u001B[38;5;124m\"\u001B[39m, DEFAULT_TIMEOUT)\n\u001B[1;32m    106\u001B[0m session \u001B[38;5;241m=\u001B[39m cache_and_return_session(endpoint_uri)\n\u001B[0;32m--> 107\u001B[0m response \u001B[38;5;241m=\u001B[39m \u001B[43msession\u001B[49m\u001B[38;5;241;43m.\u001B[39;49m\u001B[43mpost\u001B[49m\u001B[43m(\u001B[49m\u001B[43mendpoint_uri\u001B[49m\u001B[43m,\u001B[49m\u001B[43m \u001B[49m\u001B[38;5;241;43m*\u001B[39;49m\u001B[43margs\u001B[49m\u001B[43m,\u001B[49m\u001B[43m \u001B[49m\u001B[38;5;241;43m*\u001B[39;49m\u001B[38;5;241;43m*\u001B[39;49m\u001B[43mkwargs\u001B[49m\u001B[43m)\u001B[49m\n\u001B[1;32m    108\u001B[0m \u001B[38;5;28;01mreturn\u001B[39;00m response\n",
      "File \u001B[0;32m~/.local/lib/python3.10/site-packages/requests/sessions.py:637\u001B[0m, in \u001B[0;36mSession.post\u001B[0;34m(self, url, data, json, **kwargs)\u001B[0m\n\u001B[1;32m    626\u001B[0m \u001B[38;5;28;01mdef\u001B[39;00m \u001B[38;5;21mpost\u001B[39m(\u001B[38;5;28mself\u001B[39m, url, data\u001B[38;5;241m=\u001B[39m\u001B[38;5;28;01mNone\u001B[39;00m, json\u001B[38;5;241m=\u001B[39m\u001B[38;5;28;01mNone\u001B[39;00m, \u001B[38;5;241m*\u001B[39m\u001B[38;5;241m*\u001B[39mkwargs):\n\u001B[1;32m    627\u001B[0m \u001B[38;5;250m    \u001B[39m\u001B[38;5;124mr\u001B[39m\u001B[38;5;124;03m\"\"\"Sends a POST request. Returns :class:`Response` object.\u001B[39;00m\n\u001B[1;32m    628\u001B[0m \n\u001B[1;32m    629\u001B[0m \u001B[38;5;124;03m    :param url: URL for the new :class:`Request` object.\u001B[39;00m\n\u001B[0;32m   (...)\u001B[0m\n\u001B[1;32m    634\u001B[0m \u001B[38;5;124;03m    :rtype: requests.Response\u001B[39;00m\n\u001B[1;32m    635\u001B[0m \u001B[38;5;124;03m    \"\"\"\u001B[39;00m\n\u001B[0;32m--> 637\u001B[0m     \u001B[38;5;28;01mreturn\u001B[39;00m \u001B[38;5;28;43mself\u001B[39;49m\u001B[38;5;241;43m.\u001B[39;49m\u001B[43mrequest\u001B[49m\u001B[43m(\u001B[49m\u001B[38;5;124;43m\"\u001B[39;49m\u001B[38;5;124;43mPOST\u001B[39;49m\u001B[38;5;124;43m\"\u001B[39;49m\u001B[43m,\u001B[49m\u001B[43m \u001B[49m\u001B[43murl\u001B[49m\u001B[43m,\u001B[49m\u001B[43m \u001B[49m\u001B[43mdata\u001B[49m\u001B[38;5;241;43m=\u001B[39;49m\u001B[43mdata\u001B[49m\u001B[43m,\u001B[49m\u001B[43m \u001B[49m\u001B[43mjson\u001B[49m\u001B[38;5;241;43m=\u001B[39;49m\u001B[43mjson\u001B[49m\u001B[43m,\u001B[49m\u001B[43m \u001B[49m\u001B[38;5;241;43m*\u001B[39;49m\u001B[38;5;241;43m*\u001B[39;49m\u001B[43mkwargs\u001B[49m\u001B[43m)\u001B[49m\n",
      "File \u001B[0;32m~/.local/lib/python3.10/site-packages/requests/sessions.py:589\u001B[0m, in \u001B[0;36mSession.request\u001B[0;34m(self, method, url, params, data, headers, cookies, files, auth, timeout, allow_redirects, proxies, hooks, stream, verify, cert, json)\u001B[0m\n\u001B[1;32m    584\u001B[0m send_kwargs \u001B[38;5;241m=\u001B[39m {\n\u001B[1;32m    585\u001B[0m     \u001B[38;5;124m\"\u001B[39m\u001B[38;5;124mtimeout\u001B[39m\u001B[38;5;124m\"\u001B[39m: timeout,\n\u001B[1;32m    586\u001B[0m     \u001B[38;5;124m\"\u001B[39m\u001B[38;5;124mallow_redirects\u001B[39m\u001B[38;5;124m\"\u001B[39m: allow_redirects,\n\u001B[1;32m    587\u001B[0m }\n\u001B[1;32m    588\u001B[0m send_kwargs\u001B[38;5;241m.\u001B[39mupdate(settings)\n\u001B[0;32m--> 589\u001B[0m resp \u001B[38;5;241m=\u001B[39m \u001B[38;5;28;43mself\u001B[39;49m\u001B[38;5;241;43m.\u001B[39;49m\u001B[43msend\u001B[49m\u001B[43m(\u001B[49m\u001B[43mprep\u001B[49m\u001B[43m,\u001B[49m\u001B[43m \u001B[49m\u001B[38;5;241;43m*\u001B[39;49m\u001B[38;5;241;43m*\u001B[39;49m\u001B[43msend_kwargs\u001B[49m\u001B[43m)\u001B[49m\n\u001B[1;32m    591\u001B[0m \u001B[38;5;28;01mreturn\u001B[39;00m resp\n",
      "File \u001B[0;32m~/.local/lib/python3.10/site-packages/requests/sessions.py:703\u001B[0m, in \u001B[0;36mSession.send\u001B[0;34m(self, request, **kwargs)\u001B[0m\n\u001B[1;32m    700\u001B[0m start \u001B[38;5;241m=\u001B[39m preferred_clock()\n\u001B[1;32m    702\u001B[0m \u001B[38;5;66;03m# Send the request\u001B[39;00m\n\u001B[0;32m--> 703\u001B[0m r \u001B[38;5;241m=\u001B[39m \u001B[43madapter\u001B[49m\u001B[38;5;241;43m.\u001B[39;49m\u001B[43msend\u001B[49m\u001B[43m(\u001B[49m\u001B[43mrequest\u001B[49m\u001B[43m,\u001B[49m\u001B[43m \u001B[49m\u001B[38;5;241;43m*\u001B[39;49m\u001B[38;5;241;43m*\u001B[39;49m\u001B[43mkwargs\u001B[49m\u001B[43m)\u001B[49m\n\u001B[1;32m    705\u001B[0m \u001B[38;5;66;03m# Total elapsed time of the request (approximately)\u001B[39;00m\n\u001B[1;32m    706\u001B[0m elapsed \u001B[38;5;241m=\u001B[39m preferred_clock() \u001B[38;5;241m-\u001B[39m start\n",
      "File \u001B[0;32m~/.local/lib/python3.10/site-packages/requests/adapters.py:486\u001B[0m, in \u001B[0;36mHTTPAdapter.send\u001B[0;34m(self, request, stream, timeout, verify, cert, proxies)\u001B[0m\n\u001B[1;32m    483\u001B[0m     timeout \u001B[38;5;241m=\u001B[39m TimeoutSauce(connect\u001B[38;5;241m=\u001B[39mtimeout, read\u001B[38;5;241m=\u001B[39mtimeout)\n\u001B[1;32m    485\u001B[0m \u001B[38;5;28;01mtry\u001B[39;00m:\n\u001B[0;32m--> 486\u001B[0m     resp \u001B[38;5;241m=\u001B[39m \u001B[43mconn\u001B[49m\u001B[38;5;241;43m.\u001B[39;49m\u001B[43murlopen\u001B[49m\u001B[43m(\u001B[49m\n\u001B[1;32m    487\u001B[0m \u001B[43m        \u001B[49m\u001B[43mmethod\u001B[49m\u001B[38;5;241;43m=\u001B[39;49m\u001B[43mrequest\u001B[49m\u001B[38;5;241;43m.\u001B[39;49m\u001B[43mmethod\u001B[49m\u001B[43m,\u001B[49m\n\u001B[1;32m    488\u001B[0m \u001B[43m        \u001B[49m\u001B[43murl\u001B[49m\u001B[38;5;241;43m=\u001B[39;49m\u001B[43murl\u001B[49m\u001B[43m,\u001B[49m\n\u001B[1;32m    489\u001B[0m \u001B[43m        \u001B[49m\u001B[43mbody\u001B[49m\u001B[38;5;241;43m=\u001B[39;49m\u001B[43mrequest\u001B[49m\u001B[38;5;241;43m.\u001B[39;49m\u001B[43mbody\u001B[49m\u001B[43m,\u001B[49m\n\u001B[1;32m    490\u001B[0m \u001B[43m        \u001B[49m\u001B[43mheaders\u001B[49m\u001B[38;5;241;43m=\u001B[39;49m\u001B[43mrequest\u001B[49m\u001B[38;5;241;43m.\u001B[39;49m\u001B[43mheaders\u001B[49m\u001B[43m,\u001B[49m\n\u001B[1;32m    491\u001B[0m \u001B[43m        \u001B[49m\u001B[43mredirect\u001B[49m\u001B[38;5;241;43m=\u001B[39;49m\u001B[38;5;28;43;01mFalse\u001B[39;49;00m\u001B[43m,\u001B[49m\n\u001B[1;32m    492\u001B[0m \u001B[43m        \u001B[49m\u001B[43massert_same_host\u001B[49m\u001B[38;5;241;43m=\u001B[39;49m\u001B[38;5;28;43;01mFalse\u001B[39;49;00m\u001B[43m,\u001B[49m\n\u001B[1;32m    493\u001B[0m \u001B[43m        \u001B[49m\u001B[43mpreload_content\u001B[49m\u001B[38;5;241;43m=\u001B[39;49m\u001B[38;5;28;43;01mFalse\u001B[39;49;00m\u001B[43m,\u001B[49m\n\u001B[1;32m    494\u001B[0m \u001B[43m        \u001B[49m\u001B[43mdecode_content\u001B[49m\u001B[38;5;241;43m=\u001B[39;49m\u001B[38;5;28;43;01mFalse\u001B[39;49;00m\u001B[43m,\u001B[49m\n\u001B[1;32m    495\u001B[0m \u001B[43m        \u001B[49m\u001B[43mretries\u001B[49m\u001B[38;5;241;43m=\u001B[39;49m\u001B[38;5;28;43mself\u001B[39;49m\u001B[38;5;241;43m.\u001B[39;49m\u001B[43mmax_retries\u001B[49m\u001B[43m,\u001B[49m\n\u001B[1;32m    496\u001B[0m \u001B[43m        \u001B[49m\u001B[43mtimeout\u001B[49m\u001B[38;5;241;43m=\u001B[39;49m\u001B[43mtimeout\u001B[49m\u001B[43m,\u001B[49m\n\u001B[1;32m    497\u001B[0m \u001B[43m        \u001B[49m\u001B[43mchunked\u001B[49m\u001B[38;5;241;43m=\u001B[39;49m\u001B[43mchunked\u001B[49m\u001B[43m,\u001B[49m\n\u001B[1;32m    498\u001B[0m \u001B[43m    \u001B[49m\u001B[43m)\u001B[49m\n\u001B[1;32m    500\u001B[0m \u001B[38;5;28;01mexcept\u001B[39;00m (ProtocolError, \u001B[38;5;167;01mOSError\u001B[39;00m) \u001B[38;5;28;01mas\u001B[39;00m err:\n\u001B[1;32m    501\u001B[0m     \u001B[38;5;28;01mraise\u001B[39;00m \u001B[38;5;167;01mConnectionError\u001B[39;00m(err, request\u001B[38;5;241m=\u001B[39mrequest)\n",
      "File \u001B[0;32m~/miniconda3/envs/frontrunning-attacks/lib/python3.10/site-packages/urllib3/connectionpool.py:793\u001B[0m, in \u001B[0;36mHTTPConnectionPool.urlopen\u001B[0;34m(self, method, url, body, headers, retries, redirect, assert_same_host, timeout, pool_timeout, release_conn, chunked, body_pos, preload_content, decode_content, **response_kw)\u001B[0m\n\u001B[1;32m    790\u001B[0m response_conn \u001B[38;5;241m=\u001B[39m conn \u001B[38;5;28;01mif\u001B[39;00m \u001B[38;5;129;01mnot\u001B[39;00m release_conn \u001B[38;5;28;01melse\u001B[39;00m \u001B[38;5;28;01mNone\u001B[39;00m\n\u001B[1;32m    792\u001B[0m \u001B[38;5;66;03m# Make the request on the HTTPConnection object\u001B[39;00m\n\u001B[0;32m--> 793\u001B[0m response \u001B[38;5;241m=\u001B[39m \u001B[38;5;28;43mself\u001B[39;49m\u001B[38;5;241;43m.\u001B[39;49m\u001B[43m_make_request\u001B[49m\u001B[43m(\u001B[49m\n\u001B[1;32m    794\u001B[0m \u001B[43m    \u001B[49m\u001B[43mconn\u001B[49m\u001B[43m,\u001B[49m\n\u001B[1;32m    795\u001B[0m \u001B[43m    \u001B[49m\u001B[43mmethod\u001B[49m\u001B[43m,\u001B[49m\n\u001B[1;32m    796\u001B[0m \u001B[43m    \u001B[49m\u001B[43murl\u001B[49m\u001B[43m,\u001B[49m\n\u001B[1;32m    797\u001B[0m \u001B[43m    \u001B[49m\u001B[43mtimeout\u001B[49m\u001B[38;5;241;43m=\u001B[39;49m\u001B[43mtimeout_obj\u001B[49m\u001B[43m,\u001B[49m\n\u001B[1;32m    798\u001B[0m \u001B[43m    \u001B[49m\u001B[43mbody\u001B[49m\u001B[38;5;241;43m=\u001B[39;49m\u001B[43mbody\u001B[49m\u001B[43m,\u001B[49m\n\u001B[1;32m    799\u001B[0m \u001B[43m    \u001B[49m\u001B[43mheaders\u001B[49m\u001B[38;5;241;43m=\u001B[39;49m\u001B[43mheaders\u001B[49m\u001B[43m,\u001B[49m\n\u001B[1;32m    800\u001B[0m \u001B[43m    \u001B[49m\u001B[43mchunked\u001B[49m\u001B[38;5;241;43m=\u001B[39;49m\u001B[43mchunked\u001B[49m\u001B[43m,\u001B[49m\n\u001B[1;32m    801\u001B[0m \u001B[43m    \u001B[49m\u001B[43mretries\u001B[49m\u001B[38;5;241;43m=\u001B[39;49m\u001B[43mretries\u001B[49m\u001B[43m,\u001B[49m\n\u001B[1;32m    802\u001B[0m \u001B[43m    \u001B[49m\u001B[43mresponse_conn\u001B[49m\u001B[38;5;241;43m=\u001B[39;49m\u001B[43mresponse_conn\u001B[49m\u001B[43m,\u001B[49m\n\u001B[1;32m    803\u001B[0m \u001B[43m    \u001B[49m\u001B[43mpreload_content\u001B[49m\u001B[38;5;241;43m=\u001B[39;49m\u001B[43mpreload_content\u001B[49m\u001B[43m,\u001B[49m\n\u001B[1;32m    804\u001B[0m \u001B[43m    \u001B[49m\u001B[43mdecode_content\u001B[49m\u001B[38;5;241;43m=\u001B[39;49m\u001B[43mdecode_content\u001B[49m\u001B[43m,\u001B[49m\n\u001B[1;32m    805\u001B[0m \u001B[43m    \u001B[49m\u001B[38;5;241;43m*\u001B[39;49m\u001B[38;5;241;43m*\u001B[39;49m\u001B[43mresponse_kw\u001B[49m\u001B[43m,\u001B[49m\n\u001B[1;32m    806\u001B[0m \u001B[43m\u001B[49m\u001B[43m)\u001B[49m\n\u001B[1;32m    808\u001B[0m \u001B[38;5;66;03m# Everything went great!\u001B[39;00m\n\u001B[1;32m    809\u001B[0m clean_exit \u001B[38;5;241m=\u001B[39m \u001B[38;5;28;01mTrue\u001B[39;00m\n",
      "File \u001B[0;32m~/miniconda3/envs/frontrunning-attacks/lib/python3.10/site-packages/urllib3/connectionpool.py:537\u001B[0m, in \u001B[0;36mHTTPConnectionPool._make_request\u001B[0;34m(self, conn, method, url, body, headers, retries, timeout, chunked, response_conn, preload_content, decode_content, enforce_content_length)\u001B[0m\n\u001B[1;32m    535\u001B[0m \u001B[38;5;66;03m# Receive the response from the server\u001B[39;00m\n\u001B[1;32m    536\u001B[0m \u001B[38;5;28;01mtry\u001B[39;00m:\n\u001B[0;32m--> 537\u001B[0m     response \u001B[38;5;241m=\u001B[39m \u001B[43mconn\u001B[49m\u001B[38;5;241;43m.\u001B[39;49m\u001B[43mgetresponse\u001B[49m\u001B[43m(\u001B[49m\u001B[43m)\u001B[49m\n\u001B[1;32m    538\u001B[0m \u001B[38;5;28;01mexcept\u001B[39;00m (BaseSSLError, \u001B[38;5;167;01mOSError\u001B[39;00m) \u001B[38;5;28;01mas\u001B[39;00m e:\n\u001B[1;32m    539\u001B[0m     \u001B[38;5;28mself\u001B[39m\u001B[38;5;241m.\u001B[39m_raise_timeout(err\u001B[38;5;241m=\u001B[39me, url\u001B[38;5;241m=\u001B[39murl, timeout_value\u001B[38;5;241m=\u001B[39mread_timeout)\n",
      "File \u001B[0;32m~/miniconda3/envs/frontrunning-attacks/lib/python3.10/site-packages/urllib3/connection.py:466\u001B[0m, in \u001B[0;36mHTTPConnection.getresponse\u001B[0;34m(self)\u001B[0m\n\u001B[1;32m    463\u001B[0m \u001B[38;5;28;01mfrom\u001B[39;00m \u001B[38;5;21;01m.\u001B[39;00m\u001B[38;5;21;01mresponse\u001B[39;00m \u001B[38;5;28;01mimport\u001B[39;00m HTTPResponse\n\u001B[1;32m    465\u001B[0m \u001B[38;5;66;03m# Get the response from http.client.HTTPConnection\u001B[39;00m\n\u001B[0;32m--> 466\u001B[0m httplib_response \u001B[38;5;241m=\u001B[39m \u001B[38;5;28;43msuper\u001B[39;49m\u001B[43m(\u001B[49m\u001B[43m)\u001B[49m\u001B[38;5;241;43m.\u001B[39;49m\u001B[43mgetresponse\u001B[49m\u001B[43m(\u001B[49m\u001B[43m)\u001B[49m\n\u001B[1;32m    468\u001B[0m \u001B[38;5;28;01mtry\u001B[39;00m:\n\u001B[1;32m    469\u001B[0m     assert_header_parsing(httplib_response\u001B[38;5;241m.\u001B[39mmsg)\n",
      "File \u001B[0;32m~/miniconda3/envs/frontrunning-attacks/lib/python3.10/http/client.py:1375\u001B[0m, in \u001B[0;36mHTTPConnection.getresponse\u001B[0;34m(self)\u001B[0m\n\u001B[1;32m   1373\u001B[0m \u001B[38;5;28;01mtry\u001B[39;00m:\n\u001B[1;32m   1374\u001B[0m     \u001B[38;5;28;01mtry\u001B[39;00m:\n\u001B[0;32m-> 1375\u001B[0m         \u001B[43mresponse\u001B[49m\u001B[38;5;241;43m.\u001B[39;49m\u001B[43mbegin\u001B[49m\u001B[43m(\u001B[49m\u001B[43m)\u001B[49m\n\u001B[1;32m   1376\u001B[0m     \u001B[38;5;28;01mexcept\u001B[39;00m \u001B[38;5;167;01mConnectionError\u001B[39;00m:\n\u001B[1;32m   1377\u001B[0m         \u001B[38;5;28mself\u001B[39m\u001B[38;5;241m.\u001B[39mclose()\n",
      "File \u001B[0;32m~/miniconda3/envs/frontrunning-attacks/lib/python3.10/http/client.py:318\u001B[0m, in \u001B[0;36mHTTPResponse.begin\u001B[0;34m(self)\u001B[0m\n\u001B[1;32m    316\u001B[0m \u001B[38;5;66;03m# read until we get a non-100 response\u001B[39;00m\n\u001B[1;32m    317\u001B[0m \u001B[38;5;28;01mwhile\u001B[39;00m \u001B[38;5;28;01mTrue\u001B[39;00m:\n\u001B[0;32m--> 318\u001B[0m     version, status, reason \u001B[38;5;241m=\u001B[39m \u001B[38;5;28;43mself\u001B[39;49m\u001B[38;5;241;43m.\u001B[39;49m\u001B[43m_read_status\u001B[49m\u001B[43m(\u001B[49m\u001B[43m)\u001B[49m\n\u001B[1;32m    319\u001B[0m     \u001B[38;5;28;01mif\u001B[39;00m status \u001B[38;5;241m!=\u001B[39m CONTINUE:\n\u001B[1;32m    320\u001B[0m         \u001B[38;5;28;01mbreak\u001B[39;00m\n",
      "File \u001B[0;32m~/miniconda3/envs/frontrunning-attacks/lib/python3.10/http/client.py:279\u001B[0m, in \u001B[0;36mHTTPResponse._read_status\u001B[0;34m(self)\u001B[0m\n\u001B[1;32m    278\u001B[0m \u001B[38;5;28;01mdef\u001B[39;00m \u001B[38;5;21m_read_status\u001B[39m(\u001B[38;5;28mself\u001B[39m):\n\u001B[0;32m--> 279\u001B[0m     line \u001B[38;5;241m=\u001B[39m \u001B[38;5;28mstr\u001B[39m(\u001B[38;5;28;43mself\u001B[39;49m\u001B[38;5;241;43m.\u001B[39;49m\u001B[43mfp\u001B[49m\u001B[38;5;241;43m.\u001B[39;49m\u001B[43mreadline\u001B[49m\u001B[43m(\u001B[49m\u001B[43m_MAXLINE\u001B[49m\u001B[43m \u001B[49m\u001B[38;5;241;43m+\u001B[39;49m\u001B[43m \u001B[49m\u001B[38;5;241;43m1\u001B[39;49m\u001B[43m)\u001B[49m, \u001B[38;5;124m\"\u001B[39m\u001B[38;5;124miso-8859-1\u001B[39m\u001B[38;5;124m\"\u001B[39m)\n\u001B[1;32m    280\u001B[0m     \u001B[38;5;28;01mif\u001B[39;00m \u001B[38;5;28mlen\u001B[39m(line) \u001B[38;5;241m>\u001B[39m _MAXLINE:\n\u001B[1;32m    281\u001B[0m         \u001B[38;5;28;01mraise\u001B[39;00m LineTooLong(\u001B[38;5;124m\"\u001B[39m\u001B[38;5;124mstatus line\u001B[39m\u001B[38;5;124m\"\u001B[39m)\n",
      "File \u001B[0;32m~/miniconda3/envs/frontrunning-attacks/lib/python3.10/socket.py:705\u001B[0m, in \u001B[0;36mSocketIO.readinto\u001B[0;34m(self, b)\u001B[0m\n\u001B[1;32m    703\u001B[0m \u001B[38;5;28;01mwhile\u001B[39;00m \u001B[38;5;28;01mTrue\u001B[39;00m:\n\u001B[1;32m    704\u001B[0m     \u001B[38;5;28;01mtry\u001B[39;00m:\n\u001B[0;32m--> 705\u001B[0m         \u001B[38;5;28;01mreturn\u001B[39;00m \u001B[38;5;28;43mself\u001B[39;49m\u001B[38;5;241;43m.\u001B[39;49m\u001B[43m_sock\u001B[49m\u001B[38;5;241;43m.\u001B[39;49m\u001B[43mrecv_into\u001B[49m\u001B[43m(\u001B[49m\u001B[43mb\u001B[49m\u001B[43m)\u001B[49m\n\u001B[1;32m    706\u001B[0m     \u001B[38;5;28;01mexcept\u001B[39;00m timeout:\n\u001B[1;32m    707\u001B[0m         \u001B[38;5;28mself\u001B[39m\u001B[38;5;241m.\u001B[39m_timeout_occurred \u001B[38;5;241m=\u001B[39m \u001B[38;5;28;01mTrue\u001B[39;00m\n",
      "File \u001B[0;32m~/miniconda3/envs/frontrunning-attacks/lib/python3.10/ssl.py:1307\u001B[0m, in \u001B[0;36mSSLSocket.recv_into\u001B[0;34m(self, buffer, nbytes, flags)\u001B[0m\n\u001B[1;32m   1303\u001B[0m     \u001B[38;5;28;01mif\u001B[39;00m flags \u001B[38;5;241m!=\u001B[39m \u001B[38;5;241m0\u001B[39m:\n\u001B[1;32m   1304\u001B[0m         \u001B[38;5;28;01mraise\u001B[39;00m \u001B[38;5;167;01mValueError\u001B[39;00m(\n\u001B[1;32m   1305\u001B[0m           \u001B[38;5;124m\"\u001B[39m\u001B[38;5;124mnon-zero flags not allowed in calls to recv_into() on \u001B[39m\u001B[38;5;132;01m%s\u001B[39;00m\u001B[38;5;124m\"\u001B[39m \u001B[38;5;241m%\u001B[39m\n\u001B[1;32m   1306\u001B[0m           \u001B[38;5;28mself\u001B[39m\u001B[38;5;241m.\u001B[39m\u001B[38;5;18m__class__\u001B[39m)\n\u001B[0;32m-> 1307\u001B[0m     \u001B[38;5;28;01mreturn\u001B[39;00m \u001B[38;5;28;43mself\u001B[39;49m\u001B[38;5;241;43m.\u001B[39;49m\u001B[43mread\u001B[49m\u001B[43m(\u001B[49m\u001B[43mnbytes\u001B[49m\u001B[43m,\u001B[49m\u001B[43m \u001B[49m\u001B[43mbuffer\u001B[49m\u001B[43m)\u001B[49m\n\u001B[1;32m   1308\u001B[0m \u001B[38;5;28;01melse\u001B[39;00m:\n\u001B[1;32m   1309\u001B[0m     \u001B[38;5;28;01mreturn\u001B[39;00m \u001B[38;5;28msuper\u001B[39m()\u001B[38;5;241m.\u001B[39mrecv_into(buffer, nbytes, flags)\n",
      "File \u001B[0;32m~/miniconda3/envs/frontrunning-attacks/lib/python3.10/ssl.py:1163\u001B[0m, in \u001B[0;36mSSLSocket.read\u001B[0;34m(self, len, buffer)\u001B[0m\n\u001B[1;32m   1161\u001B[0m \u001B[38;5;28;01mtry\u001B[39;00m:\n\u001B[1;32m   1162\u001B[0m     \u001B[38;5;28;01mif\u001B[39;00m buffer \u001B[38;5;129;01mis\u001B[39;00m \u001B[38;5;129;01mnot\u001B[39;00m \u001B[38;5;28;01mNone\u001B[39;00m:\n\u001B[0;32m-> 1163\u001B[0m         \u001B[38;5;28;01mreturn\u001B[39;00m \u001B[38;5;28;43mself\u001B[39;49m\u001B[38;5;241;43m.\u001B[39;49m\u001B[43m_sslobj\u001B[49m\u001B[38;5;241;43m.\u001B[39;49m\u001B[43mread\u001B[49m\u001B[43m(\u001B[49m\u001B[38;5;28;43mlen\u001B[39;49m\u001B[43m,\u001B[49m\u001B[43m \u001B[49m\u001B[43mbuffer\u001B[49m\u001B[43m)\u001B[49m\n\u001B[1;32m   1164\u001B[0m     \u001B[38;5;28;01melse\u001B[39;00m:\n\u001B[1;32m   1165\u001B[0m         \u001B[38;5;28;01mreturn\u001B[39;00m \u001B[38;5;28mself\u001B[39m\u001B[38;5;241m.\u001B[39m_sslobj\u001B[38;5;241m.\u001B[39mread(\u001B[38;5;28mlen\u001B[39m)\n",
      "\u001B[0;31mKeyboardInterrupt\u001B[0m: "
     ]
    }
   ],
   "execution_count": 14
  },
  {
   "cell_type": "markdown",
   "source": [
    "**Feature Extraction Whale/Victim**"
   ],
   "metadata": {
    "collapsed": false
   },
   "id": "654149907cb12dcc"
  },
  {
   "cell_type": "code",
   "source": [
    "feature_insertion_whale_txs_df = extract_features_insertion_attack(csv_column=\"Whale\")\n"
   ],
   "metadata": {
    "collapsed": false,
    "ExecuteTime": {
     "end_time": "2024-04-10T07:04:18.830403Z",
     "start_time": "2024-04-10T07:04:05.580035Z"
    }
   },
   "id": "d2d781afc44774e0",
   "outputs": [
    {
     "name": "stderr",
     "output_type": "stream",
     "text": [
      "1it [00:12, 12.48s/it]\n"
     ]
    },
    {
     "ename": "KeyboardInterrupt",
     "evalue": "",
     "output_type": "error",
     "traceback": [
      "\u001B[0;31m---------------------------------------------------------------------------\u001B[0m",
      "\u001B[0;31mKeyboardInterrupt\u001B[0m                         Traceback (most recent call last)",
      "Cell \u001B[0;32mIn[15], line 1\u001B[0m\n\u001B[0;32m----> 1\u001B[0m feature_insertion_whale_txs_df \u001B[38;5;241m=\u001B[39m \u001B[43mextract_features_insertion_attack\u001B[49m\u001B[43m(\u001B[49m\u001B[43mcsv_column\u001B[49m\u001B[38;5;241;43m=\u001B[39;49m\u001B[38;5;124;43m\"\u001B[39;49m\u001B[38;5;124;43mWhale\u001B[39;49m\u001B[38;5;124;43m\"\u001B[39;49m\u001B[43m)\u001B[49m\n",
      "Cell \u001B[0;32mIn[12], line 9\u001B[0m, in \u001B[0;36mextract_features_insertion_attack\u001B[0;34m(csv_column)\u001B[0m\n\u001B[1;32m      6\u001B[0m block_nr \u001B[38;5;241m=\u001B[39m entry[\u001B[38;5;124m\"\u001B[39m\u001B[38;5;124mBlock Number\u001B[39m\u001B[38;5;124m\"\u001B[39m]\n\u001B[1;32m      7\u001B[0m address \u001B[38;5;241m=\u001B[39m entry[csv_column]\n\u001B[0;32m----> 9\u001B[0m mean_gas_price_last_10_blocks, std_gas_price_last_10_blocks \u001B[38;5;241m=\u001B[39m \u001B[43mget_mean_and_std_gas_price_of_last_n_blocks\u001B[49m\u001B[43m(\u001B[49m\u001B[38;5;241;43m10\u001B[39;49m\u001B[43m,\u001B[49m\u001B[43m \u001B[49m\u001B[43mblock_nr\u001B[49m\u001B[43m,\u001B[49m\u001B[43m \u001B[49m\u001B[43mweb3\u001B[49m\u001B[43m)\u001B[49m\n\u001B[1;32m     11\u001B[0m mean_gas_price_last_n_blocks_same_EOA, std_gas_price_last_n_blocks_same_EOA \u001B[38;5;241m=\u001B[39m get_mean_and_std_gas_price_of_last_n_blocks_of_same_EOA(\u001B[38;5;241m20\u001B[39m, block_nr, address, web3)\n\u001B[1;32m     13\u001B[0m new_entry \u001B[38;5;241m=\u001B[39m {\n\u001B[1;32m     14\u001B[0m     \u001B[38;5;124m\"\u001B[39m\u001B[38;5;124mblockNumber\u001B[39m\u001B[38;5;124m\"\u001B[39m: block_nr,\n\u001B[1;32m     15\u001B[0m     \u001B[38;5;124m\"\u001B[39m\u001B[38;5;124maddress\u001B[39m\u001B[38;5;124m\"\u001B[39m: address,\n\u001B[0;32m   (...)\u001B[0m\n\u001B[1;32m     21\u001B[0m     \u001B[38;5;124m\"\u001B[39m\u001B[38;5;124musedGasToken\u001B[39m\u001B[38;5;124m\"\u001B[39m: is_transaction_using_gas_token(block_nr, address, web3)\n\u001B[1;32m     22\u001B[0m }\n",
      "Cell \u001B[0;32mIn[5], line 6\u001B[0m, in \u001B[0;36mget_mean_and_std_gas_price_of_last_n_blocks\u001B[0;34m(last_n_blocks, curr_block, web3)\u001B[0m\n\u001B[1;32m      4\u001B[0m gas_prices \u001B[38;5;241m=\u001B[39m []\n\u001B[1;32m      5\u001B[0m \u001B[38;5;28;01mfor\u001B[39;00m i \u001B[38;5;129;01min\u001B[39;00m \u001B[38;5;28mrange\u001B[39m(last_n_blocks):\n\u001B[0;32m----> 6\u001B[0m     block \u001B[38;5;241m=\u001B[39m \u001B[43mweb3\u001B[49m\u001B[38;5;241;43m.\u001B[39;49m\u001B[43meth\u001B[49m\u001B[38;5;241;43m.\u001B[39;49m\u001B[43mget_block\u001B[49m\u001B[43m(\u001B[49m\u001B[43mcurr_block\u001B[49m\u001B[43m \u001B[49m\u001B[38;5;241;43m-\u001B[39;49m\u001B[43m \u001B[49m\u001B[43mi\u001B[49m\u001B[43m,\u001B[49m\u001B[43m \u001B[49m\u001B[43mfull_transactions\u001B[49m\u001B[38;5;241;43m=\u001B[39;49m\u001B[38;5;28;43;01mTrue\u001B[39;49;00m\u001B[43m)\u001B[49m\n\u001B[1;32m      8\u001B[0m     \u001B[38;5;28;01mfor\u001B[39;00m transaction \u001B[38;5;129;01min\u001B[39;00m block\u001B[38;5;241m.\u001B[39mtransactions:\n\u001B[1;32m      9\u001B[0m         gas_prices\u001B[38;5;241m.\u001B[39mappend(transaction[\u001B[38;5;124m\"\u001B[39m\u001B[38;5;124mgasPrice\u001B[39m\u001B[38;5;124m\"\u001B[39m] \u001B[38;5;241m/\u001B[39m \u001B[38;5;241m10\u001B[39m\u001B[38;5;241m*\u001B[39m\u001B[38;5;241m*\u001B[39m\u001B[38;5;241m18\u001B[39m)\n",
      "File \u001B[0;32m~/miniconda3/envs/frontrunning-attacks/lib/python3.10/site-packages/web3/eth/eth.py:413\u001B[0m, in \u001B[0;36mEth.get_block\u001B[0;34m(self, block_identifier, full_transactions)\u001B[0m\n\u001B[1;32m    410\u001B[0m \u001B[38;5;28;01mdef\u001B[39;00m \u001B[38;5;21mget_block\u001B[39m(\n\u001B[1;32m    411\u001B[0m     \u001B[38;5;28mself\u001B[39m, block_identifier: BlockIdentifier, full_transactions: \u001B[38;5;28mbool\u001B[39m \u001B[38;5;241m=\u001B[39m \u001B[38;5;28;01mFalse\u001B[39;00m\n\u001B[1;32m    412\u001B[0m ) \u001B[38;5;241m-\u001B[39m\u001B[38;5;241m>\u001B[39m BlockData:\n\u001B[0;32m--> 413\u001B[0m     \u001B[38;5;28;01mreturn\u001B[39;00m \u001B[38;5;28;43mself\u001B[39;49m\u001B[38;5;241;43m.\u001B[39;49m\u001B[43m_get_block\u001B[49m\u001B[43m(\u001B[49m\u001B[43mblock_identifier\u001B[49m\u001B[43m,\u001B[49m\u001B[43m \u001B[49m\u001B[43mfull_transactions\u001B[49m\u001B[43m)\u001B[49m\n",
      "File \u001B[0;32m~/miniconda3/envs/frontrunning-attacks/lib/python3.10/site-packages/web3/module.py:78\u001B[0m, in \u001B[0;36mretrieve_blocking_method_call_fn.<locals>.caller\u001B[0;34m(*args, **kwargs)\u001B[0m\n\u001B[1;32m     70\u001B[0m (\n\u001B[1;32m     71\u001B[0m     result_formatters,\n\u001B[1;32m     72\u001B[0m     error_formatters,\n\u001B[1;32m     73\u001B[0m     null_result_formatters,\n\u001B[1;32m     74\u001B[0m ) \u001B[38;5;241m=\u001B[39m response_formatters\n\u001B[1;32m     75\u001B[0m result \u001B[38;5;241m=\u001B[39m w3\u001B[38;5;241m.\u001B[39mmanager\u001B[38;5;241m.\u001B[39mrequest_blocking(\n\u001B[1;32m     76\u001B[0m     method_str, params, error_formatters, null_result_formatters\n\u001B[1;32m     77\u001B[0m )\n\u001B[0;32m---> 78\u001B[0m \u001B[38;5;28;01mreturn\u001B[39;00m \u001B[43mapply_result_formatters\u001B[49m\u001B[43m(\u001B[49m\u001B[43mresult_formatters\u001B[49m\u001B[43m,\u001B[49m\u001B[43m \u001B[49m\u001B[43mresult\u001B[49m\u001B[43m)\u001B[49m\n",
      "File \u001B[0;32m~/miniconda3/envs/frontrunning-attacks/lib/python3.10/site-packages/cytoolz/functoolz.pyx:263\u001B[0m, in \u001B[0;36mcytoolz.functoolz.curry.__call__\u001B[0;34m()\u001B[0m\n",
      "File \u001B[0;32m~/miniconda3/envs/frontrunning-attacks/lib/python3.10/site-packages/web3/module.py:49\u001B[0m, in \u001B[0;36mapply_result_formatters\u001B[0;34m(result_formatters, result)\u001B[0m\n\u001B[1;32m     44\u001B[0m \u001B[38;5;129m@curry\u001B[39m\n\u001B[1;32m     45\u001B[0m \u001B[38;5;28;01mdef\u001B[39;00m \u001B[38;5;21mapply_result_formatters\u001B[39m(\n\u001B[1;32m     46\u001B[0m     result_formatters: Callable[\u001B[38;5;241m.\u001B[39m\u001B[38;5;241m.\u001B[39m\u001B[38;5;241m.\u001B[39m, Any], result: RPCResponse\n\u001B[1;32m     47\u001B[0m ) \u001B[38;5;241m-\u001B[39m\u001B[38;5;241m>\u001B[39m RPCResponse:\n\u001B[1;32m     48\u001B[0m     \u001B[38;5;28;01mif\u001B[39;00m result_formatters:\n\u001B[0;32m---> 49\u001B[0m         formatted_result \u001B[38;5;241m=\u001B[39m \u001B[43mpipe\u001B[49m\u001B[43m(\u001B[49m\u001B[43mresult\u001B[49m\u001B[43m,\u001B[49m\u001B[43m \u001B[49m\u001B[43mresult_formatters\u001B[49m\u001B[43m)\u001B[49m\n\u001B[1;32m     50\u001B[0m         \u001B[38;5;28;01mreturn\u001B[39;00m formatted_result\n\u001B[1;32m     51\u001B[0m     \u001B[38;5;28;01melse\u001B[39;00m:\n",
      "File \u001B[0;32m~/miniconda3/envs/frontrunning-attacks/lib/python3.10/site-packages/cytoolz/functoolz.pyx:680\u001B[0m, in \u001B[0;36mcytoolz.functoolz.pipe\u001B[0;34m()\u001B[0m\n",
      "File \u001B[0;32m~/miniconda3/envs/frontrunning-attacks/lib/python3.10/site-packages/cytoolz/functoolz.pyx:655\u001B[0m, in \u001B[0;36mcytoolz.functoolz.c_pipe\u001B[0;34m()\u001B[0m\n",
      "File \u001B[0;32m~/miniconda3/envs/frontrunning-attacks/lib/python3.10/site-packages/cytoolz/functoolz.pyx:263\u001B[0m, in \u001B[0;36mcytoolz.functoolz.curry.__call__\u001B[0;34m()\u001B[0m\n",
      "File \u001B[0;32m~/miniconda3/envs/frontrunning-attacks/lib/python3.10/site-packages/eth_utils/applicators.py:85\u001B[0m, in \u001B[0;36mapply_formatter_if\u001B[0;34m(condition, formatter, value)\u001B[0m\n\u001B[1;32m     81\u001B[0m \u001B[38;5;28;01mdef\u001B[39;00m \u001B[38;5;21mapply_formatter_if\u001B[39m(\n\u001B[1;32m     82\u001B[0m     condition: Callable[\u001B[38;5;241m.\u001B[39m\u001B[38;5;241m.\u001B[39m\u001B[38;5;241m.\u001B[39m, \u001B[38;5;28mbool\u001B[39m], formatter: Callable[\u001B[38;5;241m.\u001B[39m\u001B[38;5;241m.\u001B[39m\u001B[38;5;241m.\u001B[39m, Any], value: Any\n\u001B[1;32m     83\u001B[0m ) \u001B[38;5;241m-\u001B[39m\u001B[38;5;241m>\u001B[39m Any:\n\u001B[1;32m     84\u001B[0m     \u001B[38;5;28;01mif\u001B[39;00m condition(value):\n\u001B[0;32m---> 85\u001B[0m         \u001B[38;5;28;01mreturn\u001B[39;00m \u001B[43mformatter\u001B[49m\u001B[43m(\u001B[49m\u001B[43mvalue\u001B[49m\u001B[43m)\u001B[49m\n\u001B[1;32m     86\u001B[0m     \u001B[38;5;28;01melse\u001B[39;00m:\n\u001B[1;32m     87\u001B[0m         \u001B[38;5;28;01mreturn\u001B[39;00m value\n",
      "File \u001B[0;32m~/miniconda3/envs/frontrunning-attacks/lib/python3.10/site-packages/cytoolz/functoolz.pyx:263\u001B[0m, in \u001B[0;36mcytoolz.functoolz.curry.__call__\u001B[0;34m()\u001B[0m\n",
      "File \u001B[0;32m~/miniconda3/envs/frontrunning-attacks/lib/python3.10/site-packages/web3/_utils/method_formatters.py:166\u001B[0m, in \u001B[0;36mtype_aware_apply_formatters_to_dict\u001B[0;34m(formatters, value)\u001B[0m\n\u001B[1;32m    161\u001B[0m \u001B[38;5;250m\u001B[39m\u001B[38;5;124;03m\"\"\"\u001B[39;00m\n\u001B[1;32m    162\u001B[0m \u001B[38;5;124;03mPreserve ``AttributeDict`` types if original ``value`` was an ``AttributeDict``.\u001B[39;00m\n\u001B[1;32m    163\u001B[0m \u001B[38;5;124;03m\"\"\"\u001B[39;00m\n\u001B[1;32m    164\u001B[0m formatted_dict: Dict[\u001B[38;5;28mstr\u001B[39m, Any] \u001B[38;5;241m=\u001B[39m apply_formatters_to_dict(formatters, \u001B[38;5;28mdict\u001B[39m(value))\n\u001B[1;32m    165\u001B[0m \u001B[38;5;28;01mreturn\u001B[39;00m (\n\u001B[0;32m--> 166\u001B[0m     \u001B[43mAttributeDict\u001B[49m\u001B[38;5;241;43m.\u001B[39;49m\u001B[43mrecursive\u001B[49m\u001B[43m(\u001B[49m\u001B[43mformatted_dict\u001B[49m\u001B[43m)\u001B[49m\n\u001B[1;32m    167\u001B[0m     \u001B[38;5;28;01mif\u001B[39;00m is_attrdict(value)\n\u001B[1;32m    168\u001B[0m     \u001B[38;5;28;01melse\u001B[39;00m formatted_dict\n\u001B[1;32m    169\u001B[0m )\n",
      "File \u001B[0;32m~/miniconda3/envs/frontrunning-attacks/lib/python3.10/site-packages/web3/datastructures.py:88\u001B[0m, in \u001B[0;36mReadableAttributeDict.recursive\u001B[0;34m(cls, value)\u001B[0m\n\u001B[1;32m     86\u001B[0m \u001B[38;5;129m@classmethod\u001B[39m\n\u001B[1;32m     87\u001B[0m \u001B[38;5;28;01mdef\u001B[39;00m \u001B[38;5;21mrecursive\u001B[39m(\u001B[38;5;28mcls\u001B[39m, value: TValue) \u001B[38;5;241m-\u001B[39m\u001B[38;5;241m>\u001B[39m \u001B[38;5;124m\"\u001B[39m\u001B[38;5;124mReadableAttributeDict[TKey, TValue]\u001B[39m\u001B[38;5;124m\"\u001B[39m:\n\u001B[0;32m---> 88\u001B[0m     \u001B[38;5;28;01mreturn\u001B[39;00m \u001B[43mrecursive_map\u001B[49m\u001B[43m(\u001B[49m\u001B[38;5;28;43mcls\u001B[39;49m\u001B[38;5;241;43m.\u001B[39;49m\u001B[43m_apply_if_mapping\u001B[49m\u001B[43m,\u001B[49m\u001B[43m \u001B[49m\u001B[43mvalue\u001B[49m\u001B[43m)\u001B[49m\n",
      "File \u001B[0;32m~/miniconda3/envs/frontrunning-attacks/lib/python3.10/site-packages/web3/_utils/decorators.py:30\u001B[0m, in \u001B[0;36mreject_recursive_repeats.<locals>.wrapped\u001B[0;34m(*args)\u001B[0m\n\u001B[1;32m     28\u001B[0m to_wrap\u001B[38;5;241m.\u001B[39m__already_called[thread_local_args] \u001B[38;5;241m=\u001B[39m \u001B[38;5;28;01mTrue\u001B[39;00m  \u001B[38;5;66;03m# type: ignore\u001B[39;00m\n\u001B[1;32m     29\u001B[0m \u001B[38;5;28;01mtry\u001B[39;00m:\n\u001B[0;32m---> 30\u001B[0m     wrapped_val \u001B[38;5;241m=\u001B[39m \u001B[43mto_wrap\u001B[49m\u001B[43m(\u001B[49m\u001B[38;5;241;43m*\u001B[39;49m\u001B[43margs\u001B[49m\u001B[43m)\u001B[49m\n\u001B[1;32m     31\u001B[0m \u001B[38;5;28;01mfinally\u001B[39;00m:\n\u001B[1;32m     32\u001B[0m     \u001B[38;5;28;01mdel\u001B[39;00m to_wrap\u001B[38;5;241m.\u001B[39m__already_called[thread_local_args]  \u001B[38;5;66;03m# type: ignore\u001B[39;00m\n",
      "File \u001B[0;32m~/miniconda3/envs/frontrunning-attacks/lib/python3.10/site-packages/web3/_utils/formatters.py:84\u001B[0m, in \u001B[0;36mrecursive_map\u001B[0;34m(func, data)\u001B[0m\n\u001B[1;32m     81\u001B[0m \u001B[38;5;28;01mdef\u001B[39;00m \u001B[38;5;21mrecurse\u001B[39m(item: Any) \u001B[38;5;241m-\u001B[39m\u001B[38;5;241m>\u001B[39m TReturn:\n\u001B[1;32m     82\u001B[0m     \u001B[38;5;28;01mreturn\u001B[39;00m recursive_map(func, item)\n\u001B[0;32m---> 84\u001B[0m items_mapped \u001B[38;5;241m=\u001B[39m \u001B[43mmap_collection\u001B[49m\u001B[43m(\u001B[49m\u001B[43mrecurse\u001B[49m\u001B[43m,\u001B[49m\u001B[43m \u001B[49m\u001B[43mdata\u001B[49m\u001B[43m)\u001B[49m\n\u001B[1;32m     85\u001B[0m \u001B[38;5;28;01mreturn\u001B[39;00m func(items_mapped)\n",
      "File \u001B[0;32m~/miniconda3/envs/frontrunning-attacks/lib/python3.10/site-packages/web3/_utils/formatters.py:64\u001B[0m, in \u001B[0;36mmap_collection\u001B[0;34m(func, collection)\u001B[0m\n\u001B[1;32m     62\u001B[0m datatype \u001B[38;5;241m=\u001B[39m \u001B[38;5;28mtype\u001B[39m(collection)\n\u001B[1;32m     63\u001B[0m \u001B[38;5;28;01mif\u001B[39;00m \u001B[38;5;28misinstance\u001B[39m(collection, Mapping):\n\u001B[0;32m---> 64\u001B[0m     \u001B[38;5;28;01mreturn\u001B[39;00m \u001B[43mdatatype\u001B[49m\u001B[43m(\u001B[49m\u001B[43m(\u001B[49m\u001B[43mkey\u001B[49m\u001B[43m,\u001B[49m\u001B[43m \u001B[49m\u001B[43mfunc\u001B[49m\u001B[43m(\u001B[49m\u001B[43mval\u001B[49m\u001B[43m)\u001B[49m\u001B[43m)\u001B[49m\u001B[43m \u001B[49m\u001B[38;5;28;43;01mfor\u001B[39;49;00m\u001B[43m \u001B[49m\u001B[43mkey\u001B[49m\u001B[43m,\u001B[49m\u001B[43m \u001B[49m\u001B[43mval\u001B[49m\u001B[43m \u001B[49m\u001B[38;5;129;43;01min\u001B[39;49;00m\u001B[43m \u001B[49m\u001B[43mcollection\u001B[49m\u001B[38;5;241;43m.\u001B[39;49m\u001B[43mitems\u001B[49m\u001B[43m(\u001B[49m\u001B[43m)\u001B[49m\u001B[43m)\u001B[49m\n\u001B[1;32m     65\u001B[0m \u001B[38;5;28;01mif\u001B[39;00m is_string(collection):\n\u001B[1;32m     66\u001B[0m     \u001B[38;5;28;01mreturn\u001B[39;00m collection\n",
      "File \u001B[0;32m~/miniconda3/envs/frontrunning-attacks/lib/python3.10/site-packages/web3/_utils/formatters.py:64\u001B[0m, in \u001B[0;36m<genexpr>\u001B[0;34m(.0)\u001B[0m\n\u001B[1;32m     62\u001B[0m datatype \u001B[38;5;241m=\u001B[39m \u001B[38;5;28mtype\u001B[39m(collection)\n\u001B[1;32m     63\u001B[0m \u001B[38;5;28;01mif\u001B[39;00m \u001B[38;5;28misinstance\u001B[39m(collection, Mapping):\n\u001B[0;32m---> 64\u001B[0m     \u001B[38;5;28;01mreturn\u001B[39;00m datatype((key, \u001B[43mfunc\u001B[49m\u001B[43m(\u001B[49m\u001B[43mval\u001B[49m\u001B[43m)\u001B[49m) \u001B[38;5;28;01mfor\u001B[39;00m key, val \u001B[38;5;129;01min\u001B[39;00m collection\u001B[38;5;241m.\u001B[39mitems())\n\u001B[1;32m     65\u001B[0m \u001B[38;5;28;01mif\u001B[39;00m is_string(collection):\n\u001B[1;32m     66\u001B[0m     \u001B[38;5;28;01mreturn\u001B[39;00m collection\n",
      "File \u001B[0;32m~/miniconda3/envs/frontrunning-attacks/lib/python3.10/site-packages/web3/_utils/formatters.py:82\u001B[0m, in \u001B[0;36mrecursive_map.<locals>.recurse\u001B[0;34m(item)\u001B[0m\n\u001B[1;32m     81\u001B[0m \u001B[38;5;28;01mdef\u001B[39;00m \u001B[38;5;21mrecurse\u001B[39m(item: Any) \u001B[38;5;241m-\u001B[39m\u001B[38;5;241m>\u001B[39m TReturn:\n\u001B[0;32m---> 82\u001B[0m     \u001B[38;5;28;01mreturn\u001B[39;00m \u001B[43mrecursive_map\u001B[49m\u001B[43m(\u001B[49m\u001B[43mfunc\u001B[49m\u001B[43m,\u001B[49m\u001B[43m \u001B[49m\u001B[43mitem\u001B[49m\u001B[43m)\u001B[49m\n",
      "File \u001B[0;32m~/miniconda3/envs/frontrunning-attacks/lib/python3.10/site-packages/web3/_utils/decorators.py:30\u001B[0m, in \u001B[0;36mreject_recursive_repeats.<locals>.wrapped\u001B[0;34m(*args)\u001B[0m\n\u001B[1;32m     28\u001B[0m to_wrap\u001B[38;5;241m.\u001B[39m__already_called[thread_local_args] \u001B[38;5;241m=\u001B[39m \u001B[38;5;28;01mTrue\u001B[39;00m  \u001B[38;5;66;03m# type: ignore\u001B[39;00m\n\u001B[1;32m     29\u001B[0m \u001B[38;5;28;01mtry\u001B[39;00m:\n\u001B[0;32m---> 30\u001B[0m     wrapped_val \u001B[38;5;241m=\u001B[39m \u001B[43mto_wrap\u001B[49m\u001B[43m(\u001B[49m\u001B[38;5;241;43m*\u001B[39;49m\u001B[43margs\u001B[49m\u001B[43m)\u001B[49m\n\u001B[1;32m     31\u001B[0m \u001B[38;5;28;01mfinally\u001B[39;00m:\n\u001B[1;32m     32\u001B[0m     \u001B[38;5;28;01mdel\u001B[39;00m to_wrap\u001B[38;5;241m.\u001B[39m__already_called[thread_local_args]  \u001B[38;5;66;03m# type: ignore\u001B[39;00m\n",
      "File \u001B[0;32m~/miniconda3/envs/frontrunning-attacks/lib/python3.10/site-packages/web3/_utils/formatters.py:84\u001B[0m, in \u001B[0;36mrecursive_map\u001B[0;34m(func, data)\u001B[0m\n\u001B[1;32m     81\u001B[0m \u001B[38;5;28;01mdef\u001B[39;00m \u001B[38;5;21mrecurse\u001B[39m(item: Any) \u001B[38;5;241m-\u001B[39m\u001B[38;5;241m>\u001B[39m TReturn:\n\u001B[1;32m     82\u001B[0m     \u001B[38;5;28;01mreturn\u001B[39;00m recursive_map(func, item)\n\u001B[0;32m---> 84\u001B[0m items_mapped \u001B[38;5;241m=\u001B[39m \u001B[43mmap_collection\u001B[49m\u001B[43m(\u001B[49m\u001B[43mrecurse\u001B[49m\u001B[43m,\u001B[49m\u001B[43m \u001B[49m\u001B[43mdata\u001B[49m\u001B[43m)\u001B[49m\n\u001B[1;32m     85\u001B[0m \u001B[38;5;28;01mreturn\u001B[39;00m func(items_mapped)\n",
      "File \u001B[0;32m~/miniconda3/envs/frontrunning-attacks/lib/python3.10/site-packages/web3/_utils/formatters.py:68\u001B[0m, in \u001B[0;36mmap_collection\u001B[0;34m(func, collection)\u001B[0m\n\u001B[1;32m     66\u001B[0m     \u001B[38;5;28;01mreturn\u001B[39;00m collection\n\u001B[1;32m     67\u001B[0m \u001B[38;5;28;01melif\u001B[39;00m \u001B[38;5;28misinstance\u001B[39m(collection, Iterable):\n\u001B[0;32m---> 68\u001B[0m     \u001B[38;5;28;01mreturn\u001B[39;00m \u001B[43mdatatype\u001B[49m\u001B[43m(\u001B[49m\u001B[38;5;28;43mmap\u001B[39;49m\u001B[43m(\u001B[49m\u001B[43mfunc\u001B[49m\u001B[43m,\u001B[49m\u001B[43m \u001B[49m\u001B[43mcollection\u001B[49m\u001B[43m)\u001B[49m\u001B[43m)\u001B[49m\n\u001B[1;32m     69\u001B[0m \u001B[38;5;28;01melse\u001B[39;00m:\n\u001B[1;32m     70\u001B[0m     \u001B[38;5;28;01mreturn\u001B[39;00m collection\n",
      "File \u001B[0;32m~/miniconda3/envs/frontrunning-attacks/lib/python3.10/site-packages/web3/_utils/formatters.py:82\u001B[0m, in \u001B[0;36mrecursive_map.<locals>.recurse\u001B[0;34m(item)\u001B[0m\n\u001B[1;32m     81\u001B[0m \u001B[38;5;28;01mdef\u001B[39;00m \u001B[38;5;21mrecurse\u001B[39m(item: Any) \u001B[38;5;241m-\u001B[39m\u001B[38;5;241m>\u001B[39m TReturn:\n\u001B[0;32m---> 82\u001B[0m     \u001B[38;5;28;01mreturn\u001B[39;00m \u001B[43mrecursive_map\u001B[49m\u001B[43m(\u001B[49m\u001B[43mfunc\u001B[49m\u001B[43m,\u001B[49m\u001B[43m \u001B[49m\u001B[43mitem\u001B[49m\u001B[43m)\u001B[49m\n",
      "File \u001B[0;32m~/miniconda3/envs/frontrunning-attacks/lib/python3.10/site-packages/web3/_utils/decorators.py:30\u001B[0m, in \u001B[0;36mreject_recursive_repeats.<locals>.wrapped\u001B[0;34m(*args)\u001B[0m\n\u001B[1;32m     28\u001B[0m to_wrap\u001B[38;5;241m.\u001B[39m__already_called[thread_local_args] \u001B[38;5;241m=\u001B[39m \u001B[38;5;28;01mTrue\u001B[39;00m  \u001B[38;5;66;03m# type: ignore\u001B[39;00m\n\u001B[1;32m     29\u001B[0m \u001B[38;5;28;01mtry\u001B[39;00m:\n\u001B[0;32m---> 30\u001B[0m     wrapped_val \u001B[38;5;241m=\u001B[39m \u001B[43mto_wrap\u001B[49m\u001B[43m(\u001B[49m\u001B[38;5;241;43m*\u001B[39;49m\u001B[43margs\u001B[49m\u001B[43m)\u001B[49m\n\u001B[1;32m     31\u001B[0m \u001B[38;5;28;01mfinally\u001B[39;00m:\n\u001B[1;32m     32\u001B[0m     \u001B[38;5;28;01mdel\u001B[39;00m to_wrap\u001B[38;5;241m.\u001B[39m__already_called[thread_local_args]  \u001B[38;5;66;03m# type: ignore\u001B[39;00m\n",
      "File \u001B[0;32m~/miniconda3/envs/frontrunning-attacks/lib/python3.10/site-packages/web3/_utils/formatters.py:84\u001B[0m, in \u001B[0;36mrecursive_map\u001B[0;34m(func, data)\u001B[0m\n\u001B[1;32m     81\u001B[0m \u001B[38;5;28;01mdef\u001B[39;00m \u001B[38;5;21mrecurse\u001B[39m(item: Any) \u001B[38;5;241m-\u001B[39m\u001B[38;5;241m>\u001B[39m TReturn:\n\u001B[1;32m     82\u001B[0m     \u001B[38;5;28;01mreturn\u001B[39;00m recursive_map(func, item)\n\u001B[0;32m---> 84\u001B[0m items_mapped \u001B[38;5;241m=\u001B[39m \u001B[43mmap_collection\u001B[49m\u001B[43m(\u001B[49m\u001B[43mrecurse\u001B[49m\u001B[43m,\u001B[49m\u001B[43m \u001B[49m\u001B[43mdata\u001B[49m\u001B[43m)\u001B[49m\n\u001B[1;32m     85\u001B[0m \u001B[38;5;28;01mreturn\u001B[39;00m func(items_mapped)\n",
      "File \u001B[0;32m~/miniconda3/envs/frontrunning-attacks/lib/python3.10/site-packages/web3/_utils/formatters.py:64\u001B[0m, in \u001B[0;36mmap_collection\u001B[0;34m(func, collection)\u001B[0m\n\u001B[1;32m     62\u001B[0m datatype \u001B[38;5;241m=\u001B[39m \u001B[38;5;28mtype\u001B[39m(collection)\n\u001B[1;32m     63\u001B[0m \u001B[38;5;28;01mif\u001B[39;00m \u001B[38;5;28misinstance\u001B[39m(collection, Mapping):\n\u001B[0;32m---> 64\u001B[0m     \u001B[38;5;28;01mreturn\u001B[39;00m \u001B[43mdatatype\u001B[49m\u001B[43m(\u001B[49m\u001B[43m(\u001B[49m\u001B[43mkey\u001B[49m\u001B[43m,\u001B[49m\u001B[43m \u001B[49m\u001B[43mfunc\u001B[49m\u001B[43m(\u001B[49m\u001B[43mval\u001B[49m\u001B[43m)\u001B[49m\u001B[43m)\u001B[49m\u001B[43m \u001B[49m\u001B[38;5;28;43;01mfor\u001B[39;49;00m\u001B[43m \u001B[49m\u001B[43mkey\u001B[49m\u001B[43m,\u001B[49m\u001B[43m \u001B[49m\u001B[43mval\u001B[49m\u001B[43m \u001B[49m\u001B[38;5;129;43;01min\u001B[39;49;00m\u001B[43m \u001B[49m\u001B[43mcollection\u001B[49m\u001B[38;5;241;43m.\u001B[39;49m\u001B[43mitems\u001B[49m\u001B[43m(\u001B[49m\u001B[43m)\u001B[49m\u001B[43m)\u001B[49m\n\u001B[1;32m     65\u001B[0m \u001B[38;5;28;01mif\u001B[39;00m is_string(collection):\n\u001B[1;32m     66\u001B[0m     \u001B[38;5;28;01mreturn\u001B[39;00m collection\n",
      "File \u001B[0;32m~/miniconda3/envs/frontrunning-attacks/lib/python3.10/site-packages/web3/datastructures.py:51\u001B[0m, in \u001B[0;36mReadableAttributeDict.__init__\u001B[0;34m(self, dictionary, *args, **kwargs)\u001B[0m\n\u001B[1;32m     47\u001B[0m \u001B[38;5;28;01mdef\u001B[39;00m \u001B[38;5;21m__init__\u001B[39m(\n\u001B[1;32m     48\u001B[0m     \u001B[38;5;28mself\u001B[39m, dictionary: Dict[TKey, TValue], \u001B[38;5;241m*\u001B[39margs: Any, \u001B[38;5;241m*\u001B[39m\u001B[38;5;241m*\u001B[39mkwargs: Any\n\u001B[1;32m     49\u001B[0m ) \u001B[38;5;241m-\u001B[39m\u001B[38;5;241m>\u001B[39m \u001B[38;5;28;01mNone\u001B[39;00m:\n\u001B[1;32m     50\u001B[0m     \u001B[38;5;66;03m# type ignored on 46/50 b/c dict() expects str index type not TKey\u001B[39;00m\n\u001B[0;32m---> 51\u001B[0m     \u001B[38;5;28mself\u001B[39m\u001B[38;5;241m.\u001B[39m\u001B[38;5;18m__dict__\u001B[39m \u001B[38;5;241m=\u001B[39m \u001B[38;5;28;43mdict\u001B[39;49m\u001B[43m(\u001B[49m\u001B[43mdictionary\u001B[49m\u001B[43m)\u001B[49m  \u001B[38;5;66;03m# type: ignore\u001B[39;00m\n\u001B[1;32m     52\u001B[0m     \u001B[38;5;28mself\u001B[39m\u001B[38;5;241m.\u001B[39m\u001B[38;5;18m__dict__\u001B[39m\u001B[38;5;241m.\u001B[39mupdate(\u001B[38;5;28mdict\u001B[39m(\u001B[38;5;241m*\u001B[39margs, \u001B[38;5;241m*\u001B[39m\u001B[38;5;241m*\u001B[39mkwargs))\n",
      "File \u001B[0;32m~/miniconda3/envs/frontrunning-attacks/lib/python3.10/site-packages/web3/_utils/formatters.py:64\u001B[0m, in \u001B[0;36m<genexpr>\u001B[0;34m(.0)\u001B[0m\n\u001B[1;32m     62\u001B[0m datatype \u001B[38;5;241m=\u001B[39m \u001B[38;5;28mtype\u001B[39m(collection)\n\u001B[1;32m     63\u001B[0m \u001B[38;5;28;01mif\u001B[39;00m \u001B[38;5;28misinstance\u001B[39m(collection, Mapping):\n\u001B[0;32m---> 64\u001B[0m     \u001B[38;5;28;01mreturn\u001B[39;00m datatype((key, \u001B[43mfunc\u001B[49m\u001B[43m(\u001B[49m\u001B[43mval\u001B[49m\u001B[43m)\u001B[49m) \u001B[38;5;28;01mfor\u001B[39;00m key, val \u001B[38;5;129;01min\u001B[39;00m collection\u001B[38;5;241m.\u001B[39mitems())\n\u001B[1;32m     65\u001B[0m \u001B[38;5;28;01mif\u001B[39;00m is_string(collection):\n\u001B[1;32m     66\u001B[0m     \u001B[38;5;28;01mreturn\u001B[39;00m collection\n",
      "File \u001B[0;32m~/miniconda3/envs/frontrunning-attacks/lib/python3.10/site-packages/web3/_utils/formatters.py:82\u001B[0m, in \u001B[0;36mrecursive_map.<locals>.recurse\u001B[0;34m(item)\u001B[0m\n\u001B[1;32m     81\u001B[0m \u001B[38;5;28;01mdef\u001B[39;00m \u001B[38;5;21mrecurse\u001B[39m(item: Any) \u001B[38;5;241m-\u001B[39m\u001B[38;5;241m>\u001B[39m TReturn:\n\u001B[0;32m---> 82\u001B[0m     \u001B[38;5;28;01mreturn\u001B[39;00m \u001B[43mrecursive_map\u001B[49m\u001B[43m(\u001B[49m\u001B[43mfunc\u001B[49m\u001B[43m,\u001B[49m\u001B[43m \u001B[49m\u001B[43mitem\u001B[49m\u001B[43m)\u001B[49m\n",
      "File \u001B[0;32m~/miniconda3/envs/frontrunning-attacks/lib/python3.10/site-packages/web3/_utils/decorators.py:30\u001B[0m, in \u001B[0;36mreject_recursive_repeats.<locals>.wrapped\u001B[0;34m(*args)\u001B[0m\n\u001B[1;32m     28\u001B[0m to_wrap\u001B[38;5;241m.\u001B[39m__already_called[thread_local_args] \u001B[38;5;241m=\u001B[39m \u001B[38;5;28;01mTrue\u001B[39;00m  \u001B[38;5;66;03m# type: ignore\u001B[39;00m\n\u001B[1;32m     29\u001B[0m \u001B[38;5;28;01mtry\u001B[39;00m:\n\u001B[0;32m---> 30\u001B[0m     wrapped_val \u001B[38;5;241m=\u001B[39m \u001B[43mto_wrap\u001B[49m\u001B[43m(\u001B[49m\u001B[38;5;241;43m*\u001B[39;49m\u001B[43margs\u001B[49m\u001B[43m)\u001B[49m\n\u001B[1;32m     31\u001B[0m \u001B[38;5;28;01mfinally\u001B[39;00m:\n\u001B[1;32m     32\u001B[0m     \u001B[38;5;28;01mdel\u001B[39;00m to_wrap\u001B[38;5;241m.\u001B[39m__already_called[thread_local_args]  \u001B[38;5;66;03m# type: ignore\u001B[39;00m\n",
      "File \u001B[0;32m~/miniconda3/envs/frontrunning-attacks/lib/python3.10/site-packages/web3/_utils/formatters.py:84\u001B[0m, in \u001B[0;36mrecursive_map\u001B[0;34m(func, data)\u001B[0m\n\u001B[1;32m     81\u001B[0m \u001B[38;5;28;01mdef\u001B[39;00m \u001B[38;5;21mrecurse\u001B[39m(item: Any) \u001B[38;5;241m-\u001B[39m\u001B[38;5;241m>\u001B[39m TReturn:\n\u001B[1;32m     82\u001B[0m     \u001B[38;5;28;01mreturn\u001B[39;00m recursive_map(func, item)\n\u001B[0;32m---> 84\u001B[0m items_mapped \u001B[38;5;241m=\u001B[39m \u001B[43mmap_collection\u001B[49m\u001B[43m(\u001B[49m\u001B[43mrecurse\u001B[49m\u001B[43m,\u001B[49m\u001B[43m \u001B[49m\u001B[43mdata\u001B[49m\u001B[43m)\u001B[49m\n\u001B[1;32m     85\u001B[0m \u001B[38;5;28;01mreturn\u001B[39;00m func(items_mapped)\n",
      "File \u001B[0;32m~/miniconda3/envs/frontrunning-attacks/lib/python3.10/site-packages/web3/_utils/formatters.py:67\u001B[0m, in \u001B[0;36mmap_collection\u001B[0;34m(func, collection)\u001B[0m\n\u001B[1;32m     65\u001B[0m \u001B[38;5;28;01mif\u001B[39;00m is_string(collection):\n\u001B[1;32m     66\u001B[0m     \u001B[38;5;28;01mreturn\u001B[39;00m collection\n\u001B[0;32m---> 67\u001B[0m \u001B[38;5;28;01melif\u001B[39;00m \u001B[38;5;28;43misinstance\u001B[39;49m\u001B[43m(\u001B[49m\u001B[43mcollection\u001B[49m\u001B[43m,\u001B[49m\u001B[43m \u001B[49m\u001B[43mIterable\u001B[49m\u001B[43m)\u001B[49m:\n\u001B[1;32m     68\u001B[0m     \u001B[38;5;28;01mreturn\u001B[39;00m datatype(\u001B[38;5;28mmap\u001B[39m(func, collection))\n\u001B[1;32m     69\u001B[0m \u001B[38;5;28;01melse\u001B[39;00m:\n",
      "File \u001B[0;32m~/miniconda3/envs/frontrunning-attacks/lib/python3.10/typing.py:994\u001B[0m, in \u001B[0;36m_BaseGenericAlias.__instancecheck__\u001B[0;34m(self, obj)\u001B[0m\n\u001B[1;32m    993\u001B[0m \u001B[38;5;28;01mdef\u001B[39;00m \u001B[38;5;21m__instancecheck__\u001B[39m(\u001B[38;5;28mself\u001B[39m, obj):\n\u001B[0;32m--> 994\u001B[0m     \u001B[38;5;28;01mreturn\u001B[39;00m \u001B[38;5;28;43mself\u001B[39;49m\u001B[38;5;241;43m.\u001B[39;49m\u001B[38;5;21;43m__subclasscheck__\u001B[39;49m\u001B[43m(\u001B[49m\u001B[38;5;28;43mtype\u001B[39;49m\u001B[43m(\u001B[49m\u001B[43mobj\u001B[49m\u001B[43m)\u001B[49m\u001B[43m)\u001B[49m\n",
      "File \u001B[0;32m~/miniconda3/envs/frontrunning-attacks/lib/python3.10/typing.py:1158\u001B[0m, in \u001B[0;36m_SpecialGenericAlias.__subclasscheck__\u001B[0;34m(self, cls)\u001B[0m\n\u001B[1;32m   1156\u001B[0m     \u001B[38;5;28;01mreturn\u001B[39;00m \u001B[38;5;28missubclass\u001B[39m(\u001B[38;5;28mcls\u001B[39m\u001B[38;5;241m.\u001B[39m__origin__, \u001B[38;5;28mself\u001B[39m\u001B[38;5;241m.\u001B[39m__origin__)\n\u001B[1;32m   1157\u001B[0m \u001B[38;5;28;01mif\u001B[39;00m \u001B[38;5;129;01mnot\u001B[39;00m \u001B[38;5;28misinstance\u001B[39m(\u001B[38;5;28mcls\u001B[39m, _GenericAlias):\n\u001B[0;32m-> 1158\u001B[0m     \u001B[38;5;28;01mreturn\u001B[39;00m \u001B[38;5;28;43missubclass\u001B[39;49m\u001B[43m(\u001B[49m\u001B[38;5;28;43mcls\u001B[39;49m\u001B[43m,\u001B[49m\u001B[43m \u001B[49m\u001B[38;5;28;43mself\u001B[39;49m\u001B[38;5;241;43m.\u001B[39;49m\u001B[43m__origin__\u001B[49m\u001B[43m)\u001B[49m\n\u001B[1;32m   1159\u001B[0m \u001B[38;5;28;01mreturn\u001B[39;00m \u001B[38;5;28msuper\u001B[39m()\u001B[38;5;241m.\u001B[39m\u001B[38;5;21m__subclasscheck__\u001B[39m(\u001B[38;5;28mcls\u001B[39m)\n",
      "File \u001B[0;32m~/miniconda3/envs/frontrunning-attacks/lib/python3.10/abc.py:121\u001B[0m, in \u001B[0;36mABCMeta.__subclasscheck__\u001B[0;34m(cls, subclass)\u001B[0m\n\u001B[1;32m    118\u001B[0m \u001B[38;5;250m    \u001B[39m\u001B[38;5;124;03m\"\"\"Override for isinstance(instance, cls).\"\"\"\u001B[39;00m\n\u001B[1;32m    119\u001B[0m     \u001B[38;5;28;01mreturn\u001B[39;00m _abc_instancecheck(\u001B[38;5;28mcls\u001B[39m, instance)\n\u001B[0;32m--> 121\u001B[0m \u001B[38;5;28;01mdef\u001B[39;00m \u001B[38;5;21m__subclasscheck__\u001B[39m(\u001B[38;5;28mcls\u001B[39m, subclass):\n\u001B[1;32m    122\u001B[0m \u001B[38;5;250m    \u001B[39m\u001B[38;5;124;03m\"\"\"Override for issubclass(subclass, cls).\"\"\"\u001B[39;00m\n\u001B[1;32m    123\u001B[0m     \u001B[38;5;28;01mreturn\u001B[39;00m _abc_subclasscheck(\u001B[38;5;28mcls\u001B[39m, subclass)\n",
      "\u001B[0;31mKeyboardInterrupt\u001B[0m: "
     ]
    }
   ],
   "execution_count": 15
  },
  {
   "cell_type": "markdown",
   "source": [
    "### Feature extraction - random transactions "
   ],
   "metadata": {
    "collapsed": false
   },
   "id": "c7fa97761012cfe8"
  },
  {
   "cell_type": "markdown",
   "source": [
    "Function to get n random block numbers out of the blocks in which the attacks where collected."
   ],
   "metadata": {
    "collapsed": false
   },
   "id": "d2af5a5158e33711"
  },
  {
   "cell_type": "code",
   "source": [
    "def get_n_random_block_numbers_from_insertion_data(n: int):\n",
    "    \n",
    "    unique_block_numbers = df_insertion[\"Block Number\"].unique()\n",
    "    random_block_numbers = pd.Series(unique_block_numbers).sample(n=n).tolist()\n",
    "    return random_block_numbers"
   ],
   "metadata": {
    "collapsed": false,
    "ExecuteTime": {
     "end_time": "2024-04-10T07:04:23.011172Z",
     "start_time": "2024-04-10T07:04:23.003980Z"
    }
   },
   "id": "2591978c30bdd253",
   "outputs": [],
   "execution_count": 16
  },
  {
   "cell_type": "markdown",
   "source": [
    "Function to get n random blocks in the block-range of the sampled attacks."
   ],
   "metadata": {
    "collapsed": false
   },
   "id": "dafe8e0727605d76"
  },
  {
   "cell_type": "code",
   "source": [
    "def get_n_random_block_numbers_from_insertion_data_range(n: int):\n",
    "        \n",
    "    min_block_number = df_insertion[\"Block Number\"].min()\n",
    "    max_block_number = df_insertion[\"Block Number\"].max()\n",
    "    \n",
    "    block_number_range = range(min_block_number, max_block_number + 1)\n",
    "    \n",
    "    random_block_numbers = random.choices(block_number_range, k=n)\n",
    "    return random_block_numbers"
   ],
   "metadata": {
    "collapsed": false,
    "ExecuteTime": {
     "end_time": "2024-04-10T07:04:25.060701Z",
     "start_time": "2024-04-10T07:04:25.053733Z"
    }
   },
   "id": "d872a9a9287dc408",
   "outputs": [],
   "execution_count": 17
  },
  {
   "cell_type": "markdown",
   "source": [
    "Function to get n random blocks over all blocks on ethereum main net."
   ],
   "metadata": {
    "collapsed": false
   },
   "id": "44f4fdb53c685faf"
  },
  {
   "cell_type": "code",
   "source": [
    "def get_n_random_block_numbers_from_total_block_range(n: int):\n",
    "        \n",
    "    current_block_number = web3.eth.block_number\n",
    "    \n",
    "    block_number_range = range(1, current_block_number + 1)\n",
    "    \n",
    "    random_block_numbers = random.choices(block_number_range, k=n)\n",
    "    return random_block_numbers"
   ],
   "metadata": {
    "collapsed": false,
    "ExecuteTime": {
     "end_time": "2024-04-10T07:04:27.088570Z",
     "start_time": "2024-04-10T07:04:27.082347Z"
    }
   },
   "id": "5c4d986cf9d8aff3",
   "outputs": [],
   "execution_count": 18
  },
  {
   "cell_type": "markdown",
   "source": [
    "Function to get random transaction out of a block."
   ],
   "metadata": {
    "collapsed": false
   },
   "id": "a6b51b6a3d637873"
  },
  {
   "cell_type": "code",
   "source": [
    "def address_in_insertion_data(block_number: int, address: str):\n",
    "    \n",
    "    if block_number not in df_insertion[\"Block Number\"].values:\n",
    "        return False\n",
    "    \n",
    "    df_subset_with_block_number = df_insertion[df_insertion[\"Block Number\"] == block_number]\n",
    "    \n",
    "    if any(address in df_subset_with_block_number[col].values for col in [\"First Attacker\", \"Second Attacker\", \"Whale\"]):\n",
    "        return True\n",
    "    \n",
    "    return False    "
   ],
   "metadata": {
    "collapsed": false,
    "ExecuteTime": {
     "end_time": "2024-04-10T07:04:28.947406Z",
     "start_time": "2024-04-10T07:04:28.940858Z"
    }
   },
   "id": "a1d4d0cc69d5f812",
   "outputs": [],
   "execution_count": 19
  },
  {
   "cell_type": "code",
   "source": [
    "def get_random_transaction_from_block(block_number: int):\n",
    "    \n",
    "    # Retrieve txs from block\n",
    "    block = web3.eth.get_block(block_number)\n",
    "    transactions = block['transactions']\n",
    "    \n",
    "    if len(transactions) == 0:\n",
    "        print(f\"Block {block_number} has no transactions!\")\n",
    "        return None\n",
    "    \n",
    "    # Choose a random transaction from block\n",
    "    random_transaction_hash = random.choice(transactions)    \n",
    "    random_transaction = web3.eth.get_transaction(random_transaction_hash)\n",
    "    \n",
    "    if address_in_insertion_data(block_number, random_transaction[\"from\"]):\n",
    "        print(\"Randomly sampled transaction already in data set!\")\n",
    "        get_random_transaction_from_block(block_number)\n",
    "    \n",
    "    return random_transaction"
   ],
   "metadata": {
    "collapsed": false,
    "ExecuteTime": {
     "end_time": "2024-04-10T07:04:30.843337Z",
     "start_time": "2024-04-10T07:04:30.835947Z"
    }
   },
   "id": "8ca8cf1de465f61a",
   "outputs": [],
   "execution_count": 20
  },
  {
   "cell_type": "code",
   "source": [
    "get_random_transaction_from_block(100)"
   ],
   "metadata": {
    "collapsed": false,
    "ExecuteTime": {
     "end_time": "2024-04-10T07:04:35.711701Z",
     "start_time": "2024-04-10T07:04:35.584876Z"
    }
   },
   "id": "b625d08ea52e178b",
   "outputs": [
    {
     "name": "stdout",
     "output_type": "stream",
     "text": [
      "Block 100 has no transactions!\n"
     ]
    }
   ],
   "execution_count": 21
  },
  {
   "cell_type": "markdown",
   "source": [
    "### Sample random transactions"
   ],
   "metadata": {
    "collapsed": false
   },
   "id": "314bb0c907804a0"
  },
  {
   "cell_type": "code",
   "source": [
    "def sample_random_transaction(nr_of_random_blocks: int) -> pd.DataFrame:\n",
    "    \n",
    "    # Get random block numbers\n",
    "    block_numbers = []\n",
    "    \n",
    "    random_blocks_per_sampling = int(nr_of_random_blocks/3)\n",
    "    \n",
    "    random_block_numbers_from_insertion_data = get_n_random_block_numbers_from_insertion_data(random_blocks_per_sampling)\n",
    "    random_block_numbers_from_insertion_data_range = get_n_random_block_numbers_from_insertion_data_range(random_blocks_per_sampling)\n",
    "    random_block_numbers_from_total_range = get_n_random_block_numbers_from_total_block_range(random_blocks_per_sampling)\n",
    "\n",
    "    block_numbers.extend(random_block_numbers_from_insertion_data)\n",
    "    block_numbers.extend(random_block_numbers_from_insertion_data_range)\n",
    "    block_numbers.extend(random_block_numbers_from_total_range)\n",
    "    \n",
    "    # Get random transactions out of blocks\n",
    "    entries = []\n",
    "    \n",
    "    \n",
    "    for block in tqdm(block_numbers):\n",
    "        transaction = get_random_transaction_from_block(block)\n",
    "        if transaction:\n",
    "            mean_gas_price_last_10_blocks, std_gas_price_last_10_blocks = get_mean_and_std_gas_price_of_last_n_blocks(10, block, web3)\n",
    "            mean_gas_price_last_n_blocks_same_EOA, std_gas_price_last_n_blocks_same_EOA = get_mean_and_std_gas_price_of_last_n_blocks_of_same_EOA(20, block, transaction[\"from\"], web3)\n",
    "            \n",
    "            address = transaction[\"from\"]\n",
    "            \n",
    "            new_entry = {\n",
    "                \"blockNumber\": block,\n",
    "                \"address\": address,\n",
    "                \"gasPrice\": transaction[\"gasPrice\"] / 10**18,\n",
    "                \"meanGasPriceLastTenBlocks\": mean_gas_price_last_10_blocks,\n",
    "                \"stdGasPriceLastTenBlocks\": std_gas_price_last_10_blocks,\n",
    "                \"meanGasPriceLastTenBlocksSameEOA\": mean_gas_price_last_n_blocks_same_EOA,\n",
    "                \"stdGasPriceLastTenBlocksSameEOA\": std_gas_price_last_n_blocks_same_EOA,\n",
    "                \"usedGasToken\": is_transaction_using_gas_token(block, address, web3)\n",
    "            }\n",
    "            entries.append(new_entry)\n",
    "                \n",
    "    return pd.DataFrame(entries) \n",
    "    "
   ],
   "metadata": {
    "collapsed": false,
    "ExecuteTime": {
     "end_time": "2024-04-10T07:05:38.945593Z",
     "start_time": "2024-04-10T07:05:38.933489Z"
    }
   },
   "id": "cabeef0dbb6c48de",
   "outputs": [],
   "execution_count": 28
  },
  {
   "cell_type": "code",
   "source": "feature_random_transactions_df = sample_random_transaction(10)",
   "metadata": {
    "collapsed": false,
    "ExecuteTime": {
     "end_time": "2024-04-10T07:07:07.232895Z",
     "start_time": "2024-04-10T07:05:40.377342Z"
    }
   },
   "id": "2616473fd8cc92e0",
   "outputs": [
    {
     "name": "stderr",
     "output_type": "stream",
     "text": [
      "100%|██████████| 9/9 [01:26<00:00,  9.65s/it]\n"
     ]
    }
   ],
   "execution_count": 29
  },
  {
   "cell_type": "code",
   "source": "feature_random_transactions_df",
   "metadata": {
    "collapsed": false,
    "ExecuteTime": {
     "end_time": "2024-04-10T07:07:10.091021Z",
     "start_time": "2024-04-10T07:07:10.069881Z"
    }
   },
   "id": "c764e1ba6d5f16c1",
   "outputs": [
    {
     "data": {
      "text/plain": [
       "   blockNumber                                     address      gasPrice  \\\n",
       "0     10972278  0x22300dAe061ab0870Fc8503822e096816e2dD951  6.459092e-08   \n",
       "1     11022614  0xe62193Bc1c340EF2205C0Bd71691Fad5e5072253  2.257465e-07   \n",
       "2     11248573  0x20Dc0b9520CC2C2BE89F247061A2c8e310045949  5.140010e-08   \n",
       "3      9974388  0x44121903d6938E440837195aB554cACD1742d63d  2.000000e-08   \n",
       "4     10904225  0x9408faF5C34371636FD27107Cb8241D0978BF0c7  1.190000e-07   \n",
       "5      6495420  0x63AB0507f208248166F697AEfAe76A9Ba24ed6A6  6.200000e-08   \n",
       "6     10698926  0x275E6D0977AB69D68cEfE943755Ec34082202a05  1.590000e-07   \n",
       "7      2464844  0x2a65Aca4D5fC5B5C859090a6c34d164135398226  2.500000e-08   \n",
       "8      8273900  0xd5e015739a8BEffF075C4eAA2013D27Df35FFDdc  1.000000e-09   \n",
       "\n",
       "   meanGasPriceLastTenBlocks  stdGasPriceLastTenBlocks  \\\n",
       "0               7.352220e-08              5.901775e-08   \n",
       "1               9.166672e-08              1.221066e-07   \n",
       "2               5.915760e-08              2.303706e-08   \n",
       "3               2.123011e-08              1.253226e-08   \n",
       "4               1.340913e-07              4.692489e-08   \n",
       "5               1.283176e-08              1.627956e-08   \n",
       "6               1.034696e-07              4.821043e-08   \n",
       "7               3.381780e-08              1.373328e-08   \n",
       "8               1.566779e-08              7.595185e-08   \n",
       "\n",
       "   meanGasPriceLastTenBlocksSameEOA  stdGasPriceLastTenBlocksSameEOA  \\\n",
       "0                      6.459092e-08                     0.000000e+00   \n",
       "1                      8.296688e-07                     5.992909e-07   \n",
       "2                      5.140010e-08                     1.323489e-23   \n",
       "3                      2.000000e-08                     0.000000e+00   \n",
       "4                      1.190000e-07                     0.000000e+00   \n",
       "5                      6.200000e-08                     0.000000e+00   \n",
       "6                      1.290000e-07                     3.000000e-08   \n",
       "7                      2.500000e-08                     6.617445e-24   \n",
       "8                      1.000000e-09                     0.000000e+00   \n",
       "\n",
       "   usedGasToken  \n",
       "0         False  \n",
       "1         False  \n",
       "2         False  \n",
       "3         False  \n",
       "4         False  \n",
       "5         False  \n",
       "6         False  \n",
       "7         False  \n",
       "8         False  "
      ],
      "text/html": [
       "<div>\n",
       "<style scoped>\n",
       "    .dataframe tbody tr th:only-of-type {\n",
       "        vertical-align: middle;\n",
       "    }\n",
       "\n",
       "    .dataframe tbody tr th {\n",
       "        vertical-align: top;\n",
       "    }\n",
       "\n",
       "    .dataframe thead th {\n",
       "        text-align: right;\n",
       "    }\n",
       "</style>\n",
       "<table border=\"1\" class=\"dataframe\">\n",
       "  <thead>\n",
       "    <tr style=\"text-align: right;\">\n",
       "      <th></th>\n",
       "      <th>blockNumber</th>\n",
       "      <th>address</th>\n",
       "      <th>gasPrice</th>\n",
       "      <th>meanGasPriceLastTenBlocks</th>\n",
       "      <th>stdGasPriceLastTenBlocks</th>\n",
       "      <th>meanGasPriceLastTenBlocksSameEOA</th>\n",
       "      <th>stdGasPriceLastTenBlocksSameEOA</th>\n",
       "      <th>usedGasToken</th>\n",
       "    </tr>\n",
       "  </thead>\n",
       "  <tbody>\n",
       "    <tr>\n",
       "      <th>0</th>\n",
       "      <td>10972278</td>\n",
       "      <td>0x22300dAe061ab0870Fc8503822e096816e2dD951</td>\n",
       "      <td>6.459092e-08</td>\n",
       "      <td>7.352220e-08</td>\n",
       "      <td>5.901775e-08</td>\n",
       "      <td>6.459092e-08</td>\n",
       "      <td>0.000000e+00</td>\n",
       "      <td>False</td>\n",
       "    </tr>\n",
       "    <tr>\n",
       "      <th>1</th>\n",
       "      <td>11022614</td>\n",
       "      <td>0xe62193Bc1c340EF2205C0Bd71691Fad5e5072253</td>\n",
       "      <td>2.257465e-07</td>\n",
       "      <td>9.166672e-08</td>\n",
       "      <td>1.221066e-07</td>\n",
       "      <td>8.296688e-07</td>\n",
       "      <td>5.992909e-07</td>\n",
       "      <td>False</td>\n",
       "    </tr>\n",
       "    <tr>\n",
       "      <th>2</th>\n",
       "      <td>11248573</td>\n",
       "      <td>0x20Dc0b9520CC2C2BE89F247061A2c8e310045949</td>\n",
       "      <td>5.140010e-08</td>\n",
       "      <td>5.915760e-08</td>\n",
       "      <td>2.303706e-08</td>\n",
       "      <td>5.140010e-08</td>\n",
       "      <td>1.323489e-23</td>\n",
       "      <td>False</td>\n",
       "    </tr>\n",
       "    <tr>\n",
       "      <th>3</th>\n",
       "      <td>9974388</td>\n",
       "      <td>0x44121903d6938E440837195aB554cACD1742d63d</td>\n",
       "      <td>2.000000e-08</td>\n",
       "      <td>2.123011e-08</td>\n",
       "      <td>1.253226e-08</td>\n",
       "      <td>2.000000e-08</td>\n",
       "      <td>0.000000e+00</td>\n",
       "      <td>False</td>\n",
       "    </tr>\n",
       "    <tr>\n",
       "      <th>4</th>\n",
       "      <td>10904225</td>\n",
       "      <td>0x9408faF5C34371636FD27107Cb8241D0978BF0c7</td>\n",
       "      <td>1.190000e-07</td>\n",
       "      <td>1.340913e-07</td>\n",
       "      <td>4.692489e-08</td>\n",
       "      <td>1.190000e-07</td>\n",
       "      <td>0.000000e+00</td>\n",
       "      <td>False</td>\n",
       "    </tr>\n",
       "    <tr>\n",
       "      <th>5</th>\n",
       "      <td>6495420</td>\n",
       "      <td>0x63AB0507f208248166F697AEfAe76A9Ba24ed6A6</td>\n",
       "      <td>6.200000e-08</td>\n",
       "      <td>1.283176e-08</td>\n",
       "      <td>1.627956e-08</td>\n",
       "      <td>6.200000e-08</td>\n",
       "      <td>0.000000e+00</td>\n",
       "      <td>False</td>\n",
       "    </tr>\n",
       "    <tr>\n",
       "      <th>6</th>\n",
       "      <td>10698926</td>\n",
       "      <td>0x275E6D0977AB69D68cEfE943755Ec34082202a05</td>\n",
       "      <td>1.590000e-07</td>\n",
       "      <td>1.034696e-07</td>\n",
       "      <td>4.821043e-08</td>\n",
       "      <td>1.290000e-07</td>\n",
       "      <td>3.000000e-08</td>\n",
       "      <td>False</td>\n",
       "    </tr>\n",
       "    <tr>\n",
       "      <th>7</th>\n",
       "      <td>2464844</td>\n",
       "      <td>0x2a65Aca4D5fC5B5C859090a6c34d164135398226</td>\n",
       "      <td>2.500000e-08</td>\n",
       "      <td>3.381780e-08</td>\n",
       "      <td>1.373328e-08</td>\n",
       "      <td>2.500000e-08</td>\n",
       "      <td>6.617445e-24</td>\n",
       "      <td>False</td>\n",
       "    </tr>\n",
       "    <tr>\n",
       "      <th>8</th>\n",
       "      <td>8273900</td>\n",
       "      <td>0xd5e015739a8BEffF075C4eAA2013D27Df35FFDdc</td>\n",
       "      <td>1.000000e-09</td>\n",
       "      <td>1.566779e-08</td>\n",
       "      <td>7.595185e-08</td>\n",
       "      <td>1.000000e-09</td>\n",
       "      <td>0.000000e+00</td>\n",
       "      <td>False</td>\n",
       "    </tr>\n",
       "  </tbody>\n",
       "</table>\n",
       "</div>"
      ]
     },
     "execution_count": 30,
     "metadata": {},
     "output_type": "execute_result"
    }
   ],
   "execution_count": 30
  },
  {
   "metadata": {},
   "cell_type": "code",
   "outputs": [],
   "execution_count": null,
   "source": "",
   "id": "d2d9ade48b729356"
  }
 ],
 "metadata": {
  "kernelspec": {
   "name": "frontrunning-attacks",
   "language": "python",
   "display_name": "frontrunning-attacks"
  },
  "language_info": {
   "codemirror_mode": {
    "name": "ipython",
    "version": 2
   },
   "file_extension": ".py",
   "mimetype": "text/x-python",
   "name": "python",
   "nbconvert_exporter": "python",
   "pygments_lexer": "ipython2",
   "version": "2.7.6"
  }
 },
 "nbformat": 4,
 "nbformat_minor": 5
}
