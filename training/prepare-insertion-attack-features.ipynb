{
 "cells": [
  {
   "cell_type": "markdown",
   "source": [
    "## Features needed for training\n",
    "1. Gas Price of the Transaction\n",
    "2. Mean Gas Price of Transactions in the Last 10 Blocks\n",
    "3.  Standard Deviation of Gas Price of Transactions in the\n",
    "Last Ten Blocks\n",
    "4. Mean Gas Price of Transactions by the same EOA (externally owned account)\n",
    "5. Standard Deviation of Gas Price in Transactions by the\n",
    "same EOA\n",
    "6. Usage of Gas Tokens\n",
    "7. Predicted Gas Price"
   ],
   "metadata": {
    "collapsed": false
   },
   "id": "a630be665b11f3d3"
  },
  {
   "cell_type": "code",
   "source": [
    "from web3 import Web3\n",
    "from tqdm import tqdm\n",
    "import pandas as pd\n",
    "import numpy as np\n",
    "import random\n",
    "import torch\n",
    "import requests"
   ],
   "metadata": {
    "collapsed": false,
    "ExecuteTime": {
     "end_time": "2024-04-18T13:09:15.496264Z",
     "start_time": "2024-04-18T13:09:15.491528Z"
    }
   },
   "id": "5f8c59138bb46f0a",
   "outputs": [],
   "execution_count": 62
  },
  {
   "cell_type": "code",
   "source": [
    "web3 = Web3(Web3.HTTPProvider(\"https://intensive-sly-mountain.quiknode.pro/a3f5256d7f2af6541d483cce3f1d49c94c01879e/\"))\n",
    "print(web3.is_connected())"
   ],
   "metadata": {
    "collapsed": false,
    "ExecuteTime": {
     "end_time": "2024-04-18T13:09:17.302232Z",
     "start_time": "2024-04-18T13:09:16.911083Z"
    }
   },
   "id": "2a5ebe396cf3628d",
   "outputs": [
    {
     "name": "stdout",
     "output_type": "stream",
     "text": [
      "True\n"
     ]
    }
   ],
   "execution_count": 63
  },
  {
   "cell_type": "code",
   "id": "initial_id",
   "metadata": {
    "collapsed": true,
    "ExecuteTime": {
     "end_time": "2024-04-18T13:09:19.742603Z",
     "start_time": "2024-04-18T13:09:18.650286Z"
    }
   },
   "source": [
    "df_insertion = pd.read_csv ('../data/insertion_attacks.csv', delimiter=',')\n",
    "print('# of insertion: ', len(df_insertion))"
   ],
   "outputs": [
    {
     "name": "stdout",
     "output_type": "stream",
     "text": [
      "# of insertion:  196691\n"
     ]
    }
   ],
   "execution_count": 64
  },
  {
   "metadata": {},
   "cell_type": "markdown",
   "source": "#### Helper functions used in preparation of multiple features",
   "id": "25ccd51b889c6ea2"
  },
  {
   "metadata": {
    "ExecuteTime": {
     "end_time": "2024-04-18T13:19:56.712869Z",
     "start_time": "2024-04-18T13:19:56.707641Z"
    }
   },
   "cell_type": "code",
   "source": [
    "def convert_from_wei_to_gwei(gas_price_in_wei):\n",
    "    gas_price_in_gwei = float(web3.from_wei(gas_price_in_wei, \"gwei\"))\n",
    "    return gas_price_in_gwei"
   ],
   "id": "a91e82de2e8b2ebb",
   "outputs": [],
   "execution_count": 77
  },
  {
   "metadata": {
    "ExecuteTime": {
     "end_time": "2024-04-18T13:45:36.912755Z",
     "start_time": "2024-04-18T13:45:36.906696Z"
    }
   },
   "cell_type": "code",
   "source": [
    "def get_transaction_by_sender_and_block_nr(block_number, sender, web3):\n",
    "    \n",
    "    block = web3.eth.get_block(block_number, full_transactions=True)\n",
    "    \n",
    "    for transaction in block.transactions:        \n",
    "        if transaction[\"from\"] == sender:\n",
    "            return transaction\n",
    "    "
   ],
   "id": "ae59c3c4c1099a54",
   "outputs": [],
   "execution_count": 90
  },
  {
   "cell_type": "markdown",
   "source": [
    "### Feature 1\n",
    "Gas price of transaction"
   ],
   "metadata": {
    "collapsed": false
   },
   "id": "83df9230650ad3b8"
  },
  {
   "cell_type": "code",
   "source": [
    "def get_transaction_gas_price_in_eth_by_sender_and_block_nr(block_number, sender, web3):\n",
    "    block = web3.eth.get_block(block_number, full_transactions=True)\n",
    "    \n",
    "    for transaction in block.transactions:        \n",
    "        if transaction[\"from\"] == sender:\n",
    "            return convert_from_wei_to_gwei(transaction[\"gasPrice\"])\n",
    "\n",
    "\n",
    "get_transaction_gas_price_in_eth_by_sender_and_block_nr(5599805, '0xFF28319a7cD2136ea7283E7cDb0675B50AC29Dd2', web3)"
   ],
   "metadata": {
    "collapsed": false,
    "ExecuteTime": {
     "end_time": "2024-04-18T13:09:23.179689Z",
     "start_time": "2024-04-18T13:09:22.758014Z"
    }
   },
   "id": "fd716710c6e39e03",
   "outputs": [
    {
     "data": {
      "text/plain": [
       "9.97"
      ]
     },
     "execution_count": 66,
     "metadata": {},
     "output_type": "execute_result"
    }
   ],
   "execution_count": 66
  },
  {
   "metadata": {
    "ExecuteTime": {
     "end_time": "2024-04-18T13:44:55.783085Z",
     "start_time": "2024-04-18T13:44:55.777486Z"
    }
   },
   "cell_type": "code",
   "source": [
    "def get_transaction_gas_price_in_gwei(transaction, web3):\n",
    "    return convert_from_wei_to_gwei(transaction[\"gasPrice\"])"
   ],
   "id": "d8014d0e36871e14",
   "outputs": [],
   "execution_count": 87
  },
  {
   "cell_type": "markdown",
   "source": [
    "### Feature 2 and 3\n",
    "- Mean Gas Price of Transactions in the Last 10 Blocks\n",
    "- Standard Deviation of Gas Price of Transactions in the Last 10 Blocks"
   ],
   "metadata": {
    "collapsed": false
   },
   "id": "9ab9d2a12daec479"
  },
  {
   "cell_type": "code",
   "source": [
    "def get_mean_and_std_gas_price_of_last_n_blocks(last_n_blocks, curr_block, web3):\n",
    "    web3.eth.get_block(curr_block)\n",
    "    \n",
    "    gas_prices = []\n",
    "    for i in range(last_n_blocks):\n",
    "        block = web3.eth.get_block(curr_block - i, full_transactions=True)\n",
    "        \n",
    "        for transaction in block.transactions:\n",
    "            gas_prices.append(convert_from_wei_to_gwei(transaction[\"gasPrice\"]))\n",
    "    \n",
    "    return np.mean(gas_prices), np.std(gas_prices)"
   ],
   "metadata": {
    "collapsed": false,
    "ExecuteTime": {
     "end_time": "2024-04-18T13:09:25.323918Z",
     "start_time": "2024-04-18T13:09:25.315268Z"
    }
   },
   "id": "92fe819583a45baa",
   "outputs": [],
   "execution_count": 67
  },
  {
   "cell_type": "markdown",
   "source": [
    "### Feature 4\n",
    "- Mean Gas Price of Transactions by the same EOA (externally owned account)\n",
    "- Standard Deviation of Gas Price in Transactions by the\n",
    "same EOA"
   ],
   "metadata": {
    "collapsed": false
   },
   "id": "53d4b34e7a52aa39"
  },
  {
   "cell_type": "code",
   "source": [
    "# prepare data for insertion\n",
    "\n",
    "def get_mean_and_std_gas_price_of_last_n_blocks_of_same_EOA(last_n_blocks, curr_block, eoa_address, web3):\n",
    "    web3.eth.get_block(curr_block)\n",
    "    \n",
    "    gas_prices = []\n",
    "    for i in range(last_n_blocks):\n",
    "        block = web3.eth.get_block(curr_block - i, full_transactions=True)\n",
    "        \n",
    "        for transaction in block.transactions:\n",
    "            if transaction[\"from\"] == eoa_address:\n",
    "                gas_prices.append(convert_from_wei_to_gwei(transaction[\"gasPrice\"]))\n",
    "    return np.mean(gas_prices), np.std(gas_prices)"
   ],
   "metadata": {
    "collapsed": false,
    "ExecuteTime": {
     "end_time": "2024-04-18T13:09:26.919498Z",
     "start_time": "2024-04-18T13:09:26.912598Z"
    }
   },
   "id": "74d179d2db4cbf31",
   "outputs": [],
   "execution_count": 68
  },
  {
   "cell_type": "markdown",
   "source": [
    "### Feature 6\n",
    "Usage of gas tokens -> check if gas-token contract addresses are used in internal transactions via Etherscan API.  \n",
    "Typically internal transaction of type *self-destruct*."
   ],
   "metadata": {
    "collapsed": false
   },
   "id": "5bebdcb7ce8fb352"
  },
  {
   "metadata": {
    "ExecuteTime": {
     "end_time": "2024-04-18T13:09:28.592906Z",
     "start_time": "2024-04-18T13:09:28.586189Z"
    }
   },
   "cell_type": "code",
   "source": [
    "def get_internal_transactions(tx_hash):\n",
    "    # API endpoint\n",
    "    url = 'https://api.etherscan.io/api'\n",
    "\n",
    "    # Parameters\n",
    "    params = {\n",
    "        'module': 'account',\n",
    "        'action': 'txlistinternal',\n",
    "        'txhash': tx_hash,\n",
    "        'apikey': '1PN1111XBM2W5HIQCSMQH6RA65JVYPQM1R'\n",
    "    }\n",
    "\n",
    "    try:\n",
    "        # Sending GET request\n",
    "        response = requests.get(url, params=params, timeout=3)\n",
    "    \n",
    "        # Checking if request was successful\n",
    "        if response.status_code == 200:\n",
    "            data = response.json()\n",
    "            return data[\"result\"]\n",
    "        else:\n",
    "            #print('Error occurred:', response.status_code)\n",
    "            return None\n",
    "        \n",
    "    except requests.exceptions.Timeout:\n",
    "        #print('Request did not go through: timeout occurred')\n",
    "        return None\n",
    "    except requests.exceptions.ConnectionError:\n",
    "        print('Connection error')\n",
    "        return None"
   ],
   "id": "f667093d341084fb",
   "outputs": [],
   "execution_count": 69
  },
  {
   "metadata": {
    "ExecuteTime": {
     "end_time": "2024-04-18T13:09:30.286744Z",
     "start_time": "2024-04-18T13:09:30.279695Z"
    }
   },
   "cell_type": "code",
   "source": [
    "def is_gas_token_contract_in_internal_transaction(transaction_hash):\n",
    "    \n",
    "    gas_token_addresses = {\"0x0000000000b3f879cb30fe243b4dfee438691c04\": \"GST2\",\n",
    "                           \"0x88d60255f917e3eb94eae199d827dad837fac4cb\": \"GST1\",\n",
    "                           \"0x0000000000004946c0e9f43f4dee607b0ef1fa1c\": \"CHI\"}\n",
    "        \n",
    "    internal_transactions = get_internal_transactions(transaction_hash)\n",
    "    \n",
    "    if not internal_transactions:\n",
    "        return False\n",
    "    \n",
    "    for transaction in internal_transactions:\n",
    "        if transaction[\"from\"] in gas_token_addresses.keys() or transaction[\"to\"] in gas_token_addresses.keys():\n",
    "            return True\n",
    "    \n",
    "    return False"
   ],
   "id": "f252f00411b1eefc",
   "outputs": [],
   "execution_count": 70
  },
  {
   "metadata": {
    "ExecuteTime": {
     "end_time": "2024-04-18T13:09:31.947215Z",
     "start_time": "2024-04-18T13:09:31.939479Z"
    }
   },
   "cell_type": "code",
   "source": [
    "def is_transaction_using_gas_token(block_number, address, web3):\n",
    "    \n",
    "    block = web3.eth.get_block(block_number, full_transactions=True)\n",
    "    \n",
    "    for transaction in block.transactions:  \n",
    "        if not (transaction[\"from\"] == address or transaction[\"to\"] == address):\n",
    "            continue\n",
    "        else:\n",
    "            transaction_hash = transaction[\"hash\"].hex()\n",
    "            return is_gas_token_contract_in_internal_transaction(transaction_hash)"
   ],
   "id": "dbf0b09b51a1cb5b",
   "outputs": [],
   "execution_count": 71
  },
  {
   "metadata": {
    "ExecuteTime": {
     "end_time": "2024-04-18T13:26:42.002544Z",
     "start_time": "2024-04-18T13:26:41.997278Z"
    }
   },
   "cell_type": "code",
   "source": [
    "def is_transaction_using_gas_token(transaction_hash):\n",
    "    return is_gas_token_contract_in_internal_transaction(transaction_hash)"
   ],
   "id": "e8e9625d27d1404e",
   "outputs": [],
   "execution_count": 81
  },
  {
   "cell_type": "markdown",
   "source": [
    "### Feature 7\n",
    "Predicted gas price --> train modell for this"
   ],
   "metadata": {
    "collapsed": false
   },
   "id": "b7ba2b0e91f569e9"
  },
  {
   "cell_type": "markdown",
   "source": [
    "Since the data was collected 3 years ago, we don't predict the gas-price trained on the gas-prices of the last 100 block from now, but from the highest block in the dataset."
   ],
   "metadata": {
    "collapsed": false
   },
   "id": "b27070964deae4f4"
  },
  {
   "cell_type": "code",
   "source": [
    "model = torch.jit.load('./lstm-feature-7.pt')\n",
    "mean_train = torch.load('./mean_train.pt')\n",
    "std_train = torch.load('./std_train.pt')"
   ],
   "metadata": {
    "collapsed": false,
    "ExecuteTime": {
     "end_time": "2024-04-18T13:09:33.752965Z",
     "start_time": "2024-04-18T13:09:33.718374Z"
    }
   },
   "id": "c117ded0195cdeb2",
   "outputs": [],
   "execution_count": 72
  },
  {
   "cell_type": "code",
   "source": [
    "def get_predicted_gas_price(block_nr, address):\n",
    "    gas_prices_last_15_transactions = get_gas_price_of_last_n_transactions(15, block_nr, address)\n",
    "    \n",
    "    model.eval()\n",
    "    with torch.no_grad():\n",
    "        tensor = torch.tensor(gas_prices_last_15_transactions).view(1,1,15)\n",
    "        predicted_curr_gas_price = model(tensor)[:, -1].item()\n",
    "        \n",
    "        # transform back\n",
    "        return predicted_curr_gas_price * std_train.item() + mean_train.item()\n",
    "    \n",
    "    \n",
    "def get_gas_price_of_last_n_transactions(n, block_nr, address):\n",
    "    gas_prices = []\n",
    "    index_curr_transaction = None\n",
    "    block = web3.eth.get_block(block_nr, full_transactions=True)\n",
    "    transactions = block.transactions\n",
    "    for index, transaction in enumerate(transactions):\n",
    "            if transaction[\"from\"] == address:\n",
    "                index_curr_transaction = index\n",
    "    \n",
    "    if index_curr_transaction > n:\n",
    "        for i in range(index_curr_transaction - n, index_curr_transaction):\n",
    "            gas_prices.append(convert_from_wei_to_gwei(transaction[\"gasPrice\"]))\n",
    "    else:\n",
    "        # prepend more transaction from previous blocks\n",
    "        curr_block = block_nr - 1\n",
    "        while len(gas_prices) < n :\n",
    "            block = web3.eth.get_block(block_nr, full_transactions=True)\n",
    "            \n",
    "            for transaction in reversed(block.transactions):\n",
    "                gas_prices.insert(0, convert_from_wei_to_gwei(transaction[\"gasPrice\"]))\n",
    "                if len(gas_prices) == n:\n",
    "                    break\n",
    "            curr_block -= 1\n",
    "    return gas_prices"
   ],
   "metadata": {
    "collapsed": false,
    "ExecuteTime": {
     "end_time": "2024-04-18T13:09:35.559946Z",
     "start_time": "2024-04-18T13:09:35.549375Z"
    }
   },
   "id": "f5e5a5d684d06862",
   "outputs": [],
   "execution_count": 73
  },
  {
   "cell_type": "markdown",
   "source": [
    "### Putting all together"
   ],
   "metadata": {
    "collapsed": false
   },
   "id": "8a52cd551354d2e6"
  },
  {
   "cell_type": "code",
   "source": [
    "def extract_n_entries_insertion_attack(csv_column: str, nr_of_entries) -> pd.DataFrame:\n",
    "    \n",
    "    entries = []\n",
    "    \n",
    "    for index, entry in tqdm(df_insertion.sample(nr_of_entries).iterrows()):\n",
    "        \n",
    "        block_nr = entry[\"Block Number\"]\n",
    "        address = entry[csv_column]\n",
    "        \n",
    "        transaction = get_transaction_by_sender_and_block_nr(block_nr, address, web3)\n",
    "        transaction_hash = transaction[\"hash\"].hex()\n",
    "        \n",
    "        mean_gas_price_last_10_blocks, std_gas_price_last_10_blocks = get_mean_and_std_gas_price_of_last_n_blocks(10, block_nr, web3)\n",
    "        \n",
    "        mean_gas_price_last_n_blocks_same_EOA, std_gas_price_last_n_blocks_same_EOA = get_mean_and_std_gas_price_of_last_n_blocks_of_same_EOA(20, block_nr, address, web3)\n",
    "        \n",
    "        new_entry = {\n",
    "            \"blockNumber\": block_nr,\n",
    "            \"address\": address,\n",
    "            \"transactionHash\": transaction_hash,\n",
    "            \"gasPrice\": get_transaction_gas_price_in_gwei(transaction, web3),\n",
    "            \"meanGasPriceLastTenBlocks\": mean_gas_price_last_10_blocks,\n",
    "            \"stdGasPriceLastTenBlocks\": std_gas_price_last_10_blocks,\n",
    "            \"meanGasPriceLastTenBlocksSameEOA\": mean_gas_price_last_n_blocks_same_EOA,\n",
    "            \"stdGasPriceLastTenBlocksSameEOA\": std_gas_price_last_n_blocks_same_EOA,\n",
    "            \"usedGasToken\": is_transaction_using_gas_token(transaction_hash),\n",
    "            \"predictedGasPrice\": get_predicted_gas_price(block_nr, address)\n",
    "        }\n",
    "        entries.append(new_entry)\n",
    "    \n",
    "    return pd.DataFrame(entries) "
   ],
   "metadata": {
    "collapsed": false,
    "ExecuteTime": {
     "end_time": "2024-04-18T13:45:52.536067Z",
     "start_time": "2024-04-18T13:45:52.527946Z"
    }
   },
   "id": "d002ea1493baec66",
   "outputs": [],
   "execution_count": 92
  },
  {
   "cell_type": "markdown",
   "source": [
    "**Feature Extraction First Attacker**"
   ],
   "metadata": {
    "collapsed": false
   },
   "id": "6382d2047991e65f"
  },
  {
   "cell_type": "code",
   "source": [
    "#feature_insertion_first_atk_df = extract_n_entries_insertion_attack(csv_column=\"First Attacker\", nr_of_entries=10)\n",
    "#feature_insertion_first_atk_df.to_csv('../data/insertion_atks_first_atk.csv')\n",
    "#feature_insertion_first_atk_df"
   ],
   "metadata": {
    "collapsed": false,
    "is_executing": true,
    "ExecuteTime": {
     "end_time": "2024-04-18T13:48:02.054376Z",
     "start_time": "2024-04-18T13:45:55.176651Z"
    }
   },
   "id": "a8d3af34a4d7e83",
   "outputs": [
    {
     "name": "stderr",
     "output_type": "stream",
     "text": [
      "10it [02:06, 12.68s/it]\n"
     ]
    },
    {
     "data": {
      "text/plain": [
       "   blockNumber                                     address    gasPrice  \\\n",
       "0     10660145  0xaaa2e80AB7D7b3C216af30Fc8165E7823e74cc62  157.100000   \n",
       "1     10627182  0x25b2A252C07A1e930a0bc87Cf250ca6DF007eA84  140.000000   \n",
       "2     11158728  0xa21caEbD27a296678176aC886735bfd18F875B8f  321.000031   \n",
       "3     10938352  0xa21caEbD27a296678176aC886735bfd18F875B8f   85.000000   \n",
       "4     10816188  0x30b8235f492265A734347C0bF36E2FFcAD887be2  168.218613   \n",
       "5     10628329  0xe4Ec5Ba53cAEcFE979570d5396d1d2dc5e6c3BD5   96.800000   \n",
       "6     11065112  0xa21caEbD27a296678176aC886735bfd18F875B8f   84.000000   \n",
       "7     10346807  0x4ed50D27bae39043754AF35572958BeCe22f2C2A  391.696152   \n",
       "8     10960354  0xe4Ec5Ba53cAEcFE979570d5396d1d2dc5e6c3BD5  122.000000   \n",
       "9     10718278  0x86254Cb5A96C161E503d3255d67Fdddec056FEfe   90.000000   \n",
       "\n",
       "   meanGasPriceLastTenBlocks  stdGasPriceLastTenBlocks  \\\n",
       "0                 187.741131                 44.034620   \n",
       "1                 101.178055                 48.743137   \n",
       "2                 107.708466               1199.887252   \n",
       "3                  76.978745                 39.969200   \n",
       "4                 110.771239                 57.381160   \n",
       "5                  59.400777                 26.772247   \n",
       "6                  75.664731                 22.638317   \n",
       "7                  39.066554                 89.167082   \n",
       "8                  67.009696                 63.745134   \n",
       "9                  73.378585                 28.359983   \n",
       "\n",
       "   meanGasPriceLastTenBlocksSameEOA  stdGasPriceLastTenBlocksSameEOA  \\\n",
       "0                        188.050000                     4.384065e+01   \n",
       "1                        140.000000                     1.499998e-09   \n",
       "2                       4832.590195                     1.183562e+04   \n",
       "3                         85.000000                     7.000004e-09   \n",
       "4                        136.829653                     3.036238e+01   \n",
       "5                         96.800000                     1.499998e-09   \n",
       "6                         95.500000                     1.251998e+01   \n",
       "7                        391.696152                     0.000000e+00   \n",
       "8                         85.500000                     2.146509e+01   \n",
       "9                         90.000000                     0.000000e+00   \n",
       "\n",
       "   usedGasToken  predictedGasPrice  \n",
       "0         False         170.477368  \n",
       "1          True         169.691838  \n",
       "2         False         171.009181  \n",
       "3         False         171.881307  \n",
       "4         False         169.463570  \n",
       "5         False         159.949819  \n",
       "6         False         172.073812  \n",
       "7          True         172.050478  \n",
       "8         False         171.965535  \n",
       "9         False         172.483810  "
      ],
      "text/html": [
       "<div>\n",
       "<style scoped>\n",
       "    .dataframe tbody tr th:only-of-type {\n",
       "        vertical-align: middle;\n",
       "    }\n",
       "\n",
       "    .dataframe tbody tr th {\n",
       "        vertical-align: top;\n",
       "    }\n",
       "\n",
       "    .dataframe thead th {\n",
       "        text-align: right;\n",
       "    }\n",
       "</style>\n",
       "<table border=\"1\" class=\"dataframe\">\n",
       "  <thead>\n",
       "    <tr style=\"text-align: right;\">\n",
       "      <th></th>\n",
       "      <th>blockNumber</th>\n",
       "      <th>address</th>\n",
       "      <th>gasPrice</th>\n",
       "      <th>meanGasPriceLastTenBlocks</th>\n",
       "      <th>stdGasPriceLastTenBlocks</th>\n",
       "      <th>meanGasPriceLastTenBlocksSameEOA</th>\n",
       "      <th>stdGasPriceLastTenBlocksSameEOA</th>\n",
       "      <th>usedGasToken</th>\n",
       "      <th>predictedGasPrice</th>\n",
       "    </tr>\n",
       "  </thead>\n",
       "  <tbody>\n",
       "    <tr>\n",
       "      <th>0</th>\n",
       "      <td>10660145</td>\n",
       "      <td>0xaaa2e80AB7D7b3C216af30Fc8165E7823e74cc62</td>\n",
       "      <td>157.100000</td>\n",
       "      <td>187.741131</td>\n",
       "      <td>44.034620</td>\n",
       "      <td>188.050000</td>\n",
       "      <td>4.384065e+01</td>\n",
       "      <td>False</td>\n",
       "      <td>170.477368</td>\n",
       "    </tr>\n",
       "    <tr>\n",
       "      <th>1</th>\n",
       "      <td>10627182</td>\n",
       "      <td>0x25b2A252C07A1e930a0bc87Cf250ca6DF007eA84</td>\n",
       "      <td>140.000000</td>\n",
       "      <td>101.178055</td>\n",
       "      <td>48.743137</td>\n",
       "      <td>140.000000</td>\n",
       "      <td>1.499998e-09</td>\n",
       "      <td>True</td>\n",
       "      <td>169.691838</td>\n",
       "    </tr>\n",
       "    <tr>\n",
       "      <th>2</th>\n",
       "      <td>11158728</td>\n",
       "      <td>0xa21caEbD27a296678176aC886735bfd18F875B8f</td>\n",
       "      <td>321.000031</td>\n",
       "      <td>107.708466</td>\n",
       "      <td>1199.887252</td>\n",
       "      <td>4832.590195</td>\n",
       "      <td>1.183562e+04</td>\n",
       "      <td>False</td>\n",
       "      <td>171.009181</td>\n",
       "    </tr>\n",
       "    <tr>\n",
       "      <th>3</th>\n",
       "      <td>10938352</td>\n",
       "      <td>0xa21caEbD27a296678176aC886735bfd18F875B8f</td>\n",
       "      <td>85.000000</td>\n",
       "      <td>76.978745</td>\n",
       "      <td>39.969200</td>\n",
       "      <td>85.000000</td>\n",
       "      <td>7.000004e-09</td>\n",
       "      <td>False</td>\n",
       "      <td>171.881307</td>\n",
       "    </tr>\n",
       "    <tr>\n",
       "      <th>4</th>\n",
       "      <td>10816188</td>\n",
       "      <td>0x30b8235f492265A734347C0bF36E2FFcAD887be2</td>\n",
       "      <td>168.218613</td>\n",
       "      <td>110.771239</td>\n",
       "      <td>57.381160</td>\n",
       "      <td>136.829653</td>\n",
       "      <td>3.036238e+01</td>\n",
       "      <td>False</td>\n",
       "      <td>169.463570</td>\n",
       "    </tr>\n",
       "    <tr>\n",
       "      <th>5</th>\n",
       "      <td>10628329</td>\n",
       "      <td>0xe4Ec5Ba53cAEcFE979570d5396d1d2dc5e6c3BD5</td>\n",
       "      <td>96.800000</td>\n",
       "      <td>59.400777</td>\n",
       "      <td>26.772247</td>\n",
       "      <td>96.800000</td>\n",
       "      <td>1.499998e-09</td>\n",
       "      <td>False</td>\n",
       "      <td>159.949819</td>\n",
       "    </tr>\n",
       "    <tr>\n",
       "      <th>6</th>\n",
       "      <td>11065112</td>\n",
       "      <td>0xa21caEbD27a296678176aC886735bfd18F875B8f</td>\n",
       "      <td>84.000000</td>\n",
       "      <td>75.664731</td>\n",
       "      <td>22.638317</td>\n",
       "      <td>95.500000</td>\n",
       "      <td>1.251998e+01</td>\n",
       "      <td>False</td>\n",
       "      <td>172.073812</td>\n",
       "    </tr>\n",
       "    <tr>\n",
       "      <th>7</th>\n",
       "      <td>10346807</td>\n",
       "      <td>0x4ed50D27bae39043754AF35572958BeCe22f2C2A</td>\n",
       "      <td>391.696152</td>\n",
       "      <td>39.066554</td>\n",
       "      <td>89.167082</td>\n",
       "      <td>391.696152</td>\n",
       "      <td>0.000000e+00</td>\n",
       "      <td>True</td>\n",
       "      <td>172.050478</td>\n",
       "    </tr>\n",
       "    <tr>\n",
       "      <th>8</th>\n",
       "      <td>10960354</td>\n",
       "      <td>0xe4Ec5Ba53cAEcFE979570d5396d1d2dc5e6c3BD5</td>\n",
       "      <td>122.000000</td>\n",
       "      <td>67.009696</td>\n",
       "      <td>63.745134</td>\n",
       "      <td>85.500000</td>\n",
       "      <td>2.146509e+01</td>\n",
       "      <td>False</td>\n",
       "      <td>171.965535</td>\n",
       "    </tr>\n",
       "    <tr>\n",
       "      <th>9</th>\n",
       "      <td>10718278</td>\n",
       "      <td>0x86254Cb5A96C161E503d3255d67Fdddec056FEfe</td>\n",
       "      <td>90.000000</td>\n",
       "      <td>73.378585</td>\n",
       "      <td>28.359983</td>\n",
       "      <td>90.000000</td>\n",
       "      <td>0.000000e+00</td>\n",
       "      <td>False</td>\n",
       "      <td>172.483810</td>\n",
       "    </tr>\n",
       "  </tbody>\n",
       "</table>\n",
       "</div>"
      ]
     },
     "execution_count": 93,
     "metadata": {},
     "output_type": "execute_result"
    }
   ],
   "execution_count": 93
  },
  {
   "cell_type": "markdown",
   "source": [
    "**Feature Extraction Second Attacker**\n"
   ],
   "metadata": {
    "collapsed": false
   },
   "id": "ac9aadfd7070f78b"
  },
  {
   "metadata": {},
   "cell_type": "code",
   "outputs": [],
   "execution_count": null,
   "source": [
    "#feature_insertion_second_atk_df = extract_n_entries_insertion_attack(csv_column=\"Second Attacker\", nr_of_entries=30)\n",
    "#feature_insertion_second_atk_df.to_csv('../data/insertion_atks_second_atk.csv')"
   ],
   "id": "672029d0463fd6c9"
  },
  {
   "cell_type": "markdown",
   "source": [
    "**Feature Extraction Whale/Victim**"
   ],
   "metadata": {
    "collapsed": false
   },
   "id": "654149907cb12dcc"
  },
  {
   "cell_type": "code",
   "source": "#feature_insertion_whale_txs_df = extract_n_entries_insertion_attack(csv_column=\"Whale\", nr_of_entries=100)\n",
   "metadata": {
    "collapsed": false,
    "ExecuteTime": {
     "end_time": "2024-04-10T07:04:18.830403Z",
     "start_time": "2024-04-10T07:04:05.580035Z"
    }
   },
   "id": "d2d781afc44774e0",
   "outputs": [
    {
     "name": "stderr",
     "output_type": "stream",
     "text": [
      "1it [00:12, 12.48s/it]\n"
     ]
    },
    {
     "ename": "KeyboardInterrupt",
     "evalue": "",
     "output_type": "error",
     "traceback": [
      "\u001B[0;31m---------------------------------------------------------------------------\u001B[0m",
      "\u001B[0;31mKeyboardInterrupt\u001B[0m                         Traceback (most recent call last)",
      "Cell \u001B[0;32mIn[15], line 1\u001B[0m\n\u001B[0;32m----> 1\u001B[0m feature_insertion_whale_txs_df \u001B[38;5;241m=\u001B[39m \u001B[43mextract_features_insertion_attack\u001B[49m\u001B[43m(\u001B[49m\u001B[43mcsv_column\u001B[49m\u001B[38;5;241;43m=\u001B[39;49m\u001B[38;5;124;43m\"\u001B[39;49m\u001B[38;5;124;43mWhale\u001B[39;49m\u001B[38;5;124;43m\"\u001B[39;49m\u001B[43m)\u001B[49m\n",
      "Cell \u001B[0;32mIn[12], line 9\u001B[0m, in \u001B[0;36mextract_features_insertion_attack\u001B[0;34m(csv_column)\u001B[0m\n\u001B[1;32m      6\u001B[0m block_nr \u001B[38;5;241m=\u001B[39m entry[\u001B[38;5;124m\"\u001B[39m\u001B[38;5;124mBlock Number\u001B[39m\u001B[38;5;124m\"\u001B[39m]\n\u001B[1;32m      7\u001B[0m address \u001B[38;5;241m=\u001B[39m entry[csv_column]\n\u001B[0;32m----> 9\u001B[0m mean_gas_price_last_10_blocks, std_gas_price_last_10_blocks \u001B[38;5;241m=\u001B[39m \u001B[43mget_mean_and_std_gas_price_of_last_n_blocks\u001B[49m\u001B[43m(\u001B[49m\u001B[38;5;241;43m10\u001B[39;49m\u001B[43m,\u001B[49m\u001B[43m \u001B[49m\u001B[43mblock_nr\u001B[49m\u001B[43m,\u001B[49m\u001B[43m \u001B[49m\u001B[43mweb3\u001B[49m\u001B[43m)\u001B[49m\n\u001B[1;32m     11\u001B[0m mean_gas_price_last_n_blocks_same_EOA, std_gas_price_last_n_blocks_same_EOA \u001B[38;5;241m=\u001B[39m get_mean_and_std_gas_price_of_last_n_blocks_of_same_EOA(\u001B[38;5;241m20\u001B[39m, block_nr, address, web3)\n\u001B[1;32m     13\u001B[0m new_entry \u001B[38;5;241m=\u001B[39m {\n\u001B[1;32m     14\u001B[0m     \u001B[38;5;124m\"\u001B[39m\u001B[38;5;124mblockNumber\u001B[39m\u001B[38;5;124m\"\u001B[39m: block_nr,\n\u001B[1;32m     15\u001B[0m     \u001B[38;5;124m\"\u001B[39m\u001B[38;5;124maddress\u001B[39m\u001B[38;5;124m\"\u001B[39m: address,\n\u001B[0;32m   (...)\u001B[0m\n\u001B[1;32m     21\u001B[0m     \u001B[38;5;124m\"\u001B[39m\u001B[38;5;124musedGasToken\u001B[39m\u001B[38;5;124m\"\u001B[39m: is_transaction_using_gas_token(block_nr, address, web3)\n\u001B[1;32m     22\u001B[0m }\n",
      "Cell \u001B[0;32mIn[5], line 6\u001B[0m, in \u001B[0;36mget_mean_and_std_gas_price_of_last_n_blocks\u001B[0;34m(last_n_blocks, curr_block, web3)\u001B[0m\n\u001B[1;32m      4\u001B[0m gas_prices \u001B[38;5;241m=\u001B[39m []\n\u001B[1;32m      5\u001B[0m \u001B[38;5;28;01mfor\u001B[39;00m i \u001B[38;5;129;01min\u001B[39;00m \u001B[38;5;28mrange\u001B[39m(last_n_blocks):\n\u001B[0;32m----> 6\u001B[0m     block \u001B[38;5;241m=\u001B[39m \u001B[43mweb3\u001B[49m\u001B[38;5;241;43m.\u001B[39;49m\u001B[43meth\u001B[49m\u001B[38;5;241;43m.\u001B[39;49m\u001B[43mget_block\u001B[49m\u001B[43m(\u001B[49m\u001B[43mcurr_block\u001B[49m\u001B[43m \u001B[49m\u001B[38;5;241;43m-\u001B[39;49m\u001B[43m \u001B[49m\u001B[43mi\u001B[49m\u001B[43m,\u001B[49m\u001B[43m \u001B[49m\u001B[43mfull_transactions\u001B[49m\u001B[38;5;241;43m=\u001B[39;49m\u001B[38;5;28;43;01mTrue\u001B[39;49;00m\u001B[43m)\u001B[49m\n\u001B[1;32m      8\u001B[0m     \u001B[38;5;28;01mfor\u001B[39;00m transaction \u001B[38;5;129;01min\u001B[39;00m block\u001B[38;5;241m.\u001B[39mtransactions:\n\u001B[1;32m      9\u001B[0m         gas_prices\u001B[38;5;241m.\u001B[39mappend(transaction[\u001B[38;5;124m\"\u001B[39m\u001B[38;5;124mgasPrice\u001B[39m\u001B[38;5;124m\"\u001B[39m] \u001B[38;5;241m/\u001B[39m \u001B[38;5;241m10\u001B[39m\u001B[38;5;241m*\u001B[39m\u001B[38;5;241m*\u001B[39m\u001B[38;5;241m18\u001B[39m)\n",
      "File \u001B[0;32m~/miniconda3/envs/frontrunning-attacks/lib/python3.10/site-packages/web3/eth/eth.py:413\u001B[0m, in \u001B[0;36mEth.get_block\u001B[0;34m(self, block_identifier, full_transactions)\u001B[0m\n\u001B[1;32m    410\u001B[0m \u001B[38;5;28;01mdef\u001B[39;00m \u001B[38;5;21mget_block\u001B[39m(\n\u001B[1;32m    411\u001B[0m     \u001B[38;5;28mself\u001B[39m, block_identifier: BlockIdentifier, full_transactions: \u001B[38;5;28mbool\u001B[39m \u001B[38;5;241m=\u001B[39m \u001B[38;5;28;01mFalse\u001B[39;00m\n\u001B[1;32m    412\u001B[0m ) \u001B[38;5;241m-\u001B[39m\u001B[38;5;241m>\u001B[39m BlockData:\n\u001B[0;32m--> 413\u001B[0m     \u001B[38;5;28;01mreturn\u001B[39;00m \u001B[38;5;28;43mself\u001B[39;49m\u001B[38;5;241;43m.\u001B[39;49m\u001B[43m_get_block\u001B[49m\u001B[43m(\u001B[49m\u001B[43mblock_identifier\u001B[49m\u001B[43m,\u001B[49m\u001B[43m \u001B[49m\u001B[43mfull_transactions\u001B[49m\u001B[43m)\u001B[49m\n",
      "File \u001B[0;32m~/miniconda3/envs/frontrunning-attacks/lib/python3.10/site-packages/web3/module.py:78\u001B[0m, in \u001B[0;36mretrieve_blocking_method_call_fn.<locals>.caller\u001B[0;34m(*args, **kwargs)\u001B[0m\n\u001B[1;32m     70\u001B[0m (\n\u001B[1;32m     71\u001B[0m     result_formatters,\n\u001B[1;32m     72\u001B[0m     error_formatters,\n\u001B[1;32m     73\u001B[0m     null_result_formatters,\n\u001B[1;32m     74\u001B[0m ) \u001B[38;5;241m=\u001B[39m response_formatters\n\u001B[1;32m     75\u001B[0m result \u001B[38;5;241m=\u001B[39m w3\u001B[38;5;241m.\u001B[39mmanager\u001B[38;5;241m.\u001B[39mrequest_blocking(\n\u001B[1;32m     76\u001B[0m     method_str, params, error_formatters, null_result_formatters\n\u001B[1;32m     77\u001B[0m )\n\u001B[0;32m---> 78\u001B[0m \u001B[38;5;28;01mreturn\u001B[39;00m \u001B[43mapply_result_formatters\u001B[49m\u001B[43m(\u001B[49m\u001B[43mresult_formatters\u001B[49m\u001B[43m,\u001B[49m\u001B[43m \u001B[49m\u001B[43mresult\u001B[49m\u001B[43m)\u001B[49m\n",
      "File \u001B[0;32m~/miniconda3/envs/frontrunning-attacks/lib/python3.10/site-packages/cytoolz/functoolz.pyx:263\u001B[0m, in \u001B[0;36mcytoolz.functoolz.curry.__call__\u001B[0;34m()\u001B[0m\n",
      "File \u001B[0;32m~/miniconda3/envs/frontrunning-attacks/lib/python3.10/site-packages/web3/module.py:49\u001B[0m, in \u001B[0;36mapply_result_formatters\u001B[0;34m(result_formatters, result)\u001B[0m\n\u001B[1;32m     44\u001B[0m \u001B[38;5;129m@curry\u001B[39m\n\u001B[1;32m     45\u001B[0m \u001B[38;5;28;01mdef\u001B[39;00m \u001B[38;5;21mapply_result_formatters\u001B[39m(\n\u001B[1;32m     46\u001B[0m     result_formatters: Callable[\u001B[38;5;241m.\u001B[39m\u001B[38;5;241m.\u001B[39m\u001B[38;5;241m.\u001B[39m, Any], result: RPCResponse\n\u001B[1;32m     47\u001B[0m ) \u001B[38;5;241m-\u001B[39m\u001B[38;5;241m>\u001B[39m RPCResponse:\n\u001B[1;32m     48\u001B[0m     \u001B[38;5;28;01mif\u001B[39;00m result_formatters:\n\u001B[0;32m---> 49\u001B[0m         formatted_result \u001B[38;5;241m=\u001B[39m \u001B[43mpipe\u001B[49m\u001B[43m(\u001B[49m\u001B[43mresult\u001B[49m\u001B[43m,\u001B[49m\u001B[43m \u001B[49m\u001B[43mresult_formatters\u001B[49m\u001B[43m)\u001B[49m\n\u001B[1;32m     50\u001B[0m         \u001B[38;5;28;01mreturn\u001B[39;00m formatted_result\n\u001B[1;32m     51\u001B[0m     \u001B[38;5;28;01melse\u001B[39;00m:\n",
      "File \u001B[0;32m~/miniconda3/envs/frontrunning-attacks/lib/python3.10/site-packages/cytoolz/functoolz.pyx:680\u001B[0m, in \u001B[0;36mcytoolz.functoolz.pipe\u001B[0;34m()\u001B[0m\n",
      "File \u001B[0;32m~/miniconda3/envs/frontrunning-attacks/lib/python3.10/site-packages/cytoolz/functoolz.pyx:655\u001B[0m, in \u001B[0;36mcytoolz.functoolz.c_pipe\u001B[0;34m()\u001B[0m\n",
      "File \u001B[0;32m~/miniconda3/envs/frontrunning-attacks/lib/python3.10/site-packages/cytoolz/functoolz.pyx:263\u001B[0m, in \u001B[0;36mcytoolz.functoolz.curry.__call__\u001B[0;34m()\u001B[0m\n",
      "File \u001B[0;32m~/miniconda3/envs/frontrunning-attacks/lib/python3.10/site-packages/eth_utils/applicators.py:85\u001B[0m, in \u001B[0;36mapply_formatter_if\u001B[0;34m(condition, formatter, value)\u001B[0m\n\u001B[1;32m     81\u001B[0m \u001B[38;5;28;01mdef\u001B[39;00m \u001B[38;5;21mapply_formatter_if\u001B[39m(\n\u001B[1;32m     82\u001B[0m     condition: Callable[\u001B[38;5;241m.\u001B[39m\u001B[38;5;241m.\u001B[39m\u001B[38;5;241m.\u001B[39m, \u001B[38;5;28mbool\u001B[39m], formatter: Callable[\u001B[38;5;241m.\u001B[39m\u001B[38;5;241m.\u001B[39m\u001B[38;5;241m.\u001B[39m, Any], value: Any\n\u001B[1;32m     83\u001B[0m ) \u001B[38;5;241m-\u001B[39m\u001B[38;5;241m>\u001B[39m Any:\n\u001B[1;32m     84\u001B[0m     \u001B[38;5;28;01mif\u001B[39;00m condition(value):\n\u001B[0;32m---> 85\u001B[0m         \u001B[38;5;28;01mreturn\u001B[39;00m \u001B[43mformatter\u001B[49m\u001B[43m(\u001B[49m\u001B[43mvalue\u001B[49m\u001B[43m)\u001B[49m\n\u001B[1;32m     86\u001B[0m     \u001B[38;5;28;01melse\u001B[39;00m:\n\u001B[1;32m     87\u001B[0m         \u001B[38;5;28;01mreturn\u001B[39;00m value\n",
      "File \u001B[0;32m~/miniconda3/envs/frontrunning-attacks/lib/python3.10/site-packages/cytoolz/functoolz.pyx:263\u001B[0m, in \u001B[0;36mcytoolz.functoolz.curry.__call__\u001B[0;34m()\u001B[0m\n",
      "File \u001B[0;32m~/miniconda3/envs/frontrunning-attacks/lib/python3.10/site-packages/web3/_utils/method_formatters.py:166\u001B[0m, in \u001B[0;36mtype_aware_apply_formatters_to_dict\u001B[0;34m(formatters, value)\u001B[0m\n\u001B[1;32m    161\u001B[0m \u001B[38;5;250m\u001B[39m\u001B[38;5;124;03m\"\"\"\u001B[39;00m\n\u001B[1;32m    162\u001B[0m \u001B[38;5;124;03mPreserve ``AttributeDict`` types if original ``value`` was an ``AttributeDict``.\u001B[39;00m\n\u001B[1;32m    163\u001B[0m \u001B[38;5;124;03m\"\"\"\u001B[39;00m\n\u001B[1;32m    164\u001B[0m formatted_dict: Dict[\u001B[38;5;28mstr\u001B[39m, Any] \u001B[38;5;241m=\u001B[39m apply_formatters_to_dict(formatters, \u001B[38;5;28mdict\u001B[39m(value))\n\u001B[1;32m    165\u001B[0m \u001B[38;5;28;01mreturn\u001B[39;00m (\n\u001B[0;32m--> 166\u001B[0m     \u001B[43mAttributeDict\u001B[49m\u001B[38;5;241;43m.\u001B[39;49m\u001B[43mrecursive\u001B[49m\u001B[43m(\u001B[49m\u001B[43mformatted_dict\u001B[49m\u001B[43m)\u001B[49m\n\u001B[1;32m    167\u001B[0m     \u001B[38;5;28;01mif\u001B[39;00m is_attrdict(value)\n\u001B[1;32m    168\u001B[0m     \u001B[38;5;28;01melse\u001B[39;00m formatted_dict\n\u001B[1;32m    169\u001B[0m )\n",
      "File \u001B[0;32m~/miniconda3/envs/frontrunning-attacks/lib/python3.10/site-packages/web3/datastructures.py:88\u001B[0m, in \u001B[0;36mReadableAttributeDict.recursive\u001B[0;34m(cls, value)\u001B[0m\n\u001B[1;32m     86\u001B[0m \u001B[38;5;129m@classmethod\u001B[39m\n\u001B[1;32m     87\u001B[0m \u001B[38;5;28;01mdef\u001B[39;00m \u001B[38;5;21mrecursive\u001B[39m(\u001B[38;5;28mcls\u001B[39m, value: TValue) \u001B[38;5;241m-\u001B[39m\u001B[38;5;241m>\u001B[39m \u001B[38;5;124m\"\u001B[39m\u001B[38;5;124mReadableAttributeDict[TKey, TValue]\u001B[39m\u001B[38;5;124m\"\u001B[39m:\n\u001B[0;32m---> 88\u001B[0m     \u001B[38;5;28;01mreturn\u001B[39;00m \u001B[43mrecursive_map\u001B[49m\u001B[43m(\u001B[49m\u001B[38;5;28;43mcls\u001B[39;49m\u001B[38;5;241;43m.\u001B[39;49m\u001B[43m_apply_if_mapping\u001B[49m\u001B[43m,\u001B[49m\u001B[43m \u001B[49m\u001B[43mvalue\u001B[49m\u001B[43m)\u001B[49m\n",
      "File \u001B[0;32m~/miniconda3/envs/frontrunning-attacks/lib/python3.10/site-packages/web3/_utils/decorators.py:30\u001B[0m, in \u001B[0;36mreject_recursive_repeats.<locals>.wrapped\u001B[0;34m(*args)\u001B[0m\n\u001B[1;32m     28\u001B[0m to_wrap\u001B[38;5;241m.\u001B[39m__already_called[thread_local_args] \u001B[38;5;241m=\u001B[39m \u001B[38;5;28;01mTrue\u001B[39;00m  \u001B[38;5;66;03m# type: ignore\u001B[39;00m\n\u001B[1;32m     29\u001B[0m \u001B[38;5;28;01mtry\u001B[39;00m:\n\u001B[0;32m---> 30\u001B[0m     wrapped_val \u001B[38;5;241m=\u001B[39m \u001B[43mto_wrap\u001B[49m\u001B[43m(\u001B[49m\u001B[38;5;241;43m*\u001B[39;49m\u001B[43margs\u001B[49m\u001B[43m)\u001B[49m\n\u001B[1;32m     31\u001B[0m \u001B[38;5;28;01mfinally\u001B[39;00m:\n\u001B[1;32m     32\u001B[0m     \u001B[38;5;28;01mdel\u001B[39;00m to_wrap\u001B[38;5;241m.\u001B[39m__already_called[thread_local_args]  \u001B[38;5;66;03m# type: ignore\u001B[39;00m\n",
      "File \u001B[0;32m~/miniconda3/envs/frontrunning-attacks/lib/python3.10/site-packages/web3/_utils/formatters.py:84\u001B[0m, in \u001B[0;36mrecursive_map\u001B[0;34m(func, data)\u001B[0m\n\u001B[1;32m     81\u001B[0m \u001B[38;5;28;01mdef\u001B[39;00m \u001B[38;5;21mrecurse\u001B[39m(item: Any) \u001B[38;5;241m-\u001B[39m\u001B[38;5;241m>\u001B[39m TReturn:\n\u001B[1;32m     82\u001B[0m     \u001B[38;5;28;01mreturn\u001B[39;00m recursive_map(func, item)\n\u001B[0;32m---> 84\u001B[0m items_mapped \u001B[38;5;241m=\u001B[39m \u001B[43mmap_collection\u001B[49m\u001B[43m(\u001B[49m\u001B[43mrecurse\u001B[49m\u001B[43m,\u001B[49m\u001B[43m \u001B[49m\u001B[43mdata\u001B[49m\u001B[43m)\u001B[49m\n\u001B[1;32m     85\u001B[0m \u001B[38;5;28;01mreturn\u001B[39;00m func(items_mapped)\n",
      "File \u001B[0;32m~/miniconda3/envs/frontrunning-attacks/lib/python3.10/site-packages/web3/_utils/formatters.py:64\u001B[0m, in \u001B[0;36mmap_collection\u001B[0;34m(func, collection)\u001B[0m\n\u001B[1;32m     62\u001B[0m datatype \u001B[38;5;241m=\u001B[39m \u001B[38;5;28mtype\u001B[39m(collection)\n\u001B[1;32m     63\u001B[0m \u001B[38;5;28;01mif\u001B[39;00m \u001B[38;5;28misinstance\u001B[39m(collection, Mapping):\n\u001B[0;32m---> 64\u001B[0m     \u001B[38;5;28;01mreturn\u001B[39;00m \u001B[43mdatatype\u001B[49m\u001B[43m(\u001B[49m\u001B[43m(\u001B[49m\u001B[43mkey\u001B[49m\u001B[43m,\u001B[49m\u001B[43m \u001B[49m\u001B[43mfunc\u001B[49m\u001B[43m(\u001B[49m\u001B[43mval\u001B[49m\u001B[43m)\u001B[49m\u001B[43m)\u001B[49m\u001B[43m \u001B[49m\u001B[38;5;28;43;01mfor\u001B[39;49;00m\u001B[43m \u001B[49m\u001B[43mkey\u001B[49m\u001B[43m,\u001B[49m\u001B[43m \u001B[49m\u001B[43mval\u001B[49m\u001B[43m \u001B[49m\u001B[38;5;129;43;01min\u001B[39;49;00m\u001B[43m \u001B[49m\u001B[43mcollection\u001B[49m\u001B[38;5;241;43m.\u001B[39;49m\u001B[43mitems\u001B[49m\u001B[43m(\u001B[49m\u001B[43m)\u001B[49m\u001B[43m)\u001B[49m\n\u001B[1;32m     65\u001B[0m \u001B[38;5;28;01mif\u001B[39;00m is_string(collection):\n\u001B[1;32m     66\u001B[0m     \u001B[38;5;28;01mreturn\u001B[39;00m collection\n",
      "File \u001B[0;32m~/miniconda3/envs/frontrunning-attacks/lib/python3.10/site-packages/web3/_utils/formatters.py:64\u001B[0m, in \u001B[0;36m<genexpr>\u001B[0;34m(.0)\u001B[0m\n\u001B[1;32m     62\u001B[0m datatype \u001B[38;5;241m=\u001B[39m \u001B[38;5;28mtype\u001B[39m(collection)\n\u001B[1;32m     63\u001B[0m \u001B[38;5;28;01mif\u001B[39;00m \u001B[38;5;28misinstance\u001B[39m(collection, Mapping):\n\u001B[0;32m---> 64\u001B[0m     \u001B[38;5;28;01mreturn\u001B[39;00m datatype((key, \u001B[43mfunc\u001B[49m\u001B[43m(\u001B[49m\u001B[43mval\u001B[49m\u001B[43m)\u001B[49m) \u001B[38;5;28;01mfor\u001B[39;00m key, val \u001B[38;5;129;01min\u001B[39;00m collection\u001B[38;5;241m.\u001B[39mitems())\n\u001B[1;32m     65\u001B[0m \u001B[38;5;28;01mif\u001B[39;00m is_string(collection):\n\u001B[1;32m     66\u001B[0m     \u001B[38;5;28;01mreturn\u001B[39;00m collection\n",
      "File \u001B[0;32m~/miniconda3/envs/frontrunning-attacks/lib/python3.10/site-packages/web3/_utils/formatters.py:82\u001B[0m, in \u001B[0;36mrecursive_map.<locals>.recurse\u001B[0;34m(item)\u001B[0m\n\u001B[1;32m     81\u001B[0m \u001B[38;5;28;01mdef\u001B[39;00m \u001B[38;5;21mrecurse\u001B[39m(item: Any) \u001B[38;5;241m-\u001B[39m\u001B[38;5;241m>\u001B[39m TReturn:\n\u001B[0;32m---> 82\u001B[0m     \u001B[38;5;28;01mreturn\u001B[39;00m \u001B[43mrecursive_map\u001B[49m\u001B[43m(\u001B[49m\u001B[43mfunc\u001B[49m\u001B[43m,\u001B[49m\u001B[43m \u001B[49m\u001B[43mitem\u001B[49m\u001B[43m)\u001B[49m\n",
      "File \u001B[0;32m~/miniconda3/envs/frontrunning-attacks/lib/python3.10/site-packages/web3/_utils/decorators.py:30\u001B[0m, in \u001B[0;36mreject_recursive_repeats.<locals>.wrapped\u001B[0;34m(*args)\u001B[0m\n\u001B[1;32m     28\u001B[0m to_wrap\u001B[38;5;241m.\u001B[39m__already_called[thread_local_args] \u001B[38;5;241m=\u001B[39m \u001B[38;5;28;01mTrue\u001B[39;00m  \u001B[38;5;66;03m# type: ignore\u001B[39;00m\n\u001B[1;32m     29\u001B[0m \u001B[38;5;28;01mtry\u001B[39;00m:\n\u001B[0;32m---> 30\u001B[0m     wrapped_val \u001B[38;5;241m=\u001B[39m \u001B[43mto_wrap\u001B[49m\u001B[43m(\u001B[49m\u001B[38;5;241;43m*\u001B[39;49m\u001B[43margs\u001B[49m\u001B[43m)\u001B[49m\n\u001B[1;32m     31\u001B[0m \u001B[38;5;28;01mfinally\u001B[39;00m:\n\u001B[1;32m     32\u001B[0m     \u001B[38;5;28;01mdel\u001B[39;00m to_wrap\u001B[38;5;241m.\u001B[39m__already_called[thread_local_args]  \u001B[38;5;66;03m# type: ignore\u001B[39;00m\n",
      "File \u001B[0;32m~/miniconda3/envs/frontrunning-attacks/lib/python3.10/site-packages/web3/_utils/formatters.py:84\u001B[0m, in \u001B[0;36mrecursive_map\u001B[0;34m(func, data)\u001B[0m\n\u001B[1;32m     81\u001B[0m \u001B[38;5;28;01mdef\u001B[39;00m \u001B[38;5;21mrecurse\u001B[39m(item: Any) \u001B[38;5;241m-\u001B[39m\u001B[38;5;241m>\u001B[39m TReturn:\n\u001B[1;32m     82\u001B[0m     \u001B[38;5;28;01mreturn\u001B[39;00m recursive_map(func, item)\n\u001B[0;32m---> 84\u001B[0m items_mapped \u001B[38;5;241m=\u001B[39m \u001B[43mmap_collection\u001B[49m\u001B[43m(\u001B[49m\u001B[43mrecurse\u001B[49m\u001B[43m,\u001B[49m\u001B[43m \u001B[49m\u001B[43mdata\u001B[49m\u001B[43m)\u001B[49m\n\u001B[1;32m     85\u001B[0m \u001B[38;5;28;01mreturn\u001B[39;00m func(items_mapped)\n",
      "File \u001B[0;32m~/miniconda3/envs/frontrunning-attacks/lib/python3.10/site-packages/web3/_utils/formatters.py:68\u001B[0m, in \u001B[0;36mmap_collection\u001B[0;34m(func, collection)\u001B[0m\n\u001B[1;32m     66\u001B[0m     \u001B[38;5;28;01mreturn\u001B[39;00m collection\n\u001B[1;32m     67\u001B[0m \u001B[38;5;28;01melif\u001B[39;00m \u001B[38;5;28misinstance\u001B[39m(collection, Iterable):\n\u001B[0;32m---> 68\u001B[0m     \u001B[38;5;28;01mreturn\u001B[39;00m \u001B[43mdatatype\u001B[49m\u001B[43m(\u001B[49m\u001B[38;5;28;43mmap\u001B[39;49m\u001B[43m(\u001B[49m\u001B[43mfunc\u001B[49m\u001B[43m,\u001B[49m\u001B[43m \u001B[49m\u001B[43mcollection\u001B[49m\u001B[43m)\u001B[49m\u001B[43m)\u001B[49m\n\u001B[1;32m     69\u001B[0m \u001B[38;5;28;01melse\u001B[39;00m:\n\u001B[1;32m     70\u001B[0m     \u001B[38;5;28;01mreturn\u001B[39;00m collection\n",
      "File \u001B[0;32m~/miniconda3/envs/frontrunning-attacks/lib/python3.10/site-packages/web3/_utils/formatters.py:82\u001B[0m, in \u001B[0;36mrecursive_map.<locals>.recurse\u001B[0;34m(item)\u001B[0m\n\u001B[1;32m     81\u001B[0m \u001B[38;5;28;01mdef\u001B[39;00m \u001B[38;5;21mrecurse\u001B[39m(item: Any) \u001B[38;5;241m-\u001B[39m\u001B[38;5;241m>\u001B[39m TReturn:\n\u001B[0;32m---> 82\u001B[0m     \u001B[38;5;28;01mreturn\u001B[39;00m \u001B[43mrecursive_map\u001B[49m\u001B[43m(\u001B[49m\u001B[43mfunc\u001B[49m\u001B[43m,\u001B[49m\u001B[43m \u001B[49m\u001B[43mitem\u001B[49m\u001B[43m)\u001B[49m\n",
      "File \u001B[0;32m~/miniconda3/envs/frontrunning-attacks/lib/python3.10/site-packages/web3/_utils/decorators.py:30\u001B[0m, in \u001B[0;36mreject_recursive_repeats.<locals>.wrapped\u001B[0;34m(*args)\u001B[0m\n\u001B[1;32m     28\u001B[0m to_wrap\u001B[38;5;241m.\u001B[39m__already_called[thread_local_args] \u001B[38;5;241m=\u001B[39m \u001B[38;5;28;01mTrue\u001B[39;00m  \u001B[38;5;66;03m# type: ignore\u001B[39;00m\n\u001B[1;32m     29\u001B[0m \u001B[38;5;28;01mtry\u001B[39;00m:\n\u001B[0;32m---> 30\u001B[0m     wrapped_val \u001B[38;5;241m=\u001B[39m \u001B[43mto_wrap\u001B[49m\u001B[43m(\u001B[49m\u001B[38;5;241;43m*\u001B[39;49m\u001B[43margs\u001B[49m\u001B[43m)\u001B[49m\n\u001B[1;32m     31\u001B[0m \u001B[38;5;28;01mfinally\u001B[39;00m:\n\u001B[1;32m     32\u001B[0m     \u001B[38;5;28;01mdel\u001B[39;00m to_wrap\u001B[38;5;241m.\u001B[39m__already_called[thread_local_args]  \u001B[38;5;66;03m# type: ignore\u001B[39;00m\n",
      "File \u001B[0;32m~/miniconda3/envs/frontrunning-attacks/lib/python3.10/site-packages/web3/_utils/formatters.py:84\u001B[0m, in \u001B[0;36mrecursive_map\u001B[0;34m(func, data)\u001B[0m\n\u001B[1;32m     81\u001B[0m \u001B[38;5;28;01mdef\u001B[39;00m \u001B[38;5;21mrecurse\u001B[39m(item: Any) \u001B[38;5;241m-\u001B[39m\u001B[38;5;241m>\u001B[39m TReturn:\n\u001B[1;32m     82\u001B[0m     \u001B[38;5;28;01mreturn\u001B[39;00m recursive_map(func, item)\n\u001B[0;32m---> 84\u001B[0m items_mapped \u001B[38;5;241m=\u001B[39m \u001B[43mmap_collection\u001B[49m\u001B[43m(\u001B[49m\u001B[43mrecurse\u001B[49m\u001B[43m,\u001B[49m\u001B[43m \u001B[49m\u001B[43mdata\u001B[49m\u001B[43m)\u001B[49m\n\u001B[1;32m     85\u001B[0m \u001B[38;5;28;01mreturn\u001B[39;00m func(items_mapped)\n",
      "File \u001B[0;32m~/miniconda3/envs/frontrunning-attacks/lib/python3.10/site-packages/web3/_utils/formatters.py:64\u001B[0m, in \u001B[0;36mmap_collection\u001B[0;34m(func, collection)\u001B[0m\n\u001B[1;32m     62\u001B[0m datatype \u001B[38;5;241m=\u001B[39m \u001B[38;5;28mtype\u001B[39m(collection)\n\u001B[1;32m     63\u001B[0m \u001B[38;5;28;01mif\u001B[39;00m \u001B[38;5;28misinstance\u001B[39m(collection, Mapping):\n\u001B[0;32m---> 64\u001B[0m     \u001B[38;5;28;01mreturn\u001B[39;00m \u001B[43mdatatype\u001B[49m\u001B[43m(\u001B[49m\u001B[43m(\u001B[49m\u001B[43mkey\u001B[49m\u001B[43m,\u001B[49m\u001B[43m \u001B[49m\u001B[43mfunc\u001B[49m\u001B[43m(\u001B[49m\u001B[43mval\u001B[49m\u001B[43m)\u001B[49m\u001B[43m)\u001B[49m\u001B[43m \u001B[49m\u001B[38;5;28;43;01mfor\u001B[39;49;00m\u001B[43m \u001B[49m\u001B[43mkey\u001B[49m\u001B[43m,\u001B[49m\u001B[43m \u001B[49m\u001B[43mval\u001B[49m\u001B[43m \u001B[49m\u001B[38;5;129;43;01min\u001B[39;49;00m\u001B[43m \u001B[49m\u001B[43mcollection\u001B[49m\u001B[38;5;241;43m.\u001B[39;49m\u001B[43mitems\u001B[49m\u001B[43m(\u001B[49m\u001B[43m)\u001B[49m\u001B[43m)\u001B[49m\n\u001B[1;32m     65\u001B[0m \u001B[38;5;28;01mif\u001B[39;00m is_string(collection):\n\u001B[1;32m     66\u001B[0m     \u001B[38;5;28;01mreturn\u001B[39;00m collection\n",
      "File \u001B[0;32m~/miniconda3/envs/frontrunning-attacks/lib/python3.10/site-packages/web3/datastructures.py:51\u001B[0m, in \u001B[0;36mReadableAttributeDict.__init__\u001B[0;34m(self, dictionary, *args, **kwargs)\u001B[0m\n\u001B[1;32m     47\u001B[0m \u001B[38;5;28;01mdef\u001B[39;00m \u001B[38;5;21m__init__\u001B[39m(\n\u001B[1;32m     48\u001B[0m     \u001B[38;5;28mself\u001B[39m, dictionary: Dict[TKey, TValue], \u001B[38;5;241m*\u001B[39margs: Any, \u001B[38;5;241m*\u001B[39m\u001B[38;5;241m*\u001B[39mkwargs: Any\n\u001B[1;32m     49\u001B[0m ) \u001B[38;5;241m-\u001B[39m\u001B[38;5;241m>\u001B[39m \u001B[38;5;28;01mNone\u001B[39;00m:\n\u001B[1;32m     50\u001B[0m     \u001B[38;5;66;03m# type ignored on 46/50 b/c dict() expects str index type not TKey\u001B[39;00m\n\u001B[0;32m---> 51\u001B[0m     \u001B[38;5;28mself\u001B[39m\u001B[38;5;241m.\u001B[39m\u001B[38;5;18m__dict__\u001B[39m \u001B[38;5;241m=\u001B[39m \u001B[38;5;28;43mdict\u001B[39;49m\u001B[43m(\u001B[49m\u001B[43mdictionary\u001B[49m\u001B[43m)\u001B[49m  \u001B[38;5;66;03m# type: ignore\u001B[39;00m\n\u001B[1;32m     52\u001B[0m     \u001B[38;5;28mself\u001B[39m\u001B[38;5;241m.\u001B[39m\u001B[38;5;18m__dict__\u001B[39m\u001B[38;5;241m.\u001B[39mupdate(\u001B[38;5;28mdict\u001B[39m(\u001B[38;5;241m*\u001B[39margs, \u001B[38;5;241m*\u001B[39m\u001B[38;5;241m*\u001B[39mkwargs))\n",
      "File \u001B[0;32m~/miniconda3/envs/frontrunning-attacks/lib/python3.10/site-packages/web3/_utils/formatters.py:64\u001B[0m, in \u001B[0;36m<genexpr>\u001B[0;34m(.0)\u001B[0m\n\u001B[1;32m     62\u001B[0m datatype \u001B[38;5;241m=\u001B[39m \u001B[38;5;28mtype\u001B[39m(collection)\n\u001B[1;32m     63\u001B[0m \u001B[38;5;28;01mif\u001B[39;00m \u001B[38;5;28misinstance\u001B[39m(collection, Mapping):\n\u001B[0;32m---> 64\u001B[0m     \u001B[38;5;28;01mreturn\u001B[39;00m datatype((key, \u001B[43mfunc\u001B[49m\u001B[43m(\u001B[49m\u001B[43mval\u001B[49m\u001B[43m)\u001B[49m) \u001B[38;5;28;01mfor\u001B[39;00m key, val \u001B[38;5;129;01min\u001B[39;00m collection\u001B[38;5;241m.\u001B[39mitems())\n\u001B[1;32m     65\u001B[0m \u001B[38;5;28;01mif\u001B[39;00m is_string(collection):\n\u001B[1;32m     66\u001B[0m     \u001B[38;5;28;01mreturn\u001B[39;00m collection\n",
      "File \u001B[0;32m~/miniconda3/envs/frontrunning-attacks/lib/python3.10/site-packages/web3/_utils/formatters.py:82\u001B[0m, in \u001B[0;36mrecursive_map.<locals>.recurse\u001B[0;34m(item)\u001B[0m\n\u001B[1;32m     81\u001B[0m \u001B[38;5;28;01mdef\u001B[39;00m \u001B[38;5;21mrecurse\u001B[39m(item: Any) \u001B[38;5;241m-\u001B[39m\u001B[38;5;241m>\u001B[39m TReturn:\n\u001B[0;32m---> 82\u001B[0m     \u001B[38;5;28;01mreturn\u001B[39;00m \u001B[43mrecursive_map\u001B[49m\u001B[43m(\u001B[49m\u001B[43mfunc\u001B[49m\u001B[43m,\u001B[49m\u001B[43m \u001B[49m\u001B[43mitem\u001B[49m\u001B[43m)\u001B[49m\n",
      "File \u001B[0;32m~/miniconda3/envs/frontrunning-attacks/lib/python3.10/site-packages/web3/_utils/decorators.py:30\u001B[0m, in \u001B[0;36mreject_recursive_repeats.<locals>.wrapped\u001B[0;34m(*args)\u001B[0m\n\u001B[1;32m     28\u001B[0m to_wrap\u001B[38;5;241m.\u001B[39m__already_called[thread_local_args] \u001B[38;5;241m=\u001B[39m \u001B[38;5;28;01mTrue\u001B[39;00m  \u001B[38;5;66;03m# type: ignore\u001B[39;00m\n\u001B[1;32m     29\u001B[0m \u001B[38;5;28;01mtry\u001B[39;00m:\n\u001B[0;32m---> 30\u001B[0m     wrapped_val \u001B[38;5;241m=\u001B[39m \u001B[43mto_wrap\u001B[49m\u001B[43m(\u001B[49m\u001B[38;5;241;43m*\u001B[39;49m\u001B[43margs\u001B[49m\u001B[43m)\u001B[49m\n\u001B[1;32m     31\u001B[0m \u001B[38;5;28;01mfinally\u001B[39;00m:\n\u001B[1;32m     32\u001B[0m     \u001B[38;5;28;01mdel\u001B[39;00m to_wrap\u001B[38;5;241m.\u001B[39m__already_called[thread_local_args]  \u001B[38;5;66;03m# type: ignore\u001B[39;00m\n",
      "File \u001B[0;32m~/miniconda3/envs/frontrunning-attacks/lib/python3.10/site-packages/web3/_utils/formatters.py:84\u001B[0m, in \u001B[0;36mrecursive_map\u001B[0;34m(func, data)\u001B[0m\n\u001B[1;32m     81\u001B[0m \u001B[38;5;28;01mdef\u001B[39;00m \u001B[38;5;21mrecurse\u001B[39m(item: Any) \u001B[38;5;241m-\u001B[39m\u001B[38;5;241m>\u001B[39m TReturn:\n\u001B[1;32m     82\u001B[0m     \u001B[38;5;28;01mreturn\u001B[39;00m recursive_map(func, item)\n\u001B[0;32m---> 84\u001B[0m items_mapped \u001B[38;5;241m=\u001B[39m \u001B[43mmap_collection\u001B[49m\u001B[43m(\u001B[49m\u001B[43mrecurse\u001B[49m\u001B[43m,\u001B[49m\u001B[43m \u001B[49m\u001B[43mdata\u001B[49m\u001B[43m)\u001B[49m\n\u001B[1;32m     85\u001B[0m \u001B[38;5;28;01mreturn\u001B[39;00m func(items_mapped)\n",
      "File \u001B[0;32m~/miniconda3/envs/frontrunning-attacks/lib/python3.10/site-packages/web3/_utils/formatters.py:67\u001B[0m, in \u001B[0;36mmap_collection\u001B[0;34m(func, collection)\u001B[0m\n\u001B[1;32m     65\u001B[0m \u001B[38;5;28;01mif\u001B[39;00m is_string(collection):\n\u001B[1;32m     66\u001B[0m     \u001B[38;5;28;01mreturn\u001B[39;00m collection\n\u001B[0;32m---> 67\u001B[0m \u001B[38;5;28;01melif\u001B[39;00m \u001B[38;5;28;43misinstance\u001B[39;49m\u001B[43m(\u001B[49m\u001B[43mcollection\u001B[49m\u001B[43m,\u001B[49m\u001B[43m \u001B[49m\u001B[43mIterable\u001B[49m\u001B[43m)\u001B[49m:\n\u001B[1;32m     68\u001B[0m     \u001B[38;5;28;01mreturn\u001B[39;00m datatype(\u001B[38;5;28mmap\u001B[39m(func, collection))\n\u001B[1;32m     69\u001B[0m \u001B[38;5;28;01melse\u001B[39;00m:\n",
      "File \u001B[0;32m~/miniconda3/envs/frontrunning-attacks/lib/python3.10/typing.py:994\u001B[0m, in \u001B[0;36m_BaseGenericAlias.__instancecheck__\u001B[0;34m(self, obj)\u001B[0m\n\u001B[1;32m    993\u001B[0m \u001B[38;5;28;01mdef\u001B[39;00m \u001B[38;5;21m__instancecheck__\u001B[39m(\u001B[38;5;28mself\u001B[39m, obj):\n\u001B[0;32m--> 994\u001B[0m     \u001B[38;5;28;01mreturn\u001B[39;00m \u001B[38;5;28;43mself\u001B[39;49m\u001B[38;5;241;43m.\u001B[39;49m\u001B[38;5;21;43m__subclasscheck__\u001B[39;49m\u001B[43m(\u001B[49m\u001B[38;5;28;43mtype\u001B[39;49m\u001B[43m(\u001B[49m\u001B[43mobj\u001B[49m\u001B[43m)\u001B[49m\u001B[43m)\u001B[49m\n",
      "File \u001B[0;32m~/miniconda3/envs/frontrunning-attacks/lib/python3.10/typing.py:1158\u001B[0m, in \u001B[0;36m_SpecialGenericAlias.__subclasscheck__\u001B[0;34m(self, cls)\u001B[0m\n\u001B[1;32m   1156\u001B[0m     \u001B[38;5;28;01mreturn\u001B[39;00m \u001B[38;5;28missubclass\u001B[39m(\u001B[38;5;28mcls\u001B[39m\u001B[38;5;241m.\u001B[39m__origin__, \u001B[38;5;28mself\u001B[39m\u001B[38;5;241m.\u001B[39m__origin__)\n\u001B[1;32m   1157\u001B[0m \u001B[38;5;28;01mif\u001B[39;00m \u001B[38;5;129;01mnot\u001B[39;00m \u001B[38;5;28misinstance\u001B[39m(\u001B[38;5;28mcls\u001B[39m, _GenericAlias):\n\u001B[0;32m-> 1158\u001B[0m     \u001B[38;5;28;01mreturn\u001B[39;00m \u001B[38;5;28;43missubclass\u001B[39;49m\u001B[43m(\u001B[49m\u001B[38;5;28;43mcls\u001B[39;49m\u001B[43m,\u001B[49m\u001B[43m \u001B[49m\u001B[38;5;28;43mself\u001B[39;49m\u001B[38;5;241;43m.\u001B[39;49m\u001B[43m__origin__\u001B[49m\u001B[43m)\u001B[49m\n\u001B[1;32m   1159\u001B[0m \u001B[38;5;28;01mreturn\u001B[39;00m \u001B[38;5;28msuper\u001B[39m()\u001B[38;5;241m.\u001B[39m\u001B[38;5;21m__subclasscheck__\u001B[39m(\u001B[38;5;28mcls\u001B[39m)\n",
      "File \u001B[0;32m~/miniconda3/envs/frontrunning-attacks/lib/python3.10/abc.py:121\u001B[0m, in \u001B[0;36mABCMeta.__subclasscheck__\u001B[0;34m(cls, subclass)\u001B[0m\n\u001B[1;32m    118\u001B[0m \u001B[38;5;250m    \u001B[39m\u001B[38;5;124;03m\"\"\"Override for isinstance(instance, cls).\"\"\"\u001B[39;00m\n\u001B[1;32m    119\u001B[0m     \u001B[38;5;28;01mreturn\u001B[39;00m _abc_instancecheck(\u001B[38;5;28mcls\u001B[39m, instance)\n\u001B[0;32m--> 121\u001B[0m \u001B[38;5;28;01mdef\u001B[39;00m \u001B[38;5;21m__subclasscheck__\u001B[39m(\u001B[38;5;28mcls\u001B[39m, subclass):\n\u001B[1;32m    122\u001B[0m \u001B[38;5;250m    \u001B[39m\u001B[38;5;124;03m\"\"\"Override for issubclass(subclass, cls).\"\"\"\u001B[39;00m\n\u001B[1;32m    123\u001B[0m     \u001B[38;5;28;01mreturn\u001B[39;00m _abc_subclasscheck(\u001B[38;5;28mcls\u001B[39m, subclass)\n",
      "\u001B[0;31mKeyboardInterrupt\u001B[0m: "
     ]
    }
   ],
   "execution_count": 15
  },
  {
   "cell_type": "markdown",
   "source": [
    "### Feature extraction - random transactions "
   ],
   "metadata": {
    "collapsed": false
   },
   "id": "c7fa97761012cfe8"
  },
  {
   "cell_type": "markdown",
   "source": [
    "Function to get n random block numbers out of the blocks in which the attacks where collected."
   ],
   "metadata": {
    "collapsed": false
   },
   "id": "d2af5a5158e33711"
  },
  {
   "cell_type": "code",
   "source": [
    "def get_n_random_block_numbers_from_insertion_data(n: int):\n",
    "    \n",
    "    unique_block_numbers = df_insertion[\"Block Number\"].unique()\n",
    "    random_block_numbers = pd.Series(unique_block_numbers).sample(n=n).tolist()\n",
    "    return random_block_numbers"
   ],
   "metadata": {
    "collapsed": false,
    "ExecuteTime": {
     "end_time": "2024-04-18T13:49:35.376431Z",
     "start_time": "2024-04-18T13:49:35.370919Z"
    }
   },
   "id": "2591978c30bdd253",
   "outputs": [],
   "execution_count": 94
  },
  {
   "cell_type": "markdown",
   "source": [
    "Function to get n random blocks in the block-range of the sampled attacks."
   ],
   "metadata": {
    "collapsed": false
   },
   "id": "dafe8e0727605d76"
  },
  {
   "cell_type": "code",
   "source": [
    "def get_n_random_block_numbers_from_insertion_data_range(n: int):\n",
    "        \n",
    "    min_block_number = df_insertion[\"Block Number\"].min()\n",
    "    max_block_number = df_insertion[\"Block Number\"].max()\n",
    "    \n",
    "    block_number_range = range(min_block_number, max_block_number + 1)\n",
    "    \n",
    "    random_block_numbers = random.choices(block_number_range, k=n)\n",
    "    return random_block_numbers"
   ],
   "metadata": {
    "collapsed": false,
    "ExecuteTime": {
     "end_time": "2024-04-18T13:49:37.244722Z",
     "start_time": "2024-04-18T13:49:37.238670Z"
    }
   },
   "id": "d872a9a9287dc408",
   "outputs": [],
   "execution_count": 95
  },
  {
   "cell_type": "markdown",
   "source": [
    "Function to get n random blocks over all blocks on ethereum main net."
   ],
   "metadata": {
    "collapsed": false
   },
   "id": "44f4fdb53c685faf"
  },
  {
   "cell_type": "code",
   "source": [
    "def get_n_random_block_numbers_from_total_block_range(n: int):\n",
    "        \n",
    "    current_block_number = web3.eth.block_number\n",
    "    \n",
    "    block_number_range = range(1, current_block_number + 1)\n",
    "    \n",
    "    random_block_numbers = random.choices(block_number_range, k=n)\n",
    "    return random_block_numbers"
   ],
   "metadata": {
    "collapsed": false,
    "ExecuteTime": {
     "end_time": "2024-04-18T13:49:39.359261Z",
     "start_time": "2024-04-18T13:49:39.353173Z"
    }
   },
   "id": "5c4d986cf9d8aff3",
   "outputs": [],
   "execution_count": 96
  },
  {
   "cell_type": "markdown",
   "source": [
    "Function to get random transaction out of a block."
   ],
   "metadata": {
    "collapsed": false
   },
   "id": "a6b51b6a3d637873"
  },
  {
   "cell_type": "code",
   "source": [
    "def address_in_insertion_data(block_number: int, address: str):\n",
    "    \n",
    "    if block_number not in df_insertion[\"Block Number\"].values:\n",
    "        return False\n",
    "    \n",
    "    df_subset_with_block_number = df_insertion[df_insertion[\"Block Number\"] == block_number]\n",
    "    \n",
    "    if any(address in df_subset_with_block_number[col].values for col in [\"First Attacker\", \"Second Attacker\", \"Whale\"]):\n",
    "        return True\n",
    "    \n",
    "    return False    "
   ],
   "metadata": {
    "collapsed": false,
    "ExecuteTime": {
     "end_time": "2024-04-18T13:49:40.902521Z",
     "start_time": "2024-04-18T13:49:40.896013Z"
    }
   },
   "id": "a1d4d0cc69d5f812",
   "outputs": [],
   "execution_count": 97
  },
  {
   "cell_type": "code",
   "source": [
    "def get_random_transaction_from_block(block_number: int):\n",
    "    \n",
    "    # Retrieve txs from block\n",
    "    block = web3.eth.get_block(block_number)\n",
    "    transactions = block['transactions']\n",
    "    \n",
    "    if len(transactions) == 0:\n",
    "        print(f\"Block {block_number} has no transactions!\")\n",
    "        return None\n",
    "    \n",
    "    # Choose a random transaction from block\n",
    "    random_transaction_hash = random.choice(transactions)    \n",
    "    random_transaction = web3.eth.get_transaction(random_transaction_hash)\n",
    "    \n",
    "    if address_in_insertion_data(block_number, random_transaction[\"from\"]):\n",
    "        print(\"Randomly sampled transaction already in data set!\")\n",
    "        get_random_transaction_from_block(block_number)\n",
    "    \n",
    "    return random_transaction"
   ],
   "metadata": {
    "collapsed": false,
    "ExecuteTime": {
     "end_time": "2024-04-18T13:49:43.301859Z",
     "start_time": "2024-04-18T13:49:43.294743Z"
    }
   },
   "id": "8ca8cf1de465f61a",
   "outputs": [],
   "execution_count": 98
  },
  {
   "cell_type": "markdown",
   "source": [
    "### Sample random transactions"
   ],
   "metadata": {
    "collapsed": false
   },
   "id": "314bb0c907804a0"
  },
  {
   "metadata": {
    "ExecuteTime": {
     "end_time": "2024-04-18T13:51:56.465669Z",
     "start_time": "2024-04-18T13:51:56.455008Z"
    }
   },
   "cell_type": "code",
   "source": [
    "def sample_random_transaction(nr_of_random_blocks: int) -> pd.DataFrame:\n",
    "    \n",
    "    # Get random block numbers\n",
    "    block_numbers = []\n",
    "    \n",
    "    random_blocks_per_sampling = int(nr_of_random_blocks/3)\n",
    "    \n",
    "    random_block_numbers_from_insertion_data = get_n_random_block_numbers_from_insertion_data(random_blocks_per_sampling)\n",
    "    random_block_numbers_from_insertion_data_range = get_n_random_block_numbers_from_insertion_data_range(random_blocks_per_sampling)\n",
    "    random_block_numbers_from_total_range = get_n_random_block_numbers_from_total_block_range(random_blocks_per_sampling)\n",
    "\n",
    "    block_numbers.extend(random_block_numbers_from_insertion_data)\n",
    "    block_numbers.extend(random_block_numbers_from_insertion_data_range)\n",
    "    block_numbers.extend(random_block_numbers_from_total_range)\n",
    "    \n",
    "    # Get random transactions out of blocks\n",
    "    entries = []\n",
    "    \n",
    "    \n",
    "    for block in tqdm(block_numbers):\n",
    "        transaction = get_random_transaction_from_block(block)\n",
    "        if transaction:\n",
    "            mean_gas_price_last_10_blocks, std_gas_price_last_10_blocks = get_mean_and_std_gas_price_of_last_n_blocks(10, block, web3)\n",
    "            mean_gas_price_last_n_blocks_same_EOA, std_gas_price_last_n_blocks_same_EOA = get_mean_and_std_gas_price_of_last_n_blocks_of_same_EOA(20, block, transaction[\"from\"], web3)\n",
    "            \n",
    "            address = transaction[\"from\"]\n",
    "            transaction_hash = transaction[\"hash\"].hex()\n",
    "\n",
    "            \n",
    "            new_entry = {\n",
    "                \"blockNumber\": block,\n",
    "                \"address\": address,\n",
    "                \"transactionHash\": transaction_hash,\n",
    "                \"gasPrice\": get_transaction_gas_price_in_gwei(transaction, web3),\n",
    "                \"meanGasPriceLastTenBlocks\": mean_gas_price_last_10_blocks,\n",
    "                \"stdGasPriceLastTenBlocks\": std_gas_price_last_10_blocks,\n",
    "                \"meanGasPriceLastTenBlocksSameEOA\": mean_gas_price_last_n_blocks_same_EOA,\n",
    "                \"stdGasPriceLastTenBlocksSameEOA\": std_gas_price_last_n_blocks_same_EOA,\n",
    "                \"usedGasToken\": is_transaction_using_gas_token(transaction_hash),\n",
    "                \"predictedGasPrice\": get_predicted_gas_price(block, address)\n",
    "            }\n",
    "            entries.append(new_entry)\n",
    "                \n",
    "    return pd.DataFrame(entries) \n",
    "    "
   ],
   "id": "76718e11611443f1",
   "outputs": [],
   "execution_count": 101
  },
  {
   "cell_type": "code",
   "source": [
    "#feature_random_transactions_df = sample_random_transaction(10)\n",
    "#feature_random_transactions_df.to_csv('../data/random_sampled_transactions.csv')"
   ],
   "metadata": {
    "collapsed": false,
    "ExecuteTime": {
     "end_time": "2024-04-18T13:53:33.627869Z",
     "start_time": "2024-04-18T13:51:59.375789Z"
    }
   },
   "id": "2616473fd8cc92e0",
   "outputs": [
    {
     "name": "stderr",
     "output_type": "stream",
     "text": [
      "100%|██████████| 9/9 [01:34<00:00, 10.47s/it]"
     ]
    },
    {
     "name": "stdout",
     "output_type": "stream",
     "text": [
      "Block 3389621 has no transactions!\n"
     ]
    },
    {
     "name": "stderr",
     "output_type": "stream",
     "text": [
      "\n"
     ]
    }
   ],
   "execution_count": 102
  },
  {
   "cell_type": "code",
   "source": "#feature_random_transactions_df",
   "metadata": {
    "collapsed": false,
    "ExecuteTime": {
     "end_time": "2024-04-18T13:53:33.649837Z",
     "start_time": "2024-04-18T13:53:33.630539Z"
    }
   },
   "id": "c764e1ba6d5f16c1",
   "outputs": [
    {
     "data": {
      "text/plain": [
       "   blockNumber                                     address    gasPrice  \\\n",
       "0     11063005  0x2F0F84173FBf597aE56e24cCacc3ef22C0c550d0   53.000000   \n",
       "1     10657571  0x94268A0c522eC1b46C23B4e60ef942EABc94D45C  162.796906   \n",
       "2     10547013  0xCD60E0a1D34879A28322a3244D48c4a081421B34   69.000000   \n",
       "3      6449262  0xf39F6032A876D7ea1001C2c96416cE88f24E1b9c   12.800000   \n",
       "4      6041371  0x84681Cb4134F53784A6f30f8157adc628be4dB64    1.000000   \n",
       "5      8842099  0xa3dB009E03A2177B13fC4EA41045d0Fd34026cA9    1.000000   \n",
       "6     17499124  0xDe8dE160A7aa8DCFc0b711B77464F0a5BF32fd3F   15.235994   \n",
       "7     17373031  0x72cDebCfBA7e1c00b80801e157573428142433e2   55.800000   \n",
       "\n",
       "   meanGasPriceLastTenBlocks  stdGasPriceLastTenBlocks  \\\n",
       "0                  73.731292                405.425033   \n",
       "1                 220.052025                 79.493293   \n",
       "2                  73.315605                 25.559162   \n",
       "3                  15.397848                 21.253730   \n",
       "4                   7.986379                 17.288979   \n",
       "5                  13.905568                 11.946664   \n",
       "6                  18.209321                 18.695738   \n",
       "7                  62.449696                 43.495257   \n",
       "\n",
       "   meanGasPriceLastTenBlocksSameEOA  stdGasPriceLastTenBlocksSameEOA  \\\n",
       "0                         53.000000                              0.0   \n",
       "1                        162.796906                              0.0   \n",
       "2                         69.000000                              0.0   \n",
       "3                         12.800000                              0.0   \n",
       "4                          1.000000                              0.0   \n",
       "5                          1.000000                              0.0   \n",
       "6                         15.235994                              0.0   \n",
       "7                         55.800000                              0.0   \n",
       "\n",
       "   usedGasToken  predictedGasPrice  \n",
       "0         False         173.997202  \n",
       "1         False         170.360960  \n",
       "2         False         172.191000  \n",
       "3         False         164.683731  \n",
       "4         False          65.647157  \n",
       "5         False          65.647157  \n",
       "6         False         172.295800  \n",
       "7         False         172.542602  "
      ],
      "text/html": [
       "<div>\n",
       "<style scoped>\n",
       "    .dataframe tbody tr th:only-of-type {\n",
       "        vertical-align: middle;\n",
       "    }\n",
       "\n",
       "    .dataframe tbody tr th {\n",
       "        vertical-align: top;\n",
       "    }\n",
       "\n",
       "    .dataframe thead th {\n",
       "        text-align: right;\n",
       "    }\n",
       "</style>\n",
       "<table border=\"1\" class=\"dataframe\">\n",
       "  <thead>\n",
       "    <tr style=\"text-align: right;\">\n",
       "      <th></th>\n",
       "      <th>blockNumber</th>\n",
       "      <th>address</th>\n",
       "      <th>gasPrice</th>\n",
       "      <th>meanGasPriceLastTenBlocks</th>\n",
       "      <th>stdGasPriceLastTenBlocks</th>\n",
       "      <th>meanGasPriceLastTenBlocksSameEOA</th>\n",
       "      <th>stdGasPriceLastTenBlocksSameEOA</th>\n",
       "      <th>usedGasToken</th>\n",
       "      <th>predictedGasPrice</th>\n",
       "    </tr>\n",
       "  </thead>\n",
       "  <tbody>\n",
       "    <tr>\n",
       "      <th>0</th>\n",
       "      <td>11063005</td>\n",
       "      <td>0x2F0F84173FBf597aE56e24cCacc3ef22C0c550d0</td>\n",
       "      <td>53.000000</td>\n",
       "      <td>73.731292</td>\n",
       "      <td>405.425033</td>\n",
       "      <td>53.000000</td>\n",
       "      <td>0.0</td>\n",
       "      <td>False</td>\n",
       "      <td>173.997202</td>\n",
       "    </tr>\n",
       "    <tr>\n",
       "      <th>1</th>\n",
       "      <td>10657571</td>\n",
       "      <td>0x94268A0c522eC1b46C23B4e60ef942EABc94D45C</td>\n",
       "      <td>162.796906</td>\n",
       "      <td>220.052025</td>\n",
       "      <td>79.493293</td>\n",
       "      <td>162.796906</td>\n",
       "      <td>0.0</td>\n",
       "      <td>False</td>\n",
       "      <td>170.360960</td>\n",
       "    </tr>\n",
       "    <tr>\n",
       "      <th>2</th>\n",
       "      <td>10547013</td>\n",
       "      <td>0xCD60E0a1D34879A28322a3244D48c4a081421B34</td>\n",
       "      <td>69.000000</td>\n",
       "      <td>73.315605</td>\n",
       "      <td>25.559162</td>\n",
       "      <td>69.000000</td>\n",
       "      <td>0.0</td>\n",
       "      <td>False</td>\n",
       "      <td>172.191000</td>\n",
       "    </tr>\n",
       "    <tr>\n",
       "      <th>3</th>\n",
       "      <td>6449262</td>\n",
       "      <td>0xf39F6032A876D7ea1001C2c96416cE88f24E1b9c</td>\n",
       "      <td>12.800000</td>\n",
       "      <td>15.397848</td>\n",
       "      <td>21.253730</td>\n",
       "      <td>12.800000</td>\n",
       "      <td>0.0</td>\n",
       "      <td>False</td>\n",
       "      <td>164.683731</td>\n",
       "    </tr>\n",
       "    <tr>\n",
       "      <th>4</th>\n",
       "      <td>6041371</td>\n",
       "      <td>0x84681Cb4134F53784A6f30f8157adc628be4dB64</td>\n",
       "      <td>1.000000</td>\n",
       "      <td>7.986379</td>\n",
       "      <td>17.288979</td>\n",
       "      <td>1.000000</td>\n",
       "      <td>0.0</td>\n",
       "      <td>False</td>\n",
       "      <td>65.647157</td>\n",
       "    </tr>\n",
       "    <tr>\n",
       "      <th>5</th>\n",
       "      <td>8842099</td>\n",
       "      <td>0xa3dB009E03A2177B13fC4EA41045d0Fd34026cA9</td>\n",
       "      <td>1.000000</td>\n",
       "      <td>13.905568</td>\n",
       "      <td>11.946664</td>\n",
       "      <td>1.000000</td>\n",
       "      <td>0.0</td>\n",
       "      <td>False</td>\n",
       "      <td>65.647157</td>\n",
       "    </tr>\n",
       "    <tr>\n",
       "      <th>6</th>\n",
       "      <td>17499124</td>\n",
       "      <td>0xDe8dE160A7aa8DCFc0b711B77464F0a5BF32fd3F</td>\n",
       "      <td>15.235994</td>\n",
       "      <td>18.209321</td>\n",
       "      <td>18.695738</td>\n",
       "      <td>15.235994</td>\n",
       "      <td>0.0</td>\n",
       "      <td>False</td>\n",
       "      <td>172.295800</td>\n",
       "    </tr>\n",
       "    <tr>\n",
       "      <th>7</th>\n",
       "      <td>17373031</td>\n",
       "      <td>0x72cDebCfBA7e1c00b80801e157573428142433e2</td>\n",
       "      <td>55.800000</td>\n",
       "      <td>62.449696</td>\n",
       "      <td>43.495257</td>\n",
       "      <td>55.800000</td>\n",
       "      <td>0.0</td>\n",
       "      <td>False</td>\n",
       "      <td>172.542602</td>\n",
       "    </tr>\n",
       "  </tbody>\n",
       "</table>\n",
       "</div>"
      ]
     },
     "execution_count": 103,
     "metadata": {},
     "output_type": "execute_result"
    }
   ],
   "execution_count": 103
  },
  {
   "metadata": {},
   "cell_type": "code",
   "outputs": [],
   "execution_count": null,
   "source": "",
   "id": "6427fd1c4ebd8ef0"
  }
 ],
 "metadata": {
  "kernelspec": {
   "name": "frontrunning-attacks",
   "language": "python",
   "display_name": "frontrunning-attacks"
  },
  "language_info": {
   "codemirror_mode": {
    "name": "ipython",
    "version": 2
   },
   "file_extension": ".py",
   "mimetype": "text/x-python",
   "name": "python",
   "nbconvert_exporter": "python",
   "pygments_lexer": "ipython2",
   "version": "2.7.6"
  }
 },
 "nbformat": 4,
 "nbformat_minor": 5
}
