{
 "cells": [
  {
   "cell_type": "markdown",
   "source": [
    "## Features needed for training\n",
    "1. Gas Price of the Transaction\n",
    "2. Mean Gas Price of Transactions in the Last 10 Blocks\n",
    "3.  Standard Deviation of Gas Price of Transactions in the\n",
    "Last Ten Blocks\n",
    "4. Mean Gas Price of Transactions by the same EOA (externally owned account)\n",
    "5. Standard Deviation of Gas Price in Transactions by the\n",
    "same EOA\n",
    "6. Usage of Gas Tokens\n",
    "7. Predicted Gas Price"
   ],
   "metadata": {
    "collapsed": false
   },
   "id": "a630be665b11f3d3"
  },
  {
   "cell_type": "code",
   "source": [
    "from web3 import Web3\n",
    "from tqdm import tqdm\n",
    "import pandas as pd\n",
    "import numpy as np\n",
    "import random\n",
    "import torch"
   ],
   "metadata": {
    "collapsed": false,
    "ExecuteTime": {
     "end_time": "2024-04-11T14:12:45.590857Z",
     "start_time": "2024-04-11T14:12:45.584842Z"
    }
   },
   "id": "5f8c59138bb46f0a",
   "outputs": [],
   "execution_count": 49
  },
  {
   "cell_type": "code",
   "source": [
    "web3 = Web3(Web3.HTTPProvider(\"https://intensive-sly-mountain.quiknode.pro/a3f5256d7f2af6541d483cce3f1d49c94c01879e/\"))\n",
    "print(web3.is_connected())"
   ],
   "metadata": {
    "collapsed": false,
    "ExecuteTime": {
     "end_time": "2024-04-11T14:12:47.390380Z",
     "start_time": "2024-04-11T14:12:47.250537Z"
    }
   },
   "id": "2a5ebe396cf3628d",
   "outputs": [
    {
     "name": "stdout",
     "output_type": "stream",
     "text": [
      "True\n"
     ]
    }
   ],
   "execution_count": 50
  },
  {
   "cell_type": "code",
   "id": "initial_id",
   "metadata": {
    "collapsed": true,
    "ExecuteTime": {
     "end_time": "2024-04-11T14:12:53.664954Z",
     "start_time": "2024-04-11T14:12:53.095234Z"
    }
   },
   "source": [
    "df_insertion = pd.read_csv ('../data/insertion_attacks.csv', delimiter=',')\n",
    "print('# of insertion: ', len(df_insertion))"
   ],
   "outputs": [
    {
     "name": "stdout",
     "output_type": "stream",
     "text": [
      "# of insertion:  196691\n"
     ]
    }
   ],
   "execution_count": 51
  },
  {
   "metadata": {},
   "cell_type": "markdown",
   "source": "### Insertion-Dataset Exploration",
   "id": "542f526351a91959"
  },
  {
   "metadata": {},
   "cell_type": "markdown",
   "source": "Explore occurrences of same wallet and same block:",
   "id": "34a819647ed16fa8"
  },
  {
   "metadata": {
    "ExecuteTime": {
     "end_time": "2024-04-11T14:12:57.977685Z",
     "start_time": "2024-04-11T14:12:57.575101Z"
    }
   },
   "cell_type": "code",
   "source": [
    "columns = [\"First Attacker\", \"Whale\", \"Second Attacker\"]\n",
    "\n",
    "for col in columns:\n",
    "    occurrences = df_insertion.groupby(['Block Number', col]).size().reset_index(name='Count')\n",
    "    nr_rows_with_same_address_and_block_nr = occurrences[occurrences['Count'] > 1].shape[0]\n",
    "    print(f\"Number of rows in {col} with same address and block number: {nr_rows_with_same_address_and_block_nr}\")"
   ],
   "id": "6d5c9cfa5b717154",
   "outputs": [
    {
     "name": "stdout",
     "output_type": "stream",
     "text": [
      "Number of rows in First Attacker with same address and block number: 17\n",
      "Number of rows in Whale with same address and block number: 5730\n",
      "Number of rows in Second Attacker with same address and block number: 17\n"
     ]
    }
   ],
   "execution_count": 52
  },
  {
   "metadata": {
    "ExecuteTime": {
     "end_time": "2024-04-11T14:13:03.874752Z",
     "start_time": "2024-04-11T14:13:03.806695Z"
    }
   },
   "cell_type": "code",
   "source": [
    "concatenated_values = np.vstack((df_insertion[['Block Number', \"First Attacker\"]].values,\n",
    "                                df_insertion[['Block Number', \"Whale\"]].values,\n",
    "                                df_insertion[['Block Number', \"Second Attacker\"]].values))\n",
    "\n",
    "concatenated_df = pd.DataFrame(concatenated_values, columns=['Block Number', 'Address'])\n",
    "concatenated_df"
   ],
   "id": "257db958699e339d",
   "outputs": [
    {
     "data": {
      "text/plain": "       Block Number                                     Address\n0           5599805  0xfF1b9745f68F84F036E5e92c920038d895FB701A\n1           5574870  0x4fCc2FF6c75923D33B4F5aF4C524461014B2EE1C\n2           5599933  0xfF1b9745f68F84F036E5e92c920038d895FB701A\n3           5625057  0xfF1b9745f68F84F036E5e92c920038d895FB701A\n4           5625138  0xfF1b9745f68F84F036E5e92c920038d895FB701A\n...             ...                                         ...\n590068     11022873  0x18a85f755F7508f9CEe4698003a8F5D1e231AB22\n590069     11022878  0x12b967bba40E3220e9697B5fdBb75BA32626E1FC\n590070     11022880  0xdB9c8428e68a1E6B2244C92127D2dcD708F893f4\n590071     11022881  0xe4Ec5Ba53cAEcFE979570d5396d1d2dc5e6c3BD5\n590072     11022887  0x58275e42f0DDB2Ea342a1C57f4966928A66a4289\n\n[590073 rows x 2 columns]",
      "text/html": "<div>\n<style scoped>\n    .dataframe tbody tr th:only-of-type {\n        vertical-align: middle;\n    }\n\n    .dataframe tbody tr th {\n        vertical-align: top;\n    }\n\n    .dataframe thead th {\n        text-align: right;\n    }\n</style>\n<table border=\"1\" class=\"dataframe\">\n  <thead>\n    <tr style=\"text-align: right;\">\n      <th></th>\n      <th>Block Number</th>\n      <th>Address</th>\n    </tr>\n  </thead>\n  <tbody>\n    <tr>\n      <th>0</th>\n      <td>5599805</td>\n      <td>0xfF1b9745f68F84F036E5e92c920038d895FB701A</td>\n    </tr>\n    <tr>\n      <th>1</th>\n      <td>5574870</td>\n      <td>0x4fCc2FF6c75923D33B4F5aF4C524461014B2EE1C</td>\n    </tr>\n    <tr>\n      <th>2</th>\n      <td>5599933</td>\n      <td>0xfF1b9745f68F84F036E5e92c920038d895FB701A</td>\n    </tr>\n    <tr>\n      <th>3</th>\n      <td>5625057</td>\n      <td>0xfF1b9745f68F84F036E5e92c920038d895FB701A</td>\n    </tr>\n    <tr>\n      <th>4</th>\n      <td>5625138</td>\n      <td>0xfF1b9745f68F84F036E5e92c920038d895FB701A</td>\n    </tr>\n    <tr>\n      <th>...</th>\n      <td>...</td>\n      <td>...</td>\n    </tr>\n    <tr>\n      <th>590068</th>\n      <td>11022873</td>\n      <td>0x18a85f755F7508f9CEe4698003a8F5D1e231AB22</td>\n    </tr>\n    <tr>\n      <th>590069</th>\n      <td>11022878</td>\n      <td>0x12b967bba40E3220e9697B5fdBb75BA32626E1FC</td>\n    </tr>\n    <tr>\n      <th>590070</th>\n      <td>11022880</td>\n      <td>0xdB9c8428e68a1E6B2244C92127D2dcD708F893f4</td>\n    </tr>\n    <tr>\n      <th>590071</th>\n      <td>11022881</td>\n      <td>0xe4Ec5Ba53cAEcFE979570d5396d1d2dc5e6c3BD5</td>\n    </tr>\n    <tr>\n      <th>590072</th>\n      <td>11022887</td>\n      <td>0x58275e42f0DDB2Ea342a1C57f4966928A66a4289</td>\n    </tr>\n  </tbody>\n</table>\n<p>590073 rows × 2 columns</p>\n</div>"
     },
     "execution_count": 53,
     "metadata": {},
     "output_type": "execute_result"
    }
   ],
   "execution_count": 53
  },
  {
   "metadata": {
    "ExecuteTime": {
     "end_time": "2024-04-11T14:13:08.255737Z",
     "start_time": "2024-04-11T14:13:08.055408Z"
    }
   },
   "cell_type": "code",
   "source": [
    "# Get unique rows\n",
    "unique_df = concatenated_df.drop_duplicates()\n",
    "\n",
    "print(f\"{unique_df.shape[0]} unique blockNr-Address pairs\")"
   ],
   "id": "a3d82f388f8d8302",
   "outputs": [
    {
     "name": "stdout",
     "output_type": "stream",
     "text": [
      "473515 unique blockNr-Address pairs\n"
     ]
    }
   ],
   "execution_count": 54
  },
  {
   "metadata": {
    "ExecuteTime": {
     "end_time": "2024-04-11T14:13:11.806143Z",
     "start_time": "2024-04-11T14:13:11.720719Z"
    }
   },
   "cell_type": "code",
   "source": [
    "unique_addresses = concatenated_df[\"Address\"].unique()\n",
    "print(f\"{unique_addresses.shape[0]} unique addresses\")"
   ],
   "id": "ecd0789bc8ac8a77",
   "outputs": [
    {
     "name": "stdout",
     "output_type": "stream",
     "text": [
      "41350 unique addresses\n"
     ]
    }
   ],
   "execution_count": 55
  },
  {
   "metadata": {},
   "cell_type": "markdown",
   "source": "Explore of duplicated occurrences of block number",
   "id": "465c35bc779cad67"
  },
  {
   "metadata": {
    "ExecuteTime": {
     "end_time": "2024-04-11T14:13:14.355930Z",
     "start_time": "2024-04-11T14:13:14.299555Z"
    }
   },
   "cell_type": "code",
   "source": [
    "occurrences= df_insertion.groupby(['Block Number']).size().reset_index(name='Count')\n",
    "nr_rows_with_same_block_nr = occurrences[occurrences['Count'] > 1].shape[0]\n",
    "print(f\"Number of rows with same block number: {nr_rows_with_same_block_nr}\")"
   ],
   "id": "fe91c36dbb464542",
   "outputs": [
    {
     "name": "stdout",
     "output_type": "stream",
     "text": [
      "Number of rows with same block number: 24929\n"
     ]
    }
   ],
   "execution_count": 56
  },
  {
   "metadata": {
    "ExecuteTime": {
     "end_time": "2024-04-11T14:13:16.684762Z",
     "start_time": "2024-04-11T14:13:16.653314Z"
    }
   },
   "cell_type": "code",
   "source": [
    "unique_blocks = df_insertion[\"Block Number\"].unique()\n",
    "print(f\"{unique_blocks.shape[0]} unique block numbers\")"
   ],
   "id": "6f1b0cd9c6fa88b",
   "outputs": [
    {
     "name": "stdout",
     "output_type": "stream",
     "text": [
      "167503 unique block numbers\n"
     ]
    }
   ],
   "execution_count": 57
  },
  {
   "cell_type": "markdown",
   "source": [
    "### Feature 1\n",
    "Gas price of transaction"
   ],
   "metadata": {
    "collapsed": false
   },
   "id": "83df9230650ad3b8"
  },
  {
   "cell_type": "code",
   "source": [
    "def get_transaction_gas_price_in_eth_by_sender_and_block_nr(block_number, sender, web3):\n",
    "    block = web3.eth.get_block(block_number, full_transactions=True)\n",
    "    \n",
    "    for transaction in block.transactions:        \n",
    "        if transaction[\"from\"] == sender:\n",
    "            return (transaction[\"gasPrice\"]) / 10**18\n",
    "\n",
    "get_transaction_gas_price_in_eth_by_sender_and_block_nr(5599805, '0xFF28319a7cD2136ea7283E7cDb0675B50AC29Dd2', web3)"
   ],
   "metadata": {
    "collapsed": false,
    "ExecuteTime": {
     "end_time": "2024-04-11T14:13:19.923448Z",
     "start_time": "2024-04-11T14:13:19.713695Z"
    }
   },
   "id": "fd716710c6e39e03",
   "outputs": [
    {
     "data": {
      "text/plain": "9.97e-09"
     },
     "execution_count": 58,
     "metadata": {},
     "output_type": "execute_result"
    }
   ],
   "execution_count": 58
  },
  {
   "cell_type": "markdown",
   "source": [
    "### Feature 2 and 3\n",
    "- Mean Gas Price of Transactions in the Last 10 Blocks\n",
    "- Standard Deviation of Gas Price of Transactions in the Last 10 Blocks"
   ],
   "metadata": {
    "collapsed": false
   },
   "id": "9ab9d2a12daec479"
  },
  {
   "cell_type": "code",
   "source": [
    "def get_mean_and_std_gas_price_of_last_n_blocks(last_n_blocks, curr_block, web3):\n",
    "    web3.eth.get_block(curr_block)\n",
    "    \n",
    "    gas_prices = []\n",
    "    for i in range(last_n_blocks):\n",
    "        block = web3.eth.get_block(curr_block - i, full_transactions=True)\n",
    "        \n",
    "        for transaction in block.transactions:\n",
    "            gas_prices.append(transaction[\"gasPrice\"] / 10**18)\n",
    "    \n",
    "    return np.mean(gas_prices), np.std(gas_prices)"
   ],
   "metadata": {
    "collapsed": false,
    "ExecuteTime": {
     "end_time": "2024-04-11T14:13:22.223348Z",
     "start_time": "2024-04-11T14:13:22.204337Z"
    }
   },
   "id": "92fe819583a45baa",
   "outputs": [],
   "execution_count": 59
  },
  {
   "cell_type": "markdown",
   "source": [
    "### Feature 4\n",
    "- Mean Gas Price of Transactions by the same EOA (externally owned account)\n",
    "- Standard Deviation of Gas Price in Transactions by the\n",
    "same EOA"
   ],
   "metadata": {
    "collapsed": false
   },
   "id": "53d4b34e7a52aa39"
  },
  {
   "cell_type": "code",
   "source": [
    "# prepare data for insertion\n",
    "\n",
    "def get_mean_and_std_gas_price_of_last_n_blocks_of_same_EOA(last_n_blocks, curr_block, eoa_address, web3):\n",
    "    web3.eth.get_block(curr_block)\n",
    "    \n",
    "    gas_prices = []\n",
    "    for i in range(last_n_blocks):\n",
    "        block = web3.eth.get_block(curr_block - i, full_transactions=True)\n",
    "        \n",
    "        for transaction in block.transactions:\n",
    "            if transaction[\"from\"] == eoa_address:\n",
    "                gas_prices.append((transaction[\"gasPrice\"]) / 10**18)\n",
    "    return np.mean(gas_prices), np.std(gas_prices)"
   ],
   "metadata": {
    "collapsed": false,
    "ExecuteTime": {
     "end_time": "2024-04-11T14:13:31.790651Z",
     "start_time": "2024-04-11T14:13:31.770795Z"
    }
   },
   "id": "74d179d2db4cbf31",
   "outputs": [],
   "execution_count": 60
  },
  {
   "cell_type": "markdown",
   "source": [
    "### Feature 6\n",
    "Usage of gas tokens -> check if they use the gas token address"
   ],
   "metadata": {
    "collapsed": false
   },
   "id": "5bebdcb7ce8fb352"
  },
  {
   "cell_type": "code",
   "source": [
    "def is_transaction_using_gas_token(block_number, address, web3):\n",
    "    block = web3.eth.get_block(block_number, full_transactions=True)\n",
    "    \n",
    "    for transaction in block.transactions:        \n",
    "        if transaction[\"from\"] == address and (transaction[\"to\"] == '0x0000000000b3F879cb30FE243b4Dfee438691c04' or transaction[\"to\"] == '0x88d60255F917e3eb94eaE199d827DAd837fac4cB'):\n",
    "            return True\n",
    "    return False"
   ],
   "metadata": {
    "collapsed": false,
    "ExecuteTime": {
     "end_time": "2024-04-12T07:29:14.043783Z",
     "start_time": "2024-04-12T07:29:14.022534Z"
    }
   },
   "id": "6ed4aac619f6fbfa",
   "outputs": [],
   "execution_count": 80
  },
  {
   "cell_type": "markdown",
   "source": [
    "### Feature 7\n",
    "Predicted gas price --> train modell for this"
   ],
   "metadata": {
    "collapsed": false
   },
   "id": "b7ba2b0e91f569e9"
  },
  {
   "cell_type": "markdown",
   "source": [
    "Since the data was collected 3 years ago, we don't predict the gas-price trained on the gas-prices of the last 100 block from now, but from the highest block in the dataset."
   ],
   "metadata": {
    "collapsed": false
   },
   "id": "b27070964deae4f4"
  },
  {
   "cell_type": "code",
   "source": [
    "model = torch.jit.load('./lstm-feature-7.pt')\n",
    "mean_train = torch.load('./mean_train.pt')\n",
    "std_train = torch.load('./std_train.pt')"
   ],
   "metadata": {
    "collapsed": false,
    "ExecuteTime": {
     "end_time": "2024-04-11T14:13:43.383411Z",
     "start_time": "2024-04-11T14:13:43.348887Z"
    }
   },
   "id": "c117ded0195cdeb2",
   "outputs": [],
   "execution_count": 62
  },
  {
   "cell_type": "code",
   "outputs": [],
   "source": [
    "def get_predicted_gas_price(block_nr, address):\n",
    "    gas_prices_last_15_transactions = get_gas_price_of_last_n_transactions(15, block_nr, address)\n",
    "    \n",
    "    model.eval()\n",
    "    with torch.no_grad():\n",
    "        tensor = torch.tensor(gas_prices_last_15_transactions).view(1,1,15)\n",
    "        predicted_curr_gas_price = model(tensor)[:, -1].item()\n",
    "        \n",
    "        # transform back\n",
    "        return predicted_curr_gas_price * std_train.item() + mean_train.item()\n",
    "    \n",
    "    \n",
    "def get_gas_price_of_last_n_transactions(n, block_nr, address):\n",
    "    gas_prices = []\n",
    "    index_curr_transaction = None\n",
    "    block = web3.eth.get_block(block_nr, full_transactions=True)\n",
    "    transactions = block.transactions\n",
    "    for index, transaction in enumerate(transactions):\n",
    "            if transaction[\"from\"] == address:\n",
    "                index_curr_transaction = index\n",
    "    \n",
    "    if index_curr_transaction > n:\n",
    "        for i in range(index_curr_transaction - n, index_curr_transaction):\n",
    "            gas_prices.append(transactions[i][\"gasPrice\"] / 10**18)\n",
    "    else:\n",
    "        # prepend more transaction from previous blocks\n",
    "        curr_block = block_nr - 1\n",
    "        while len(gas_prices) < n :\n",
    "            block = web3.eth.get_block(block_nr, full_transactions=True)\n",
    "            \n",
    "            for transaction in reversed(block.transactions):\n",
    "                gas_prices.insert(0, transaction[\"gasPrice\"] / 10**18)\n",
    "                if len(gas_prices) == n:\n",
    "                    break\n",
    "            curr_block -= 1\n",
    "    return gas_prices"
   ],
   "metadata": {
    "collapsed": false,
    "ExecuteTime": {
     "end_time": "2024-04-12T07:21:45.404886Z",
     "start_time": "2024-04-12T07:21:45.385141Z"
    }
   },
   "id": "f5e5a5d684d06862",
   "execution_count": 75
  },
  {
   "cell_type": "markdown",
   "source": [
    "### Putting all together"
   ],
   "metadata": {
    "collapsed": false
   },
   "id": "8a52cd551354d2e6"
  },
  {
   "cell_type": "code",
   "source": [
    "def extract_n_entries_insertion_attack(csv_column: str, nr_of_entries) -> pd.DataFrame:\n",
    "    \n",
    "    entries = []\n",
    "    \n",
    "    for index, entry in tqdm(df_insertion.sample(nr_of_entries).iterrows()):\n",
    "        block_nr = entry[\"Block Number\"]\n",
    "        address = entry[csv_column]\n",
    "        \n",
    "        mean_gas_price_last_10_blocks, std_gas_price_last_10_blocks = get_mean_and_std_gas_price_of_last_n_blocks(10, block_nr, web3)\n",
    "        \n",
    "        mean_gas_price_last_n_blocks_same_EOA, std_gas_price_last_n_blocks_same_EOA = get_mean_and_std_gas_price_of_last_n_blocks_of_same_EOA(20, block_nr, address, web3)\n",
    "        \n",
    "        new_entry = {\n",
    "            \"blockNumber\": block_nr,\n",
    "            \"address\": address,\n",
    "            \"gasPrice\": get_transaction_gas_price_in_eth_by_sender_and_block_nr(block_nr, address, web3),\n",
    "            \"meanGasPriceLastTenBlocks\": mean_gas_price_last_10_blocks,\n",
    "            \"stdGasPriceLastTenBlocks\": std_gas_price_last_10_blocks,\n",
    "            \"meanGasPriceLastTenBlocksSameEOA\": mean_gas_price_last_n_blocks_same_EOA,\n",
    "            \"stdGasPriceLastTenBlocksSameEOA\": std_gas_price_last_n_blocks_same_EOA,\n",
    "            \"usedGasToken\": is_transaction_using_gas_token(block_nr, address, web3),\n",
    "            \"predictedGasPrice\": get_predicted_gas_price(block_nr, address)\n",
    "        }\n",
    "        entries.append(new_entry)\n",
    "    \n",
    "    return pd.DataFrame(entries) "
   ],
   "metadata": {
    "collapsed": false,
    "ExecuteTime": {
     "end_time": "2024-04-12T07:22:26.577403Z",
     "start_time": "2024-04-12T07:22:26.565640Z"
    }
   },
   "id": "d002ea1493baec66",
   "outputs": [],
   "execution_count": 78
  },
  {
   "cell_type": "markdown",
   "source": [
    "**Feature Extraction First Attacker**"
   ],
   "metadata": {
    "collapsed": false
   },
   "id": "6382d2047991e65f"
  },
  {
   "cell_type": "code",
   "source": [
    "feature_insertion_first_atk_df = extract_n_entries_insertion_attack(csv_column=\"First Attacker\", nr_of_entries=30)\n",
    "feature_insertion_first_atk_df.to_csv('../data/insertion_atks_first_atk.csv')\n",
    "feature_insertion_second_atk_df = extract_n_entries_insertion_attack(csv_column=\"Second Attacker\", nr_of_entries=30)\n",
    "feature_insertion_second_atk_df.to_csv('../data/insertion_atks_second_atk.csv')"
   ],
   "metadata": {
    "collapsed": false,
    "is_executing": true,
    "ExecuteTime": {
     "start_time": "2024-04-12T07:29:24.861344Z"
    }
   },
   "id": "a8d3af34a4d7e83",
   "outputs": [
    {
     "name": "stderr",
     "output_type": "stream",
     "text": [
      "9it [01:22,  9.40s/it]"
     ]
    }
   ],
   "execution_count": null
  },
  {
   "cell_type": "markdown",
   "source": [
    "**Feature Extraction Second Attacker**\n"
   ],
   "metadata": {
    "collapsed": false
   },
   "id": "ac9aadfd7070f78b"
  },
  {
   "cell_type": "markdown",
   "source": [
    "**Feature Extraction Whale/Victim**"
   ],
   "metadata": {
    "collapsed": false
   },
   "id": "654149907cb12dcc"
  },
  {
   "cell_type": "code",
   "source": [
    "feature_insertion_whale_txs_df = extract_n_entries_insertion_attack(csv_column=\"Whale\", nr_of_entries=100)\n"
   ],
   "metadata": {
    "collapsed": false,
    "ExecuteTime": {
     "end_time": "2024-04-10T07:04:18.830403Z",
     "start_time": "2024-04-10T07:04:05.580035Z"
    }
   },
   "id": "d2d781afc44774e0",
   "outputs": [
    {
     "name": "stderr",
     "output_type": "stream",
     "text": [
      "1it [00:12, 12.48s/it]\n"
     ]
    },
    {
     "ename": "KeyboardInterrupt",
     "evalue": "",
     "output_type": "error",
     "traceback": [
      "\u001B[0;31m---------------------------------------------------------------------------\u001B[0m",
      "\u001B[0;31mKeyboardInterrupt\u001B[0m                         Traceback (most recent call last)",
      "Cell \u001B[0;32mIn[15], line 1\u001B[0m\n\u001B[0;32m----> 1\u001B[0m feature_insertion_whale_txs_df \u001B[38;5;241m=\u001B[39m \u001B[43mextract_features_insertion_attack\u001B[49m\u001B[43m(\u001B[49m\u001B[43mcsv_column\u001B[49m\u001B[38;5;241;43m=\u001B[39;49m\u001B[38;5;124;43m\"\u001B[39;49m\u001B[38;5;124;43mWhale\u001B[39;49m\u001B[38;5;124;43m\"\u001B[39;49m\u001B[43m)\u001B[49m\n",
      "Cell \u001B[0;32mIn[12], line 9\u001B[0m, in \u001B[0;36mextract_features_insertion_attack\u001B[0;34m(csv_column)\u001B[0m\n\u001B[1;32m      6\u001B[0m block_nr \u001B[38;5;241m=\u001B[39m entry[\u001B[38;5;124m\"\u001B[39m\u001B[38;5;124mBlock Number\u001B[39m\u001B[38;5;124m\"\u001B[39m]\n\u001B[1;32m      7\u001B[0m address \u001B[38;5;241m=\u001B[39m entry[csv_column]\n\u001B[0;32m----> 9\u001B[0m mean_gas_price_last_10_blocks, std_gas_price_last_10_blocks \u001B[38;5;241m=\u001B[39m \u001B[43mget_mean_and_std_gas_price_of_last_n_blocks\u001B[49m\u001B[43m(\u001B[49m\u001B[38;5;241;43m10\u001B[39;49m\u001B[43m,\u001B[49m\u001B[43m \u001B[49m\u001B[43mblock_nr\u001B[49m\u001B[43m,\u001B[49m\u001B[43m \u001B[49m\u001B[43mweb3\u001B[49m\u001B[43m)\u001B[49m\n\u001B[1;32m     11\u001B[0m mean_gas_price_last_n_blocks_same_EOA, std_gas_price_last_n_blocks_same_EOA \u001B[38;5;241m=\u001B[39m get_mean_and_std_gas_price_of_last_n_blocks_of_same_EOA(\u001B[38;5;241m20\u001B[39m, block_nr, address, web3)\n\u001B[1;32m     13\u001B[0m new_entry \u001B[38;5;241m=\u001B[39m {\n\u001B[1;32m     14\u001B[0m     \u001B[38;5;124m\"\u001B[39m\u001B[38;5;124mblockNumber\u001B[39m\u001B[38;5;124m\"\u001B[39m: block_nr,\n\u001B[1;32m     15\u001B[0m     \u001B[38;5;124m\"\u001B[39m\u001B[38;5;124maddress\u001B[39m\u001B[38;5;124m\"\u001B[39m: address,\n\u001B[0;32m   (...)\u001B[0m\n\u001B[1;32m     21\u001B[0m     \u001B[38;5;124m\"\u001B[39m\u001B[38;5;124musedGasToken\u001B[39m\u001B[38;5;124m\"\u001B[39m: is_transaction_using_gas_token(block_nr, address, web3)\n\u001B[1;32m     22\u001B[0m }\n",
      "Cell \u001B[0;32mIn[5], line 6\u001B[0m, in \u001B[0;36mget_mean_and_std_gas_price_of_last_n_blocks\u001B[0;34m(last_n_blocks, curr_block, web3)\u001B[0m\n\u001B[1;32m      4\u001B[0m gas_prices \u001B[38;5;241m=\u001B[39m []\n\u001B[1;32m      5\u001B[0m \u001B[38;5;28;01mfor\u001B[39;00m i \u001B[38;5;129;01min\u001B[39;00m \u001B[38;5;28mrange\u001B[39m(last_n_blocks):\n\u001B[0;32m----> 6\u001B[0m     block \u001B[38;5;241m=\u001B[39m \u001B[43mweb3\u001B[49m\u001B[38;5;241;43m.\u001B[39;49m\u001B[43meth\u001B[49m\u001B[38;5;241;43m.\u001B[39;49m\u001B[43mget_block\u001B[49m\u001B[43m(\u001B[49m\u001B[43mcurr_block\u001B[49m\u001B[43m \u001B[49m\u001B[38;5;241;43m-\u001B[39;49m\u001B[43m \u001B[49m\u001B[43mi\u001B[49m\u001B[43m,\u001B[49m\u001B[43m \u001B[49m\u001B[43mfull_transactions\u001B[49m\u001B[38;5;241;43m=\u001B[39;49m\u001B[38;5;28;43;01mTrue\u001B[39;49;00m\u001B[43m)\u001B[49m\n\u001B[1;32m      8\u001B[0m     \u001B[38;5;28;01mfor\u001B[39;00m transaction \u001B[38;5;129;01min\u001B[39;00m block\u001B[38;5;241m.\u001B[39mtransactions:\n\u001B[1;32m      9\u001B[0m         gas_prices\u001B[38;5;241m.\u001B[39mappend(transaction[\u001B[38;5;124m\"\u001B[39m\u001B[38;5;124mgasPrice\u001B[39m\u001B[38;5;124m\"\u001B[39m] \u001B[38;5;241m/\u001B[39m \u001B[38;5;241m10\u001B[39m\u001B[38;5;241m*\u001B[39m\u001B[38;5;241m*\u001B[39m\u001B[38;5;241m18\u001B[39m)\n",
      "File \u001B[0;32m~/miniconda3/envs/frontrunning-attacks/lib/python3.10/site-packages/web3/eth/eth.py:413\u001B[0m, in \u001B[0;36mEth.get_block\u001B[0;34m(self, block_identifier, full_transactions)\u001B[0m\n\u001B[1;32m    410\u001B[0m \u001B[38;5;28;01mdef\u001B[39;00m \u001B[38;5;21mget_block\u001B[39m(\n\u001B[1;32m    411\u001B[0m     \u001B[38;5;28mself\u001B[39m, block_identifier: BlockIdentifier, full_transactions: \u001B[38;5;28mbool\u001B[39m \u001B[38;5;241m=\u001B[39m \u001B[38;5;28;01mFalse\u001B[39;00m\n\u001B[1;32m    412\u001B[0m ) \u001B[38;5;241m-\u001B[39m\u001B[38;5;241m>\u001B[39m BlockData:\n\u001B[0;32m--> 413\u001B[0m     \u001B[38;5;28;01mreturn\u001B[39;00m \u001B[38;5;28;43mself\u001B[39;49m\u001B[38;5;241;43m.\u001B[39;49m\u001B[43m_get_block\u001B[49m\u001B[43m(\u001B[49m\u001B[43mblock_identifier\u001B[49m\u001B[43m,\u001B[49m\u001B[43m \u001B[49m\u001B[43mfull_transactions\u001B[49m\u001B[43m)\u001B[49m\n",
      "File \u001B[0;32m~/miniconda3/envs/frontrunning-attacks/lib/python3.10/site-packages/web3/module.py:78\u001B[0m, in \u001B[0;36mretrieve_blocking_method_call_fn.<locals>.caller\u001B[0;34m(*args, **kwargs)\u001B[0m\n\u001B[1;32m     70\u001B[0m (\n\u001B[1;32m     71\u001B[0m     result_formatters,\n\u001B[1;32m     72\u001B[0m     error_formatters,\n\u001B[1;32m     73\u001B[0m     null_result_formatters,\n\u001B[1;32m     74\u001B[0m ) \u001B[38;5;241m=\u001B[39m response_formatters\n\u001B[1;32m     75\u001B[0m result \u001B[38;5;241m=\u001B[39m w3\u001B[38;5;241m.\u001B[39mmanager\u001B[38;5;241m.\u001B[39mrequest_blocking(\n\u001B[1;32m     76\u001B[0m     method_str, params, error_formatters, null_result_formatters\n\u001B[1;32m     77\u001B[0m )\n\u001B[0;32m---> 78\u001B[0m \u001B[38;5;28;01mreturn\u001B[39;00m \u001B[43mapply_result_formatters\u001B[49m\u001B[43m(\u001B[49m\u001B[43mresult_formatters\u001B[49m\u001B[43m,\u001B[49m\u001B[43m \u001B[49m\u001B[43mresult\u001B[49m\u001B[43m)\u001B[49m\n",
      "File \u001B[0;32m~/miniconda3/envs/frontrunning-attacks/lib/python3.10/site-packages/cytoolz/functoolz.pyx:263\u001B[0m, in \u001B[0;36mcytoolz.functoolz.curry.__call__\u001B[0;34m()\u001B[0m\n",
      "File \u001B[0;32m~/miniconda3/envs/frontrunning-attacks/lib/python3.10/site-packages/web3/module.py:49\u001B[0m, in \u001B[0;36mapply_result_formatters\u001B[0;34m(result_formatters, result)\u001B[0m\n\u001B[1;32m     44\u001B[0m \u001B[38;5;129m@curry\u001B[39m\n\u001B[1;32m     45\u001B[0m \u001B[38;5;28;01mdef\u001B[39;00m \u001B[38;5;21mapply_result_formatters\u001B[39m(\n\u001B[1;32m     46\u001B[0m     result_formatters: Callable[\u001B[38;5;241m.\u001B[39m\u001B[38;5;241m.\u001B[39m\u001B[38;5;241m.\u001B[39m, Any], result: RPCResponse\n\u001B[1;32m     47\u001B[0m ) \u001B[38;5;241m-\u001B[39m\u001B[38;5;241m>\u001B[39m RPCResponse:\n\u001B[1;32m     48\u001B[0m     \u001B[38;5;28;01mif\u001B[39;00m result_formatters:\n\u001B[0;32m---> 49\u001B[0m         formatted_result \u001B[38;5;241m=\u001B[39m \u001B[43mpipe\u001B[49m\u001B[43m(\u001B[49m\u001B[43mresult\u001B[49m\u001B[43m,\u001B[49m\u001B[43m \u001B[49m\u001B[43mresult_formatters\u001B[49m\u001B[43m)\u001B[49m\n\u001B[1;32m     50\u001B[0m         \u001B[38;5;28;01mreturn\u001B[39;00m formatted_result\n\u001B[1;32m     51\u001B[0m     \u001B[38;5;28;01melse\u001B[39;00m:\n",
      "File \u001B[0;32m~/miniconda3/envs/frontrunning-attacks/lib/python3.10/site-packages/cytoolz/functoolz.pyx:680\u001B[0m, in \u001B[0;36mcytoolz.functoolz.pipe\u001B[0;34m()\u001B[0m\n",
      "File \u001B[0;32m~/miniconda3/envs/frontrunning-attacks/lib/python3.10/site-packages/cytoolz/functoolz.pyx:655\u001B[0m, in \u001B[0;36mcytoolz.functoolz.c_pipe\u001B[0;34m()\u001B[0m\n",
      "File \u001B[0;32m~/miniconda3/envs/frontrunning-attacks/lib/python3.10/site-packages/cytoolz/functoolz.pyx:263\u001B[0m, in \u001B[0;36mcytoolz.functoolz.curry.__call__\u001B[0;34m()\u001B[0m\n",
      "File \u001B[0;32m~/miniconda3/envs/frontrunning-attacks/lib/python3.10/site-packages/eth_utils/applicators.py:85\u001B[0m, in \u001B[0;36mapply_formatter_if\u001B[0;34m(condition, formatter, value)\u001B[0m\n\u001B[1;32m     81\u001B[0m \u001B[38;5;28;01mdef\u001B[39;00m \u001B[38;5;21mapply_formatter_if\u001B[39m(\n\u001B[1;32m     82\u001B[0m     condition: Callable[\u001B[38;5;241m.\u001B[39m\u001B[38;5;241m.\u001B[39m\u001B[38;5;241m.\u001B[39m, \u001B[38;5;28mbool\u001B[39m], formatter: Callable[\u001B[38;5;241m.\u001B[39m\u001B[38;5;241m.\u001B[39m\u001B[38;5;241m.\u001B[39m, Any], value: Any\n\u001B[1;32m     83\u001B[0m ) \u001B[38;5;241m-\u001B[39m\u001B[38;5;241m>\u001B[39m Any:\n\u001B[1;32m     84\u001B[0m     \u001B[38;5;28;01mif\u001B[39;00m condition(value):\n\u001B[0;32m---> 85\u001B[0m         \u001B[38;5;28;01mreturn\u001B[39;00m \u001B[43mformatter\u001B[49m\u001B[43m(\u001B[49m\u001B[43mvalue\u001B[49m\u001B[43m)\u001B[49m\n\u001B[1;32m     86\u001B[0m     \u001B[38;5;28;01melse\u001B[39;00m:\n\u001B[1;32m     87\u001B[0m         \u001B[38;5;28;01mreturn\u001B[39;00m value\n",
      "File \u001B[0;32m~/miniconda3/envs/frontrunning-attacks/lib/python3.10/site-packages/cytoolz/functoolz.pyx:263\u001B[0m, in \u001B[0;36mcytoolz.functoolz.curry.__call__\u001B[0;34m()\u001B[0m\n",
      "File \u001B[0;32m~/miniconda3/envs/frontrunning-attacks/lib/python3.10/site-packages/web3/_utils/method_formatters.py:166\u001B[0m, in \u001B[0;36mtype_aware_apply_formatters_to_dict\u001B[0;34m(formatters, value)\u001B[0m\n\u001B[1;32m    161\u001B[0m \u001B[38;5;250m\u001B[39m\u001B[38;5;124;03m\"\"\"\u001B[39;00m\n\u001B[1;32m    162\u001B[0m \u001B[38;5;124;03mPreserve ``AttributeDict`` types if original ``value`` was an ``AttributeDict``.\u001B[39;00m\n\u001B[1;32m    163\u001B[0m \u001B[38;5;124;03m\"\"\"\u001B[39;00m\n\u001B[1;32m    164\u001B[0m formatted_dict: Dict[\u001B[38;5;28mstr\u001B[39m, Any] \u001B[38;5;241m=\u001B[39m apply_formatters_to_dict(formatters, \u001B[38;5;28mdict\u001B[39m(value))\n\u001B[1;32m    165\u001B[0m \u001B[38;5;28;01mreturn\u001B[39;00m (\n\u001B[0;32m--> 166\u001B[0m     \u001B[43mAttributeDict\u001B[49m\u001B[38;5;241;43m.\u001B[39;49m\u001B[43mrecursive\u001B[49m\u001B[43m(\u001B[49m\u001B[43mformatted_dict\u001B[49m\u001B[43m)\u001B[49m\n\u001B[1;32m    167\u001B[0m     \u001B[38;5;28;01mif\u001B[39;00m is_attrdict(value)\n\u001B[1;32m    168\u001B[0m     \u001B[38;5;28;01melse\u001B[39;00m formatted_dict\n\u001B[1;32m    169\u001B[0m )\n",
      "File \u001B[0;32m~/miniconda3/envs/frontrunning-attacks/lib/python3.10/site-packages/web3/datastructures.py:88\u001B[0m, in \u001B[0;36mReadableAttributeDict.recursive\u001B[0;34m(cls, value)\u001B[0m\n\u001B[1;32m     86\u001B[0m \u001B[38;5;129m@classmethod\u001B[39m\n\u001B[1;32m     87\u001B[0m \u001B[38;5;28;01mdef\u001B[39;00m \u001B[38;5;21mrecursive\u001B[39m(\u001B[38;5;28mcls\u001B[39m, value: TValue) \u001B[38;5;241m-\u001B[39m\u001B[38;5;241m>\u001B[39m \u001B[38;5;124m\"\u001B[39m\u001B[38;5;124mReadableAttributeDict[TKey, TValue]\u001B[39m\u001B[38;5;124m\"\u001B[39m:\n\u001B[0;32m---> 88\u001B[0m     \u001B[38;5;28;01mreturn\u001B[39;00m \u001B[43mrecursive_map\u001B[49m\u001B[43m(\u001B[49m\u001B[38;5;28;43mcls\u001B[39;49m\u001B[38;5;241;43m.\u001B[39;49m\u001B[43m_apply_if_mapping\u001B[49m\u001B[43m,\u001B[49m\u001B[43m \u001B[49m\u001B[43mvalue\u001B[49m\u001B[43m)\u001B[49m\n",
      "File \u001B[0;32m~/miniconda3/envs/frontrunning-attacks/lib/python3.10/site-packages/web3/_utils/decorators.py:30\u001B[0m, in \u001B[0;36mreject_recursive_repeats.<locals>.wrapped\u001B[0;34m(*args)\u001B[0m\n\u001B[1;32m     28\u001B[0m to_wrap\u001B[38;5;241m.\u001B[39m__already_called[thread_local_args] \u001B[38;5;241m=\u001B[39m \u001B[38;5;28;01mTrue\u001B[39;00m  \u001B[38;5;66;03m# type: ignore\u001B[39;00m\n\u001B[1;32m     29\u001B[0m \u001B[38;5;28;01mtry\u001B[39;00m:\n\u001B[0;32m---> 30\u001B[0m     wrapped_val \u001B[38;5;241m=\u001B[39m \u001B[43mto_wrap\u001B[49m\u001B[43m(\u001B[49m\u001B[38;5;241;43m*\u001B[39;49m\u001B[43margs\u001B[49m\u001B[43m)\u001B[49m\n\u001B[1;32m     31\u001B[0m \u001B[38;5;28;01mfinally\u001B[39;00m:\n\u001B[1;32m     32\u001B[0m     \u001B[38;5;28;01mdel\u001B[39;00m to_wrap\u001B[38;5;241m.\u001B[39m__already_called[thread_local_args]  \u001B[38;5;66;03m# type: ignore\u001B[39;00m\n",
      "File \u001B[0;32m~/miniconda3/envs/frontrunning-attacks/lib/python3.10/site-packages/web3/_utils/formatters.py:84\u001B[0m, in \u001B[0;36mrecursive_map\u001B[0;34m(func, data)\u001B[0m\n\u001B[1;32m     81\u001B[0m \u001B[38;5;28;01mdef\u001B[39;00m \u001B[38;5;21mrecurse\u001B[39m(item: Any) \u001B[38;5;241m-\u001B[39m\u001B[38;5;241m>\u001B[39m TReturn:\n\u001B[1;32m     82\u001B[0m     \u001B[38;5;28;01mreturn\u001B[39;00m recursive_map(func, item)\n\u001B[0;32m---> 84\u001B[0m items_mapped \u001B[38;5;241m=\u001B[39m \u001B[43mmap_collection\u001B[49m\u001B[43m(\u001B[49m\u001B[43mrecurse\u001B[49m\u001B[43m,\u001B[49m\u001B[43m \u001B[49m\u001B[43mdata\u001B[49m\u001B[43m)\u001B[49m\n\u001B[1;32m     85\u001B[0m \u001B[38;5;28;01mreturn\u001B[39;00m func(items_mapped)\n",
      "File \u001B[0;32m~/miniconda3/envs/frontrunning-attacks/lib/python3.10/site-packages/web3/_utils/formatters.py:64\u001B[0m, in \u001B[0;36mmap_collection\u001B[0;34m(func, collection)\u001B[0m\n\u001B[1;32m     62\u001B[0m datatype \u001B[38;5;241m=\u001B[39m \u001B[38;5;28mtype\u001B[39m(collection)\n\u001B[1;32m     63\u001B[0m \u001B[38;5;28;01mif\u001B[39;00m \u001B[38;5;28misinstance\u001B[39m(collection, Mapping):\n\u001B[0;32m---> 64\u001B[0m     \u001B[38;5;28;01mreturn\u001B[39;00m \u001B[43mdatatype\u001B[49m\u001B[43m(\u001B[49m\u001B[43m(\u001B[49m\u001B[43mkey\u001B[49m\u001B[43m,\u001B[49m\u001B[43m \u001B[49m\u001B[43mfunc\u001B[49m\u001B[43m(\u001B[49m\u001B[43mval\u001B[49m\u001B[43m)\u001B[49m\u001B[43m)\u001B[49m\u001B[43m \u001B[49m\u001B[38;5;28;43;01mfor\u001B[39;49;00m\u001B[43m \u001B[49m\u001B[43mkey\u001B[49m\u001B[43m,\u001B[49m\u001B[43m \u001B[49m\u001B[43mval\u001B[49m\u001B[43m \u001B[49m\u001B[38;5;129;43;01min\u001B[39;49;00m\u001B[43m \u001B[49m\u001B[43mcollection\u001B[49m\u001B[38;5;241;43m.\u001B[39;49m\u001B[43mitems\u001B[49m\u001B[43m(\u001B[49m\u001B[43m)\u001B[49m\u001B[43m)\u001B[49m\n\u001B[1;32m     65\u001B[0m \u001B[38;5;28;01mif\u001B[39;00m is_string(collection):\n\u001B[1;32m     66\u001B[0m     \u001B[38;5;28;01mreturn\u001B[39;00m collection\n",
      "File \u001B[0;32m~/miniconda3/envs/frontrunning-attacks/lib/python3.10/site-packages/web3/_utils/formatters.py:64\u001B[0m, in \u001B[0;36m<genexpr>\u001B[0;34m(.0)\u001B[0m\n\u001B[1;32m     62\u001B[0m datatype \u001B[38;5;241m=\u001B[39m \u001B[38;5;28mtype\u001B[39m(collection)\n\u001B[1;32m     63\u001B[0m \u001B[38;5;28;01mif\u001B[39;00m \u001B[38;5;28misinstance\u001B[39m(collection, Mapping):\n\u001B[0;32m---> 64\u001B[0m     \u001B[38;5;28;01mreturn\u001B[39;00m datatype((key, \u001B[43mfunc\u001B[49m\u001B[43m(\u001B[49m\u001B[43mval\u001B[49m\u001B[43m)\u001B[49m) \u001B[38;5;28;01mfor\u001B[39;00m key, val \u001B[38;5;129;01min\u001B[39;00m collection\u001B[38;5;241m.\u001B[39mitems())\n\u001B[1;32m     65\u001B[0m \u001B[38;5;28;01mif\u001B[39;00m is_string(collection):\n\u001B[1;32m     66\u001B[0m     \u001B[38;5;28;01mreturn\u001B[39;00m collection\n",
      "File \u001B[0;32m~/miniconda3/envs/frontrunning-attacks/lib/python3.10/site-packages/web3/_utils/formatters.py:82\u001B[0m, in \u001B[0;36mrecursive_map.<locals>.recurse\u001B[0;34m(item)\u001B[0m\n\u001B[1;32m     81\u001B[0m \u001B[38;5;28;01mdef\u001B[39;00m \u001B[38;5;21mrecurse\u001B[39m(item: Any) \u001B[38;5;241m-\u001B[39m\u001B[38;5;241m>\u001B[39m TReturn:\n\u001B[0;32m---> 82\u001B[0m     \u001B[38;5;28;01mreturn\u001B[39;00m \u001B[43mrecursive_map\u001B[49m\u001B[43m(\u001B[49m\u001B[43mfunc\u001B[49m\u001B[43m,\u001B[49m\u001B[43m \u001B[49m\u001B[43mitem\u001B[49m\u001B[43m)\u001B[49m\n",
      "File \u001B[0;32m~/miniconda3/envs/frontrunning-attacks/lib/python3.10/site-packages/web3/_utils/decorators.py:30\u001B[0m, in \u001B[0;36mreject_recursive_repeats.<locals>.wrapped\u001B[0;34m(*args)\u001B[0m\n\u001B[1;32m     28\u001B[0m to_wrap\u001B[38;5;241m.\u001B[39m__already_called[thread_local_args] \u001B[38;5;241m=\u001B[39m \u001B[38;5;28;01mTrue\u001B[39;00m  \u001B[38;5;66;03m# type: ignore\u001B[39;00m\n\u001B[1;32m     29\u001B[0m \u001B[38;5;28;01mtry\u001B[39;00m:\n\u001B[0;32m---> 30\u001B[0m     wrapped_val \u001B[38;5;241m=\u001B[39m \u001B[43mto_wrap\u001B[49m\u001B[43m(\u001B[49m\u001B[38;5;241;43m*\u001B[39;49m\u001B[43margs\u001B[49m\u001B[43m)\u001B[49m\n\u001B[1;32m     31\u001B[0m \u001B[38;5;28;01mfinally\u001B[39;00m:\n\u001B[1;32m     32\u001B[0m     \u001B[38;5;28;01mdel\u001B[39;00m to_wrap\u001B[38;5;241m.\u001B[39m__already_called[thread_local_args]  \u001B[38;5;66;03m# type: ignore\u001B[39;00m\n",
      "File \u001B[0;32m~/miniconda3/envs/frontrunning-attacks/lib/python3.10/site-packages/web3/_utils/formatters.py:84\u001B[0m, in \u001B[0;36mrecursive_map\u001B[0;34m(func, data)\u001B[0m\n\u001B[1;32m     81\u001B[0m \u001B[38;5;28;01mdef\u001B[39;00m \u001B[38;5;21mrecurse\u001B[39m(item: Any) \u001B[38;5;241m-\u001B[39m\u001B[38;5;241m>\u001B[39m TReturn:\n\u001B[1;32m     82\u001B[0m     \u001B[38;5;28;01mreturn\u001B[39;00m recursive_map(func, item)\n\u001B[0;32m---> 84\u001B[0m items_mapped \u001B[38;5;241m=\u001B[39m \u001B[43mmap_collection\u001B[49m\u001B[43m(\u001B[49m\u001B[43mrecurse\u001B[49m\u001B[43m,\u001B[49m\u001B[43m \u001B[49m\u001B[43mdata\u001B[49m\u001B[43m)\u001B[49m\n\u001B[1;32m     85\u001B[0m \u001B[38;5;28;01mreturn\u001B[39;00m func(items_mapped)\n",
      "File \u001B[0;32m~/miniconda3/envs/frontrunning-attacks/lib/python3.10/site-packages/web3/_utils/formatters.py:68\u001B[0m, in \u001B[0;36mmap_collection\u001B[0;34m(func, collection)\u001B[0m\n\u001B[1;32m     66\u001B[0m     \u001B[38;5;28;01mreturn\u001B[39;00m collection\n\u001B[1;32m     67\u001B[0m \u001B[38;5;28;01melif\u001B[39;00m \u001B[38;5;28misinstance\u001B[39m(collection, Iterable):\n\u001B[0;32m---> 68\u001B[0m     \u001B[38;5;28;01mreturn\u001B[39;00m \u001B[43mdatatype\u001B[49m\u001B[43m(\u001B[49m\u001B[38;5;28;43mmap\u001B[39;49m\u001B[43m(\u001B[49m\u001B[43mfunc\u001B[49m\u001B[43m,\u001B[49m\u001B[43m \u001B[49m\u001B[43mcollection\u001B[49m\u001B[43m)\u001B[49m\u001B[43m)\u001B[49m\n\u001B[1;32m     69\u001B[0m \u001B[38;5;28;01melse\u001B[39;00m:\n\u001B[1;32m     70\u001B[0m     \u001B[38;5;28;01mreturn\u001B[39;00m collection\n",
      "File \u001B[0;32m~/miniconda3/envs/frontrunning-attacks/lib/python3.10/site-packages/web3/_utils/formatters.py:82\u001B[0m, in \u001B[0;36mrecursive_map.<locals>.recurse\u001B[0;34m(item)\u001B[0m\n\u001B[1;32m     81\u001B[0m \u001B[38;5;28;01mdef\u001B[39;00m \u001B[38;5;21mrecurse\u001B[39m(item: Any) \u001B[38;5;241m-\u001B[39m\u001B[38;5;241m>\u001B[39m TReturn:\n\u001B[0;32m---> 82\u001B[0m     \u001B[38;5;28;01mreturn\u001B[39;00m \u001B[43mrecursive_map\u001B[49m\u001B[43m(\u001B[49m\u001B[43mfunc\u001B[49m\u001B[43m,\u001B[49m\u001B[43m \u001B[49m\u001B[43mitem\u001B[49m\u001B[43m)\u001B[49m\n",
      "File \u001B[0;32m~/miniconda3/envs/frontrunning-attacks/lib/python3.10/site-packages/web3/_utils/decorators.py:30\u001B[0m, in \u001B[0;36mreject_recursive_repeats.<locals>.wrapped\u001B[0;34m(*args)\u001B[0m\n\u001B[1;32m     28\u001B[0m to_wrap\u001B[38;5;241m.\u001B[39m__already_called[thread_local_args] \u001B[38;5;241m=\u001B[39m \u001B[38;5;28;01mTrue\u001B[39;00m  \u001B[38;5;66;03m# type: ignore\u001B[39;00m\n\u001B[1;32m     29\u001B[0m \u001B[38;5;28;01mtry\u001B[39;00m:\n\u001B[0;32m---> 30\u001B[0m     wrapped_val \u001B[38;5;241m=\u001B[39m \u001B[43mto_wrap\u001B[49m\u001B[43m(\u001B[49m\u001B[38;5;241;43m*\u001B[39;49m\u001B[43margs\u001B[49m\u001B[43m)\u001B[49m\n\u001B[1;32m     31\u001B[0m \u001B[38;5;28;01mfinally\u001B[39;00m:\n\u001B[1;32m     32\u001B[0m     \u001B[38;5;28;01mdel\u001B[39;00m to_wrap\u001B[38;5;241m.\u001B[39m__already_called[thread_local_args]  \u001B[38;5;66;03m# type: ignore\u001B[39;00m\n",
      "File \u001B[0;32m~/miniconda3/envs/frontrunning-attacks/lib/python3.10/site-packages/web3/_utils/formatters.py:84\u001B[0m, in \u001B[0;36mrecursive_map\u001B[0;34m(func, data)\u001B[0m\n\u001B[1;32m     81\u001B[0m \u001B[38;5;28;01mdef\u001B[39;00m \u001B[38;5;21mrecurse\u001B[39m(item: Any) \u001B[38;5;241m-\u001B[39m\u001B[38;5;241m>\u001B[39m TReturn:\n\u001B[1;32m     82\u001B[0m     \u001B[38;5;28;01mreturn\u001B[39;00m recursive_map(func, item)\n\u001B[0;32m---> 84\u001B[0m items_mapped \u001B[38;5;241m=\u001B[39m \u001B[43mmap_collection\u001B[49m\u001B[43m(\u001B[49m\u001B[43mrecurse\u001B[49m\u001B[43m,\u001B[49m\u001B[43m \u001B[49m\u001B[43mdata\u001B[49m\u001B[43m)\u001B[49m\n\u001B[1;32m     85\u001B[0m \u001B[38;5;28;01mreturn\u001B[39;00m func(items_mapped)\n",
      "File \u001B[0;32m~/miniconda3/envs/frontrunning-attacks/lib/python3.10/site-packages/web3/_utils/formatters.py:64\u001B[0m, in \u001B[0;36mmap_collection\u001B[0;34m(func, collection)\u001B[0m\n\u001B[1;32m     62\u001B[0m datatype \u001B[38;5;241m=\u001B[39m \u001B[38;5;28mtype\u001B[39m(collection)\n\u001B[1;32m     63\u001B[0m \u001B[38;5;28;01mif\u001B[39;00m \u001B[38;5;28misinstance\u001B[39m(collection, Mapping):\n\u001B[0;32m---> 64\u001B[0m     \u001B[38;5;28;01mreturn\u001B[39;00m \u001B[43mdatatype\u001B[49m\u001B[43m(\u001B[49m\u001B[43m(\u001B[49m\u001B[43mkey\u001B[49m\u001B[43m,\u001B[49m\u001B[43m \u001B[49m\u001B[43mfunc\u001B[49m\u001B[43m(\u001B[49m\u001B[43mval\u001B[49m\u001B[43m)\u001B[49m\u001B[43m)\u001B[49m\u001B[43m \u001B[49m\u001B[38;5;28;43;01mfor\u001B[39;49;00m\u001B[43m \u001B[49m\u001B[43mkey\u001B[49m\u001B[43m,\u001B[49m\u001B[43m \u001B[49m\u001B[43mval\u001B[49m\u001B[43m \u001B[49m\u001B[38;5;129;43;01min\u001B[39;49;00m\u001B[43m \u001B[49m\u001B[43mcollection\u001B[49m\u001B[38;5;241;43m.\u001B[39;49m\u001B[43mitems\u001B[49m\u001B[43m(\u001B[49m\u001B[43m)\u001B[49m\u001B[43m)\u001B[49m\n\u001B[1;32m     65\u001B[0m \u001B[38;5;28;01mif\u001B[39;00m is_string(collection):\n\u001B[1;32m     66\u001B[0m     \u001B[38;5;28;01mreturn\u001B[39;00m collection\n",
      "File \u001B[0;32m~/miniconda3/envs/frontrunning-attacks/lib/python3.10/site-packages/web3/datastructures.py:51\u001B[0m, in \u001B[0;36mReadableAttributeDict.__init__\u001B[0;34m(self, dictionary, *args, **kwargs)\u001B[0m\n\u001B[1;32m     47\u001B[0m \u001B[38;5;28;01mdef\u001B[39;00m \u001B[38;5;21m__init__\u001B[39m(\n\u001B[1;32m     48\u001B[0m     \u001B[38;5;28mself\u001B[39m, dictionary: Dict[TKey, TValue], \u001B[38;5;241m*\u001B[39margs: Any, \u001B[38;5;241m*\u001B[39m\u001B[38;5;241m*\u001B[39mkwargs: Any\n\u001B[1;32m     49\u001B[0m ) \u001B[38;5;241m-\u001B[39m\u001B[38;5;241m>\u001B[39m \u001B[38;5;28;01mNone\u001B[39;00m:\n\u001B[1;32m     50\u001B[0m     \u001B[38;5;66;03m# type ignored on 46/50 b/c dict() expects str index type not TKey\u001B[39;00m\n\u001B[0;32m---> 51\u001B[0m     \u001B[38;5;28mself\u001B[39m\u001B[38;5;241m.\u001B[39m\u001B[38;5;18m__dict__\u001B[39m \u001B[38;5;241m=\u001B[39m \u001B[38;5;28;43mdict\u001B[39;49m\u001B[43m(\u001B[49m\u001B[43mdictionary\u001B[49m\u001B[43m)\u001B[49m  \u001B[38;5;66;03m# type: ignore\u001B[39;00m\n\u001B[1;32m     52\u001B[0m     \u001B[38;5;28mself\u001B[39m\u001B[38;5;241m.\u001B[39m\u001B[38;5;18m__dict__\u001B[39m\u001B[38;5;241m.\u001B[39mupdate(\u001B[38;5;28mdict\u001B[39m(\u001B[38;5;241m*\u001B[39margs, \u001B[38;5;241m*\u001B[39m\u001B[38;5;241m*\u001B[39mkwargs))\n",
      "File \u001B[0;32m~/miniconda3/envs/frontrunning-attacks/lib/python3.10/site-packages/web3/_utils/formatters.py:64\u001B[0m, in \u001B[0;36m<genexpr>\u001B[0;34m(.0)\u001B[0m\n\u001B[1;32m     62\u001B[0m datatype \u001B[38;5;241m=\u001B[39m \u001B[38;5;28mtype\u001B[39m(collection)\n\u001B[1;32m     63\u001B[0m \u001B[38;5;28;01mif\u001B[39;00m \u001B[38;5;28misinstance\u001B[39m(collection, Mapping):\n\u001B[0;32m---> 64\u001B[0m     \u001B[38;5;28;01mreturn\u001B[39;00m datatype((key, \u001B[43mfunc\u001B[49m\u001B[43m(\u001B[49m\u001B[43mval\u001B[49m\u001B[43m)\u001B[49m) \u001B[38;5;28;01mfor\u001B[39;00m key, val \u001B[38;5;129;01min\u001B[39;00m collection\u001B[38;5;241m.\u001B[39mitems())\n\u001B[1;32m     65\u001B[0m \u001B[38;5;28;01mif\u001B[39;00m is_string(collection):\n\u001B[1;32m     66\u001B[0m     \u001B[38;5;28;01mreturn\u001B[39;00m collection\n",
      "File \u001B[0;32m~/miniconda3/envs/frontrunning-attacks/lib/python3.10/site-packages/web3/_utils/formatters.py:82\u001B[0m, in \u001B[0;36mrecursive_map.<locals>.recurse\u001B[0;34m(item)\u001B[0m\n\u001B[1;32m     81\u001B[0m \u001B[38;5;28;01mdef\u001B[39;00m \u001B[38;5;21mrecurse\u001B[39m(item: Any) \u001B[38;5;241m-\u001B[39m\u001B[38;5;241m>\u001B[39m TReturn:\n\u001B[0;32m---> 82\u001B[0m     \u001B[38;5;28;01mreturn\u001B[39;00m \u001B[43mrecursive_map\u001B[49m\u001B[43m(\u001B[49m\u001B[43mfunc\u001B[49m\u001B[43m,\u001B[49m\u001B[43m \u001B[49m\u001B[43mitem\u001B[49m\u001B[43m)\u001B[49m\n",
      "File \u001B[0;32m~/miniconda3/envs/frontrunning-attacks/lib/python3.10/site-packages/web3/_utils/decorators.py:30\u001B[0m, in \u001B[0;36mreject_recursive_repeats.<locals>.wrapped\u001B[0;34m(*args)\u001B[0m\n\u001B[1;32m     28\u001B[0m to_wrap\u001B[38;5;241m.\u001B[39m__already_called[thread_local_args] \u001B[38;5;241m=\u001B[39m \u001B[38;5;28;01mTrue\u001B[39;00m  \u001B[38;5;66;03m# type: ignore\u001B[39;00m\n\u001B[1;32m     29\u001B[0m \u001B[38;5;28;01mtry\u001B[39;00m:\n\u001B[0;32m---> 30\u001B[0m     wrapped_val \u001B[38;5;241m=\u001B[39m \u001B[43mto_wrap\u001B[49m\u001B[43m(\u001B[49m\u001B[38;5;241;43m*\u001B[39;49m\u001B[43margs\u001B[49m\u001B[43m)\u001B[49m\n\u001B[1;32m     31\u001B[0m \u001B[38;5;28;01mfinally\u001B[39;00m:\n\u001B[1;32m     32\u001B[0m     \u001B[38;5;28;01mdel\u001B[39;00m to_wrap\u001B[38;5;241m.\u001B[39m__already_called[thread_local_args]  \u001B[38;5;66;03m# type: ignore\u001B[39;00m\n",
      "File \u001B[0;32m~/miniconda3/envs/frontrunning-attacks/lib/python3.10/site-packages/web3/_utils/formatters.py:84\u001B[0m, in \u001B[0;36mrecursive_map\u001B[0;34m(func, data)\u001B[0m\n\u001B[1;32m     81\u001B[0m \u001B[38;5;28;01mdef\u001B[39;00m \u001B[38;5;21mrecurse\u001B[39m(item: Any) \u001B[38;5;241m-\u001B[39m\u001B[38;5;241m>\u001B[39m TReturn:\n\u001B[1;32m     82\u001B[0m     \u001B[38;5;28;01mreturn\u001B[39;00m recursive_map(func, item)\n\u001B[0;32m---> 84\u001B[0m items_mapped \u001B[38;5;241m=\u001B[39m \u001B[43mmap_collection\u001B[49m\u001B[43m(\u001B[49m\u001B[43mrecurse\u001B[49m\u001B[43m,\u001B[49m\u001B[43m \u001B[49m\u001B[43mdata\u001B[49m\u001B[43m)\u001B[49m\n\u001B[1;32m     85\u001B[0m \u001B[38;5;28;01mreturn\u001B[39;00m func(items_mapped)\n",
      "File \u001B[0;32m~/miniconda3/envs/frontrunning-attacks/lib/python3.10/site-packages/web3/_utils/formatters.py:67\u001B[0m, in \u001B[0;36mmap_collection\u001B[0;34m(func, collection)\u001B[0m\n\u001B[1;32m     65\u001B[0m \u001B[38;5;28;01mif\u001B[39;00m is_string(collection):\n\u001B[1;32m     66\u001B[0m     \u001B[38;5;28;01mreturn\u001B[39;00m collection\n\u001B[0;32m---> 67\u001B[0m \u001B[38;5;28;01melif\u001B[39;00m \u001B[38;5;28;43misinstance\u001B[39;49m\u001B[43m(\u001B[49m\u001B[43mcollection\u001B[49m\u001B[43m,\u001B[49m\u001B[43m \u001B[49m\u001B[43mIterable\u001B[49m\u001B[43m)\u001B[49m:\n\u001B[1;32m     68\u001B[0m     \u001B[38;5;28;01mreturn\u001B[39;00m datatype(\u001B[38;5;28mmap\u001B[39m(func, collection))\n\u001B[1;32m     69\u001B[0m \u001B[38;5;28;01melse\u001B[39;00m:\n",
      "File \u001B[0;32m~/miniconda3/envs/frontrunning-attacks/lib/python3.10/typing.py:994\u001B[0m, in \u001B[0;36m_BaseGenericAlias.__instancecheck__\u001B[0;34m(self, obj)\u001B[0m\n\u001B[1;32m    993\u001B[0m \u001B[38;5;28;01mdef\u001B[39;00m \u001B[38;5;21m__instancecheck__\u001B[39m(\u001B[38;5;28mself\u001B[39m, obj):\n\u001B[0;32m--> 994\u001B[0m     \u001B[38;5;28;01mreturn\u001B[39;00m \u001B[38;5;28;43mself\u001B[39;49m\u001B[38;5;241;43m.\u001B[39;49m\u001B[38;5;21;43m__subclasscheck__\u001B[39;49m\u001B[43m(\u001B[49m\u001B[38;5;28;43mtype\u001B[39;49m\u001B[43m(\u001B[49m\u001B[43mobj\u001B[49m\u001B[43m)\u001B[49m\u001B[43m)\u001B[49m\n",
      "File \u001B[0;32m~/miniconda3/envs/frontrunning-attacks/lib/python3.10/typing.py:1158\u001B[0m, in \u001B[0;36m_SpecialGenericAlias.__subclasscheck__\u001B[0;34m(self, cls)\u001B[0m\n\u001B[1;32m   1156\u001B[0m     \u001B[38;5;28;01mreturn\u001B[39;00m \u001B[38;5;28missubclass\u001B[39m(\u001B[38;5;28mcls\u001B[39m\u001B[38;5;241m.\u001B[39m__origin__, \u001B[38;5;28mself\u001B[39m\u001B[38;5;241m.\u001B[39m__origin__)\n\u001B[1;32m   1157\u001B[0m \u001B[38;5;28;01mif\u001B[39;00m \u001B[38;5;129;01mnot\u001B[39;00m \u001B[38;5;28misinstance\u001B[39m(\u001B[38;5;28mcls\u001B[39m, _GenericAlias):\n\u001B[0;32m-> 1158\u001B[0m     \u001B[38;5;28;01mreturn\u001B[39;00m \u001B[38;5;28;43missubclass\u001B[39;49m\u001B[43m(\u001B[49m\u001B[38;5;28;43mcls\u001B[39;49m\u001B[43m,\u001B[49m\u001B[43m \u001B[49m\u001B[38;5;28;43mself\u001B[39;49m\u001B[38;5;241;43m.\u001B[39;49m\u001B[43m__origin__\u001B[49m\u001B[43m)\u001B[49m\n\u001B[1;32m   1159\u001B[0m \u001B[38;5;28;01mreturn\u001B[39;00m \u001B[38;5;28msuper\u001B[39m()\u001B[38;5;241m.\u001B[39m\u001B[38;5;21m__subclasscheck__\u001B[39m(\u001B[38;5;28mcls\u001B[39m)\n",
      "File \u001B[0;32m~/miniconda3/envs/frontrunning-attacks/lib/python3.10/abc.py:121\u001B[0m, in \u001B[0;36mABCMeta.__subclasscheck__\u001B[0;34m(cls, subclass)\u001B[0m\n\u001B[1;32m    118\u001B[0m \u001B[38;5;250m    \u001B[39m\u001B[38;5;124;03m\"\"\"Override for isinstance(instance, cls).\"\"\"\u001B[39;00m\n\u001B[1;32m    119\u001B[0m     \u001B[38;5;28;01mreturn\u001B[39;00m _abc_instancecheck(\u001B[38;5;28mcls\u001B[39m, instance)\n\u001B[0;32m--> 121\u001B[0m \u001B[38;5;28;01mdef\u001B[39;00m \u001B[38;5;21m__subclasscheck__\u001B[39m(\u001B[38;5;28mcls\u001B[39m, subclass):\n\u001B[1;32m    122\u001B[0m \u001B[38;5;250m    \u001B[39m\u001B[38;5;124;03m\"\"\"Override for issubclass(subclass, cls).\"\"\"\u001B[39;00m\n\u001B[1;32m    123\u001B[0m     \u001B[38;5;28;01mreturn\u001B[39;00m _abc_subclasscheck(\u001B[38;5;28mcls\u001B[39m, subclass)\n",
      "\u001B[0;31mKeyboardInterrupt\u001B[0m: "
     ]
    }
   ],
   "execution_count": 15
  },
  {
   "cell_type": "markdown",
   "source": [
    "### Feature extraction - random transactions "
   ],
   "metadata": {
    "collapsed": false
   },
   "id": "c7fa97761012cfe8"
  },
  {
   "cell_type": "markdown",
   "source": [
    "Function to get n random block numbers out of the blocks in which the attacks where collected."
   ],
   "metadata": {
    "collapsed": false
   },
   "id": "d2af5a5158e33711"
  },
  {
   "cell_type": "code",
   "source": [
    "def get_n_random_block_numbers_from_insertion_data(n: int):\n",
    "    \n",
    "    unique_block_numbers = df_insertion[\"Block Number\"].unique()\n",
    "    random_block_numbers = pd.Series(unique_block_numbers).sample(n=n).tolist()\n",
    "    return random_block_numbers"
   ],
   "metadata": {
    "collapsed": false,
    "ExecuteTime": {
     "end_time": "2024-04-10T07:04:23.011172Z",
     "start_time": "2024-04-10T07:04:23.003980Z"
    }
   },
   "id": "2591978c30bdd253",
   "outputs": [],
   "execution_count": 16
  },
  {
   "cell_type": "markdown",
   "source": [
    "Function to get n random blocks in the block-range of the sampled attacks."
   ],
   "metadata": {
    "collapsed": false
   },
   "id": "dafe8e0727605d76"
  },
  {
   "cell_type": "code",
   "source": [
    "def get_n_random_block_numbers_from_insertion_data_range(n: int):\n",
    "        \n",
    "    min_block_number = df_insertion[\"Block Number\"].min()\n",
    "    max_block_number = df_insertion[\"Block Number\"].max()\n",
    "    \n",
    "    block_number_range = range(min_block_number, max_block_number + 1)\n",
    "    \n",
    "    random_block_numbers = random.choices(block_number_range, k=n)\n",
    "    return random_block_numbers"
   ],
   "metadata": {
    "collapsed": false,
    "ExecuteTime": {
     "end_time": "2024-04-10T07:04:25.060701Z",
     "start_time": "2024-04-10T07:04:25.053733Z"
    }
   },
   "id": "d872a9a9287dc408",
   "outputs": [],
   "execution_count": 17
  },
  {
   "cell_type": "markdown",
   "source": [
    "Function to get n random blocks over all blocks on ethereum main net."
   ],
   "metadata": {
    "collapsed": false
   },
   "id": "44f4fdb53c685faf"
  },
  {
   "cell_type": "code",
   "source": [
    "def get_n_random_block_numbers_from_total_block_range(n: int):\n",
    "        \n",
    "    current_block_number = web3.eth.block_number\n",
    "    \n",
    "    block_number_range = range(1, current_block_number + 1)\n",
    "    \n",
    "    random_block_numbers = random.choices(block_number_range, k=n)\n",
    "    return random_block_numbers"
   ],
   "metadata": {
    "collapsed": false,
    "ExecuteTime": {
     "end_time": "2024-04-10T07:04:27.088570Z",
     "start_time": "2024-04-10T07:04:27.082347Z"
    }
   },
   "id": "5c4d986cf9d8aff3",
   "outputs": [],
   "execution_count": 18
  },
  {
   "cell_type": "markdown",
   "source": [
    "Function to get random transaction out of a block."
   ],
   "metadata": {
    "collapsed": false
   },
   "id": "a6b51b6a3d637873"
  },
  {
   "cell_type": "code",
   "source": [
    "def address_in_insertion_data(block_number: int, address: str):\n",
    "    \n",
    "    if block_number not in df_insertion[\"Block Number\"].values:\n",
    "        return False\n",
    "    \n",
    "    df_subset_with_block_number = df_insertion[df_insertion[\"Block Number\"] == block_number]\n",
    "    \n",
    "    if any(address in df_subset_with_block_number[col].values for col in [\"First Attacker\", \"Second Attacker\", \"Whale\"]):\n",
    "        return True\n",
    "    \n",
    "    return False    "
   ],
   "metadata": {
    "collapsed": false,
    "ExecuteTime": {
     "end_time": "2024-04-10T07:04:28.947406Z",
     "start_time": "2024-04-10T07:04:28.940858Z"
    }
   },
   "id": "a1d4d0cc69d5f812",
   "outputs": [],
   "execution_count": 19
  },
  {
   "cell_type": "code",
   "source": [
    "def get_random_transaction_from_block(block_number: int):\n",
    "    \n",
    "    # Retrieve txs from block\n",
    "    block = web3.eth.get_block(block_number)\n",
    "    transactions = block['transactions']\n",
    "    \n",
    "    if len(transactions) == 0:\n",
    "        print(f\"Block {block_number} has no transactions!\")\n",
    "        return None\n",
    "    \n",
    "    # Choose a random transaction from block\n",
    "    random_transaction_hash = random.choice(transactions)    \n",
    "    random_transaction = web3.eth.get_transaction(random_transaction_hash)\n",
    "    \n",
    "    if address_in_insertion_data(block_number, random_transaction[\"from\"]):\n",
    "        print(\"Randomly sampled transaction already in data set!\")\n",
    "        get_random_transaction_from_block(block_number)\n",
    "    \n",
    "    return random_transaction"
   ],
   "metadata": {
    "collapsed": false,
    "ExecuteTime": {
     "end_time": "2024-04-10T07:04:30.843337Z",
     "start_time": "2024-04-10T07:04:30.835947Z"
    }
   },
   "id": "8ca8cf1de465f61a",
   "outputs": [],
   "execution_count": 20
  },
  {
   "cell_type": "code",
   "source": [
    "get_random_transaction_from_block(100)"
   ],
   "metadata": {
    "collapsed": false,
    "ExecuteTime": {
     "end_time": "2024-04-10T07:04:35.711701Z",
     "start_time": "2024-04-10T07:04:35.584876Z"
    }
   },
   "id": "b625d08ea52e178b",
   "outputs": [
    {
     "name": "stdout",
     "output_type": "stream",
     "text": [
      "Block 100 has no transactions!\n"
     ]
    }
   ],
   "execution_count": 21
  },
  {
   "cell_type": "markdown",
   "source": [
    "### Sample random transactions"
   ],
   "metadata": {
    "collapsed": false
   },
   "id": "314bb0c907804a0"
  },
  {
   "cell_type": "code",
   "source": [
    "def sample_random_transaction(nr_of_random_blocks: int) -> pd.DataFrame:\n",
    "    \n",
    "    # Get random block numbers\n",
    "    block_numbers = []\n",
    "    \n",
    "    random_blocks_per_sampling = int(nr_of_random_blocks/3)\n",
    "    \n",
    "    random_block_numbers_from_insertion_data = get_n_random_block_numbers_from_insertion_data(random_blocks_per_sampling)\n",
    "    random_block_numbers_from_insertion_data_range = get_n_random_block_numbers_from_insertion_data_range(random_blocks_per_sampling)\n",
    "    random_block_numbers_from_total_range = get_n_random_block_numbers_from_total_block_range(random_blocks_per_sampling)\n",
    "\n",
    "    block_numbers.extend(random_block_numbers_from_insertion_data)\n",
    "    block_numbers.extend(random_block_numbers_from_insertion_data_range)\n",
    "    block_numbers.extend(random_block_numbers_from_total_range)\n",
    "    \n",
    "    # Get random transactions out of blocks\n",
    "    entries = []\n",
    "    \n",
    "    \n",
    "    for block in tqdm(block_numbers):\n",
    "        transaction = get_random_transaction_from_block(block)\n",
    "        if transaction:\n",
    "            mean_gas_price_last_10_blocks, std_gas_price_last_10_blocks = get_mean_and_std_gas_price_of_last_n_blocks(10, block, web3)\n",
    "            mean_gas_price_last_n_blocks_same_EOA, std_gas_price_last_n_blocks_same_EOA = get_mean_and_std_gas_price_of_last_n_blocks_of_same_EOA(20, block, transaction[\"from\"], web3)\n",
    "            \n",
    "            address = transaction[\"from\"]\n",
    "            \n",
    "            new_entry = {\n",
    "                \"blockNumber\": block,\n",
    "                \"address\": address,\n",
    "                \"gasPrice\": transaction[\"gasPrice\"] / 10**18,\n",
    "                \"meanGasPriceLastTenBlocks\": mean_gas_price_last_10_blocks,\n",
    "                \"stdGasPriceLastTenBlocks\": std_gas_price_last_10_blocks,\n",
    "                \"meanGasPriceLastTenBlocksSameEOA\": mean_gas_price_last_n_blocks_same_EOA,\n",
    "                \"stdGasPriceLastTenBlocksSameEOA\": std_gas_price_last_n_blocks_same_EOA,\n",
    "                \"usedGasToken\": is_transaction_using_gas_token(block, address, web3),\n",
    "                \"predictedGasPrice\": get_predicted_gas_price(block, address)\n",
    "            }\n",
    "            entries.append(new_entry)\n",
    "                \n",
    "    return pd.DataFrame(entries) \n",
    "    "
   ],
   "metadata": {
    "collapsed": false,
    "ExecuteTime": {
     "end_time": "2024-04-10T07:05:38.945593Z",
     "start_time": "2024-04-10T07:05:38.933489Z"
    }
   },
   "id": "cabeef0dbb6c48de",
   "outputs": [],
   "execution_count": 28
  },
  {
   "cell_type": "code",
   "source": "feature_random_transactions_df = sample_random_transaction(10)",
   "metadata": {
    "collapsed": false,
    "ExecuteTime": {
     "end_time": "2024-04-10T07:07:07.232895Z",
     "start_time": "2024-04-10T07:05:40.377342Z"
    }
   },
   "id": "2616473fd8cc92e0",
   "outputs": [
    {
     "name": "stderr",
     "output_type": "stream",
     "text": [
      "100%|██████████| 9/9 [01:26<00:00,  9.65s/it]\n"
     ]
    }
   ],
   "execution_count": 29
  },
  {
   "cell_type": "code",
   "source": "feature_random_transactions_df",
   "metadata": {
    "collapsed": false,
    "ExecuteTime": {
     "end_time": "2024-04-10T07:07:10.091021Z",
     "start_time": "2024-04-10T07:07:10.069881Z"
    }
   },
   "id": "c764e1ba6d5f16c1",
   "outputs": [
    {
     "data": {
      "text/plain": [
       "   blockNumber                                     address      gasPrice  \\\n",
       "0     10972278  0x22300dAe061ab0870Fc8503822e096816e2dD951  6.459092e-08   \n",
       "1     11022614  0xe62193Bc1c340EF2205C0Bd71691Fad5e5072253  2.257465e-07   \n",
       "2     11248573  0x20Dc0b9520CC2C2BE89F247061A2c8e310045949  5.140010e-08   \n",
       "3      9974388  0x44121903d6938E440837195aB554cACD1742d63d  2.000000e-08   \n",
       "4     10904225  0x9408faF5C34371636FD27107Cb8241D0978BF0c7  1.190000e-07   \n",
       "5      6495420  0x63AB0507f208248166F697AEfAe76A9Ba24ed6A6  6.200000e-08   \n",
       "6     10698926  0x275E6D0977AB69D68cEfE943755Ec34082202a05  1.590000e-07   \n",
       "7      2464844  0x2a65Aca4D5fC5B5C859090a6c34d164135398226  2.500000e-08   \n",
       "8      8273900  0xd5e015739a8BEffF075C4eAA2013D27Df35FFDdc  1.000000e-09   \n",
       "\n",
       "   meanGasPriceLastTenBlocks  stdGasPriceLastTenBlocks  \\\n",
       "0               7.352220e-08              5.901775e-08   \n",
       "1               9.166672e-08              1.221066e-07   \n",
       "2               5.915760e-08              2.303706e-08   \n",
       "3               2.123011e-08              1.253226e-08   \n",
       "4               1.340913e-07              4.692489e-08   \n",
       "5               1.283176e-08              1.627956e-08   \n",
       "6               1.034696e-07              4.821043e-08   \n",
       "7               3.381780e-08              1.373328e-08   \n",
       "8               1.566779e-08              7.595185e-08   \n",
       "\n",
       "   meanGasPriceLastTenBlocksSameEOA  stdGasPriceLastTenBlocksSameEOA  \\\n",
       "0                      6.459092e-08                     0.000000e+00   \n",
       "1                      8.296688e-07                     5.992909e-07   \n",
       "2                      5.140010e-08                     1.323489e-23   \n",
       "3                      2.000000e-08                     0.000000e+00   \n",
       "4                      1.190000e-07                     0.000000e+00   \n",
       "5                      6.200000e-08                     0.000000e+00   \n",
       "6                      1.290000e-07                     3.000000e-08   \n",
       "7                      2.500000e-08                     6.617445e-24   \n",
       "8                      1.000000e-09                     0.000000e+00   \n",
       "\n",
       "   usedGasToken  \n",
       "0         False  \n",
       "1         False  \n",
       "2         False  \n",
       "3         False  \n",
       "4         False  \n",
       "5         False  \n",
       "6         False  \n",
       "7         False  \n",
       "8         False  "
      ],
      "text/html": [
       "<div>\n",
       "<style scoped>\n",
       "    .dataframe tbody tr th:only-of-type {\n",
       "        vertical-align: middle;\n",
       "    }\n",
       "\n",
       "    .dataframe tbody tr th {\n",
       "        vertical-align: top;\n",
       "    }\n",
       "\n",
       "    .dataframe thead th {\n",
       "        text-align: right;\n",
       "    }\n",
       "</style>\n",
       "<table border=\"1\" class=\"dataframe\">\n",
       "  <thead>\n",
       "    <tr style=\"text-align: right;\">\n",
       "      <th></th>\n",
       "      <th>blockNumber</th>\n",
       "      <th>address</th>\n",
       "      <th>gasPrice</th>\n",
       "      <th>meanGasPriceLastTenBlocks</th>\n",
       "      <th>stdGasPriceLastTenBlocks</th>\n",
       "      <th>meanGasPriceLastTenBlocksSameEOA</th>\n",
       "      <th>stdGasPriceLastTenBlocksSameEOA</th>\n",
       "      <th>usedGasToken</th>\n",
       "    </tr>\n",
       "  </thead>\n",
       "  <tbody>\n",
       "    <tr>\n",
       "      <th>0</th>\n",
       "      <td>10972278</td>\n",
       "      <td>0x22300dAe061ab0870Fc8503822e096816e2dD951</td>\n",
       "      <td>6.459092e-08</td>\n",
       "      <td>7.352220e-08</td>\n",
       "      <td>5.901775e-08</td>\n",
       "      <td>6.459092e-08</td>\n",
       "      <td>0.000000e+00</td>\n",
       "      <td>False</td>\n",
       "    </tr>\n",
       "    <tr>\n",
       "      <th>1</th>\n",
       "      <td>11022614</td>\n",
       "      <td>0xe62193Bc1c340EF2205C0Bd71691Fad5e5072253</td>\n",
       "      <td>2.257465e-07</td>\n",
       "      <td>9.166672e-08</td>\n",
       "      <td>1.221066e-07</td>\n",
       "      <td>8.296688e-07</td>\n",
       "      <td>5.992909e-07</td>\n",
       "      <td>False</td>\n",
       "    </tr>\n",
       "    <tr>\n",
       "      <th>2</th>\n",
       "      <td>11248573</td>\n",
       "      <td>0x20Dc0b9520CC2C2BE89F247061A2c8e310045949</td>\n",
       "      <td>5.140010e-08</td>\n",
       "      <td>5.915760e-08</td>\n",
       "      <td>2.303706e-08</td>\n",
       "      <td>5.140010e-08</td>\n",
       "      <td>1.323489e-23</td>\n",
       "      <td>False</td>\n",
       "    </tr>\n",
       "    <tr>\n",
       "      <th>3</th>\n",
       "      <td>9974388</td>\n",
       "      <td>0x44121903d6938E440837195aB554cACD1742d63d</td>\n",
       "      <td>2.000000e-08</td>\n",
       "      <td>2.123011e-08</td>\n",
       "      <td>1.253226e-08</td>\n",
       "      <td>2.000000e-08</td>\n",
       "      <td>0.000000e+00</td>\n",
       "      <td>False</td>\n",
       "    </tr>\n",
       "    <tr>\n",
       "      <th>4</th>\n",
       "      <td>10904225</td>\n",
       "      <td>0x9408faF5C34371636FD27107Cb8241D0978BF0c7</td>\n",
       "      <td>1.190000e-07</td>\n",
       "      <td>1.340913e-07</td>\n",
       "      <td>4.692489e-08</td>\n",
       "      <td>1.190000e-07</td>\n",
       "      <td>0.000000e+00</td>\n",
       "      <td>False</td>\n",
       "    </tr>\n",
       "    <tr>\n",
       "      <th>5</th>\n",
       "      <td>6495420</td>\n",
       "      <td>0x63AB0507f208248166F697AEfAe76A9Ba24ed6A6</td>\n",
       "      <td>6.200000e-08</td>\n",
       "      <td>1.283176e-08</td>\n",
       "      <td>1.627956e-08</td>\n",
       "      <td>6.200000e-08</td>\n",
       "      <td>0.000000e+00</td>\n",
       "      <td>False</td>\n",
       "    </tr>\n",
       "    <tr>\n",
       "      <th>6</th>\n",
       "      <td>10698926</td>\n",
       "      <td>0x275E6D0977AB69D68cEfE943755Ec34082202a05</td>\n",
       "      <td>1.590000e-07</td>\n",
       "      <td>1.034696e-07</td>\n",
       "      <td>4.821043e-08</td>\n",
       "      <td>1.290000e-07</td>\n",
       "      <td>3.000000e-08</td>\n",
       "      <td>False</td>\n",
       "    </tr>\n",
       "    <tr>\n",
       "      <th>7</th>\n",
       "      <td>2464844</td>\n",
       "      <td>0x2a65Aca4D5fC5B5C859090a6c34d164135398226</td>\n",
       "      <td>2.500000e-08</td>\n",
       "      <td>3.381780e-08</td>\n",
       "      <td>1.373328e-08</td>\n",
       "      <td>2.500000e-08</td>\n",
       "      <td>6.617445e-24</td>\n",
       "      <td>False</td>\n",
       "    </tr>\n",
       "    <tr>\n",
       "      <th>8</th>\n",
       "      <td>8273900</td>\n",
       "      <td>0xd5e015739a8BEffF075C4eAA2013D27Df35FFDdc</td>\n",
       "      <td>1.000000e-09</td>\n",
       "      <td>1.566779e-08</td>\n",
       "      <td>7.595185e-08</td>\n",
       "      <td>1.000000e-09</td>\n",
       "      <td>0.000000e+00</td>\n",
       "      <td>False</td>\n",
       "    </tr>\n",
       "  </tbody>\n",
       "</table>\n",
       "</div>"
      ]
     },
     "execution_count": 30,
     "metadata": {},
     "output_type": "execute_result"
    }
   ],
   "execution_count": 30
  },
  {
   "metadata": {},
   "cell_type": "code",
   "outputs": [],
   "execution_count": null,
   "source": "",
   "id": "d2d9ade48b729356"
  }
 ],
 "metadata": {
  "kernelspec": {
   "name": "python3",
   "language": "python",
   "display_name": "Python 3 (ipykernel)"
  },
  "language_info": {
   "codemirror_mode": {
    "name": "ipython",
    "version": 2
   },
   "file_extension": ".py",
   "mimetype": "text/x-python",
   "name": "python",
   "nbconvert_exporter": "python",
   "pygments_lexer": "ipython2",
   "version": "2.7.6"
  }
 },
 "nbformat": 4,
 "nbformat_minor": 5
}
