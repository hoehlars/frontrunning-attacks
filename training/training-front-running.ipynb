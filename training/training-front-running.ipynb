{
 "cells": [
  {
   "cell_type": "markdown",
   "source": [
    "## Features needed for the dataset"
   ],
   "metadata": {
    "collapsed": false
   },
   "id": "a6614f63554b136a"
  },
  {
   "cell_type": "code",
   "execution_count": 7,
   "id": "initial_id",
   "metadata": {
    "collapsed": true,
    "ExecuteTime": {
     "end_time": "2024-03-29T16:54:37.535402Z",
     "start_time": "2024-03-29T16:54:36.811512Z"
    }
   },
   "outputs": [
    {
     "name": "stdout",
     "output_type": "stream",
     "text": [
      "       Block Number  First-Whale Gas Price Delta  \\\n",
      "count  1.966910e+05                 1.966910e+05   \n",
      "mean   1.076283e+07                 4.076319e+02   \n",
      "std    7.136054e+05                 1.897468e+03   \n",
      "min    5.162011e+06                 1.000000e-09   \n",
      "25%    1.066066e+07                 1.000000e-05   \n",
      "50%    1.094925e+07                 5.250000e+00   \n",
      "75%    1.110990e+07                 7.410460e+01   \n",
      "max    1.130000e+07                 7.623609e+04   \n",
      "\n",
      "       Whale-Second Gas Price Delta         Profit           Cost  \\\n",
      "count                  1.966910e+05  196691.000000  196691.000000   \n",
      "mean                   3.884606e+00      65.047994      19.406951   \n",
      "std                    1.371153e+02     233.440442      51.147792   \n",
      "min                    0.000000e+00  -10620.606575       0.014655   \n",
      "25%                    0.000000e+00       7.857525       4.088166   \n",
      "50%                    1.000000e-09      24.070716       7.742283   \n",
      "75%                    1.000000e-09      62.921131      15.231078   \n",
      "max                    2.739663e+04   20084.008179    1822.220733   \n",
      "\n",
      "       Bot Cluster ID  \n",
      "count   194018.000000  \n",
      "mean        22.094718  \n",
      "std         13.470371  \n",
      "min          1.000000  \n",
      "25%         18.000000  \n",
      "50%         20.000000  \n",
      "75%         32.000000  \n",
      "max         98.000000  \n",
      "# of insertion:  196691\n"
     ]
    }
   ],
   "source": [
    "import pandas as pd\n",
    "\n",
    "df_insertion = pd.read_csv ('../data/insertion_attacks.csv')\n",
    "print(df_insertion.describe())\n",
    "print('# of insertion: ', len(df_insertion))"
   ]
  },
  {
   "cell_type": "code",
   "outputs": [
    {
     "name": "stdout",
     "output_type": "stream",
     "text": [
      "               Cost         Profit     Rounds    Blocks  Transactions\n",
      "count     50.000000      50.000000  50.000000   50.0000     50.000000\n",
      "mean    2349.651629   20725.235617   6.620000   29.7000    182.700000\n",
      "std     3331.210711  113598.580242  12.863316   50.7721    456.908567\n",
      "min        4.667298  -10741.119731   1.000000    2.0000      6.000000\n",
      "25%      221.871667   -1893.262302   1.000000    4.0000     12.500000\n",
      "50%      896.681002    -284.811519   2.000000   10.0000     33.500000\n",
      "75%     2719.694211     -14.930519   4.750000   21.5000     88.750000\n",
      "max    10741.119731  791211.860156  66.000000  233.0000   2664.000000\n",
      "# of suppression:  50\n"
     ]
    }
   ],
   "source": [
    "df_suppression = pd.read_csv('../data/suppression_attacks.csv')\n",
    "print(df_suppression.describe())\n",
    "print('# of suppression: ', len(df_suppression))"
   ],
   "metadata": {
    "collapsed": false,
    "ExecuteTime": {
     "end_time": "2024-03-29T16:54:59.208171Z",
     "start_time": "2024-03-29T16:54:59.183612Z"
    }
   },
   "id": "447f122043a76e60",
   "execution_count": 8
  },
  {
   "cell_type": "code",
   "outputs": [
    {
     "name": "stdout",
     "output_type": "stream",
     "text": [
      "       Attack Block  Attack Gas Price  Victim Block  Victim Gas Price  \\\n",
      "count  2.983000e+03       2983.000000  2.983000e+03       2983.000000   \n",
      "mean   1.049541e+07         93.829541  1.049541e+07         93.403986   \n",
      "std    5.492283e+05        119.300167  5.492281e+05        119.449803   \n",
      "min    1.929171e+06          1.000001  1.929189e+06          1.000000   \n",
      "25%    1.050137e+07         50.000000  1.050137e+07         50.000000   \n",
      "50%    1.064846e+07         78.200000  1.064846e+07         78.000000   \n",
      "75%    1.071856e+07        109.000000  1.071856e+07        109.000000   \n",
      "max    1.128822e+07       5074.344970  1.128822e+07       5074.344968   \n",
      "\n",
      "              Cost         Profit  Bot Cluster ID  Gas Price Delta  \\\n",
      "count  2983.000000    2983.000000     2983.000000     2.983000e+03   \n",
      "mean     14.276431    1537.992495       10.101576     4.255546e-01   \n",
      "std      18.249426    7162.800618        1.940101     2.648619e+00   \n",
      "min       0.011060       0.001210        1.000000     9.999894e-10   \n",
      "25%       4.363399       1.135674       11.000000     9.999965e-10   \n",
      "50%       9.478518     158.529868       11.000000     1.000000e-09   \n",
      "75%      16.641964     851.042905       11.000000     1.000004e-09   \n",
      "max     311.692110  223150.011984       17.000000     5.290000e+01   \n",
      "\n",
      "       Block Delta  \n",
      "count  2983.000000  \n",
      "mean      0.784780  \n",
      "std       2.373551  \n",
      "min       0.000000  \n",
      "25%       0.000000  \n",
      "50%       0.000000  \n",
      "75%       0.000000  \n",
      "max      19.000000  \n",
      "# of displacement:  2983\n"
     ]
    }
   ],
   "source": [
    "df_displacement = pd.read_csv('../data/displacement_attacks.csv')\n",
    "print(df_displacement.describe())\n",
    "print('# of displacement: ', len(df_displacement))"
   ],
   "metadata": {
    "collapsed": false,
    "ExecuteTime": {
     "end_time": "2024-03-29T16:55:29.542182Z",
     "start_time": "2024-03-29T16:55:29.508957Z"
    }
   },
   "id": "36d5bdfa79d1feff",
   "execution_count": 9
  },
  {
   "cell_type": "code",
   "outputs": [],
   "source": [],
   "metadata": {
    "collapsed": false
   },
   "id": "40d3edc3bb97818c"
  }
 ],
 "metadata": {
  "kernelspec": {
   "display_name": "Python 3",
   "language": "python",
   "name": "python3"
  },
  "language_info": {
   "codemirror_mode": {
    "name": "ipython",
    "version": 2
   },
   "file_extension": ".py",
   "mimetype": "text/x-python",
   "name": "python",
   "nbconvert_exporter": "python",
   "pygments_lexer": "ipython2",
   "version": "2.7.6"
  }
 },
 "nbformat": 4,
 "nbformat_minor": 5
}
