{
 "cells": [
  {
   "metadata": {},
   "cell_type": "markdown",
   "source": "### Feature Extraction into CSV Files\n",
   "id": "a85210a766d010cc"
  },
  {
   "metadata": {},
   "cell_type": "markdown",
   "source": "Import functions from Jupyter Notebook: prepare-insertion-attack-features.ipynb",
   "id": "39eb66057f11ce60"
  },
  {
   "metadata": {
    "ExecuteTime": {
     "end_time": "2024-05-27T18:04:48.698984Z",
     "start_time": "2024-05-27T18:04:47.985965Z"
    }
   },
   "cell_type": "code",
   "source": "%run prepare-insertion-attack-features.ipynb",
   "id": "45f252f8def8def",
   "outputs": [
    {
     "name": "stdout",
     "output_type": "stream",
     "text": [
      "True\n",
      "# of insertion:  196691\n"
     ]
    }
   ],
   "execution_count": 4
  },
  {
   "metadata": {},
   "cell_type": "markdown",
   "source": "**Feature Extraction First Attacker**\n",
   "id": "cf7a7c06504be78d"
  },
  {
   "metadata": {
    "ExecuteTime": {
     "end_time": "2024-05-27T15:49:49.457214Z",
     "start_time": "2024-05-26T11:34:17.415498Z"
    }
   },
   "cell_type": "code",
   "source": [
    "nr_of_entries = 20000\n",
    "file_name_first_atk = '../data/insertion_atks_first_atk.csv'\n",
    "\n",
    "feature_insertion_first_atk_df = extract_n_entries_insertion_attack(csv_column=\"First Attacker\", nr_of_entries=nr_of_entries)\n",
    "feature_insertion_first_atk_df.to_csv(file_name_first_atk, index=False)"
   ],
   "id": "1002e6830e2f5f99",
   "outputs": [
    {
     "name": "stderr",
     "output_type": "stream",
     "text": [
      "20000it [28:15:31,  5.09s/it]\n"
     ]
    }
   ],
   "execution_count": 10
  },
  {
   "metadata": {},
   "cell_type": "markdown",
   "source": "**Feature Extraction Second Attacker**\n",
   "id": "a38115efed2518de"
  },
  {
   "metadata": {
    "ExecuteTime": {
     "end_time": "2024-05-27T15:49:49.473563Z",
     "start_time": "2024-05-27T15:49:49.462282Z"
    }
   },
   "cell_type": "code",
   "source": [
    "nr_of_entries = 10000\n",
    "file_name_second_atk = '../data/insertion_atks_second_atk.csv'\n",
    "\n",
    "#feature_insertion_second_atk_df = extract_n_entries_insertion_attack(csv_column=\"Second Attacker\", nr_of_entries=nr_of_entries)\n",
    "#feature_insertion_second_atk_df.to_csv(file_name_second_atk, index=False)"
   ],
   "id": "1b1b64f7401b1763",
   "outputs": [],
   "execution_count": 11
  },
  {
   "metadata": {},
   "cell_type": "markdown",
   "source": "**Feature Extraction Randomly Sampled Transactions**",
   "id": "a1c9c21acb8e1454"
  },
  {
   "metadata": {
    "jupyter": {
     "is_executing": true
    },
    "ExecuteTime": {
     "start_time": "2024-05-27T18:04:53.289292Z"
    }
   },
   "cell_type": "code",
   "source": [
    "nr_of_entries = 20000\n",
    "file_name_random_transactions = '../data/random_sampled_transactions.csv'\n",
    "\n",
    "feature_random_transactions_df = sample_random_transaction(nr_of_entries)\n",
    "feature_random_transactions_df.to_csv(file_name_random_transactions, index=False)"
   ],
   "id": "2d2ead14122725e5",
   "outputs": [
    {
     "name": "stderr",
     "output_type": "stream",
     "text": [
      "  0%|          | 21/19998 [01:28<23:50:10,  4.30s/it]"
     ]
    }
   ],
   "execution_count": null
  },
  {
   "metadata": {
    "ExecuteTime": {
     "end_time": "2024-05-27T15:49:54.871939Z",
     "start_time": "2024-05-27T15:49:54.870904Z"
    }
   },
   "cell_type": "code",
   "source": "",
   "id": "b42a3431669556ba",
   "outputs": [],
   "execution_count": null
  }
 ],
 "metadata": {
  "kernelspec": {
   "display_name": "Python 3 (ipykernel)",
   "language": "python",
   "name": "python3"
  },
  "language_info": {
   "codemirror_mode": {
    "name": "ipython",
    "version": 2
   },
   "file_extension": ".py",
   "mimetype": "text/x-python",
   "name": "python",
   "nbconvert_exporter": "python",
   "pygments_lexer": "ipython2",
   "version": "2.7.6"
  }
 },
 "nbformat": 4,
 "nbformat_minor": 5
}
