{
 "cells": [
  {
   "metadata": {},
   "cell_type": "markdown",
   "source": "### Feature Extraction into CSV Files\n",
   "id": "a85210a766d010cc"
  },
  {
   "metadata": {},
   "cell_type": "markdown",
   "source": "Import functions from Jupyter Notebook: prepare-insertion-attack-features.ipynb",
   "id": "39eb66057f11ce60"
  },
  {
   "metadata": {
    "ExecuteTime": {
     "end_time": "2024-04-18T14:37:08.741439Z",
     "start_time": "2024-04-18T14:37:07.050088Z"
    }
   },
   "cell_type": "code",
   "source": "%run prepare-insertion-attack-features.ipynb",
   "id": "45f252f8def8def",
   "outputs": [
    {
     "name": "stdout",
     "output_type": "stream",
     "text": [
      "True\n",
      "# of insertion:  196691\n"
     ]
    }
   ],
   "execution_count": 8
  },
  {
   "metadata": {},
   "cell_type": "markdown",
   "source": "**Feature Extraction First Attacker**\n",
   "id": "cf7a7c06504be78d"
  },
  {
   "metadata": {
    "ExecuteTime": {
     "end_time": "2024-04-18T14:39:10.692585Z",
     "start_time": "2024-04-18T14:37:08.746262Z"
    }
   },
   "cell_type": "code",
   "source": [
    "nr_of_entries = 10\n",
    "file_name_first_atk = '../data/insertion_atks_first_atk.csv'\n",
    "\n",
    "feature_insertion_first_atk_df = extract_n_entries_insertion_attack(csv_column=\"First Attacker\", nr_of_entries=nr_of_entries)\n",
    "feature_insertion_first_atk_df.to_csv(file_name_first_atk, index=False)"
   ],
   "id": "1002e6830e2f5f99",
   "outputs": [
    {
     "name": "stderr",
     "output_type": "stream",
     "text": [
      "10it [02:01, 12.19s/it]\n"
     ]
    }
   ],
   "execution_count": 9
  },
  {
   "metadata": {},
   "cell_type": "markdown",
   "source": "**Feature Extraction Second Attacker**\n",
   "id": "a38115efed2518de"
  },
  {
   "metadata": {
    "ExecuteTime": {
     "end_time": "2024-04-18T14:41:08.381269Z",
     "start_time": "2024-04-18T14:39:10.694679Z"
    }
   },
   "cell_type": "code",
   "source": [
    "nr_of_entries = 10\n",
    "file_name_second_atk = '../data/insertion_atks_second_atk.csv'\n",
    "\n",
    "feature_insertion_second_atk_df = extract_n_entries_insertion_attack(csv_column=\"Second Attacker\", nr_of_entries=nr_of_entries)\n",
    "feature_insertion_second_atk_df.to_csv(file_name_second_atk, index=False)"
   ],
   "id": "1b1b64f7401b1763",
   "outputs": [
    {
     "name": "stderr",
     "output_type": "stream",
     "text": [
      "10it [01:57, 11.77s/it]\n"
     ]
    }
   ],
   "execution_count": 10
  },
  {
   "metadata": {},
   "cell_type": "markdown",
   "source": "**Feature Extraction Randomly Sampled Transactions**",
   "id": "a1c9c21acb8e1454"
  },
  {
   "metadata": {
    "ExecuteTime": {
     "end_time": "2024-04-18T14:42:42.650507Z",
     "start_time": "2024-04-18T14:41:08.383650Z"
    }
   },
   "cell_type": "code",
   "source": [
    "nr_of_entries = 10\n",
    "file_name_random_transactions = '../data/random_sampled_transactions.csv'\n",
    "\n",
    "feature_random_transactions_df = sample_random_transaction(nr_of_entries)\n",
    "feature_random_transactions_df.to_csv(file_name_random_transactions, index=False)"
   ],
   "id": "2d2ead14122725e5",
   "outputs": [
    {
     "name": "stderr",
     "output_type": "stream",
     "text": [
      "100%|██████████| 9/9 [01:34<00:00, 10.47s/it]\n"
     ]
    }
   ],
   "execution_count": 11
  }
 ],
 "metadata": {
  "kernelspec": {
   "display_name": "frontrunning-attacks",
   "language": "python",
   "name": "frontrunning-attacks"
  },
  "language_info": {
   "codemirror_mode": {
    "name": "ipython",
    "version": 2
   },
   "file_extension": ".py",
   "mimetype": "text/x-python",
   "name": "python",
   "nbconvert_exporter": "python",
   "pygments_lexer": "ipython2",
   "version": "2.7.6"
  }
 },
 "nbformat": 4,
 "nbformat_minor": 5
}
