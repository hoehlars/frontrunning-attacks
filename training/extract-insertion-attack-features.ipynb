{
 "cells": [
  {
   "metadata": {},
   "cell_type": "markdown",
   "source": "### Feature Extraction into CSV Files\n",
   "id": "a85210a766d010cc"
  },
  {
   "metadata": {},
   "cell_type": "markdown",
   "source": "Import functions from Jupyter Notebook: prepare-insertion-attack-features.ipynb",
   "id": "39eb66057f11ce60"
  },
  {
   "metadata": {
    "ExecuteTime": {
     "end_time": "2024-05-02T10:28:09.663036Z",
     "start_time": "2024-05-02T10:28:08.896840Z"
    }
   },
   "cell_type": "code",
   "source": "%run prepare-insertion-attack-features.ipynb",
   "id": "45f252f8def8def",
   "execution_count": 23,
   "outputs": []
  },
  {
   "metadata": {},
   "cell_type": "markdown",
   "source": "**Feature Extraction First Attacker**\n",
   "id": "cf7a7c06504be78d"
  },
  {
   "metadata": {
    "ExecuteTime": {
     "end_time": "2024-05-02T10:28:09.677987Z",
     "start_time": "2024-05-02T10:28:09.666027Z"
    }
   },
   "cell_type": "code",
   "source": "",
   "id": "bd1fb1b63cb69a96",
   "execution_count": 23,
   "outputs": []
  },
  {
   "metadata": {
    "ExecuteTime": {
     "end_time": "2024-05-02T16:16:29.678927Z",
     "start_time": "2024-05-02T10:28:09.680008Z"
    }
   },
   "cell_type": "code",
   "source": [
    "nr_of_entries = 5000\n",
    "file_name_first_atk = '../data/insertion_atks_first_atk.csv'\n",
    "\n",
    "feature_insertion_first_atk_df = extract_n_entries_insertion_attack(csv_column=\"First Attacker\", nr_of_entries=nr_of_entries)\n",
    "feature_insertion_first_atk_df.to_csv(file_name_first_atk, index=False)"
   ],
   "id": "1002e6830e2f5f99",
   "execution_count": 24,
   "outputs": []
  },
  {
   "metadata": {},
   "cell_type": "markdown",
   "source": "**Feature Extraction Second Attacker**\n",
   "id": "a38115efed2518de"
  },
  {
   "metadata": {
    "ExecuteTime": {
     "end_time": "2024-05-02T21:57:46.178579Z",
     "start_time": "2024-05-02T16:16:29.685494Z"
    }
   },
   "cell_type": "code",
   "source": [
    "nr_of_entries = 5000\n",
    "file_name_second_atk = '../data/insertion_atks_second_atk.csv'\n",
    "\n",
    "feature_insertion_second_atk_df = extract_n_entries_insertion_attack(csv_column=\"Second Attacker\", nr_of_entries=nr_of_entries)\n",
    "feature_insertion_second_atk_df.to_csv(file_name_second_atk, index=False)"
   ],
   "id": "1b1b64f7401b1763",
   "execution_count": 25,
   "outputs": []
  },
  {
   "metadata": {},
   "cell_type": "markdown",
   "source": "**Feature Extraction Randomly Sampled Transactions**",
   "id": "a1c9c21acb8e1454"
  },
  {
   "metadata": {
    "ExecuteTime": {
     "end_time": "2024-05-04T04:46:24.537317Z",
     "start_time": "2024-05-03T13:43:11.134609Z"
    }
   },
   "cell_type": "code",
   "source": [
    "nr_of_entries = 10000\n",
    "file_name_random_transactions = '../data/random_sampled_transactions.csv'\n",
    "\n",
    "feature_random_transactions_df = sample_random_transaction(nr_of_entries)\n",
    "feature_random_transactions_df.to_csv(file_name_random_transactions, index=False)"
   ],
   "id": "2d2ead14122725e5",
   "execution_count": 27,
   "outputs": []
  },
  {
   "metadata": {},
   "cell_type": "code",
   "execution_count": null,
   "source": "",
   "id": "b42a3431669556ba",
   "outputs": []
  }
 ],
 "metadata": {
  "kernelspec": {
   "display_name": "frontrunning-attacks",
   "language": "python",
   "name": "frontrunning-attacks"
  },
  "language_info": {
   "codemirror_mode": {
    "name": "ipython",
    "version": 2
   },
   "file_extension": ".py",
   "mimetype": "text/x-python",
   "name": "python",
   "nbconvert_exporter": "python",
   "pygments_lexer": "ipython2",
   "version": "2.7.6"
  }
 },
 "nbformat": 4,
 "nbformat_minor": 5
}
