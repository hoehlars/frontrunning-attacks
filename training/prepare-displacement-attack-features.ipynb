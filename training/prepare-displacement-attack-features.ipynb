{
 "cells": [
  {
   "cell_type": "markdown",
   "source": [
    "## Features needed for training\n",
    "1. Gas Price of the Transaction\n",
    "2. Mean Gas Price of Transactions in the Last 10 Blocks\n",
    "3.  Standard Deviation of Gas Price of Transactions in the\n",
    "Last Ten Blocks\n",
    "4. Mean Gas Price of Transactions by the same EOA\n",
    "5. Standard Deviation of Gas Price in Transactions by the\n",
    "same EOA\n",
    "6. Usage of Gas Tokens\n",
    "7. Predicted Gas Price"
   ],
   "metadata": {
    "collapsed": false
   },
   "id": "a630be665b11f3d3"
  },
  {
   "cell_type": "code",
   "outputs": [
    {
     "name": "stdout",
     "output_type": "stream",
     "text": [
      "       Attack Block  Attack Gas Price  Victim Block  Victim Gas Price  \\\n",
      "count  2.983000e+03       2983.000000  2.983000e+03       2983.000000   \n",
      "mean   1.049541e+07         93.829541  1.049541e+07         93.403986   \n",
      "std    5.492283e+05        119.300167  5.492281e+05        119.449803   \n",
      "min    1.929171e+06          1.000001  1.929189e+06          1.000000   \n",
      "25%    1.050137e+07         50.000000  1.050137e+07         50.000000   \n",
      "50%    1.064846e+07         78.200000  1.064846e+07         78.000000   \n",
      "75%    1.071856e+07        109.000000  1.071856e+07        109.000000   \n",
      "max    1.128822e+07       5074.344970  1.128822e+07       5074.344968   \n",
      "\n",
      "              Cost         Profit  Bot Cluster ID  Gas Price Delta  \\\n",
      "count  2983.000000    2983.000000     2983.000000     2.983000e+03   \n",
      "mean     14.276431    1537.992495       10.101576     4.255546e-01   \n",
      "std      18.249426    7162.800618        1.940101     2.648619e+00   \n",
      "min       0.011060       0.001210        1.000000     9.999894e-10   \n",
      "25%       4.363399       1.135674       11.000000     9.999965e-10   \n",
      "50%       9.478518     158.529868       11.000000     1.000000e-09   \n",
      "75%      16.641964     851.042905       11.000000     1.000004e-09   \n",
      "max     311.692110  223150.011984       17.000000     5.290000e+01   \n",
      "\n",
      "       Block Delta  \n",
      "count  2983.000000  \n",
      "mean      0.784780  \n",
      "std       2.373551  \n",
      "min       0.000000  \n",
      "25%       0.000000  \n",
      "50%       0.000000  \n",
      "75%       0.000000  \n",
      "max      19.000000  \n",
      "# of displacement:  2983\n"
     ]
    }
   ],
   "source": [
    "import pandas as pd\n",
    "\n",
    "df_displacement = pd.read_csv('../data/displacement_attacks.csv')\n",
    "print(df_displacement.describe())\n",
    "print('# of displacement: ', len(df_displacement))"
   ],
   "metadata": {
    "collapsed": false,
    "ExecuteTime": {
     "end_time": "2024-03-31T12:40:17.607281Z",
     "start_time": "2024-03-31T12:40:16.254634Z"
    }
   },
   "id": "258a3103d6192eb7",
   "execution_count": 1
  },
  {
   "cell_type": "code",
   "outputs": [],
   "source": [],
   "metadata": {
    "collapsed": false
   },
   "id": "edda2c00789d8d4c"
  }
 ],
 "metadata": {
  "kernelspec": {
   "display_name": "Python 3",
   "language": "python",
   "name": "python3"
  },
  "language_info": {
   "codemirror_mode": {
    "name": "ipython",
    "version": 2
   },
   "file_extension": ".py",
   "mimetype": "text/x-python",
   "name": "python",
   "nbconvert_exporter": "python",
   "pygments_lexer": "ipython2",
   "version": "2.7.6"
  }
 },
 "nbformat": 4,
 "nbformat_minor": 5
}
