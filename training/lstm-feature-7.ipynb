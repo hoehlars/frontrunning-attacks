{
 "cells": [
  {
   "cell_type": "code",
   "id": "initial_id",
   "metadata": {
    "collapsed": true,
    "ExecuteTime": {
     "end_time": "2024-04-18T13:01:57.088841Z",
     "start_time": "2024-04-18T13:01:53.527186Z"
    }
   },
   "source": [
    "from web3 import Web3\n",
    "import pandas as pd\n",
    "import numpy as np\n",
    "import torch.optim as optim\n",
    "import torch.utils.data as data\n",
    "import matplotlib.pyplot as plt\n",
    "import torch"
   ],
   "outputs": [],
   "execution_count": 1
  },
  {
   "cell_type": "code",
   "source": [
    "web3 = Web3(Web3.HTTPProvider(\"https://intensive-sly-mountain.quiknode.pro/a3f5256d7f2af6541d483cce3f1d49c94c01879e/\"))\n",
    "print(web3.is_connected())"
   ],
   "metadata": {
    "collapsed": false,
    "ExecuteTime": {
     "end_time": "2024-04-18T13:01:58.508738Z",
     "start_time": "2024-04-18T13:01:58.270924Z"
    }
   },
   "id": "22c581ef6ecd3686",
   "outputs": [
    {
     "name": "stdout",
     "output_type": "stream",
     "text": [
      "True\n"
     ]
    }
   ],
   "execution_count": 2
  },
  {
   "cell_type": "code",
   "source": [
    "df_insertion = pd.read_csv ('../data/insertion_attacks.csv', delimiter=',')\n",
    "print('# of insertion: ', len(df_insertion))"
   ],
   "metadata": {
    "collapsed": false,
    "ExecuteTime": {
     "end_time": "2024-04-18T13:02:00.825860Z",
     "start_time": "2024-04-18T13:01:59.750634Z"
    }
   },
   "id": "9d62e91a543e5f19",
   "outputs": [
    {
     "name": "stdout",
     "output_type": "stream",
     "text": [
      "# of insertion:  196691\n"
     ]
    }
   ],
   "execution_count": 3
  },
  {
   "cell_type": "code",
   "source": [
    "def get_max_block_number() -> int:\n",
    "    return int(df_insertion[\"Block Number\"].max())"
   ],
   "metadata": {
    "collapsed": false,
    "ExecuteTime": {
     "end_time": "2024-04-18T13:02:02.108362Z",
     "start_time": "2024-04-18T13:02:02.103410Z"
    }
   },
   "id": "5296d5ee1ce7f1ab",
   "outputs": [],
   "execution_count": 4
  },
  {
   "cell_type": "code",
   "source": [
    "df_insertion[df_insertion[\"Block Number\"] >= get_max_block_number()]"
   ],
   "metadata": {
    "collapsed": false,
    "ExecuteTime": {
     "end_time": "2024-04-18T13:02:04.171515Z",
     "start_time": "2024-04-18T13:02:04.144351Z"
    }
   },
   "id": "82060e1c1db46d53",
   "outputs": [
    {
     "data": {
      "text/plain": [
       "        Block Number                              First Attacker  \\\n",
       "195114      11299998  0xeD1cAa76a8cb7E671654A6c816a753acE6217BAE   \n",
       "\n",
       "                                             Whale  \\\n",
       "195114  0xf384aa91c1709Ec28b7422A2897E74f2d61036Cd   \n",
       "\n",
       "                                   Second Attacker  \\\n",
       "195114  0xeD1cAa76a8cb7E671654A6c816a753acE6217BAE   \n",
       "\n",
       "        First-Whale Gas Price Delta  Whale-Second Gas Price Delta    Profit  \\\n",
       "195114                     10.09376                           0.0  5.022881   \n",
       "\n",
       "            Cost Interface    Exchange      Token  \\\n",
       "195114  4.400952       bot  Uniswap V2  yfi.group   \n",
       "\n",
       "                                               Bot  Bot Cluster ID  \n",
       "195114  0xEB46faa47A6A52519839A2e52c7b28a2Db17651e            37.0  "
      ],
      "text/html": [
       "<div>\n",
       "<style scoped>\n",
       "    .dataframe tbody tr th:only-of-type {\n",
       "        vertical-align: middle;\n",
       "    }\n",
       "\n",
       "    .dataframe tbody tr th {\n",
       "        vertical-align: top;\n",
       "    }\n",
       "\n",
       "    .dataframe thead th {\n",
       "        text-align: right;\n",
       "    }\n",
       "</style>\n",
       "<table border=\"1\" class=\"dataframe\">\n",
       "  <thead>\n",
       "    <tr style=\"text-align: right;\">\n",
       "      <th></th>\n",
       "      <th>Block Number</th>\n",
       "      <th>First Attacker</th>\n",
       "      <th>Whale</th>\n",
       "      <th>Second Attacker</th>\n",
       "      <th>First-Whale Gas Price Delta</th>\n",
       "      <th>Whale-Second Gas Price Delta</th>\n",
       "      <th>Profit</th>\n",
       "      <th>Cost</th>\n",
       "      <th>Interface</th>\n",
       "      <th>Exchange</th>\n",
       "      <th>Token</th>\n",
       "      <th>Bot</th>\n",
       "      <th>Bot Cluster ID</th>\n",
       "    </tr>\n",
       "  </thead>\n",
       "  <tbody>\n",
       "    <tr>\n",
       "      <th>195114</th>\n",
       "      <td>11299998</td>\n",
       "      <td>0xeD1cAa76a8cb7E671654A6c816a753acE6217BAE</td>\n",
       "      <td>0xf384aa91c1709Ec28b7422A2897E74f2d61036Cd</td>\n",
       "      <td>0xeD1cAa76a8cb7E671654A6c816a753acE6217BAE</td>\n",
       "      <td>10.09376</td>\n",
       "      <td>0.0</td>\n",
       "      <td>5.022881</td>\n",
       "      <td>4.400952</td>\n",
       "      <td>bot</td>\n",
       "      <td>Uniswap V2</td>\n",
       "      <td>yfi.group</td>\n",
       "      <td>0xEB46faa47A6A52519839A2e52c7b28a2Db17651e</td>\n",
       "      <td>37.0</td>\n",
       "    </tr>\n",
       "  </tbody>\n",
       "</table>\n",
       "</div>"
      ]
     },
     "execution_count": 5,
     "metadata": {},
     "output_type": "execute_result"
    }
   ],
   "execution_count": 5
  },
  {
   "metadata": {
    "ExecuteTime": {
     "end_time": "2024-04-18T13:02:07.075933Z",
     "start_time": "2024-04-18T13:02:07.070106Z"
    }
   },
   "cell_type": "code",
   "source": [
    "def convert_from_wei_to_gwei(gas_price_in_wei):\n",
    "    gas_price_in_gwei = float(web3.from_wei(gas_price_in_wei, \"gwei\"))\n",
    "    return gas_price_in_gwei"
   ],
   "id": "26c4c31c4e46e6b3",
   "outputs": [],
   "execution_count": 6
  },
  {
   "cell_type": "code",
   "source": [
    "def get_gas_prices_from_last_100_blocks(web3: Web3) -> list[int]:\n",
    "    \n",
    "    highest_block = get_max_block_number()    \n",
    "    \n",
    "    gas_prices = []\n",
    "    for i in range(100):\n",
    "        block = web3.eth.get_block(highest_block - i, full_transactions=True)\n",
    "        \n",
    "        for transaction in block.transactions:\n",
    "            gas_prices.append(convert_from_wei_to_gwei(transaction[\"gasPrice\"]))\n",
    "        \n",
    "    return gas_prices"
   ],
   "metadata": {
    "collapsed": false,
    "ExecuteTime": {
     "end_time": "2024-04-18T13:02:08.977084Z",
     "start_time": "2024-04-18T13:02:08.970763Z"
    }
   },
   "id": "a125b89ee5793d8f",
   "outputs": [],
   "execution_count": 7
  },
  {
   "cell_type": "code",
   "source": [
    "gas_prices_last_100_blocks = get_gas_prices_from_last_100_blocks(web3)"
   ],
   "metadata": {
    "collapsed": false,
    "ExecuteTime": {
     "end_time": "2024-04-18T13:02:44.314616Z",
     "start_time": "2024-04-18T13:02:10.481078Z"
    }
   },
   "id": "a87b78b514f09c8a",
   "outputs": [],
   "execution_count": 8
  },
  {
   "cell_type": "code",
   "source": [
    "train_size = int(len(gas_prices_last_100_blocks) * 0.8)\n",
    "\n",
    "train = gas_prices_last_100_blocks[:train_size]\n",
    "test = gas_prices_last_100_blocks[train_size:]\n",
    "\n",
    "mean_train = np.mean(train, axis=0)\n",
    "std_train = np.std(train, axis=0)\n",
    "\n",
    "def standardize(X, mean, std):\n",
    "    return (X - mean) / std\n",
    "\n",
    "# standardize both X_train and X_val\n",
    "train = standardize(train, mean_train, std_train)\n",
    "test = standardize(test, mean_train, std_train)"
   ],
   "metadata": {
    "collapsed": false,
    "ExecuteTime": {
     "end_time": "2024-04-18T13:03:51.224526Z",
     "start_time": "2024-04-18T13:03:51.212346Z"
    }
   },
   "id": "1688166e55b5ed9f",
   "outputs": [],
   "execution_count": 9
  },
  {
   "cell_type": "code",
   "source": [
    "def create_dataset(dataset, lookback):\n",
    "    X, y = [], []\n",
    "    for i in range(len(dataset)-lookback-1):\n",
    "        feature = dataset[i:i+lookback]\n",
    "        target = dataset[i+lookback + 1]\n",
    "        X.append(feature)\n",
    "        y.append(target)\n",
    "    return torch.tensor(X).view(len(X), 1, lookback).type(torch.float32), torch.tensor(y).view(len(y), 1).type(torch.float32)\n",
    "\n",
    "lookback = 15\n",
    "X_train, y_train = create_dataset(train, lookback)\n",
    "X_test, y_test = create_dataset(test, lookback)\n",
    "\n",
    "print(X_train.shape, y_train.shape)\n",
    "print(X_test.shape, y_test.shape)"
   ],
   "metadata": {
    "collapsed": false,
    "ExecuteTime": {
     "end_time": "2024-04-18T13:04:46.282961Z",
     "start_time": "2024-04-18T13:04:46.116747Z"
    }
   },
   "id": "6ad7f0f85590f995",
   "outputs": [
    {
     "name": "stdout",
     "output_type": "stream",
     "text": [
      "torch.Size([14023, 1, 15]) torch.Size([14023, 1])\n",
      "torch.Size([3494, 1, 15]) torch.Size([3494, 1])\n"
     ]
    }
   ],
   "execution_count": 13
  },
  {
   "cell_type": "code",
   "source": [
    "# source https://machinelearningmastery.com/lstm-for-time-series-prediction-in-pytorch/\n",
    "class LSTM(torch.nn.Module):\n",
    "    def __init__(self, input_size, hidden_size, num_layers, output_size):\n",
    "        super(LSTM, self).__init__()\n",
    "        self.hidden_size = hidden_size\n",
    "        self.num_layers = num_layers\n",
    "        self.lstm = torch.nn.LSTM(input_size, hidden_size, num_layers, batch_first=True)\n",
    "        self.fully_connected = torch.nn.Linear(hidden_size, output_size)\n",
    "        \n",
    "    def forward(self, x):\n",
    "        h0 = torch.zeros(self.num_layers, x.size(0), self.hidden_size)\n",
    "        c0 = torch.zeros(self.num_layers, x.size(0), self.hidden_size)\n",
    "        \n",
    "        out, _ = self.lstm(x, (h0, c0))\n",
    "        return  self.fully_connected(out[:, -1, :])"
   ],
   "metadata": {
    "collapsed": false,
    "ExecuteTime": {
     "end_time": "2024-04-18T13:04:50.194257Z",
     "start_time": "2024-04-18T13:04:50.186020Z"
    }
   },
   "id": "32d761734434d48f",
   "outputs": [],
   "execution_count": 14
  },
  {
   "cell_type": "code",
   "source": [
    "# define parameters\n",
    "epochs = 100\n",
    "nr_input_features = lookback\n",
    "hidden_neurons = 100\n",
    "hidden_layer = 1\n",
    "output = 1\n",
    "learning_rate = 0.001\n",
    "momentum = 0.9\n",
    "batch_size = 100\n",
    "\n",
    "model = LSTM(nr_input_features, hidden_neurons, hidden_layer, output)\n",
    "optimizer = optim.SGD(model.parameters(), lr=learning_rate, momentum=momentum)\n",
    "loss_fn = torch.nn.MSELoss()\n",
    "\n",
    "loader = data.DataLoader(data.TensorDataset(X_train, y_train), shuffle=True, batch_size=batch_size)\n",
    "\n",
    "train_mse_loss = []\n",
    "test_mse_loss = []\n",
    "\n",
    "for epoch in range(epochs):\n",
    "    model.train()\n",
    "    for X_batch, y_batch in loader:\n",
    "        y_pred = model(X_batch)\n",
    "        loss = loss_fn(y_pred, y_batch)\n",
    "        optimizer.zero_grad()\n",
    "        loss.backward()\n",
    "        optimizer.step()\n",
    "    # Validation\n",
    "    if epoch % 10 != 0:\n",
    "        continue\n",
    "    model.eval()\n",
    "    with torch.no_grad():\n",
    "        y_pred = model(X_train)\n",
    "        train_mse = loss_fn(y_pred, y_train)\n",
    "        train_mse_loss.append(train_mse.item())\n",
    "        y_pred = model(X_test)\n",
    "        test_mse = loss_fn(y_pred, y_test)\n",
    "        test_mse_loss.append(test_mse.item())\n",
    "    print(\"Epoch %d: train MSE %.4f, test MSE %.4f\" % (epoch, train_mse, test_mse))"
   ],
   "metadata": {
    "collapsed": false,
    "ExecuteTime": {
     "end_time": "2024-04-18T13:08:06.744551Z",
     "start_time": "2024-04-18T13:04:57.276422Z"
    }
   },
   "id": "63fdb103dca81f43",
   "outputs": [
    {
     "name": "stdout",
     "output_type": "stream",
     "text": [
      "Epoch 0: train MSE 0.8988, test MSE 0.4804\n",
      "Epoch 10: train MSE 0.7112, test MSE 0.3289\n",
      "Epoch 20: train MSE 0.6983, test MSE 0.3245\n",
      "Epoch 30: train MSE 0.6938, test MSE 0.3240\n",
      "Epoch 40: train MSE 0.6914, test MSE 0.3242\n",
      "Epoch 50: train MSE 0.6896, test MSE 0.3242\n",
      "Epoch 60: train MSE 0.6880, test MSE 0.3237\n",
      "Epoch 70: train MSE 0.6866, test MSE 0.3233\n",
      "Epoch 80: train MSE 0.6855, test MSE 0.3234\n",
      "Epoch 90: train MSE 0.6846, test MSE 0.3234\n"
     ]
    }
   ],
   "execution_count": 15
  },
  {
   "cell_type": "code",
   "source": [
    "plt.plot(train_mse_loss, \"g-\", label=\"Train MSE loss\")\n",
    "plt.plot(test_mse_loss, \"b-\", label=\"Test MSE loss\")\n",
    "plt.legend()\n",
    "plt.show()"
   ],
   "metadata": {
    "collapsed": false,
    "ExecuteTime": {
     "end_time": "2024-04-18T13:08:13.751738Z",
     "start_time": "2024-04-18T13:08:13.474330Z"
    }
   },
   "id": "3bf4810b3871970a",
   "outputs": [
    {
     "data": {
      "text/plain": [
       "<Figure size 640x480 with 1 Axes>"
      ],
      "image/png": "[encoded data removed]"
     },
     "metadata": {},
     "output_type": "display_data"
    }
   ],
   "execution_count": 16
  },
  {
   "cell_type": "code",
   "source": [
    "with torch.no_grad():\n",
    "    # shift train predictions for plotting\n",
    "    train_plot = np.ones_like(gas_prices_last_100_blocks) * np.nan\n",
    "    y_pred = model(X_train)\n",
    "    y_pred = y_pred[:, -1]\n",
    "    train_plot[lookback:train_size - 1] = model(X_train)[:, -1]\n",
    "    # shift test predictions for plotting\n",
    "    test_plot = np.ones_like(gas_prices_last_100_blocks) * np.nan\n",
    "    test_plot[train_size+lookback:len(gas_prices_last_100_blocks) -1] = model(X_test)[:, -1]"
   ],
   "metadata": {
    "collapsed": false,
    "ExecuteTime": {
     "end_time": "2024-04-18T13:08:17.651200Z",
     "start_time": "2024-04-18T13:08:17.023833Z"
    }
   },
   "id": "c19dbd05b8398761",
   "outputs": [],
   "execution_count": 17
  },
  {
   "cell_type": "code",
   "source": [
    "def transform_before_standardization(X, mean_train, std_train):\n",
    "    return (X * std_train) + mean_train\n",
    "\n",
    "train_plot = transform_before_standardization(train_plot, mean_train, std_train)\n",
    "test_plot = transform_before_standardization(test_plot, mean_train, std_train)\n",
    "\n",
    "plt.plot(gas_prices_last_100_blocks, c='b', label=\"Original gas prices\")\n",
    "plt.plot(train_plot, c='r', label=\"Training data predicted gas prices\")\n",
    "plt.plot(test_plot, c='g', label=\"Test data predicted gas prices\")\n",
    "plt.legend()\n",
    "plt.show()"
   ],
   "metadata": {
    "collapsed": false,
    "ExecuteTime": {
     "end_time": "2024-04-18T13:08:20.882227Z",
     "start_time": "2024-04-18T13:08:20.576715Z"
    }
   },
   "id": "265a31959e4e61a2",
   "outputs": [
    {
     "data": {
      "text/plain": [
       "<Figure size 640x480 with 1 Axes>"
      ],
      "image/png": "[encoded data removed]"
     },
     "metadata": {},
     "output_type": "display_data"
    }
   ],
   "execution_count": 18
  },
  {
   "cell_type": "code",
   "source": [
    "# save model\n",
    "model_scripted = torch.jit.script(model)\n",
    "model_scripted.save('./lstm-feature-7.pt')\n",
    "\n",
    "# save mean and std\n",
    "torch.save(mean_train, 'mean_train.pt')\n",
    "torch.save(std_train, 'std_train.pt')"
   ],
   "metadata": {
    "collapsed": false,
    "ExecuteTime": {
     "end_time": "2024-04-18T13:08:26.186650Z",
     "start_time": "2024-04-18T13:08:25.763328Z"
    }
   },
   "id": "5e1ada076ea6e20c",
   "outputs": [],
   "execution_count": 19
  },
  {
   "cell_type": "code",
   "outputs": [],
   "source": [],
   "metadata": {
    "collapsed": false
   },
   "id": "c49d000f2fa56c5e",
   "execution_count": null
  }
 ],
 "metadata": {
  "kernelspec": {
   "display_name": "frontrunning-attacks",
   "language": "python",
   "name": "frontrunning-attacks"
  },
  "language_info": {
   "codemirror_mode": {
    "name": "ipython",
    "version": 2
   },
   "file_extension": ".py",
   "mimetype": "text/x-python",
   "name": "python",
   "nbconvert_exporter": "python",
   "pygments_lexer": "ipython2",
   "version": "2.7.6"
  }
 },
 "nbformat": 4,
 "nbformat_minor": 5
}
