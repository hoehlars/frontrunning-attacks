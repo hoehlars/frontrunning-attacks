{
 "cells": [
  {
   "cell_type": "code",
   "id": "initial_id",
   "metadata": {
    "collapsed": true,
    "ExecuteTime": {
     "end_time": "2024-05-02T08:06:33.881344Z",
     "start_time": "2024-05-02T08:06:33.817600Z"
    }
   },
   "source": [
    "from web3 import Web3\n",
    "import pandas as pd\n",
    "import numpy as np\n",
    "import torch.optim as optim\n",
    "import torch.utils.data as data\n",
    "import matplotlib.pyplot as plt\n",
    "import torch"
   ],
   "execution_count": 50,
   "outputs": []
  },
  {
   "cell_type": "code",
   "source": [
    "web3 = Web3(Web3.HTTPProvider(\"https://intensive-sly-mountain.quiknode.pro/a3f5256d7f2af6541d483cce3f1d49c94c01879e/\"))\n",
    "print(web3.is_connected())"
   ],
   "metadata": {
    "collapsed": false,
    "ExecuteTime": {
     "end_time": "2024-05-02T08:06:34.192610Z",
     "start_time": "2024-05-02T08:06:33.886336Z"
    }
   },
   "id": "22c581ef6ecd3686",
   "execution_count": 51,
   "outputs": []
  },
  {
   "cell_type": "code",
   "source": [
    "df_insertion = pd.read_csv ('../data/insertion_attacks.csv', delimiter=',')\n",
    "print('# of insertion: ', len(df_insertion))"
   ],
   "metadata": {
    "collapsed": false,
    "ExecuteTime": {
     "end_time": "2024-05-02T08:06:35.088693Z",
     "start_time": "2024-05-02T08:06:34.196335Z"
    }
   },
   "id": "9d62e91a543e5f19",
   "execution_count": 52,
   "outputs": []
  },
  {
   "cell_type": "code",
   "source": [
    "def get_max_block_number() -> int:\n",
    "    return int(df_insertion[\"Block Number\"].max())"
   ],
   "metadata": {
    "collapsed": false,
    "ExecuteTime": {
     "end_time": "2024-05-02T08:06:35.104793Z",
     "start_time": "2024-05-02T08:06:35.092689Z"
    }
   },
   "id": "5296d5ee1ce7f1ab",
   "execution_count": 53,
   "outputs": []
  },
  {
   "cell_type": "code",
   "source": [
    "df_insertion[df_insertion[\"Block Number\"] >= get_max_block_number()]"
   ],
   "metadata": {
    "collapsed": false,
    "ExecuteTime": {
     "end_time": "2024-05-02T08:06:35.136585Z",
     "start_time": "2024-05-02T08:06:35.110605Z"
    }
   },
   "id": "82060e1c1db46d53",
   "execution_count": 54,
   "outputs": []
  },
  {
   "metadata": {
    "ExecuteTime": {
     "end_time": "2024-05-02T08:06:35.152014Z",
     "start_time": "2024-05-02T08:06:35.138979Z"
    }
   },
   "cell_type": "code",
   "source": [
    "def convert_from_wei_to_gwei(gas_price_in_wei):\n",
    "    gas_price_in_gwei = float(web3.from_wei(gas_price_in_wei, \"gwei\"))\n",
    "    return gas_price_in_gwei"
   ],
   "id": "26c4c31c4e46e6b3",
   "execution_count": 55,
   "outputs": []
  },
  {
   "cell_type": "code",
   "source": [
    "def get_gas_prices_from_last_100_blocks(web3: Web3) -> list[int]:\n",
    "    \n",
    "    highest_block = get_max_block_number()    \n",
    "    \n",
    "    gas_prices = []\n",
    "    for i in range(100):\n",
    "        block = web3.eth.get_block(highest_block - i, full_transactions=True)\n",
    "        \n",
    "        for transaction in block.transactions:\n",
    "            gas_prices.append(convert_from_wei_to_gwei(transaction[\"gasPrice\"]))\n",
    "        \n",
    "    return gas_prices"
   ],
   "metadata": {
    "collapsed": false,
    "ExecuteTime": {
     "end_time": "2024-05-02T08:06:35.167475Z",
     "start_time": "2024-05-02T08:06:35.155154Z"
    }
   },
   "id": "a125b89ee5793d8f",
   "execution_count": 56,
   "outputs": []
  },
  {
   "cell_type": "code",
   "source": [
    "gas_prices_last_100_blocks = get_gas_prices_from_last_100_blocks(web3)"
   ],
   "metadata": {
    "collapsed": false,
    "ExecuteTime": {
     "end_time": "2024-05-02T08:06:47.254059Z",
     "start_time": "2024-05-02T08:06:35.170136Z"
    }
   },
   "id": "a87b78b514f09c8a",
   "execution_count": 57,
   "outputs": []
  },
  {
   "cell_type": "code",
   "source": [
    "train_size = int(len(gas_prices_last_100_blocks) * 0.8)\n",
    "\n",
    "train = gas_prices_last_100_blocks[:train_size]\n",
    "test = gas_prices_last_100_blocks[train_size:]\n",
    "\n",
    "mean_train = np.mean(train, axis=0)\n",
    "std_train = np.std(train, axis=0)\n",
    "\n",
    "def standardize(X, mean, std):\n",
    "    return (X - mean) / std\n",
    "\n",
    "# standardize both X_train and X_val\n",
    "train = standardize(train, mean_train, std_train)\n",
    "test = standardize(test, mean_train, std_train)"
   ],
   "metadata": {
    "collapsed": false,
    "ExecuteTime": {
     "end_time": "2024-05-02T08:06:47.286287Z",
     "start_time": "2024-05-02T08:06:47.257640Z"
    }
   },
   "id": "1688166e55b5ed9f",
   "execution_count": 58,
   "outputs": []
  },
  {
   "cell_type": "code",
   "source": [
    "def create_dataset(dataset, lookback):\n",
    "    X, y = [], []\n",
    "    for i in range(len(dataset)-lookback):\n",
    "        feature = dataset[i:i+lookback]\n",
    "        target = dataset[i+lookback]\n",
    "        X.append(feature)\n",
    "        y.append(np.mean(target))\n",
    "    return torch.tensor(X).view(len(X), 1, lookback).type(torch.float32), torch.tensor(y).view(len(y), 1).type(torch.float32)\n",
    "\n",
    "lookback = 15\n",
    "X_train, y_train = create_dataset(train, lookback)\n",
    "X_test, y_test = create_dataset(test, lookback)\n",
    "\n",
    "print(X_train.shape, y_train.shape)\n",
    "print(X_test.shape, y_test.shape)"
   ],
   "metadata": {
    "collapsed": false,
    "ExecuteTime": {
     "end_time": "2024-05-02T08:06:47.458143Z",
     "start_time": "2024-05-02T08:06:47.289337Z"
    }
   },
   "id": "6ad7f0f85590f995",
   "execution_count": 59,
   "outputs": []
  },
  {
   "cell_type": "code",
   "source": [
    "# source https://machinelearningmastery.com/lstm-for-time-series-prediction-in-pytorch/\n",
    "class LSTM(torch.nn.Module):\n",
    "    def __init__(self, input_size, hidden_size, num_layers, output_size):\n",
    "        super(LSTM, self).__init__()\n",
    "        self.hidden_size = hidden_size\n",
    "        self.num_layers = num_layers\n",
    "        self.lstm = torch.nn.LSTM(input_size, hidden_size, num_layers, batch_first=True)\n",
    "        self.fully_connected = torch.nn.Linear(hidden_size, output_size)\n",
    "        \n",
    "    def forward(self, x):\n",
    "        h0 = torch.zeros(self.num_layers, x.size(0), self.hidden_size)\n",
    "        c0 = torch.zeros(self.num_layers, x.size(0), self.hidden_size)\n",
    "        \n",
    "        out, _ = self.lstm(x, (h0, c0))\n",
    "        return  self.fully_connected(out[:, -1, :])"
   ],
   "metadata": {
    "collapsed": false,
    "ExecuteTime": {
     "end_time": "2024-05-02T08:06:47.474138Z",
     "start_time": "2024-05-02T08:06:47.460137Z"
    }
   },
   "id": "32d761734434d48f",
   "execution_count": 60,
   "outputs": []
  },
  {
   "cell_type": "code",
   "source": [
    "# define parameters\n",
    "epochs = 100\n",
    "nr_input_features = lookback\n",
    "hidden_neurons = 100\n",
    "hidden_layer = 1\n",
    "output = 1\n",
    "learning_rate = 0.001\n",
    "momentum = 0.9\n",
    "batch_size = 100\n",
    "\n",
    "model = LSTM(nr_input_features, hidden_neurons, hidden_layer, output)\n",
    "optimizer = optim.SGD(model.parameters(), lr=learning_rate, momentum=momentum)\n",
    "loss_fn = torch.nn.MSELoss()\n",
    "\n",
    "loader = data.DataLoader(data.TensorDataset(X_train, y_train), shuffle=True, batch_size=batch_size)\n",
    "\n",
    "train_mse_loss = []\n",
    "test_mse_loss = []\n",
    "\n",
    "for epoch in range(epochs):\n",
    "    model.train()\n",
    "    for X_batch, y_batch in loader:\n",
    "        y_pred = model(X_batch)\n",
    "        loss = loss_fn(y_pred, y_batch)\n",
    "        optimizer.zero_grad()\n",
    "        loss.backward()\n",
    "        optimizer.step()\n",
    "    # Validation\n",
    "    if epoch % 10 != 0:\n",
    "        continue\n",
    "    model.eval()\n",
    "    with torch.no_grad():\n",
    "        y_pred = model(X_train)\n",
    "        train_mse = loss_fn(y_pred, y_train)\n",
    "        train_mse_loss.append(train_mse.item())\n",
    "        y_pred = model(X_test)\n",
    "        test_mse = loss_fn(y_pred, y_test)\n",
    "        test_mse_loss.append(test_mse.item())\n",
    "    print(\"Epoch %d: train MSE %.4f, test MSE %.4f\" % (epoch, train_mse, test_mse))"
   ],
   "metadata": {
    "collapsed": false,
    "ExecuteTime": {
     "end_time": "2024-05-02T08:07:40.896211Z",
     "start_time": "2024-05-02T08:06:47.476482Z"
    }
   },
   "id": "63fdb103dca81f43",
   "execution_count": 61,
   "outputs": []
  },
  {
   "cell_type": "code",
   "source": [
    "plt.plot(train_mse_loss, \"g-\", label=\"Train MSE loss\")\n",
    "plt.plot(test_mse_loss, \"b-\", label=\"Test MSE loss\")\n",
    "plt.legend()\n",
    "plt.show()"
   ],
   "metadata": {
    "collapsed": false,
    "ExecuteTime": {
     "end_time": "2024-05-02T08:07:41.085914Z",
     "start_time": "2024-05-02T08:07:40.898210Z"
    }
   },
   "id": "3bf4810b3871970a",
   "execution_count": 62,
   "outputs": []
  },
  {
   "cell_type": "code",
   "source": [
    "with torch.no_grad():\n",
    "    # shift train predictions for plotting\n",
    "    train_plot = np.ones_like(gas_prices_last_100_blocks) * np.nan\n",
    "    y_pred = model(X_train)\n",
    "    y_pred = y_pred[:, -1]\n",
    "    train_plot[lookback:train_size] = model(X_train)[:, -1]\n",
    "    # shift test predictions for plotting\n",
    "    test_plot = np.ones_like(gas_prices_last_100_blocks) * np.nan\n",
    "    test_plot[train_size+lookback:len(gas_prices_last_100_blocks)] = model(X_test)[:, -1]"
   ],
   "metadata": {
    "collapsed": false,
    "ExecuteTime": {
     "end_time": "2024-05-02T08:07:58.824699Z",
     "start_time": "2024-05-02T08:07:58.743370Z"
    }
   },
   "id": "c19dbd05b8398761",
   "execution_count": 64,
   "outputs": []
  },
  {
   "cell_type": "code",
   "source": [
    "def transform_before_standardization(X, mean_train, std_train):\n",
    "    return (X * std_train) + mean_train\n",
    "\n",
    "train_plot = transform_before_standardization(train_plot, mean_train, std_train)\n",
    "test_plot = transform_before_standardization(test_plot, mean_train, std_train)\n",
    "\n",
    "plt.plot(gas_prices_last_100_blocks, c='b', label=\"Original gas prices\")\n",
    "plt.plot(train_plot, c='r', label=\"Training data predicted gas prices\")\n",
    "plt.plot(test_plot, c='g', label=\"Test data predicted gas prices\")\n",
    "plt.legend()\n",
    "plt.show()"
   ],
   "metadata": {
    "collapsed": false,
    "ExecuteTime": {
     "end_time": "2024-05-02T08:08:00.941498Z",
     "start_time": "2024-05-02T08:08:00.748686Z"
    }
   },
   "id": "265a31959e4e61a2",
   "execution_count": 65,
   "outputs": []
  },
  {
   "cell_type": "code",
   "source": [
    "# save model\n",
    "torch.save(model.state_dict(), './lstm-feature-7-weights.pth')\n",
    "\n",
    "# save mean and std\n",
    "torch.save(mean_train, 'mean_train.pt')\n",
    "torch.save(std_train, 'std_train.pt')"
   ],
   "metadata": {
    "collapsed": false,
    "ExecuteTime": {
     "end_time": "2024-05-02T08:08:02.743265Z",
     "start_time": "2024-05-02T08:08:02.725803Z"
    }
   },
   "id": "5e1ada076ea6e20c",
   "execution_count": 66,
   "outputs": []
  },
  {
   "cell_type": "code",
   "source": [],
   "metadata": {
    "collapsed": false
   },
   "id": "c49d000f2fa56c5e",
   "execution_count": null,
   "outputs": []
  }
 ],
 "metadata": {
  "kernelspec": {
   "display_name": "Python 3 (ipykernel)",
   "language": "python",
   "name": "python3"
  },
  "language_info": {
   "codemirror_mode": {
    "name": "ipython",
    "version": 2
   },
   "file_extension": ".py",
   "mimetype": "text/x-python",
   "name": "python",
   "nbconvert_exporter": "python",
   "pygments_lexer": "ipython2",
   "version": "2.7.6"
  }
 },
 "nbformat": 4,
 "nbformat_minor": 5
}
