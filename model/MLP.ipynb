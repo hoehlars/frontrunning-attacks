{
 "cells": [
  {
   "metadata": {},
   "cell_type": "markdown",
   "source": [
    "### Model Creation - Multi Layer Perceptron\n",
    "Paper:  \n",
    "Sigmoid activation function has been considered in this work\n",
    "as the non-linear transfer function of each neuron. We utilized the\n",
    "Scikit-Learn library [32] in Python to create the model"
   ],
   "id": "49efb62d6d03cc34"
  },
  {
   "metadata": {},
   "cell_type": "markdown",
   "source": "**Imports:**",
   "id": "6111e58ba935f1a6"
  },
  {
   "metadata": {
    "ExecuteTime": {
     "end_time": "2024-04-18T06:33:23.356075Z",
     "start_time": "2024-04-18T06:33:20.600384Z"
    }
   },
   "cell_type": "code",
   "source": [
    "import torch\n",
    "import csv\n",
    "from torch.utils.data import random_split\n",
    "from matplotlib import pyplot\n",
    "import pandas as pd\n",
    "import torch\n",
    "\n"
   ],
   "id": "fc389bab90b9c32f",
   "outputs": [],
   "execution_count": 1
  },
  {
   "metadata": {},
   "cell_type": "markdown",
   "source": "#### Dataset Loading",
   "id": "aeecbc535b43e119"
  },
  {
   "metadata": {
    "ExecuteTime": {
     "end_time": "2024-04-18T06:33:24.495731Z",
     "start_time": "2024-04-18T06:33:24.485023Z"
    }
   },
   "cell_type": "code",
   "source": [
    "def prepare_dataset(dataset_files, delimiter=\";\"):\n",
    "  \n",
    "    dataframes = []\n",
    "    data_path = \"../data/\"\n",
    "    \n",
    "    for file in dataset_files:\n",
    "      df = pd.read_csv(data_path+file, delimiter=delimiter)\n",
    "              \n",
    "      label = 0\n",
    "      if \"atk\" in file:\n",
    "        df.drop(df.columns[0], axis=1, inplace=True) # drop index-column\n",
    "        label = 1\n",
    "      df[\"label\"] = label\n",
    "            \n",
    "      dataframes.append(df)\n",
    "        \n",
    "    concatenated_df = pd.concat(dataframes, axis=0)\n",
    "    concatenated_df.replace({True: 1, False: 0}, inplace=True) # convert boolean to numbers    \n",
    "    concatenated_df.drop(columns=[\"blockNumber\", \"address\"], inplace=True)\n",
    "\n",
    "    # Convert dataframe to torch tensor\n",
    "    data_tensor = torch.tensor(concatenated_df.values, dtype=torch.float)\n",
    "    \n",
    "    # Get the input (data samples) without the target information\n",
    "    X = data_tensor[:, :-1]\n",
    "    \n",
    "    # Get the target information\n",
    "    T = data_tensor[:, -1].unsqueeze(1)\n",
    "\n",
    "    print(\"Features: \", concatenated_df.columns)\n",
    "\n",
    "    print(f\"Loaded dataset with {len(concatenated_df)} samples\")\n",
    "    \n",
    "    return X, T\n"
   ],
   "id": "1247440816defea9",
   "outputs": [],
   "execution_count": 2
  },
  {
   "metadata": {
    "ExecuteTime": {
     "end_time": "2024-04-16T13:02:53.858700Z",
     "start_time": "2024-04-16T13:02:53.791835Z"
    }
   },
   "cell_type": "code",
   "source": [
    "dataset_files = [\"insertion_atks_first_atk_2500.csv\", \"insertion_atks_second_atk_2500.csv\", \"random_sampled_transactions.csv\"]\n",
    "\n",
    "X, T = prepare_dataset(dataset_files, \",\")"
   ],
   "id": "830a623bb25040ba",
   "outputs": [
    {
     "name": "stdout",
     "output_type": "stream",
     "text": [
      "Features:  Index(['gasPrice', 'meanGasPriceLastTenBlocks', 'stdGasPriceLastTenBlocks',\n",
      "       'meanGasPriceLastTenBlocksSameEOA', 'stdGasPriceLastTenBlocksSameEOA',\n",
      "       'usedGasToken', 'predictedGasPrice', 'label'],\n",
      "      dtype='object')\n",
      "Loaded dataset with 9821 samples\n"
     ]
    }
   ],
   "execution_count": 36
  },
  {
   "metadata": {},
   "cell_type": "markdown",
   "source": "#### Split Training and Validation Data",
   "id": "d96433c0a7822be7"
  },
  {
   "metadata": {
    "ExecuteTime": {
     "end_time": "2024-04-18T06:33:29.785720Z",
     "start_time": "2024-04-18T06:33:29.776878Z"
    }
   },
   "cell_type": "code",
   "source": [
    "def split_training_data(X, T, train_percentage=0.8):\n",
    "  \n",
    "  assert len(X) == len(T)\n",
    "  \n",
    "  num_samples = len(X)\n",
    "  \n",
    "  train_size = int(train_percentage * num_samples)\n",
    "  validation_size = num_samples - train_size\n",
    "    \n",
    "  # split into 80/20 training/validation\n",
    "  idx_train, idx_validation = random_split(range(num_samples), [train_size, validation_size])\n",
    "\n",
    "  \n",
    "  X_train = X[idx_train]\n",
    "  T_train = T[idx_train]\n",
    "  X_val = X[idx_validation]\n",
    "  T_val = T[idx_validation]\n",
    "\n",
    "  return X_train, T_train, X_val, T_val"
   ],
   "id": "4922906edc51f2ef",
   "outputs": [],
   "execution_count": 4
  },
  {
   "metadata": {},
   "cell_type": "markdown",
   "source": "#### Input Data Standardization",
   "id": "7ea79b5bf0877476"
  },
  {
   "metadata": {
    "ExecuteTime": {
     "end_time": "2024-04-18T06:33:30.879764Z",
     "start_time": "2024-04-18T06:33:30.872137Z"
    }
   },
   "cell_type": "code",
   "source": [
    "def standardize(X_train, X_val):\n",
    "  # compute statistics\n",
    "  mean = X_train.mean(dim=0)\n",
    "  std = X_train.std(dim=0)\n",
    "\n",
    "  # Check if standard deviation is zero\n",
    "  zero_std_mask = std == 0\n",
    "  \n",
    "  # Standardize both X_train and X_val, excluding columns with zero standard deviation\n",
    "  X_train = (X_train - mean) / std.masked_fill(zero_std_mask, 1)  # Replace zero std with 1 to avoid division by zero\n",
    "  X_val = (X_val - mean) / std.masked_fill(zero_std_mask, 1)\n",
    "\n",
    "  return X_train, X_val"
   ],
   "id": "e0fbb83915b8a0fa",
   "outputs": [],
   "execution_count": 5
  },
  {
   "metadata": {},
   "cell_type": "markdown",
   "source": "### Network Implementation",
   "id": "5cec002f93d523a8"
  },
  {
   "metadata": {},
   "cell_type": "markdown",
   "source": [
    "**Network Architecture**\n",
    "- 1 input layer\n",
    "  - 7 input neurons\n",
    "- 2 hidden layers\n",
    "  - 10 hidden neurons\n",
    "  - 10 hidden neurons\n",
    "- 1 output layer\n",
    "  - 1 output neuron    \n",
    "\n",
    "Using Sigmoid Activation function!"
   ],
   "id": "795c1456fa4fd486"
  },
  {
   "metadata": {
    "ExecuteTime": {
     "end_time": "2024-04-18T06:33:33.277071Z",
     "start_time": "2024-04-18T06:33:33.271466Z"
    }
   },
   "cell_type": "code",
   "source": [
    "def Network(input_layer_size, hidden_layer_size, output_layer_size):\n",
    "    return torch.nn.Sequential(\n",
    "        torch.nn.Linear(input_layer_size, hidden_layer_size),      # Input layer to first hidden layer\n",
    "        torch.nn.Sigmoid(),                                        # Sigmoid activation function for the first hidden layer\n",
    "        torch.nn.Linear(hidden_layer_size, hidden_layer_size),     # First hidden layer to second hidden layer\n",
    "        torch.nn.Sigmoid(),                                        # Sigmoid activation function for the second hidden layer\n",
    "        torch.nn.Linear(hidden_layer_size, output_layer_size)      # Second hidden layer to output layer\n",
    "    )"
   ],
   "id": "226d8c3436cf6cb3",
   "outputs": [],
   "execution_count": 6
  },
  {
   "metadata": {},
   "cell_type": "markdown",
   "source": "**Training Loop**",
   "id": "ae7c594c844cbeb8"
  },
  {
   "metadata": {
    "ExecuteTime": {
     "end_time": "2024-04-18T06:33:35.389665Z",
     "start_time": "2024-04-18T06:33:35.384046Z"
    }
   },
   "cell_type": "code",
   "source": [
    "def accuracy(Z, T):\n",
    "  # binary classification\n",
    "  z_sign = (Z >= 0).int()\n",
    "  return torch.mean((z_sign == T).float())"
   ],
   "id": "8c6aae3540429565",
   "outputs": [],
   "execution_count": 7
  },
  {
   "metadata": {
    "ExecuteTime": {
     "end_time": "2024-04-18T06:33:37.071319Z",
     "start_time": "2024-04-18T06:33:37.060105Z"
    }
   },
   "cell_type": "code",
   "source": [
    "def train(network, loss, X_train, T_train, X_val, T_val, num_epochs=10000, learning_rate=0.1):\n",
    "  \n",
    "  optimizer = torch.optim.SGD(\n",
    "    params=network.parameters(),\n",
    "    lr=learning_rate\n",
    "  )\n",
    "\n",
    "  # collect loss and accuracy values\n",
    "  train_loss, train_acc, val_loss, val_acc = [], [], [], []\n",
    "\n",
    "  for epoch in range(num_epochs):\n",
    "    # train on training set\n",
    "    optimizer.zero_grad()\n",
    "    # ... compute network output on training data\n",
    "    Z = network(X_train)\n",
    "    if Z.shape[1] > 1:\n",
    "      T_train = torch.flatten(T_train)\n",
    "    \n",
    "    # ... compute loss from network output and target data\n",
    "    J = loss(Z, T_train)\n",
    "    J.backward()\n",
    "    # ... perform parameter update\n",
    "    optimizer.step()\n",
    "    # ... remember loss\n",
    "    train_loss.append(J.item())\n",
    "    # ... compute training set accuracy\n",
    "    train_acc.append(accuracy(Z, T_train).item())\n",
    "\n",
    "    # test on validation data\n",
    "    with torch.no_grad():\n",
    "      # ... compute network output on validation data\n",
    "      Z = network(X_val)\n",
    "      if Z.shape[1] > 1:\n",
    "        T_val = torch.flatten(T_val)\n",
    "      # ... compute loss from network output and target data\n",
    "      J = loss(Z, T_val)\n",
    "      # ... remember loss\n",
    "      val_loss.append(J.item())\n",
    "      # ... compute validation set accuracy\n",
    "      val_acc.append(accuracy(Z, T_val).item())\n",
    "\n",
    "  # return the four lists of losses and accuracies\n",
    "  return train_loss, train_acc, val_loss, val_acc"
   ],
   "id": "9ec7fe03934cf1dc",
   "outputs": [],
   "execution_count": 8
  },
  {
   "metadata": {
    "ExecuteTime": {
     "end_time": "2024-04-18T06:33:39.070181Z",
     "start_time": "2024-04-18T06:33:39.062092Z"
    }
   },
   "cell_type": "code",
   "source": [
    "def plot(train_loss, train_acc, val_loss, val_acc):\n",
    "  pyplot.figure(figsize=(10,3))\n",
    "  ax = pyplot.subplot(121)\n",
    "  ax.plot(train_loss, \"g-\", label=\"Training set loss\")\n",
    "  ax.plot(val_loss, \"b-\", label=\"Validation set loss\")\n",
    "  ax.legend()\n",
    "\n",
    "  ax = pyplot.subplot(122)\n",
    "  ax.plot(train_acc, \"g-\", label=\"Training set accuracy\")\n",
    "  ax.plot(val_acc, \"b-\", label=\"Validation set accuracy\")\n",
    "  ax.legend()"
   ],
   "id": "2bd067c304da38e4",
   "outputs": [],
   "execution_count": 9
  },
  {
   "metadata": {
    "ExecuteTime": {
     "end_time": "2024-04-18T06:50:45.641449Z",
     "start_time": "2024-04-18T06:41:12.173967Z"
    }
   },
   "cell_type": "code",
   "source": [
    "# Load dataset\n",
    "#dataset_files = [\"insertion_atks_first_atk_2500.csv\", \"insertion_atks_second_atk_2500.csv\", \"random_sampled_transactions.csv\"]\n",
    "dataset_files = [\"insertion_atks_first_atk_with_gas_token.csv\", \"insertion_atks_second_atk_with_gas_token.csv\", \"random_sampled_transactions_with_gas_token.csv\"]\n",
    "X, T = prepare_dataset(dataset_files, \",\")\n",
    "\n",
    "# Split dataset\n",
    "X_train, T_train, X_val, T_val = split_training_data(X, T, 0.8)\n",
    "# Standardize input data\n",
    "X_train, X_val = standardize(X_train, X_val)\n",
    "\n",
    "# Initiate the network\n",
    "network = Network(7, 10, 1)\n",
    "# Define loss function\n",
    "loss = torch.nn.BCEWithLogitsLoss(reduction=\"mean\")\n",
    "\n",
    "# Train network on our data\n",
    "results = train(network, loss, X_train, T_train, X_val, T_val, num_epochs=50000, learning_rate=0.1)\n",
    "train_loss, train_acc, val_loss, val_acc = results\n",
    "\n",
    "# plot the results\n",
    "plot(train_loss, train_acc, val_loss, val_acc)"
   ],
   "id": "c0571f06178b4e07",
   "outputs": [
    {
     "name": "stdout",
     "output_type": "stream",
     "text": [
      "Features:  Index(['gasPrice', 'meanGasPriceLastTenBlocks', 'stdGasPriceLastTenBlocks',\n",
      "       'meanGasPriceLastTenBlocksSameEOA', 'stdGasPriceLastTenBlocksSameEOA',\n",
      "       'usedGasToken', 'predictedGasPrice', 'label'],\n",
      "      dtype='object')\n",
      "Loaded dataset with 9821 samples\n"
     ]
    },
    {
     "data": {
      "text/plain": [
       "<Figure size 1000x300 with 2 Axes>"
      ],
      "image/png": "[encoded data removed]"
     },
     "metadata": {},
     "output_type": "display_data"
    }
   ],
   "execution_count": 24
  },
  {
   "metadata": {
    "ExecuteTime": {
     "end_time": "2024-04-18T06:37:25.662454Z",
     "start_time": "2024-04-18T06:37:25.652564Z"
    }
   },
   "cell_type": "code",
   "source": "X_train",
   "id": "c657ebf483e778c6",
   "outputs": [
    {
     "data": {
      "text/plain": [
       "tensor([[-1.3215, -0.1740, -0.3144,  ..., -0.1827, -0.3162,  1.0382],\n",
       "        [-0.3808, -0.2127, -0.7070,  ..., -0.1854, -0.3162,  0.0000],\n",
       "        [ 1.1041, -0.1761, -0.2534,  ..., -0.1854, -0.3162,  1.0382],\n",
       "        ...,\n",
       "        [ 0.4226,  0.5225,  0.5847,  ...,  0.2429,  3.1625,  1.0382],\n",
       "        [-0.3150,  0.1259,  0.9505,  ..., -0.0397,  3.1625,  2.0764],\n",
       "        [-1.1209, -0.1030,  0.2720,  ..., -0.1660, -0.3162,  1.0382]])"
      ]
     },
     "execution_count": 22,
     "metadata": {},
     "output_type": "execute_result"
    }
   ],
   "execution_count": 22
  },
  {
   "metadata": {},
   "cell_type": "markdown",
   "source": "#### Comparison to other models",
   "id": "63c57353776c4f3e"
  },
  {
   "metadata": {},
   "cell_type": "markdown",
   "source": "**Random Forest**",
   "id": "35406041b5c5f30d"
  },
  {
   "metadata": {
    "ExecuteTime": {
     "end_time": "2024-04-18T06:55:16.244131Z",
     "start_time": "2024-04-18T06:55:13.063254Z"
    }
   },
   "cell_type": "code",
   "source": [
    "from sklearn.ensemble import RandomForestClassifier\n",
    "from sklearn.metrics import accuracy_score\n",
    "\n",
    "\n",
    "# Initialize the Random Forest classifier\n",
    "random_forest = RandomForestClassifier(n_estimators=100)\n",
    "\n",
    "# Train the classifier on the training data\n",
    "random_forest.fit(X_train, T_train)\n",
    "\n",
    "# Make predictions on the testing data\n",
    "predictions = random_forest.predict(X_val)\n",
    "\n",
    "# Calculate accuracy\n",
    "accuracy = accuracy_score(T_val, predictions)\n",
    "print(\"Accuracy:\", accuracy)"
   ],
   "id": "290828b9bf8d04b",
   "outputs": [
    {
     "name": "stderr",
     "output_type": "stream",
     "text": [
      "/home/nico/.local/lib/python3.10/site-packages/sklearn/base.py:1152: DataConversionWarning: A column-vector y was passed when a 1d array was expected. Please change the shape of y to (n_samples,), for example using ravel().\n",
      "  return fit_method(estimator, *args, **kwargs)\n"
     ]
    },
    {
     "name": "stdout",
     "output_type": "stream",
     "text": [
      "Accuracy: 0.8132315521628499\n"
     ]
    }
   ],
   "execution_count": 25
  },
  {
   "metadata": {},
   "cell_type": "markdown",
   "source": "**NN with sklearn**",
   "id": "55769968809e6542"
  },
  {
   "metadata": {
    "ExecuteTime": {
     "end_time": "2024-04-18T06:55:21.330351Z",
     "start_time": "2024-04-18T06:55:19.038843Z"
    }
   },
   "cell_type": "code",
   "source": [
    "from sklearn.neural_network import MLPClassifier\n",
    "\n",
    "mlp = MLPClassifier(hidden_layer_sizes=(10,), activation='logistic', solver='adam', max_iter=10000)\n",
    "\n",
    "# Train the classifier on the training data\n",
    "mlp.fit(X_train, T_train)\n",
    "\n",
    "predictions = mlp.predict(X_val)\n",
    "\n",
    "# Calculate accuracy\n",
    "accuracy = accuracy_score(T_val, predictions)\n",
    "print(\"Accuracy:\", accuracy)"
   ],
   "id": "4cbc451c9b26fd50",
   "outputs": [
    {
     "name": "stderr",
     "output_type": "stream",
     "text": [
      "/home/nico/.local/lib/python3.10/site-packages/sklearn/neural_network/_multilayer_perceptron.py:1102: DataConversionWarning: A column-vector y was passed when a 1d array was expected. Please change the shape of y to (n_samples, ), for example using ravel().\n",
      "  y = column_or_1d(y, warn=True)\n"
     ]
    },
    {
     "name": "stdout",
     "output_type": "stream",
     "text": [
      "Accuracy: 0.7648854961832061\n"
     ]
    }
   ],
   "execution_count": 26
  }
 ],
 "metadata": {
  "kernelspec": {
   "display_name": "frontrunning-attacks",
   "language": "python",
   "name": "frontrunning-attacks"
  },
  "language_info": {
   "codemirror_mode": {
    "name": "ipython",
    "version": 2
   },
   "file_extension": ".py",
   "mimetype": "text/x-python",
   "name": "python",
   "nbconvert_exporter": "python",
   "pygments_lexer": "ipython2",
   "version": "2.7.6"
  }
 },
 "nbformat": 4,
 "nbformat_minor": 5
}
