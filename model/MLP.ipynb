{
 "cells": [
  {
   "metadata": {},
   "cell_type": "markdown",
   "source": [
    "### Model Creation - Multi Layer Perceptron\n",
    "Paper:  \n",
    "Sigmoid activation function has been considered in this work\n",
    "as the non-linear transfer function of each neuron. We utilized the\n",
    "Scikit-Learn library [32] in Python to create the model"
   ],
   "id": "49efb62d6d03cc34"
  },
  {
   "metadata": {},
   "cell_type": "markdown",
   "source": "**Imports:**",
   "id": "6111e58ba935f1a6"
  },
  {
   "metadata": {
    "ExecuteTime": {
     "end_time": "2024-04-11T08:00:42.958437Z",
     "start_time": "2024-04-11T08:00:42.952834Z"
    }
   },
   "cell_type": "code",
   "source": [
    "import torch\n",
    "import csv\n",
    "from torch.utils.data import random_split\n",
    "from matplotlib import pyplot\n",
    "\n"
   ],
   "id": "fc389bab90b9c32f",
   "outputs": [],
   "execution_count": 2
  },
  {
   "metadata": {},
   "cell_type": "markdown",
   "source": "#### Dataset Loading",
   "id": "aeecbc535b43e119"
  },
  {
   "metadata": {
    "ExecuteTime": {
     "end_time": "2024-04-11T08:00:47.518985Z",
     "start_time": "2024-04-11T08:00:47.510774Z"
    }
   },
   "cell_type": "code",
   "source": [
    "def dataset(dataset_file, delimiter=\";\"):\n",
    "    \n",
    "  # read dataset\n",
    "  data = []\n",
    "  \n",
    "  with open(dataset_file, 'r') as f:\n",
    "    reader = csv.reader(f, delimiter=delimiter)\n",
    "    next(reader)  # Skip the header row\n",
    "    for line in reader:\n",
    "      data.append([float(elem) for elem in line])\n",
    "              \n",
    "  print (f\"Loaded dataset with {len(data)} samples\")\n",
    "  \n",
    "  # convert to torch.tensor\n",
    "  data_tensor = torch.tensor(data, dtype=torch.float)\n",
    "\n",
    "  # get the input (data samples) without the target information\n",
    "  X = data_tensor[:, :-1]\n",
    "  \n",
    "  T = data_tensor[:, -1].to(torch.float)\n",
    "  T = T.view(T.shape[0], 1)\n",
    "  \n",
    "  return X, T"
   ],
   "id": "d907a0c9a13f98fc",
   "outputs": [],
   "execution_count": 3
  },
  {
   "metadata": {},
   "cell_type": "markdown",
   "source": "#### Split Training and Validation Data",
   "id": "d96433c0a7822be7"
  },
  {
   "metadata": {
    "ExecuteTime": {
     "end_time": "2024-04-11T08:00:49.434728Z",
     "start_time": "2024-04-11T08:00:49.427416Z"
    }
   },
   "cell_type": "code",
   "source": [
    "def split_training_data(X, T, train_percentage=0.8):\n",
    "  \n",
    "  assert len(X) == len(T)\n",
    "  \n",
    "  num_samples = len(X)\n",
    "  \n",
    "  train_size = int(train_percentage * num_samples)\n",
    "  validation_size = num_samples - train_size\n",
    "    \n",
    "  # split into 80/20 training/validation\n",
    "  idx_train, idx_validation = random_split(range(num_samples), [train_size, validation_size])\n",
    "\n",
    "  \n",
    "  X_train = X[idx_train]\n",
    "  T_train = T[idx_train]\n",
    "  X_val = X[idx_validation]\n",
    "  T_val = T[idx_validation]\n",
    "\n",
    "  return X_train, T_train, X_val, T_val"
   ],
   "id": "4922906edc51f2ef",
   "outputs": [],
   "execution_count": 4
  },
  {
   "metadata": {},
   "cell_type": "markdown",
   "source": "#### Input Data Standardization",
   "id": "7ea79b5bf0877476"
  },
  {
   "metadata": {
    "ExecuteTime": {
     "end_time": "2024-04-11T08:44:49.429554Z",
     "start_time": "2024-04-11T08:44:49.422949Z"
    }
   },
   "cell_type": "code",
   "source": [
    "def standardize(X_train, X_val):\n",
    "  # compute statistics\n",
    "  mean = X_train.mean(dim=0)\n",
    "  std = X_train.std(dim=0)\n",
    "\n",
    "  # Check if standard deviation is zero\n",
    "  zero_std_mask = std == 0\n",
    "  \n",
    "  # Standardize both X_train and X_val, excluding columns with zero standard deviation\n",
    "  X_train = (X_train - mean) / std.masked_fill(zero_std_mask, 1)  # Replace zero std with 1 to avoid division by zero\n",
    "  X_val = (X_val - mean) / std.masked_fill(zero_std_mask, 1)\n",
    "\n",
    "  return X_train, X_val"
   ],
   "id": "e0fbb83915b8a0fa",
   "outputs": [],
   "execution_count": 21
  },
  {
   "metadata": {},
   "cell_type": "markdown",
   "source": "### Network Implementation",
   "id": "5cec002f93d523a8"
  },
  {
   "metadata": {},
   "cell_type": "markdown",
   "source": [
    "**Network Architecture**\n",
    "- 1 input layer\n",
    "  - 7 input neurons\n",
    "- 2 hidden layers\n",
    "  - 10 hidden neurons\n",
    "  - 10 hidden neurons\n",
    "- 1 output layer\n",
    "  - 1 output neuron    \n",
    "\n",
    "Using Sigmoid Activation function!"
   ],
   "id": "795c1456fa4fd486"
  },
  {
   "metadata": {
    "ExecuteTime": {
     "end_time": "2024-04-11T08:00:52.939583Z",
     "start_time": "2024-04-11T08:00:52.932931Z"
    }
   },
   "cell_type": "code",
   "source": [
    "def Network(input_layer_size, hidden_layer_size, output_layer_size):\n",
    "    return torch.nn.Sequential(\n",
    "        torch.nn.Linear(input_layer_size, hidden_layer_size),      # Input layer to first hidden layer\n",
    "        torch.nn.Sigmoid(),                                        # Sigmoid activation function for the first hidden layer\n",
    "        torch.nn.Linear(hidden_layer_size, hidden_layer_size),     # First hidden layer to second hidden layer\n",
    "        torch.nn.Sigmoid(),                                        # Sigmoid activation function for the second hidden layer\n",
    "        torch.nn.Linear(hidden_layer_size, output_layer_size)      # Second hidden layer to output layer\n",
    "    )"
   ],
   "id": "226d8c3436cf6cb3",
   "outputs": [],
   "execution_count": 6
  },
  {
   "metadata": {},
   "cell_type": "markdown",
   "source": "**Training Loop**",
   "id": "ae7c594c844cbeb8"
  },
  {
   "metadata": {
    "ExecuteTime": {
     "end_time": "2024-04-11T08:00:54.763454Z",
     "start_time": "2024-04-11T08:00:54.757759Z"
    }
   },
   "cell_type": "code",
   "source": [
    "def accuracy(Z, T):\n",
    "  # binary classification\n",
    "  z_sign = (Z >= 0).int()\n",
    "  return torch.mean((z_sign == T).float())"
   ],
   "id": "8c6aae3540429565",
   "outputs": [],
   "execution_count": 7
  },
  {
   "metadata": {
    "ExecuteTime": {
     "end_time": "2024-04-11T08:00:55.886Z",
     "start_time": "2024-04-11T08:00:55.875130Z"
    }
   },
   "cell_type": "code",
   "source": [
    "def train(network, loss, X_train, T_train, X_val, T_val, num_epochs=10000, learning_rate=0.1):\n",
    "  \n",
    "  optimizer = torch.optim.SGD(\n",
    "    params=network.parameters(),\n",
    "    lr=learning_rate\n",
    "  )\n",
    "\n",
    "  # collect loss and accuracy values\n",
    "  train_loss, train_acc, val_loss, val_acc = [], [], [], []\n",
    "\n",
    "  for epoch in range(num_epochs):\n",
    "    # train on training set\n",
    "    optimizer.zero_grad()\n",
    "    # ... compute network output on training data\n",
    "    Z = network(X_train)\n",
    "    if Z.shape[1] > 1:\n",
    "      T_train = torch.flatten(T_train)\n",
    "    \n",
    "    # ... compute loss from network output and target data\n",
    "    J = loss(Z, T_train)\n",
    "    J.backward()\n",
    "    # ... perform parameter update\n",
    "    optimizer.step()\n",
    "    # ... remember loss\n",
    "    train_loss.append(J.item())\n",
    "    # ... compute training set accuracy\n",
    "    train_acc.append(accuracy(Z, T_train).item())\n",
    "\n",
    "    # test on validation data\n",
    "    with torch.no_grad():\n",
    "      # ... compute network output on validation data\n",
    "      Z = network(X_val)\n",
    "      if Z.shape[1] > 1:\n",
    "        T_val = torch.flatten(T_val)\n",
    "      # ... compute loss from network output and target data\n",
    "      J = loss(Z, T_val)\n",
    "      # ... remember loss\n",
    "      val_loss.append(J.item())\n",
    "      # ... compute validation set accuracy\n",
    "      val_acc.append(accuracy(Z, T_val).item())\n",
    "\n",
    "  # return the four lists of losses and accuracies\n",
    "  return train_loss, train_acc, val_loss, val_acc"
   ],
   "id": "9ec7fe03934cf1dc",
   "outputs": [],
   "execution_count": 8
  },
  {
   "metadata": {
    "ExecuteTime": {
     "end_time": "2024-04-11T08:00:58.478386Z",
     "start_time": "2024-04-11T08:00:58.469828Z"
    }
   },
   "cell_type": "code",
   "source": [
    "def plot(train_loss, train_acc, val_loss, val_acc):\n",
    "  pyplot.figure(figsize=(10,3))\n",
    "  ax = pyplot.subplot(121)\n",
    "  ax.plot(train_loss, \"g-\", label=\"Training set loss\")\n",
    "  ax.plot(val_loss, \"b-\", label=\"Validation set loss\")\n",
    "  ax.legend()\n",
    "\n",
    "  ax = pyplot.subplot(122)\n",
    "  ax.plot(train_acc, \"g-\", label=\"Training set accuracy\")\n",
    "  ax.plot(val_acc, \"b-\", label=\"Validation set accuracy\")\n",
    "  ax.legend()"
   ],
   "id": "2bd067c304da38e4",
   "outputs": [],
   "execution_count": 9
  },
  {
   "metadata": {
    "ExecuteTime": {
     "end_time": "2024-04-11T09:32:31.268192Z",
     "start_time": "2024-04-11T09:32:17.898621Z"
    }
   },
   "cell_type": "code",
   "source": [
    "# define loss function\n",
    "loss = torch.nn.MSELoss()\n",
    "\n",
    "# load dataset\n",
    "X, T = dataset(\"test-data.csv\", \",\")\n",
    "\n",
    "# split dataset\n",
    "X_train, T_train, X_val, T_val = split_training_data(X, T, 0.8)\n",
    "# standardize input data\n",
    "\n",
    "X_train, X_val = standardize(X_train, X_val)\n",
    "\n",
    "# initiate the network\n",
    "network = Network(7, 10, 1)\n",
    "\n",
    "# train network on our data\n",
    "results = train(network, loss, X_train, T_train, X_val, T_val, num_epochs=10000, learning_rate=0.1)\n",
    "\n",
    "train_loss, train_acc, val_loss, val_acc = results\n",
    "\n",
    "# plot the results\n",
    "plot(train_loss, train_acc, val_loss, val_acc)"
   ],
   "id": "c0571f06178b4e07",
   "outputs": [
    {
     "name": "stdout",
     "output_type": "stream",
     "text": [
      "Loaded dataset with 198 samples\n"
     ]
    },
    {
     "data": {
      "text/plain": [
       "<Figure size 1000x300 with 2 Axes>"
      ],
      "image/png": "[encoded data removed]"
     },
     "metadata": {},
     "output_type": "display_data"
    }
   ],
   "execution_count": 27
  },
  {
   "metadata": {
    "ExecuteTime": {
     "end_time": "2024-04-11T08:45:03.934247Z",
     "start_time": "2024-04-11T08:45:03.924793Z"
    }
   },
   "cell_type": "code",
   "source": "X_train",
   "id": "c657ebf483e778c6",
   "outputs": [
    {
     "data": {
      "text/plain": [
       "tensor([[-0.2912, -0.3247, -0.5992, -0.2772, -0.2675,  0.0000,  0.0000],\n",
       "        [-0.6171, -0.5399,  1.3781, -0.3648, -0.2675,  0.0000,  0.0000],\n",
       "        [-0.2055,  0.1623, -0.5617, -0.2541, -0.2675,  0.0000,  0.0000],\n",
       "        [-0.4628, -0.4620, -0.4801, -0.3233, -0.2675,  0.0000,  0.0000],\n",
       "        [-0.5314, -0.6275, -0.3230, -0.3440, -0.2644,  0.0000,  0.0000],\n",
       "        [ 3.2376,  2.4003,  2.8170,  3.4578,  3.4744,  0.0000,  0.0000],\n",
       "        [-0.3942, -0.6229, -0.5791, -0.3048, -0.2675,  0.0000,  0.0000],\n",
       "        [ 0.4291, -0.6497, -0.4824, -0.0834, -0.2675,  0.0000,  0.0000],\n",
       "        [ 0.2473,  1.1426, -0.2717, -0.1323, -0.2675,  0.0000,  0.0000],\n",
       "        [-0.4628, -0.5163, -0.4394, -0.3233, -0.2675,  0.0000,  0.0000],\n",
       "        [-0.4799, -0.4531, -0.3125, -0.3279, -0.2675,  0.0000,  0.0000],\n",
       "        [ 0.4735,  1.6983,  0.8501, -0.0715, -0.2675,  0.0000,  0.0000],\n",
       "        [-0.4628, -0.5441, -0.4513, -0.3233, -0.2675,  0.0000,  0.0000],\n",
       "        [-0.4799, -0.6634, -0.5449, -0.3279, -0.2675,  0.0000,  0.0000]])"
      ]
     },
     "execution_count": 23,
     "metadata": {},
     "output_type": "execute_result"
    }
   ],
   "execution_count": 23
  }
 ],
 "metadata": {
  "kernelspec": {
   "display_name": "frontrunning-attacks",
   "language": "python",
   "name": "frontrunning-attacks"
  },
  "language_info": {
   "codemirror_mode": {
    "name": "ipython",
    "version": 2
   },
   "file_extension": ".py",
   "mimetype": "text/x-python",
   "name": "python",
   "nbconvert_exporter": "python",
   "pygments_lexer": "ipython2",
   "version": "2.7.6"
  }
 },
 "nbformat": 4,
 "nbformat_minor": 5
}
