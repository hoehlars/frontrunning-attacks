{
 "cells": [
  {
   "cell_type": "code",
   "id": "initial_id",
   "metadata": {
    "collapsed": true,
    "ExecuteTime": {
     "end_time": "2024-05-02T11:32:23.324601Z",
     "start_time": "2024-05-02T11:32:23.315975Z"
    }
   },
   "source": [
    "from web3 import Web3\n",
    "import pandas as pd\n",
    "import requests"
   ],
   "outputs": [],
   "execution_count": 30
  },
  {
   "metadata": {
    "ExecuteTime": {
     "end_time": "2024-05-02T10:41:37.101815Z",
     "start_time": "2024-05-02T10:41:37.071267Z"
    }
   },
   "cell_type": "code",
   "source": [
    "web3 = Web3(Web3.HTTPProvider(\"https://intensive-sly-mountain.quiknode.pro/a3f5256d7f2af6541d483cce3f1d49c94c01879e/\"))\n",
    "print(\"\\033[92m\"+str(web3.is_connected()))"
   ],
   "id": "fda9aed4b09a190b",
   "outputs": [
    {
     "name": "stdout",
     "output_type": "stream",
     "text": [
      "\u001B[92mTrue\n"
     ]
    }
   ],
   "execution_count": 3
  },
  {
   "metadata": {},
   "cell_type": "markdown",
   "source": "Figure out how to get cost & profit from 2 transactions",
   "id": "bec17c2452cc324e"
  },
  {
   "metadata": {
    "ExecuteTime": {
     "end_time": "2024-05-02T11:24:02.335606Z",
     "start_time": "2024-05-02T11:24:02.327082Z"
    }
   },
   "cell_type": "code",
   "source": [
    "def get_internal_transactions(tx_hash):\n",
    "    # API endpoint\n",
    "    url = 'https://api.etherscan.io/api'\n",
    "\n",
    "    # Parameters\n",
    "    params = {\n",
    "        'module': 'account',\n",
    "        'action': 'txlistinternal',\n",
    "        'txhash': tx_hash,\n",
    "        'apikey': '1PN1111XBM2W5HIQCSMQH6RA65JVYPQM1R'\n",
    "    }\n",
    "\n",
    "    try:\n",
    "        # Sending GET request\n",
    "        response = requests.get(url, params=params, timeout=3)\n",
    "    \n",
    "        # Checking if request was successful\n",
    "        if response.status_code == 200:\n",
    "            data = response.json()\n",
    "            return data[\"result\"]\n",
    "        else:\n",
    "            #print('Error occurred:', response.status_code)\n",
    "            return None\n",
    "        \n",
    "    except requests.exceptions.Timeout:\n",
    "        #print('Request did not go through: timeout occurred')\n",
    "        return None"
   ],
   "id": "b663796bf8e4efd2",
   "outputs": [],
   "execution_count": 6
  },
  {
   "metadata": {
    "ExecuteTime": {
     "end_time": "2024-05-02T13:40:04.966321Z",
     "start_time": "2024-05-02T13:40:04.960601Z"
    }
   },
   "cell_type": "code",
   "source": [
    "def get_amount_eth(transaction_hash):\n",
    "    \n",
    "    internal_transaction = get_internal_transactions(transaction_hash)\n",
    "    amount_in_wei = int(internal_transaction[0][\"value\"])\n",
    "    return amount_in_wei / 10**18"
   ],
   "id": "3e78629f4d9fc8f5",
   "outputs": [],
   "execution_count": 80
  },
  {
   "metadata": {},
   "cell_type": "markdown",
   "source": "Example 1",
   "id": "4f37795ed15baa94"
  },
  {
   "metadata": {
    "ExecuteTime": {
     "end_time": "2024-05-02T11:41:02.901091Z",
     "start_time": "2024-05-02T11:41:02.895987Z"
    }
   },
   "cell_type": "code",
   "source": [
    "attack_1 = \"0xedee87cdea91b70805184a1dbd32f689b02ff6f40579a601c2a4dd249d9b8090\" \n",
    "victim = \"0xb46caa3c254f3e2050818a1ce3ea6b01f96011b403253c620c9a1720c4a6612a\" \n",
    "attack_2 = \"0x9b4d25a15945cc913732642dc2f9d7b655eac4d8be624f8098c102d653d9c969\""
   ],
   "id": "7c45361d144b8c3a",
   "outputs": [],
   "execution_count": 45
  },
  {
   "metadata": {
    "ExecuteTime": {
     "end_time": "2024-05-02T11:30:20.283875Z",
     "start_time": "2024-05-02T11:30:18.738248Z"
    }
   },
   "cell_type": "code",
   "source": "get_amount_eth(attack_1)",
   "id": "d07d8ee5127d380e",
   "outputs": [
    {
     "data": {
      "text/plain": [
       "6.180859375"
      ]
     },
     "execution_count": 24,
     "metadata": {},
     "output_type": "execute_result"
    }
   ],
   "execution_count": 24
  },
  {
   "metadata": {
    "ExecuteTime": {
     "end_time": "2024-05-02T11:30:32.573585Z",
     "start_time": "2024-05-02T11:30:31.574376Z"
    }
   },
   "cell_type": "code",
   "source": "get_amount_eth(attack_2)",
   "id": "b11f6267c9c27bcf",
   "outputs": [
    {
     "data": {
      "text/plain": [
       "6.337101476298321"
      ]
     },
     "execution_count": 25,
     "metadata": {},
     "output_type": "execute_result"
    }
   ],
   "execution_count": 25
  },
  {
   "metadata": {},
   "cell_type": "markdown",
   "source": "Example 2",
   "id": "1201dee151fc49ad"
  },
  {
   "metadata": {
    "ExecuteTime": {
     "end_time": "2024-05-02T11:30:42.697976Z",
     "start_time": "2024-05-02T11:30:42.687167Z"
    }
   },
   "cell_type": "code",
   "source": [
    "attack_1 = \"0x514065a6804e3012f23308c4ea203d16c53d6d36dad1b54438f0f2b9e45b082b\" \n",
    "victim = \"0xba4a605237e59f282f8b662a9ab024c16aac017bd97a0839faf1a8f6bea24638\" \n",
    "attack_2 = \"0x87329e5bf34a9262694287fb62f2389d704f056b588a46e4439df7d03b47fbdc\"\n"
   ],
   "id": "b5dbecd9e9205684",
   "outputs": [],
   "execution_count": 26
  },
  {
   "metadata": {
    "ExecuteTime": {
     "end_time": "2024-05-02T11:30:44.665518Z",
     "start_time": "2024-05-02T11:30:43.807233Z"
    }
   },
   "cell_type": "code",
   "source": "get_amount_eth(attack_1)\n",
   "id": "21495403c29cf77b",
   "outputs": [
    {
     "data": {
      "text/plain": [
       "0.7845739618270202"
      ]
     },
     "execution_count": 27,
     "metadata": {},
     "output_type": "execute_result"
    }
   ],
   "execution_count": 27
  },
  {
   "metadata": {
    "ExecuteTime": {
     "end_time": "2024-05-02T11:30:54.895240Z",
     "start_time": "2024-05-02T11:30:53.633819Z"
    }
   },
   "cell_type": "code",
   "source": "get_amount_eth(attack_2)\n",
   "id": "440167bd500d674f",
   "outputs": [
    {
     "data": {
      "text/plain": [
       "0.795890884390742"
      ]
     },
     "execution_count": 29,
     "metadata": {},
     "output_type": "execute_result"
    }
   ],
   "execution_count": 29
  },
  {
   "metadata": {},
   "cell_type": "markdown",
   "source": "Get gas fees spent",
   "id": "5637539e038ca632"
  },
  {
   "metadata": {
    "ExecuteTime": {
     "end_time": "2024-05-02T13:33:13.711893Z",
     "start_time": "2024-05-02T13:33:13.705429Z"
    }
   },
   "cell_type": "code",
   "source": [
    "def get_amount_gas_spent(transaction_hash):\n",
    "    \n",
    "    transaction = web3.eth.get_transaction(transaction_hash)\n",
    "    gas_used = transaction[\"gas\"] \n",
    "    gas_price = transaction[\"gasPrice\"] / 10**18\n",
    "\n",
    "    return gas_used * gas_price"
   ],
   "id": "57c5c00454c77d22",
   "outputs": [],
   "execution_count": 75
  },
  {
   "metadata": {
    "ExecuteTime": {
     "end_time": "2024-05-02T13:51:41.882372Z",
     "start_time": "2024-05-02T13:51:41.876249Z"
    }
   },
   "cell_type": "code",
   "source": [
    "def get_amount_gas_spent(transaction_hash):\n",
    "    \n",
    "    transaction = web3.eth.get_transaction_receipt(transaction_hash)\n",
    "    gas_used = transaction[\"gasUsed\"] \n",
    "    gas_price = transaction[\"effectiveGasPrice\"] / 10**18\n",
    "\n",
    "    return gas_used * gas_price"
   ],
   "id": "8b2ed1e21b9223fe",
   "outputs": [],
   "execution_count": 97
  },
  {
   "metadata": {
    "ExecuteTime": {
     "end_time": "2024-05-02T13:51:45.779840Z",
     "start_time": "2024-05-02T13:51:45.721002Z"
    }
   },
   "cell_type": "code",
   "source": "print(\"\\033[92m\"+str(get_amount_gas_spent(attack_1)))",
   "id": "d61611983c866292",
   "outputs": [
    {
     "name": "stdout",
     "output_type": "stream",
     "text": [
      "\u001B[92m0.00303018\n"
     ]
    }
   ],
   "execution_count": 98
  },
  {
   "metadata": {
    "ExecuteTime": {
     "end_time": "2024-05-02T13:51:47.145290Z",
     "start_time": "2024-05-02T13:51:47.078646Z"
    }
   },
   "cell_type": "code",
   "source": "print(\"\\033[92m\"+str(get_amount_gas_spent(attack_2)))",
   "id": "731df2a1afe2c829",
   "outputs": [
    {
     "name": "stdout",
     "output_type": "stream",
     "text": [
      "\u001B[92m0.002185655\n"
     ]
    }
   ],
   "execution_count": 99
  },
  {
   "metadata": {},
   "cell_type": "markdown",
   "source": [
    "Cost: amount of eth spent for A1 and fees from A1 and A2  \n",
    "Profit: amount of eth received for A2 - cost"
   ],
   "id": "b64451855ddd98eb"
  },
  {
   "metadata": {
    "ExecuteTime": {
     "end_time": "2024-05-02T13:51:56.443263Z",
     "start_time": "2024-05-02T13:51:56.438093Z"
    }
   },
   "cell_type": "code",
   "source": [
    "def calculate_cost(attack_1, attack_2):\n",
    "    \n",
    "    eth_spent = get_amount_eth(attack_1)\n",
    "    eth_fees = get_amount_gas_spent(attack_1) + get_amount_gas_spent(attack_2)\n",
    "    \n",
    "    return eth_spent + eth_fees"
   ],
   "id": "98b9d955e6bcccb1",
   "outputs": [],
   "execution_count": 100
  },
  {
   "metadata": {
    "ExecuteTime": {
     "end_time": "2024-05-02T13:51:59.456271Z",
     "start_time": "2024-05-02T13:51:58.223949Z"
    }
   },
   "cell_type": "code",
   "source": "calculate_cost(attack_1, attack_2)",
   "id": "7e1965ac34e373ce",
   "outputs": [
    {
     "data": {
      "text/plain": [
       "6.186075209999999"
      ]
     },
     "execution_count": 101,
     "metadata": {},
     "output_type": "execute_result"
    }
   ],
   "execution_count": 101
  },
  {
   "metadata": {
    "ExecuteTime": {
     "end_time": "2024-05-02T13:54:08.764220Z",
     "start_time": "2024-05-02T13:54:08.757730Z"
    }
   },
   "cell_type": "code",
   "source": [
    "def calculate_profit(cost, attack_2):\n",
    "    \n",
    "    eth_received = get_amount_eth(attack_2)\n",
    "    \n",
    "    return eth_received - cost"
   ],
   "id": "7f4539c5b6e8bd52",
   "outputs": [],
   "execution_count": 105
  },
  {
   "metadata": {
    "ExecuteTime": {
     "end_time": "2024-05-02T14:15:02.412382Z",
     "start_time": "2024-05-02T14:14:59.836317Z"
    }
   },
   "cell_type": "code",
   "source": [
    "cost = calculate_cost(attack_1, attack_2)\n",
    "profit = calculate_profit(cost, attack_2)"
   ],
   "id": "65c59401eb9a861a",
   "outputs": [],
   "execution_count": 124
  },
  {
   "metadata": {
    "ExecuteTime": {
     "end_time": "2024-05-02T14:13:56.128399Z",
     "start_time": "2024-05-02T14:13:56.122401Z"
    }
   },
   "cell_type": "code",
   "source": [
    "def get_eth_rate_at_time(timestamp):\n",
    "    # CryptoCompare API endpoint for historical Ethereum price\n",
    "    url = f\"https://min-api.cryptocompare.com/data/pricehistorical?fsym=ETH&tsyms=USD&ts={timestamp}&extraParams=your_app_name\"\n",
    "    \n",
    "    # Send GET request to CryptoCompare API\n",
    "    response = requests.get(url)\n",
    "    \n",
    "    # Parse JSON response\n",
    "    data = response.json()\n",
    "    \n",
    "    # Check if response contains data\n",
    "    if 'ETH' in data and 'USD' in data['ETH']:\n",
    "        eth_price_usd = data['ETH']['USD']\n",
    "        return eth_price_usd\n",
    "    else:\n",
    "        return None"
   ],
   "id": "36cd39a12748d804",
   "outputs": [],
   "execution_count": 121
  },
  {
   "metadata": {
    "ExecuteTime": {
     "end_time": "2024-05-02T13:58:03.480408Z",
     "start_time": "2024-05-02T13:58:03.474918Z"
    }
   },
   "cell_type": "code",
   "source": [
    "def get_block_timestamp(block_number):\n",
    "    block = web3.eth.get_block(block_number)\n",
    "    timestamp = block['timestamp']\n",
    "    return timestamp"
   ],
   "id": "fb03e4a70f18e4a9",
   "outputs": [],
   "execution_count": 113
  },
  {
   "metadata": {
    "ExecuteTime": {
     "end_time": "2024-05-02T14:52:37.784339Z",
     "start_time": "2024-05-02T14:52:37.560290Z"
    }
   },
   "cell_type": "code",
   "source": [
    "timestamp = get_block_timestamp(5574870)\n",
    "eth_rate_at_timestamp = get_eth_rate_at_time(timestamp)\n",
    "eth_rate_at_timestamp"
   ],
   "id": "d6d9f87a0a3ef179",
   "outputs": [
    {
     "data": {
      "text/plain": [
       "747.79"
      ]
     },
     "execution_count": 143,
     "metadata": {},
     "output_type": "execute_result"
    }
   ],
   "execution_count": 143
  },
  {
   "metadata": {
    "ExecuteTime": {
     "end_time": "2024-05-02T14:15:08.889655Z",
     "start_time": "2024-05-02T14:15:08.882278Z"
    }
   },
   "cell_type": "code",
   "source": "profit * eth_rate_at_timestamp",
   "id": "bf455d81db043c7b",
   "outputs": [
    {
     "data": {
      "text/plain": [
       "112.93593167522216"
      ]
     },
     "execution_count": 125,
     "metadata": {},
     "output_type": "execute_result"
    }
   ],
   "execution_count": 125
  },
  {
   "metadata": {
    "ExecuteTime": {
     "end_time": "2024-05-02T14:15:33.411671Z",
     "start_time": "2024-05-02T14:15:33.404868Z"
    }
   },
   "cell_type": "code",
   "source": "cost * eth_rate_at_timestamp",
   "id": "b2e0bda9904e5c03",
   "outputs": [
    {
     "data": {
      "text/plain": [
       "4625.885181285899"
      ]
     },
     "execution_count": 126,
     "metadata": {},
     "output_type": "execute_result"
    }
   ],
   "execution_count": 126
  },
  {
   "metadata": {
    "ExecuteTime": {
     "end_time": "2024-05-02T14:49:41.145031Z",
     "start_time": "2024-05-02T14:49:41.068732Z"
    }
   },
   "cell_type": "code",
   "source": "(get_amount_gas_spent(attack_1) + get_amount_gas_spent(attack_2)) * eth_rate_at_timestamp",
   "id": "1e3640cb1edc39c",
   "outputs": [
    {
     "data": {
      "text/plain": [
       "3.90034925465"
      ]
     },
     "execution_count": 128,
     "metadata": {},
     "output_type": "execute_result"
    }
   ],
   "execution_count": 128
  }
 ],
 "metadata": {
  "kernelspec": {
   "display_name": "frontrunning-attacks",
   "language": "python",
   "name": "frontrunning-attacks"
  },
  "language_info": {
   "codemirror_mode": {
    "name": "ipython",
    "version": 2
   },
   "file_extension": ".py",
   "mimetype": "text/x-python",
   "name": "python",
   "nbconvert_exporter": "python",
   "pygments_lexer": "ipython2",
   "version": "2.7.6"
  }
 },
 "nbformat": 4,
 "nbformat_minor": 5
}
