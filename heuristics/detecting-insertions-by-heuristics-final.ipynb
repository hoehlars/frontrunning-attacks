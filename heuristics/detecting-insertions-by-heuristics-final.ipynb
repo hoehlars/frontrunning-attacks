{
 "cells": [
  {
   "metadata": {},
   "cell_type": "markdown",
   "source": "### Detecting insertion attacks by heuristics",
   "id": "f0d65ea4c685bfcc"
  },
  {
   "metadata": {},
   "cell_type": "markdown",
   "source": [
    "According to Frontrunner-Jones insertion attacks can be detected the following way: \n",
    " \n",
    "A transfer event is triggered on the blockchain, whenever an ERC-20 token is traded.  \n",
    "An Event combines the following transactional information E = (s,r,a,c,h,i,g):\n",
    "- s: sender of tokens\n",
    "- r: receiver of tokens\n",
    "- a: number of transferred tokens\n",
    "- c: contract address of token\n",
    "- h: transaction hash\n",
    "- i: transaction index\n",
    "- g: gas price of transaction\n",
    "\n",
    "Iterating block by block through all transfer events and checking if there are 3 events EA1, EV, EA2 for which the folloing 6 heuristics hold:  \n"
   ],
   "id": "b8a6d310194b708f"
  },
  {
   "metadata": {},
   "cell_type": "markdown",
   "source": [
    "#### Heuristic 1\n",
    "\n",
    "Heuristic 1: \n",
    "- sender of EA1 must be identical to sender of EV and receiver of EA2\n",
    "    - sA1 = sV = rA2 \n",
    "- receiver of EA1 must be identical to sender of EA2.\n",
    "    - rA1 = sA2 "
   ],
   "id": "b7b9f00371bf3800"
  },
  {
   "metadata": {},
   "cell_type": "markdown",
   "source": [
    "#### Heuristics 2\n",
    "- number of tokens bought by EA1 must be similar to the umber of tokens sold by EA2 ( difference of max 1%)."
   ],
   "id": "8eb3a7b999579d74"
  },
  {
   "metadata": {},
   "cell_type": "markdown",
   "source": [
    "#### Heuristics 3\n",
    "- token contract address of EA1, EV and EA2 must be identical\n",
    "    - cA1 = cV2 = cA2 "
   ],
   "id": "c7a67b7a9f6c1654"
  },
  {
   "metadata": {},
   "cell_type": "markdown",
   "source": [
    "#### Heuristics 4\n",
    "- transaction hashes of EA1, EV and EA2 must be dissimilar\n",
    "    - hA1 != hV != hA2"
   ],
   "id": "705bf9c16dd1d31a"
  },
  {
   "metadata": {},
   "cell_type": "markdown",
   "source": [
    "#### Heuristics 5\n",
    "- transaction index of EA1 must be smaller than the transaction index of EV\n",
    "- transaction index of EV must be smaller than the transaction index of EA2\n",
    "    - iA1 < iV < i A2   "
   ],
   "id": "8afb7acfd5983bd9"
  },
  {
   "metadata": {},
   "cell_type": "markdown",
   "source": [
    "#### Heuristics 6\n",
    "- the gas price of EA1 must be larger than the gas price of EV\n",
    "- the gas price of EA2 must be less or equal to gas price of EV\n",
    "    - gA1 > gV >= gA2 "
   ],
   "id": "130173b9430ed9cc"
  },
  {
   "metadata": {},
   "cell_type": "markdown",
   "source": "### Implementation of Heuristics",
   "id": "8c97f489d83ed154"
  },
  {
   "metadata": {
    "ExecuteTime": {
     "end_time": "2024-05-03T15:24:05.551110Z",
     "start_time": "2024-05-03T15:24:05.546019Z"
    }
   },
   "cell_type": "code",
   "source": [
    "from web3 import Web3\n",
    "import pandas as pd\n",
    "import requests\n"
   ],
   "id": "d3146aac0e9fdec7",
   "execution_count": 96,
   "outputs": []
  },
  {
   "metadata": {
    "ExecuteTime": {
     "end_time": "2024-05-03T15:24:06.452347Z",
     "start_time": "2024-05-03T15:24:06.407580Z"
    }
   },
   "cell_type": "code",
   "source": [
    "web3 = Web3(Web3.HTTPProvider(\"https://intensive-sly-mountain.quiknode.pro/a3f5256d7f2af6541d483cce3f1d49c94c01879e/\"))\n",
    "print(\"\\033[92m\"+str(web3.is_connected()))"
   ],
   "id": "6a7dd9349ba220c",
   "execution_count": 97,
   "outputs": []
  },
  {
   "metadata": {
    "ExecuteTime": {
     "end_time": "2024-05-03T15:24:06.637537Z",
     "start_time": "2024-05-03T15:24:06.548230Z"
    }
   },
   "cell_type": "code",
   "source": [
    "BLOCK_NUMBER = 5574870\n",
    "TRANSFER = \"0xddf252ad1be2c89b69c2b068fc378daa952ba7f163c4a11628f55a4df523b3ef\" # ERC20 \"Transfer\"\n",
    "\n",
    "events = web3.eth.filter({\"fromBlock\": BLOCK_NUMBER, \"toBlock\": BLOCK_NUMBER, \"topics\": [TRANSFER]}).get_all_entries()"
   ],
   "id": "f4a2dfa05bfb7936",
   "execution_count": 98,
   "outputs": []
  },
  {
   "metadata": {},
   "cell_type": "markdown",
   "source": "### Helper Methods",
   "id": "9b584f8830eb7a49"
  },
  {
   "metadata": {
    "ExecuteTime": {
     "end_time": "2024-05-03T15:24:06.720148Z",
     "start_time": "2024-05-03T15:24:06.714940Z"
    }
   },
   "cell_type": "code",
   "source": [
    "def get_checksum_address_from_topics_hash(topics_hash):\n",
    "    return web3.to_checksum_address(topics_hash.hex().replace(\"0x\", \"\")[24:64])"
   ],
   "id": "50274ce7437a8c06",
   "execution_count": 99,
   "outputs": []
  },
  {
   "metadata": {
    "ExecuteTime": {
     "end_time": "2024-05-03T15:24:06.900908Z",
     "start_time": "2024-05-03T15:24:06.893886Z"
    }
   },
   "cell_type": "code",
   "source": [
    "def get_amount_of_tokens_from_data_hash(data_hash):\n",
    "    return int(data_hash.hex().replace(\"0x\", \"\")[0:64], 16)"
   ],
   "id": "5c389581f8e5702c",
   "execution_count": 100,
   "outputs": []
  },
  {
   "metadata": {},
   "cell_type": "markdown",
   "source": "Create a dictionary with contract-address of token as key and events as values.",
   "id": "7ed6d2cd63f4f9c5"
  },
  {
   "metadata": {
    "ExecuteTime": {
     "end_time": "2024-05-03T15:24:06.959636Z",
     "start_time": "2024-05-03T15:24:06.952479Z"
    }
   },
   "cell_type": "code",
   "source": [
    "def get_events_by_contract_address(events):\n",
    "\n",
    "    events_by_address = {}\n",
    "    \n",
    "    for event in events:\n",
    "        \n",
    "        token_contract_address = event[\"address\"]\n",
    "        \n",
    "        if token_contract_address in events_by_address:\n",
    "            events_by_address[token_contract_address].append(event)\n",
    "        else:\n",
    "            events_by_address[token_contract_address] = [event]\n",
    "            \n",
    "    return events_by_address\n",
    "\n",
    "events_by_address = get_events_by_contract_address(events)"
   ],
   "id": "f4dea5df1a8349b9",
   "execution_count": 101,
   "outputs": []
  },
  {
   "metadata": {},
   "cell_type": "markdown",
   "source": [
    "Create a DF of form: contract-address | transactionIndex | logIndex | transaction  \n",
    "\n",
    "Ignore all events, where not at least 3 events include contract address (A1, V, A2)"
   ],
   "id": "23b039db189a6910"
  },
  {
   "metadata": {
    "ExecuteTime": {
     "end_time": "2024-05-03T15:24:11.255406Z",
     "start_time": "2024-05-03T15:24:07.022752Z"
    }
   },
   "cell_type": "code",
   "source": [
    "def create_df_of_events(events_by_address):\n",
    "\n",
    "\n",
    "    df = pd.DataFrame(columns=['contractAddress',\n",
    "                               'transactionIndex',\n",
    "                               'logIndex',\n",
    "                               'transactionHash',\n",
    "                               'wallet',\n",
    "                               'sender',\n",
    "                               'receiver',\n",
    "                               'gasPrice',\n",
    "                               'amount'])\n",
    "    \n",
    "    for token_contract_address in events_by_address:\n",
    "    \n",
    "        nr_of_transactions_with_same_coin = len(events_by_address[token_contract_address])\n",
    "        \n",
    "        # At least 3 transactions (A1, V, A2)\n",
    "        if nr_of_transactions_with_same_coin <= 2:\n",
    "            continue\n",
    "            \n",
    "        if token_contract_address == \"0xc0829421C1d260BD3cB3E0F06cfE2D52db2cE315\":\n",
    "            pass\n",
    "        \n",
    "        if token_contract_address != \"0x9a0242b7a33DAcbe40eDb927834F96eB39f8fBCB\":\n",
    "            pass\n",
    "            \n",
    "        for transaction in events_by_address[token_contract_address]:\n",
    "            \n",
    "            transaction_hash = transaction[\"transactionHash\"].hex()\n",
    "            tx_by_hash = web3.eth.get_transaction(transaction_hash)\n",
    "    \n",
    "    \n",
    "            \n",
    "            record = {\n",
    "                \"contractAddress\": token_contract_address,\n",
    "                \"transactionIndex\": transaction[\"transactionIndex\"],\n",
    "                \"logIndex\": transaction[\"logIndex\"],\n",
    "                \"transactionHash\": transaction_hash,\n",
    "                \"wallet\": tx_by_hash[\"from\"],\n",
    "                \"sender\": get_checksum_address_from_topics_hash(transaction[\"topics\"][1]),\n",
    "                \"receiver\": get_checksum_address_from_topics_hash(transaction[\"topics\"][2]),\n",
    "                \"gasPrice\": tx_by_hash[\"gasPrice\"] / 10 ** 9,\n",
    "                \"amount\": get_amount_of_tokens_from_data_hash(transaction[\"data\"])\n",
    "            }    \n",
    "            new_df = pd.DataFrame([record])\n",
    "            df = pd.concat([df, new_df], ignore_index=True)\n",
    "    \n",
    "    return df\n",
    "        \n",
    "df_of_events = create_df_of_events(events_by_address)\n",
    "df_of_events"
   ],
   "id": "d274cb2f97690cda",
   "execution_count": 102,
   "outputs": []
  },
  {
   "metadata": {},
   "cell_type": "markdown",
   "source": "Get for each transactionIndex first sender/receiver and last sender/receiver",
   "id": "dd13cc477911ec54"
  },
  {
   "metadata": {
    "ExecuteTime": {
     "end_time": "2024-05-03T15:24:11.714370Z",
     "start_time": "2024-05-03T15:24:11.265117Z"
    }
   },
   "cell_type": "code",
   "source": [
    "def create_df_grouped_by_transaction_index(df_of_events):\n",
    "\n",
    "\n",
    "    df_final = pd.DataFrame(columns=['contractAddress',\n",
    "                               'transactionIndex',\n",
    "                               'transactionHash',\n",
    "                               'wallet',\n",
    "                               'first_sender',\n",
    "                               'first_receiver',\n",
    "                               'last_sender',\n",
    "                               'last_receiver',\n",
    "                               'gasPrice',\n",
    "                               'amount'])\n",
    "    \n",
    "    unique_token_contract_addresses = df_of_events[\"contractAddress\"].unique()\n",
    "        \n",
    "    df_grouped_by_contractAddress_and_transactionIndex = df_of_events.groupby(['contractAddress', 'transactionIndex'])['logIndex'].agg(['min', 'max']).reset_index()\n",
    "    \n",
    "    for token_contract_address in unique_token_contract_addresses:\n",
    "        \n",
    "        df_grouped_subset = df_grouped_by_contractAddress_and_transactionIndex[df_grouped_by_contractAddress_and_transactionIndex[\"contractAddress\"] == token_contract_address]\n",
    "        \n",
    "        for index, row in df_grouped_subset.iterrows():\n",
    "            \n",
    "            transaction_index = row[\"transactionIndex\"]\n",
    "            min_log_index = row[\"min\"]\n",
    "            max_log_index = row[\"max\"]\n",
    "                        \n",
    "            min_log_index_row = df_of_events[\n",
    "                (df_of_events[\"contractAddress\"] == token_contract_address) &\n",
    "                (df_of_events[\"transactionIndex\"] == transaction_index) &\n",
    "                (df_of_events[\"logIndex\"] == min_log_index)\n",
    "            ]\n",
    "            \n",
    "            first_sender = min_log_index_row.iloc[0][\"sender\"]\n",
    "            first_receiver = min_log_index_row.iloc[0][\"receiver\"]\n",
    "            \n",
    "            transaction_hash = min_log_index_row.iloc[0][\"transactionHash\"]\n",
    "            wallet = min_log_index_row.iloc[0][\"wallet\"]\n",
    "            gasPrice = min_log_index_row.iloc[0][\"gasPrice\"]\n",
    "            amount = min_log_index_row.iloc[0][\"amount\"]\n",
    "            \n",
    "            \n",
    "            max_log_index_row = df_of_events[\n",
    "                (df_of_events[\"contractAddress\"] == token_contract_address) &\n",
    "                (df_of_events[\"transactionIndex\"] == transaction_index) &\n",
    "                (df_of_events[\"logIndex\"] == max_log_index)\n",
    "            ]\n",
    "            \n",
    "            last_sender = max_log_index_row.iloc[0][\"sender\"]\n",
    "            last_receiver = max_log_index_row.iloc[0][\"receiver\"]\n",
    "            \n",
    "            record = {\n",
    "                \"contractAddress\": token_contract_address,\n",
    "                \"transactionIndex\": transaction_index,\n",
    "                \"transactionHash\": transaction_hash,\n",
    "                \"wallet\": wallet,\n",
    "                \"first_sender\": first_sender,\n",
    "                \"first_receiver\": first_receiver,\n",
    "                \"last_sender\": last_sender,\n",
    "                \"last_receiver\": last_receiver,\n",
    "                \"gasPrice\": gasPrice,\n",
    "                \"amount\": amount\n",
    "            }    \n",
    "            \n",
    "            new_df = pd.DataFrame([record])\n",
    "            df_final = pd.concat([df_final, new_df], ignore_index=True)\n",
    "            \n",
    "    return df_final\n",
    "\n",
    "df_grouped_by_transaction_index = create_df_grouped_by_transaction_index(df_of_events)\n",
    "df_grouped_by_transaction_index"
   ],
   "id": "85abedc3ee17eab9",
   "execution_count": 103,
   "outputs": []
  },
  {
   "metadata": {},
   "cell_type": "markdown",
   "source": "#### Heuristics Implementation",
   "id": "184e29fea62bedf6"
  },
  {
   "metadata": {},
   "cell_type": "markdown",
   "source": "##### Methods to extract profit and cost from found insertion attacks",
   "id": "dda7a89890ea6a4c"
  },
  {
   "metadata": {
    "ExecuteTime": {
     "end_time": "2024-05-03T15:24:11.725559Z",
     "start_time": "2024-05-03T15:24:11.717592Z"
    }
   },
   "cell_type": "code",
   "source": [
    "def get_internal_transactions(tx_hash):\n",
    "    # API endpoint\n",
    "    url = 'https://api.etherscan.io/api'\n",
    "\n",
    "    # Parameters\n",
    "    params = {\n",
    "        'module': 'account',\n",
    "        'action': 'txlistinternal',\n",
    "        'txhash': tx_hash,\n",
    "        'apikey': '1PN1111XBM2W5HIQCSMQH6RA65JVYPQM1R'\n",
    "    }\n",
    "\n",
    "    try:\n",
    "        # Sending GET request\n",
    "        response = requests.get(url, params=params, timeout=3)\n",
    "    \n",
    "        # Checking if request was successful\n",
    "        if response.status_code == 200:\n",
    "            data = response.json()\n",
    "            return data[\"result\"]\n",
    "        else:\n",
    "            #print('Error occurred:', response.status_code)\n",
    "            return None\n",
    "        \n",
    "    except requests.exceptions.Timeout:\n",
    "        #print('Request did not go through: timeout occurred')\n",
    "        return None"
   ],
   "id": "1bd2226e5f42dceb",
   "execution_count": 104,
   "outputs": []
  },
  {
   "metadata": {
    "ExecuteTime": {
     "end_time": "2024-05-03T15:24:11.742478Z",
     "start_time": "2024-05-03T15:24:11.730316Z"
    }
   },
   "cell_type": "code",
   "source": [
    "def get_eth_rate_at_time(timestamp):\n",
    "    # CryptoCompare API endpoint for historical Ethereum price\n",
    "    url = f\"https://min-api.cryptocompare.com/data/pricehistorical?fsym=ETH&tsyms=USD&ts={timestamp}&extraParams=your_app_name\"\n",
    "    \n",
    "    # Send GET request to CryptoCompare API\n",
    "    response = requests.get(url)\n",
    "    \n",
    "    # Parse JSON response\n",
    "    data = response.json()\n",
    "    \n",
    "    # Check if response contains data\n",
    "    if 'ETH' in data and 'USD' in data['ETH']:\n",
    "        eth_price_usd = data['ETH']['USD']\n",
    "        return eth_price_usd\n",
    "    else:\n",
    "        return None"
   ],
   "id": "8735573e157d6717",
   "execution_count": 105,
   "outputs": []
  },
  {
   "metadata": {
    "ExecuteTime": {
     "end_time": "2024-05-03T15:24:11.764889Z",
     "start_time": "2024-05-03T15:24:11.750224Z"
    }
   },
   "cell_type": "code",
   "source": [
    "def get_block_timestamp(block_number):\n",
    "    block = web3.eth.get_block(block_number)\n",
    "    timestamp = block['timestamp']\n",
    "    return timestamp"
   ],
   "id": "3e59a8f256ee14f3",
   "execution_count": 106,
   "outputs": []
  },
  {
   "metadata": {
    "ExecuteTime": {
     "end_time": "2024-05-03T15:24:11.782384Z",
     "start_time": "2024-05-03T15:24:11.771342Z"
    }
   },
   "cell_type": "code",
   "source": [
    "def get_amount_eth_spent(transaction_hash):\n",
    "    \n",
    "    internal_transaction = get_internal_transactions(transaction_hash)\n",
    "    amount_in_wei = int(internal_transaction[0][\"value\"])\n",
    "    return amount_in_wei / 10**18"
   ],
   "id": "f0ac565d1643b5e1",
   "execution_count": 107,
   "outputs": []
  },
  {
   "metadata": {
    "ExecuteTime": {
     "end_time": "2024-05-03T15:24:11.794856Z",
     "start_time": "2024-05-03T15:24:11.787908Z"
    }
   },
   "cell_type": "code",
   "source": [
    "def get_amount_gas_spent(transaction_hash):\n",
    "    \n",
    "    transaction = web3.eth.get_transaction_receipt(transaction_hash)\n",
    "    gas_used = transaction[\"gasUsed\"] \n",
    "    gas_price = transaction[\"effectiveGasPrice\"] / 10**18\n",
    "\n",
    "    return gas_used * gas_price"
   ],
   "id": "cefc7587aa7b5f61",
   "execution_count": 108,
   "outputs": []
  },
  {
   "metadata": {
    "ExecuteTime": {
     "end_time": "2024-05-03T15:24:11.805350Z",
     "start_time": "2024-05-03T15:24:11.798727Z"
    }
   },
   "cell_type": "code",
   "source": [
    "def calculate_cost_and_profit_in_usd(block_nr, attack_tx_1, attack_tx_2):\n",
    "    \n",
    "    # Get amount in ETH, which were spent to buy same coins as whale\n",
    "    eth_spent = get_amount_eth_spent(attack_tx_1)\n",
    "    # Get gas fees from attack 1 and attack 2 transaction\n",
    "    eth_fees = get_amount_gas_spent(attack_tx_1) + get_amount_gas_spent(attack_tx_2)\n",
    "    \n",
    "    # Get total amount that attacker spent in attack 1 and attack 2 (for coins + fees)\n",
    "    cost_eth = eth_spent + eth_fees\n",
    "    \n",
    "    # Get amount in ETH, which were received in attack 2 (when attacker sells coins again after victim bought)\n",
    "    eth_received = get_amount_eth_spent(attack_tx_2)\n",
    "\n",
    "    # Calculate difference of received amount minus expenses: Profit\n",
    "    profit_eth = eth_received - cost_eth\n",
    "    \n",
    "    # Convert calculated values from ETH to USD using timestamp when block of attack transactions was executed\n",
    "    timestamp = get_block_timestamp(block_nr)\n",
    "    eth_rate_at_timestamp = get_eth_rate_at_time(timestamp)\n",
    "    \n",
    "    cost_usd_at_timestamp = eth_fees * eth_rate_at_timestamp\n",
    "    \n",
    "    profit_usd_at_timestamp = profit_eth * eth_rate_at_timestamp\n",
    "    \n",
    "    return profit_usd_at_timestamp, cost_usd_at_timestamp\n",
    "    "
   ],
   "id": "9a01dd33a67b6727",
   "execution_count": 109,
   "outputs": []
  },
  {
   "metadata": {},
   "cell_type": "markdown",
   "source": "### Heuristics Implementation",
   "id": "895bfbc7b803ea28"
  },
  {
   "metadata": {},
   "cell_type": "markdown",
   "source": "Heuristics 2: Search for transactions with similar amount (at most 1% difference)",
   "id": "c132053450f0ca7"
  },
  {
   "metadata": {
    "ExecuteTime": {
     "end_time": "2024-05-03T15:24:11.819442Z",
     "start_time": "2024-05-03T15:24:11.807486Z"
    }
   },
   "cell_type": "code",
   "source": [
    "def get_rows_with_similar_amounts(df):\n",
    "    \n",
    "    def is_similar(value1, value2):\n",
    "        # Check if the absolute difference between the values is within 1% of the larger value\n",
    "        diff_percentage = abs(value1 - value2) / max(value1, value2) * 100\n",
    "        return diff_percentage <= 1\n",
    "    \n",
    "    rows_with_similar_amount = []\n",
    "    \n",
    "    column_name = \"amount\"\n",
    "    \n",
    "    for i in range(len(df)):\n",
    "        for j in range(i + 1, len(df)):\n",
    "            value1 = df.at[i, column_name]\n",
    "            value2 = df.at[j, column_name]\n",
    "            if is_similar(value1, value2):\n",
    "                rows_with_similar_amount.append((i, j))\n",
    "    \n",
    "    return rows_with_similar_amount"
   ],
   "id": "bb4071c0a3885231",
   "execution_count": 110,
   "outputs": []
  },
  {
   "metadata": {},
   "cell_type": "markdown",
   "source": "Search for whale transaction that lies between Attack 1 and Attack 2",
   "id": "f41b2853a66f4edd"
  },
  {
   "metadata": {
    "ExecuteTime": {
     "end_time": "2024-05-03T15:24:11.852025Z",
     "start_time": "2024-05-03T15:24:11.831517Z"
    }
   },
   "cell_type": "code",
   "source": [
    "def find_whale_transactions(atk1_idx, atk2_idx, df):\n",
    "    \n",
    "    atk1_sender = df.iloc[atk1_idx][\"first_sender\"]\n",
    "    possible_whales_df = df.iloc[atk1_idx+1:atk2_idx].sort_values(by=\"transactionIndex\", ascending=False)\n",
    "    \n",
    "    for i in range(len(possible_whales_df)):\n",
    "        \n",
    "        whale_transaction = possible_whales_df.iloc[i]\n",
    "        whale_receiver = whale_transaction[\"first_sender\"]\n",
    "        \n",
    "        # Heuristic 1 (part of it)\n",
    "        if not atk1_sender == whale_receiver:\n",
    "            continue\n",
    "        \n",
    "        return whale_transaction      \n",
    "    \n",
    "    return None"
   ],
   "id": "e7edb575df5564dc",
   "execution_count": 111,
   "outputs": []
  },
  {
   "metadata": {
    "ExecuteTime": {
     "end_time": "2024-05-03T15:24:11.876196Z",
     "start_time": "2024-05-03T15:24:11.859633Z"
    }
   },
   "cell_type": "code",
   "source": [
    "def get_token_name_from_contract_address(contract_address):\n",
    "    \n",
    "    try:\n",
    "        token_contract = web3.eth.contract(address=contract_address, abi=[{\"constant\":True,\"inputs\":[],\"name\":\"name\",\"outputs\":[{\"internalType\":\"string\",\"name\":\"\",\"type\":\"string\"}],\"payable\":False,\"stateMutability\":\"view\",\"type\":\"function\"}])\n",
    "        return token_contract.functions.name().call()\n",
    "    except:\n",
    "        return None"
   ],
   "id": "822a464102799dad",
   "execution_count": 112,
   "outputs": []
  },
  {
   "metadata": {
    "ExecuteTime": {
     "end_time": "2024-05-03T15:24:12.015520Z",
     "start_time": "2024-05-03T15:24:11.884879Z"
    }
   },
   "cell_type": "code",
   "source": "get_token_name_from_contract_address(\"0x9a0242b7a33DAcbe40eDb927834F96eB39f8fBCB\")",
   "id": "a40136496aed9236",
   "execution_count": 113,
   "outputs": []
  },
  {
   "metadata": {
    "ExecuteTime": {
     "end_time": "2024-05-03T15:24:15.242619Z",
     "start_time": "2024-05-03T15:24:12.018363Z"
    }
   },
   "cell_type": "code",
   "source": [
    "def get_attacks_for_contract_address(df, contract_address, block_nr):\n",
    "    \n",
    "    attack_df_by_transaction_index = pd.DataFrame()\n",
    "    \n",
    "    # Heuristics 3 already grouped by contract address   \n",
    "    # Heuristics 5 (sorting by transaction index)\n",
    "    df_contract_address = df[df[\"contractAddress\"] == contract_address].sort_values(by=\"transactionIndex\").reset_index(drop=True)\n",
    "            \n",
    "    # Heuristics 2\n",
    "    rows_with_similar_amount = get_rows_with_similar_amounts(df_contract_address)\n",
    "    \n",
    "    for combination in rows_with_similar_amount:\n",
    "        \n",
    "        row1_idx = combination[0]\n",
    "        row2_idx = combination[1]\n",
    "        \n",
    "        if row2_idx - row1_idx <= 1:\n",
    "            continue\n",
    "        \n",
    "        row1 = df_contract_address.iloc[row1_idx]\n",
    "        row2 = df_contract_address.iloc[row2_idx]\n",
    "        \n",
    "        # Heuristic 1 (part of it)\n",
    "        if not row1[\"first_sender\"] == row2[\"last_receiver\"]:\n",
    "            continue\n",
    "        \n",
    "        if not row1[\"first_receiver\"] == row2[\"last_sender\"]:\n",
    "            continue\n",
    "        \n",
    "        # Heuristics 6\n",
    "        if not row1[\"gasPrice\"] > row2[\"gasPrice\"]:\n",
    "            continue\n",
    "            \n",
    "        whale_transaction = find_whale_transactions(row1_idx, row2_idx, df_contract_address)\n",
    "        \n",
    "        if whale_transaction is None:\n",
    "            continue\n",
    "        \n",
    "        # Heuristics 4\n",
    "        if not row1[\"transactionHash\"] != whale_transaction[\"transactionHash\"] and row2[\"transactionHash\"] != whale_transaction[\"transactionHash\"]:\n",
    "            continue\n",
    "            \n",
    "        profit, cost = calculate_cost_and_profit_in_usd(block_nr, row1[\"transactionHash\"], row2[\"transactionHash\"])\n",
    "    \n",
    "        attack_record = {\n",
    "            \"blockNumber\": block_nr,\n",
    "            \"first_attacker\": row1[\"wallet\"],\n",
    "            \"whale\": whale_transaction[\"wallet\"],\n",
    "            \"second_attacker\": row2[\"wallet\"],\n",
    "            \"first_whale_gas_price_delta\": round(row1[\"gasPrice\"] - whale_transaction[\"gasPrice\"], 2),\n",
    "            \"whale_second_gas_price_delta\": round(whale_transaction[\"gasPrice\"] - row2[\"gasPrice\"], 2),\n",
    "            \"profit\": profit,\n",
    "            \"cost\" : cost,\n",
    "            \"token_contract_address\": contract_address,\n",
    "            \"token_name\": get_token_name_from_contract_address(contract_address)\n",
    "        }\n",
    "        \n",
    "        new_df = pd.DataFrame([attack_record])\n",
    "        attack_df_by_transaction_index = pd.concat([attack_df_by_transaction_index, new_df], ignore_index=True)\n",
    "        \n",
    "    return attack_df_by_transaction_index\n",
    "\n",
    "get_attacks_for_contract_address(df_grouped_by_transaction_index, \"0x9a0242b7a33DAcbe40eDb927834F96eB39f8fBCB\", 5574870)"
   ],
   "id": "7db04dae50a55629",
   "execution_count": 114,
   "outputs": []
  },
  {
   "metadata": {},
   "cell_type": "markdown",
   "source": "### Putting all together",
   "id": "31f952fa486d538c"
  },
  {
   "metadata": {
    "ExecuteTime": {
     "end_time": "2024-05-03T15:24:15.251121Z",
     "start_time": "2024-05-03T15:24:15.244630Z"
    }
   },
   "cell_type": "code",
   "source": [
    "TRANSFER = \"0xddf252ad1be2c89b69c2b068fc378daa952ba7f163c4a11628f55a4df523b3ef\" # ERC20 \"Transfer\"\n",
    "\n",
    "def get_frontrunning_attacks_of_block(block_nr):\n",
    "    \n",
    "    events = web3.eth.filter({\"fromBlock\": block_nr, \"toBlock\": block_nr, \"topics\": [TRANSFER]}).get_all_entries()\n",
    "    \n",
    "    events_by_address = get_events_by_contract_address(events)\n",
    "\n",
    "    df_of_events = create_df_of_events(events_by_address)\n",
    "    df_grouped_by_transaction_index = create_df_grouped_by_transaction_index(df_of_events)\n",
    "\n",
    "    unique_token_contract_addresses = df_grouped_by_transaction_index[\"contractAddress\"].unique()\n",
    "    \n",
    "    df_attacks_in_block = pd.DataFrame()\n",
    "\n",
    "    for token_contract_address in unique_token_contract_addresses:\n",
    "        df_attacks = get_attacks_for_contract_address(df_grouped_by_transaction_index, token_contract_address, block_nr)\n",
    "        df_attacks_in_block = pd.concat([df_attacks_in_block, df_attacks], ignore_index=True)\n",
    "    \n",
    "    # Some transactions involve event-chain, which are recognized as attacks multiple times. Just keep once by removing duplicates    \n",
    "    df_attacks_in_block.drop_duplicates(subset=['blockNumber', 'first_attacker', 'whale', 'second_attacker'], keep='last', inplace=True)\n",
    "    \n",
    "    return df_attacks_in_block"
   ],
   "id": "d25ee70580f315ca",
   "execution_count": 115,
   "outputs": []
  },
  {
   "metadata": {},
   "cell_type": "markdown",
   "source": "#### Test random blocks from insertion data",
   "id": "e8a27c05a74d8b65"
  },
  {
   "metadata": {
    "ExecuteTime": {
     "end_time": "2024-05-03T15:24:21.312570Z",
     "start_time": "2024-05-03T15:24:15.252736Z"
    }
   },
   "cell_type": "code",
   "source": "get_frontrunning_attacks_of_block(5574870)",
   "id": "579de7b12917b0ac",
   "execution_count": 116,
   "outputs": []
  },
  {
   "metadata": {
    "ExecuteTime": {
     "end_time": "2024-05-03T15:24:38.153059Z",
     "start_time": "2024-05-03T15:24:21.314744Z"
    }
   },
   "cell_type": "code",
   "source": "get_frontrunning_attacks_of_block(5599805)",
   "id": "69b3d5fa1129992f",
   "execution_count": 117,
   "outputs": []
  },
  {
   "metadata": {
    "ExecuteTime": {
     "end_time": "2024-05-03T15:24:44.897847Z",
     "start_time": "2024-05-03T15:24:38.157467Z"
    }
   },
   "cell_type": "code",
   "source": "get_frontrunning_attacks_of_block(5599933)",
   "id": "5a3a32cf58af2b9",
   "execution_count": 118,
   "outputs": []
  },
  {
   "metadata": {
    "ExecuteTime": {
     "end_time": "2024-05-03T15:24:51.864418Z",
     "start_time": "2024-05-03T15:24:44.899973Z"
    }
   },
   "cell_type": "code",
   "source": "get_frontrunning_attacks_of_block(5625057)",
   "id": "e92778c6baf2efda",
   "execution_count": 119,
   "outputs": []
  },
  {
   "metadata": {
    "ExecuteTime": {
     "end_time": "2024-05-03T15:24:56.938262Z",
     "start_time": "2024-05-03T15:24:51.866812Z"
    }
   },
   "cell_type": "code",
   "source": "get_frontrunning_attacks_of_block(9409988)",
   "id": "4e3e20991aefc8b0",
   "execution_count": 120,
   "outputs": []
  },
  {
   "metadata": {},
   "cell_type": "markdown",
   "source": "",
   "id": "855550b0602c3a5f"
  }
 ],
 "metadata": {
  "kernelspec": {
   "display_name": "frontrunning-attacks",
   "language": "python",
   "name": "frontrunning-attacks"
  },
  "language_info": {
   "codemirror_mode": {
    "name": "ipython",
    "version": 2
   },
   "file_extension": ".py",
   "mimetype": "text/x-python",
   "name": "python",
   "nbconvert_exporter": "python",
   "pygments_lexer": "ipython2",
   "version": "2.7.6"
  }
 },
 "nbformat": 4,
 "nbformat_minor": 5
}
