{
 "cells": [
  {
   "metadata": {},
   "cell_type": "markdown",
   "source": "### Detecting insertion attacks by heuristics",
   "id": "f0d65ea4c685bfcc"
  },
  {
   "metadata": {},
   "cell_type": "markdown",
   "source": [
    "According to Frontrunner-Jones insertion attacks can be detected the following way: \n",
    " \n",
    "A transfer event is triggered on the blockchain, whenever an ERC-20 token is traded.  \n",
    "An Event combines the following transactional information E = (s,r,a,c,h,i,g):\n",
    "- s: sender of tokens\n",
    "- r: receiver of tokens\n",
    "- a: number of transferred tokens\n",
    "- c: contract address of token\n",
    "- h: transaction hash\n",
    "- i: transaction index\n",
    "- g: gas price of transaction\n",
    "\n",
    "Iterating block by block through all transfer events and checking if there are 3 events EA1, EV, EA2 for which the folloing 6 heuristics hold:  \n"
   ],
   "id": "b8a6d310194b708f"
  },
  {
   "metadata": {},
   "cell_type": "markdown",
   "source": [
    "#### Heuristic 1\n",
    "\n",
    "Heuristic 1: \n",
    "- sender of EA1 must be identical to sender of EV and receiver of EA3\n",
    "    - sA1 = sV = rA2 \n",
    "- receiver of EA1 must be identical to sender of EA2.\n",
    "    - rA1 = sA2 "
   ],
   "id": "b7b9f00371bf3800"
  },
  {
   "metadata": {},
   "cell_type": "markdown",
   "source": [
    "#### Heuristics 2\n",
    "- number of tokens bought by EA1 must be similar to the umber of tokens sold by EA2 ( difference of max 1%)."
   ],
   "id": "8eb3a7b999579d74"
  },
  {
   "metadata": {},
   "cell_type": "markdown",
   "source": [
    "#### Heuristics 3\n",
    "- token contract address of EA1, EV and EA2 must be identical\n",
    "    - cA1 = cV2 = cA2 "
   ],
   "id": "c7a67b7a9f6c1654"
  },
  {
   "metadata": {},
   "cell_type": "markdown",
   "source": [
    "#### Heuristics 4\n",
    "- transaction hashes of EA1, EV and EA2 must be dissimilar\n",
    "    - hA1 != hV != hA2"
   ],
   "id": "705bf9c16dd1d31a"
  },
  {
   "metadata": {},
   "cell_type": "markdown",
   "source": [
    "#### Heuristics 5\n",
    "- transaction index of EA1 must be smaller than the transaction index of EV\n",
    "- transaction index of EV must be smaller than the transaction index of EA2\n",
    "    - iA1 < iV < i A2   "
   ],
   "id": "8afb7acfd5983bd9"
  },
  {
   "metadata": {},
   "cell_type": "markdown",
   "source": [
    "#### Heuristics 6\n",
    "- the gas price of EA1 must be larger than the gas price of EV\n",
    "- the gas price of EA2 must be less or equal to gas price of EV\n",
    "    - gA1 > gV >= gA2 "
   ],
   "id": "130173b9430ed9cc"
  }
 ],
 "metadata": {
  "kernelspec": {
   "display_name": "Python 3",
   "language": "python",
   "name": "python3"
  },
  "language_info": {
   "codemirror_mode": {
    "name": "ipython",
    "version": 2
   },
   "file_extension": ".py",
   "mimetype": "text/x-python",
   "name": "python",
   "nbconvert_exporter": "python",
   "pygments_lexer": "ipython2",
   "version": "2.7.6"
  }
 },
 "nbformat": 4,
 "nbformat_minor": 5
}
